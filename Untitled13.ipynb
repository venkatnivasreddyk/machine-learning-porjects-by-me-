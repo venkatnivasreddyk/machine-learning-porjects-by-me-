{
  "nbformat": 4,
  "nbformat_minor": 0,
  "metadata": {
    "colab": {
      "provenance": []
    },
    "kernelspec": {
      "name": "python3",
      "display_name": "Python 3"
    },
    "language_info": {
      "name": "python"
    },
    "widgets": {
      "application/vnd.jupyter.widget-state+json": {
        "9a1b86dc4a1d4209910065eb5c6d653c": {
          "model_module": "@jupyter-widgets/controls",
          "model_name": "HBoxModel",
          "model_module_version": "1.5.0",
          "state": {
            "_dom_classes": [],
            "_model_module": "@jupyter-widgets/controls",
            "_model_module_version": "1.5.0",
            "_model_name": "HBoxModel",
            "_view_count": null,
            "_view_module": "@jupyter-widgets/controls",
            "_view_module_version": "1.5.0",
            "_view_name": "HBoxView",
            "box_style": "",
            "children": [
              "IPY_MODEL_f34ea05772f7429983e2e76e7bed6d06",
              "IPY_MODEL_1bf74b9e500741f0bba7e50524a46c2b",
              "IPY_MODEL_c7af057181c34d5f9d802d30b17bf2ef"
            ],
            "layout": "IPY_MODEL_493b5a5d5ca443138f08b1cfff819482"
          }
        },
        "f34ea05772f7429983e2e76e7bed6d06": {
          "model_module": "@jupyter-widgets/controls",
          "model_name": "HTMLModel",
          "model_module_version": "1.5.0",
          "state": {
            "_dom_classes": [],
            "_model_module": "@jupyter-widgets/controls",
            "_model_module_version": "1.5.0",
            "_model_name": "HTMLModel",
            "_view_count": null,
            "_view_module": "@jupyter-widgets/controls",
            "_view_module_version": "1.5.0",
            "_view_name": "HTMLView",
            "description": "",
            "description_tooltip": null,
            "layout": "IPY_MODEL_2978ff0a1ada4985a112b3ff9d328cca",
            "placeholder": "​",
            "style": "IPY_MODEL_030d282bc22d4ab695c4ec23481c0b1c",
            "value": "Processing:  67%"
          }
        },
        "1bf74b9e500741f0bba7e50524a46c2b": {
          "model_module": "@jupyter-widgets/controls",
          "model_name": "FloatProgressModel",
          "model_module_version": "1.5.0",
          "state": {
            "_dom_classes": [],
            "_model_module": "@jupyter-widgets/controls",
            "_model_module_version": "1.5.0",
            "_model_name": "FloatProgressModel",
            "_view_count": null,
            "_view_module": "@jupyter-widgets/controls",
            "_view_module_version": "1.5.0",
            "_view_name": "ProgressView",
            "bar_style": "",
            "description": "",
            "description_tooltip": null,
            "layout": "IPY_MODEL_c4c3da25649243b98d58d8ee78f698da",
            "max": 3,
            "min": 0,
            "orientation": "horizontal",
            "style": "IPY_MODEL_c0c75f1b1ef64f0c8ae578170eb781ef",
            "value": 3
          }
        },
        "c7af057181c34d5f9d802d30b17bf2ef": {
          "model_module": "@jupyter-widgets/controls",
          "model_name": "HTMLModel",
          "model_module_version": "1.5.0",
          "state": {
            "_dom_classes": [],
            "_model_module": "@jupyter-widgets/controls",
            "_model_module_version": "1.5.0",
            "_model_name": "HTMLModel",
            "_view_count": null,
            "_view_module": "@jupyter-widgets/controls",
            "_view_module_version": "1.5.0",
            "_view_name": "HTMLView",
            "description": "",
            "description_tooltip": null,
            "layout": "IPY_MODEL_88f96b6d2f0a4a5ba1b2367edf4e3472",
            "placeholder": "​",
            "style": "IPY_MODEL_db019220724c4c36bc6c89bf856b90b5",
            "value": " 2/3 [00:05&lt;00:02,  2.93s/it]"
          }
        },
        "493b5a5d5ca443138f08b1cfff819482": {
          "model_module": "@jupyter-widgets/base",
          "model_name": "LayoutModel",
          "model_module_version": "1.2.0",
          "state": {
            "_model_module": "@jupyter-widgets/base",
            "_model_module_version": "1.2.0",
            "_model_name": "LayoutModel",
            "_view_count": null,
            "_view_module": "@jupyter-widgets/base",
            "_view_module_version": "1.2.0",
            "_view_name": "LayoutView",
            "align_content": null,
            "align_items": null,
            "align_self": null,
            "border": null,
            "bottom": null,
            "display": null,
            "flex": null,
            "flex_flow": null,
            "grid_area": null,
            "grid_auto_columns": null,
            "grid_auto_flow": null,
            "grid_auto_rows": null,
            "grid_column": null,
            "grid_gap": null,
            "grid_row": null,
            "grid_template_areas": null,
            "grid_template_columns": null,
            "grid_template_rows": null,
            "height": null,
            "justify_content": null,
            "justify_items": null,
            "left": null,
            "margin": null,
            "max_height": null,
            "max_width": null,
            "min_height": null,
            "min_width": null,
            "object_fit": null,
            "object_position": null,
            "order": null,
            "overflow": null,
            "overflow_x": null,
            "overflow_y": null,
            "padding": null,
            "right": null,
            "top": null,
            "visibility": "hidden",
            "width": null
          }
        },
        "2978ff0a1ada4985a112b3ff9d328cca": {
          "model_module": "@jupyter-widgets/base",
          "model_name": "LayoutModel",
          "model_module_version": "1.2.0",
          "state": {
            "_model_module": "@jupyter-widgets/base",
            "_model_module_version": "1.2.0",
            "_model_name": "LayoutModel",
            "_view_count": null,
            "_view_module": "@jupyter-widgets/base",
            "_view_module_version": "1.2.0",
            "_view_name": "LayoutView",
            "align_content": null,
            "align_items": null,
            "align_self": null,
            "border": null,
            "bottom": null,
            "display": null,
            "flex": null,
            "flex_flow": null,
            "grid_area": null,
            "grid_auto_columns": null,
            "grid_auto_flow": null,
            "grid_auto_rows": null,
            "grid_column": null,
            "grid_gap": null,
            "grid_row": null,
            "grid_template_areas": null,
            "grid_template_columns": null,
            "grid_template_rows": null,
            "height": null,
            "justify_content": null,
            "justify_items": null,
            "left": null,
            "margin": null,
            "max_height": null,
            "max_width": null,
            "min_height": null,
            "min_width": null,
            "object_fit": null,
            "object_position": null,
            "order": null,
            "overflow": null,
            "overflow_x": null,
            "overflow_y": null,
            "padding": null,
            "right": null,
            "top": null,
            "visibility": null,
            "width": null
          }
        },
        "030d282bc22d4ab695c4ec23481c0b1c": {
          "model_module": "@jupyter-widgets/controls",
          "model_name": "DescriptionStyleModel",
          "model_module_version": "1.5.0",
          "state": {
            "_model_module": "@jupyter-widgets/controls",
            "_model_module_version": "1.5.0",
            "_model_name": "DescriptionStyleModel",
            "_view_count": null,
            "_view_module": "@jupyter-widgets/base",
            "_view_module_version": "1.2.0",
            "_view_name": "StyleView",
            "description_width": ""
          }
        },
        "c4c3da25649243b98d58d8ee78f698da": {
          "model_module": "@jupyter-widgets/base",
          "model_name": "LayoutModel",
          "model_module_version": "1.2.0",
          "state": {
            "_model_module": "@jupyter-widgets/base",
            "_model_module_version": "1.2.0",
            "_model_name": "LayoutModel",
            "_view_count": null,
            "_view_module": "@jupyter-widgets/base",
            "_view_module_version": "1.2.0",
            "_view_name": "LayoutView",
            "align_content": null,
            "align_items": null,
            "align_self": null,
            "border": null,
            "bottom": null,
            "display": null,
            "flex": null,
            "flex_flow": null,
            "grid_area": null,
            "grid_auto_columns": null,
            "grid_auto_flow": null,
            "grid_auto_rows": null,
            "grid_column": null,
            "grid_gap": null,
            "grid_row": null,
            "grid_template_areas": null,
            "grid_template_columns": null,
            "grid_template_rows": null,
            "height": null,
            "justify_content": null,
            "justify_items": null,
            "left": null,
            "margin": null,
            "max_height": null,
            "max_width": null,
            "min_height": null,
            "min_width": null,
            "object_fit": null,
            "object_position": null,
            "order": null,
            "overflow": null,
            "overflow_x": null,
            "overflow_y": null,
            "padding": null,
            "right": null,
            "top": null,
            "visibility": null,
            "width": null
          }
        },
        "c0c75f1b1ef64f0c8ae578170eb781ef": {
          "model_module": "@jupyter-widgets/controls",
          "model_name": "ProgressStyleModel",
          "model_module_version": "1.5.0",
          "state": {
            "_model_module": "@jupyter-widgets/controls",
            "_model_module_version": "1.5.0",
            "_model_name": "ProgressStyleModel",
            "_view_count": null,
            "_view_module": "@jupyter-widgets/base",
            "_view_module_version": "1.2.0",
            "_view_name": "StyleView",
            "bar_color": null,
            "description_width": ""
          }
        },
        "88f96b6d2f0a4a5ba1b2367edf4e3472": {
          "model_module": "@jupyter-widgets/base",
          "model_name": "LayoutModel",
          "model_module_version": "1.2.0",
          "state": {
            "_model_module": "@jupyter-widgets/base",
            "_model_module_version": "1.2.0",
            "_model_name": "LayoutModel",
            "_view_count": null,
            "_view_module": "@jupyter-widgets/base",
            "_view_module_version": "1.2.0",
            "_view_name": "LayoutView",
            "align_content": null,
            "align_items": null,
            "align_self": null,
            "border": null,
            "bottom": null,
            "display": null,
            "flex": null,
            "flex_flow": null,
            "grid_area": null,
            "grid_auto_columns": null,
            "grid_auto_flow": null,
            "grid_auto_rows": null,
            "grid_column": null,
            "grid_gap": null,
            "grid_row": null,
            "grid_template_areas": null,
            "grid_template_columns": null,
            "grid_template_rows": null,
            "height": null,
            "justify_content": null,
            "justify_items": null,
            "left": null,
            "margin": null,
            "max_height": null,
            "max_width": null,
            "min_height": null,
            "min_width": null,
            "object_fit": null,
            "object_position": null,
            "order": null,
            "overflow": null,
            "overflow_x": null,
            "overflow_y": null,
            "padding": null,
            "right": null,
            "top": null,
            "visibility": null,
            "width": null
          }
        },
        "db019220724c4c36bc6c89bf856b90b5": {
          "model_module": "@jupyter-widgets/controls",
          "model_name": "DescriptionStyleModel",
          "model_module_version": "1.5.0",
          "state": {
            "_model_module": "@jupyter-widgets/controls",
            "_model_module_version": "1.5.0",
            "_model_name": "DescriptionStyleModel",
            "_view_count": null,
            "_view_module": "@jupyter-widgets/base",
            "_view_module_version": "1.2.0",
            "_view_name": "StyleView",
            "description_width": ""
          }
        }
      }
    }
  },
  "cells": [
    {
      "cell_type": "code",
      "source": [
        "import pandas as pd\n",
        "import numpy as np\n",
        "import datetime as dt\n",
        "\n",
        "\n",
        "import matplotlib.pyplot as plt\n",
        "import matplotlib.cm as cm\n",
        "import seaborn as sns\n",
        "\n",
        "import plotly.graph_objects as go\n",
        "from plotly.subplots import make_subplots\n",
        "import plotly.express as px\n",
        "import plotly.offline\n",
        "\n",
        "from statsmodels.tsa.stattools import adfuller, acf, pacf\n",
        "from statsmodels.tsa.arima.model import ARIMA\n",
        "from pandas.tseries.offsets import DateOffset\n",
        "\n",
        "from lightgbm import LGBMRegressor\n",
        "\n",
        "\n",
        "import matplotlib.pyplot as plt\n",
        "\n",
        "from sklearn.metrics import mean_squared_error\n",
        "from sklearn.preprocessing import MinMaxScaler\n",
        "from sklearn.model_selection import train_test_split, GridSearchCV"
      ],
      "metadata": {
        "id": "HhpIDnVsOAnT"
      },
      "execution_count": null,
      "outputs": []
    },
    {
      "cell_type": "code",
      "source": [
        "!pip install plotly\n",
        "!pip install cufflinks"
      ],
      "metadata": {
        "colab": {
          "base_uri": "https://localhost:8080/"
        },
        "id": "2F5UgKyEOAqB",
        "outputId": "444b4b75-5fae-47ca-cb74-c55a9fb2e208"
      },
      "execution_count": null,
      "outputs": [
        {
          "output_type": "stream",
          "name": "stdout",
          "text": [
            "Requirement already satisfied: plotly in /usr/local/lib/python3.10/dist-packages (5.24.1)\n",
            "Requirement already satisfied: tenacity>=6.2.0 in /usr/local/lib/python3.10/dist-packages (from plotly) (9.0.0)\n",
            "Requirement already satisfied: packaging in /usr/local/lib/python3.10/dist-packages (from plotly) (24.2)\n",
            "Requirement already satisfied: cufflinks in /usr/local/lib/python3.10/dist-packages (0.17.3)\n",
            "Requirement already satisfied: numpy>=1.9.2 in /usr/local/lib/python3.10/dist-packages (from cufflinks) (1.26.4)\n",
            "Requirement already satisfied: pandas>=0.19.2 in /usr/local/lib/python3.10/dist-packages (from cufflinks) (2.1.4)\n",
            "Requirement already satisfied: plotly>=4.1.1 in /usr/local/lib/python3.10/dist-packages (from cufflinks) (5.24.1)\n",
            "Requirement already satisfied: six>=1.9.0 in /usr/local/lib/python3.10/dist-packages (from cufflinks) (1.16.0)\n",
            "Requirement already satisfied: colorlover>=0.2.1 in /usr/local/lib/python3.10/dist-packages (from cufflinks) (0.3.0)\n",
            "Requirement already satisfied: setuptools>=34.4.1 in /usr/local/lib/python3.10/dist-packages (from cufflinks) (75.1.0)\n",
            "Requirement already satisfied: ipython>=5.3.0 in /usr/local/lib/python3.10/dist-packages (from cufflinks) (7.34.0)\n",
            "Requirement already satisfied: ipywidgets>=7.0.0 in /usr/local/lib/python3.10/dist-packages (from cufflinks) (7.7.1)\n",
            "Requirement already satisfied: jedi>=0.16 in /usr/local/lib/python3.10/dist-packages (from ipython>=5.3.0->cufflinks) (0.19.2)\n",
            "Requirement already satisfied: decorator in /usr/local/lib/python3.10/dist-packages (from ipython>=5.3.0->cufflinks) (4.4.2)\n",
            "Requirement already satisfied: pickleshare in /usr/local/lib/python3.10/dist-packages (from ipython>=5.3.0->cufflinks) (0.7.5)\n",
            "Requirement already satisfied: traitlets>=4.2 in /usr/local/lib/python3.10/dist-packages (from ipython>=5.3.0->cufflinks) (5.7.1)\n",
            "Requirement already satisfied: prompt-toolkit!=3.0.0,!=3.0.1,<3.1.0,>=2.0.0 in /usr/local/lib/python3.10/dist-packages (from ipython>=5.3.0->cufflinks) (3.0.48)\n",
            "Requirement already satisfied: pygments in /usr/local/lib/python3.10/dist-packages (from ipython>=5.3.0->cufflinks) (2.18.0)\n",
            "Requirement already satisfied: backcall in /usr/local/lib/python3.10/dist-packages (from ipython>=5.3.0->cufflinks) (0.2.0)\n",
            "Requirement already satisfied: matplotlib-inline in /usr/local/lib/python3.10/dist-packages (from ipython>=5.3.0->cufflinks) (0.1.7)\n",
            "Requirement already satisfied: pexpect>4.3 in /usr/local/lib/python3.10/dist-packages (from ipython>=5.3.0->cufflinks) (4.9.0)\n",
            "Requirement already satisfied: ipykernel>=4.5.1 in /usr/local/lib/python3.10/dist-packages (from ipywidgets>=7.0.0->cufflinks) (5.5.6)\n",
            "Requirement already satisfied: ipython-genutils~=0.2.0 in /usr/local/lib/python3.10/dist-packages (from ipywidgets>=7.0.0->cufflinks) (0.2.0)\n",
            "Requirement already satisfied: widgetsnbextension~=3.6.0 in /usr/local/lib/python3.10/dist-packages (from ipywidgets>=7.0.0->cufflinks) (3.6.10)\n",
            "Requirement already satisfied: jupyterlab-widgets>=1.0.0 in /usr/local/lib/python3.10/dist-packages (from ipywidgets>=7.0.0->cufflinks) (3.0.13)\n",
            "Requirement already satisfied: python-dateutil>=2.8.2 in /usr/local/lib/python3.10/dist-packages (from pandas>=0.19.2->cufflinks) (2.8.2)\n",
            "Requirement already satisfied: pytz>=2020.1 in /usr/local/lib/python3.10/dist-packages (from pandas>=0.19.2->cufflinks) (2024.2)\n",
            "Requirement already satisfied: tzdata>=2022.1 in /usr/local/lib/python3.10/dist-packages (from pandas>=0.19.2->cufflinks) (2024.2)\n",
            "Requirement already satisfied: tenacity>=6.2.0 in /usr/local/lib/python3.10/dist-packages (from plotly>=4.1.1->cufflinks) (9.0.0)\n",
            "Requirement already satisfied: packaging in /usr/local/lib/python3.10/dist-packages (from plotly>=4.1.1->cufflinks) (24.2)\n",
            "Requirement already satisfied: jupyter-client in /usr/local/lib/python3.10/dist-packages (from ipykernel>=4.5.1->ipywidgets>=7.0.0->cufflinks) (6.1.12)\n",
            "Requirement already satisfied: tornado>=4.2 in /usr/local/lib/python3.10/dist-packages (from ipykernel>=4.5.1->ipywidgets>=7.0.0->cufflinks) (6.3.3)\n",
            "Requirement already satisfied: parso<0.9.0,>=0.8.4 in /usr/local/lib/python3.10/dist-packages (from jedi>=0.16->ipython>=5.3.0->cufflinks) (0.8.4)\n",
            "Requirement already satisfied: ptyprocess>=0.5 in /usr/local/lib/python3.10/dist-packages (from pexpect>4.3->ipython>=5.3.0->cufflinks) (0.7.0)\n",
            "Requirement already satisfied: wcwidth in /usr/local/lib/python3.10/dist-packages (from prompt-toolkit!=3.0.0,!=3.0.1,<3.1.0,>=2.0.0->ipython>=5.3.0->cufflinks) (0.2.13)\n",
            "Requirement already satisfied: notebook>=4.4.1 in /usr/local/lib/python3.10/dist-packages (from widgetsnbextension~=3.6.0->ipywidgets>=7.0.0->cufflinks) (6.5.5)\n",
            "Requirement already satisfied: jinja2 in /usr/local/lib/python3.10/dist-packages (from notebook>=4.4.1->widgetsnbextension~=3.6.0->ipywidgets>=7.0.0->cufflinks) (3.1.4)\n",
            "Requirement already satisfied: pyzmq<25,>=17 in /usr/local/lib/python3.10/dist-packages (from notebook>=4.4.1->widgetsnbextension~=3.6.0->ipywidgets>=7.0.0->cufflinks) (24.0.1)\n",
            "Requirement already satisfied: argon2-cffi in /usr/local/lib/python3.10/dist-packages (from notebook>=4.4.1->widgetsnbextension~=3.6.0->ipywidgets>=7.0.0->cufflinks) (23.1.0)\n",
            "Requirement already satisfied: jupyter-core>=4.6.1 in /usr/local/lib/python3.10/dist-packages (from notebook>=4.4.1->widgetsnbextension~=3.6.0->ipywidgets>=7.0.0->cufflinks) (5.7.2)\n",
            "Requirement already satisfied: nbformat in /usr/local/lib/python3.10/dist-packages (from notebook>=4.4.1->widgetsnbextension~=3.6.0->ipywidgets>=7.0.0->cufflinks) (5.10.4)\n",
            "Requirement already satisfied: nbconvert>=5 in /usr/local/lib/python3.10/dist-packages (from notebook>=4.4.1->widgetsnbextension~=3.6.0->ipywidgets>=7.0.0->cufflinks) (7.16.4)\n",
            "Requirement already satisfied: nest-asyncio>=1.5 in /usr/local/lib/python3.10/dist-packages (from notebook>=4.4.1->widgetsnbextension~=3.6.0->ipywidgets>=7.0.0->cufflinks) (1.6.0)\n",
            "Requirement already satisfied: Send2Trash>=1.8.0 in /usr/local/lib/python3.10/dist-packages (from notebook>=4.4.1->widgetsnbextension~=3.6.0->ipywidgets>=7.0.0->cufflinks) (1.8.3)\n",
            "Requirement already satisfied: terminado>=0.8.3 in /usr/local/lib/python3.10/dist-packages (from notebook>=4.4.1->widgetsnbextension~=3.6.0->ipywidgets>=7.0.0->cufflinks) (0.18.1)\n",
            "Requirement already satisfied: prometheus-client in /usr/local/lib/python3.10/dist-packages (from notebook>=4.4.1->widgetsnbextension~=3.6.0->ipywidgets>=7.0.0->cufflinks) (0.21.0)\n",
            "Requirement already satisfied: nbclassic>=0.4.7 in /usr/local/lib/python3.10/dist-packages (from notebook>=4.4.1->widgetsnbextension~=3.6.0->ipywidgets>=7.0.0->cufflinks) (1.1.0)\n",
            "Requirement already satisfied: platformdirs>=2.5 in /usr/local/lib/python3.10/dist-packages (from jupyter-core>=4.6.1->notebook>=4.4.1->widgetsnbextension~=3.6.0->ipywidgets>=7.0.0->cufflinks) (4.3.6)\n",
            "Requirement already satisfied: notebook-shim>=0.2.3 in /usr/local/lib/python3.10/dist-packages (from nbclassic>=0.4.7->notebook>=4.4.1->widgetsnbextension~=3.6.0->ipywidgets>=7.0.0->cufflinks) (0.2.4)\n",
            "Requirement already satisfied: beautifulsoup4 in /usr/local/lib/python3.10/dist-packages (from nbconvert>=5->notebook>=4.4.1->widgetsnbextension~=3.6.0->ipywidgets>=7.0.0->cufflinks) (4.12.3)\n",
            "Requirement already satisfied: bleach!=5.0.0 in /usr/local/lib/python3.10/dist-packages (from nbconvert>=5->notebook>=4.4.1->widgetsnbextension~=3.6.0->ipywidgets>=7.0.0->cufflinks) (6.2.0)\n",
            "Requirement already satisfied: defusedxml in /usr/local/lib/python3.10/dist-packages (from nbconvert>=5->notebook>=4.4.1->widgetsnbextension~=3.6.0->ipywidgets>=7.0.0->cufflinks) (0.7.1)\n",
            "Requirement already satisfied: jupyterlab-pygments in /usr/local/lib/python3.10/dist-packages (from nbconvert>=5->notebook>=4.4.1->widgetsnbextension~=3.6.0->ipywidgets>=7.0.0->cufflinks) (0.3.0)\n",
            "Requirement already satisfied: markupsafe>=2.0 in /usr/local/lib/python3.10/dist-packages (from nbconvert>=5->notebook>=4.4.1->widgetsnbextension~=3.6.0->ipywidgets>=7.0.0->cufflinks) (3.0.2)\n",
            "Requirement already satisfied: mistune<4,>=2.0.3 in /usr/local/lib/python3.10/dist-packages (from nbconvert>=5->notebook>=4.4.1->widgetsnbextension~=3.6.0->ipywidgets>=7.0.0->cufflinks) (3.0.2)\n",
            "Requirement already satisfied: nbclient>=0.5.0 in /usr/local/lib/python3.10/dist-packages (from nbconvert>=5->notebook>=4.4.1->widgetsnbextension~=3.6.0->ipywidgets>=7.0.0->cufflinks) (0.10.0)\n",
            "Requirement already satisfied: pandocfilters>=1.4.1 in /usr/local/lib/python3.10/dist-packages (from nbconvert>=5->notebook>=4.4.1->widgetsnbextension~=3.6.0->ipywidgets>=7.0.0->cufflinks) (1.5.1)\n",
            "Requirement already satisfied: tinycss2 in /usr/local/lib/python3.10/dist-packages (from nbconvert>=5->notebook>=4.4.1->widgetsnbextension~=3.6.0->ipywidgets>=7.0.0->cufflinks) (1.4.0)\n",
            "Requirement already satisfied: fastjsonschema>=2.15 in /usr/local/lib/python3.10/dist-packages (from nbformat->notebook>=4.4.1->widgetsnbextension~=3.6.0->ipywidgets>=7.0.0->cufflinks) (2.20.0)\n",
            "Requirement already satisfied: jsonschema>=2.6 in /usr/local/lib/python3.10/dist-packages (from nbformat->notebook>=4.4.1->widgetsnbextension~=3.6.0->ipywidgets>=7.0.0->cufflinks) (4.23.0)\n",
            "Requirement already satisfied: argon2-cffi-bindings in /usr/local/lib/python3.10/dist-packages (from argon2-cffi->notebook>=4.4.1->widgetsnbextension~=3.6.0->ipywidgets>=7.0.0->cufflinks) (21.2.0)\n",
            "Requirement already satisfied: webencodings in /usr/local/lib/python3.10/dist-packages (from bleach!=5.0.0->nbconvert>=5->notebook>=4.4.1->widgetsnbextension~=3.6.0->ipywidgets>=7.0.0->cufflinks) (0.5.1)\n",
            "Requirement already satisfied: attrs>=22.2.0 in /usr/local/lib/python3.10/dist-packages (from jsonschema>=2.6->nbformat->notebook>=4.4.1->widgetsnbextension~=3.6.0->ipywidgets>=7.0.0->cufflinks) (24.2.0)\n",
            "Requirement already satisfied: jsonschema-specifications>=2023.03.6 in /usr/local/lib/python3.10/dist-packages (from jsonschema>=2.6->nbformat->notebook>=4.4.1->widgetsnbextension~=3.6.0->ipywidgets>=7.0.0->cufflinks) (2024.10.1)\n",
            "Requirement already satisfied: referencing>=0.28.4 in /usr/local/lib/python3.10/dist-packages (from jsonschema>=2.6->nbformat->notebook>=4.4.1->widgetsnbextension~=3.6.0->ipywidgets>=7.0.0->cufflinks) (0.35.1)\n",
            "Requirement already satisfied: rpds-py>=0.7.1 in /usr/local/lib/python3.10/dist-packages (from jsonschema>=2.6->nbformat->notebook>=4.4.1->widgetsnbextension~=3.6.0->ipywidgets>=7.0.0->cufflinks) (0.21.0)\n",
            "Requirement already satisfied: jupyter-server<3,>=1.8 in /usr/local/lib/python3.10/dist-packages (from notebook-shim>=0.2.3->nbclassic>=0.4.7->notebook>=4.4.1->widgetsnbextension~=3.6.0->ipywidgets>=7.0.0->cufflinks) (1.24.0)\n",
            "Requirement already satisfied: cffi>=1.0.1 in /usr/local/lib/python3.10/dist-packages (from argon2-cffi-bindings->argon2-cffi->notebook>=4.4.1->widgetsnbextension~=3.6.0->ipywidgets>=7.0.0->cufflinks) (1.17.1)\n",
            "Requirement already satisfied: soupsieve>1.2 in /usr/local/lib/python3.10/dist-packages (from beautifulsoup4->nbconvert>=5->notebook>=4.4.1->widgetsnbextension~=3.6.0->ipywidgets>=7.0.0->cufflinks) (2.6)\n",
            "Requirement already satisfied: pycparser in /usr/local/lib/python3.10/dist-packages (from cffi>=1.0.1->argon2-cffi-bindings->argon2-cffi->notebook>=4.4.1->widgetsnbextension~=3.6.0->ipywidgets>=7.0.0->cufflinks) (2.22)\n",
            "Requirement already satisfied: anyio<4,>=3.1.0 in /usr/local/lib/python3.10/dist-packages (from jupyter-server<3,>=1.8->notebook-shim>=0.2.3->nbclassic>=0.4.7->notebook>=4.4.1->widgetsnbextension~=3.6.0->ipywidgets>=7.0.0->cufflinks) (3.7.1)\n",
            "Requirement already satisfied: websocket-client in /usr/local/lib/python3.10/dist-packages (from jupyter-server<3,>=1.8->notebook-shim>=0.2.3->nbclassic>=0.4.7->notebook>=4.4.1->widgetsnbextension~=3.6.0->ipywidgets>=7.0.0->cufflinks) (1.8.0)\n",
            "Requirement already satisfied: idna>=2.8 in /usr/local/lib/python3.10/dist-packages (from anyio<4,>=3.1.0->jupyter-server<3,>=1.8->notebook-shim>=0.2.3->nbclassic>=0.4.7->notebook>=4.4.1->widgetsnbextension~=3.6.0->ipywidgets>=7.0.0->cufflinks) (3.10)\n",
            "Requirement already satisfied: sniffio>=1.1 in /usr/local/lib/python3.10/dist-packages (from anyio<4,>=3.1.0->jupyter-server<3,>=1.8->notebook-shim>=0.2.3->nbclassic>=0.4.7->notebook>=4.4.1->widgetsnbextension~=3.6.0->ipywidgets>=7.0.0->cufflinks) (1.3.1)\n",
            "Requirement already satisfied: exceptiongroup in /usr/local/lib/python3.10/dist-packages (from anyio<4,>=3.1.0->jupyter-server<3,>=1.8->notebook-shim>=0.2.3->nbclassic>=0.4.7->notebook>=4.4.1->widgetsnbextension~=3.6.0->ipywidgets>=7.0.0->cufflinks) (1.2.2)\n"
          ]
        }
      ]
    },
    {
      "cell_type": "code",
      "source": [
        "run_locally = False\n",
        "if run_locally:\n",
        "    dataset_path = '/content/future-gc00-daily-prices.csv'\n",
        "else:\n",
        "    dataset_path = '/content/future-gc00-daily-prices.csv'\n",
        "\n",
        "df = pd.read_csv(dataset_path, delimiter=',')\n",
        "\n",
        "df = df.rename(columns={\n",
        "    \"Date\": \"price_date\",\n",
        "    \"Open\": \"open\",\n",
        "    \"High\": \"high\",\n",
        "    \"Low\": \"low\",\n",
        "    \"Close\": \"close\"\n",
        "}\n",
        ")\n",
        "\n",
        "df.head().style.set_caption(\"Sample of the Gold Future Prices data\"). \\\n",
        "set_properties(**{'border': '1.3px solid blue',\n",
        "                          'color': 'grey'})"
      ],
      "metadata": {
        "colab": {
          "base_uri": "https://localhost:8080/",
          "height": 227
        },
        "id": "BXqn59w4OAsi",
        "outputId": "8b29befc-16ce-48a8-c169-3986246deba2"
      },
      "execution_count": null,
      "outputs": [
        {
          "output_type": "execute_result",
          "data": {
            "text/plain": [
              "<pandas.io.formats.style.Styler at 0x7a670e8b5330>"
            ],
            "text/html": [
              "<style type=\"text/css\">\n",
              "#T_d31ad_row0_col0, #T_d31ad_row0_col1, #T_d31ad_row0_col2, #T_d31ad_row0_col3, #T_d31ad_row0_col4, #T_d31ad_row1_col0, #T_d31ad_row1_col1, #T_d31ad_row1_col2, #T_d31ad_row1_col3, #T_d31ad_row1_col4, #T_d31ad_row2_col0, #T_d31ad_row2_col1, #T_d31ad_row2_col2, #T_d31ad_row2_col3, #T_d31ad_row2_col4, #T_d31ad_row3_col0, #T_d31ad_row3_col1, #T_d31ad_row3_col2, #T_d31ad_row3_col3, #T_d31ad_row3_col4, #T_d31ad_row4_col0, #T_d31ad_row4_col1, #T_d31ad_row4_col2, #T_d31ad_row4_col3, #T_d31ad_row4_col4 {\n",
              "  border: 1.3px solid blue;\n",
              "  color: grey;\n",
              "}\n",
              "</style>\n",
              "<table id=\"T_d31ad\" class=\"dataframe\">\n",
              "  <caption>Sample of the Gold Future Prices data</caption>\n",
              "  <thead>\n",
              "    <tr>\n",
              "      <th class=\"blank level0\" >&nbsp;</th>\n",
              "      <th id=\"T_d31ad_level0_col0\" class=\"col_heading level0 col0\" >price_date</th>\n",
              "      <th id=\"T_d31ad_level0_col1\" class=\"col_heading level0 col1\" >open</th>\n",
              "      <th id=\"T_d31ad_level0_col2\" class=\"col_heading level0 col2\" >high</th>\n",
              "      <th id=\"T_d31ad_level0_col3\" class=\"col_heading level0 col3\" >low</th>\n",
              "      <th id=\"T_d31ad_level0_col4\" class=\"col_heading level0 col4\" >close</th>\n",
              "    </tr>\n",
              "  </thead>\n",
              "  <tbody>\n",
              "    <tr>\n",
              "      <th id=\"T_d31ad_level0_row0\" class=\"row_heading level0 row0\" >0</th>\n",
              "      <td id=\"T_d31ad_row0_col0\" class=\"data row0 col0\" >01/02/2013</td>\n",
              "      <td id=\"T_d31ad_row0_col1\" class=\"data row0 col1\" >1,676.40</td>\n",
              "      <td id=\"T_d31ad_row0_col2\" class=\"data row0 col2\" >1,695.40</td>\n",
              "      <td id=\"T_d31ad_row0_col3\" class=\"data row0 col3\" >1,670.90</td>\n",
              "      <td id=\"T_d31ad_row0_col4\" class=\"data row0 col4\" >1,688.80</td>\n",
              "    </tr>\n",
              "    <tr>\n",
              "      <th id=\"T_d31ad_level0_row1\" class=\"row_heading level0 row1\" >1</th>\n",
              "      <td id=\"T_d31ad_row1_col0\" class=\"data row1 col0\" >01/02/2014</td>\n",
              "      <td id=\"T_d31ad_row1_col1\" class=\"data row1 col1\" >1,204.50</td>\n",
              "      <td id=\"T_d31ad_row1_col2\" class=\"data row1 col2\" >1,230.80</td>\n",
              "      <td id=\"T_d31ad_row1_col3\" class=\"data row1 col3\" >1,202.50</td>\n",
              "      <td id=\"T_d31ad_row1_col4\" class=\"data row1 col4\" >1,225.20</td>\n",
              "    </tr>\n",
              "    <tr>\n",
              "      <th id=\"T_d31ad_level0_row2\" class=\"row_heading level0 row2\" >2</th>\n",
              "      <td id=\"T_d31ad_row2_col0\" class=\"data row2 col0\" >01/02/2015</td>\n",
              "      <td id=\"T_d31ad_row2_col1\" class=\"data row2 col1\" >1,184.00</td>\n",
              "      <td id=\"T_d31ad_row2_col2\" class=\"data row2 col2\" >1,194.90</td>\n",
              "      <td id=\"T_d31ad_row2_col3\" class=\"data row2 col3\" >1,167.30</td>\n",
              "      <td id=\"T_d31ad_row2_col4\" class=\"data row2 col4\" >1,186.20</td>\n",
              "    </tr>\n",
              "    <tr>\n",
              "      <th id=\"T_d31ad_level0_row3\" class=\"row_heading level0 row3\" >3</th>\n",
              "      <td id=\"T_d31ad_row3_col0\" class=\"data row3 col0\" >01/02/2018</td>\n",
              "      <td id=\"T_d31ad_row3_col1\" class=\"data row3 col1\" >1,305.30</td>\n",
              "      <td id=\"T_d31ad_row3_col2\" class=\"data row3 col2\" >1,320.40</td>\n",
              "      <td id=\"T_d31ad_row3_col3\" class=\"data row3 col3\" >1,304.60</td>\n",
              "      <td id=\"T_d31ad_row3_col4\" class=\"data row3 col4\" >1,316.10</td>\n",
              "    </tr>\n",
              "    <tr>\n",
              "      <th id=\"T_d31ad_level0_row4\" class=\"row_heading level0 row4\" >4</th>\n",
              "      <td id=\"T_d31ad_row4_col0\" class=\"data row4 col0\" >01/02/2019</td>\n",
              "      <td id=\"T_d31ad_row4_col1\" class=\"data row4 col1\" >1,285.00</td>\n",
              "      <td id=\"T_d31ad_row4_col2\" class=\"data row4 col2\" >1,291.00</td>\n",
              "      <td id=\"T_d31ad_row4_col3\" class=\"data row4 col3\" >1,280.60</td>\n",
              "      <td id=\"T_d31ad_row4_col4\" class=\"data row4 col4\" >1,284.10</td>\n",
              "    </tr>\n",
              "  </tbody>\n",
              "</table>\n"
            ]
          },
          "metadata": {},
          "execution_count": 6
        }
      ]
    },
    {
      "cell_type": "code",
      "source": [
        "df.info()\n"
      ],
      "metadata": {
        "colab": {
          "base_uri": "https://localhost:8080/"
        },
        "id": "5qEMjvCeOAvE",
        "outputId": "24ff49a5-59bf-4f9d-f38a-a19499b3753e"
      },
      "execution_count": null,
      "outputs": [
        {
          "output_type": "stream",
          "name": "stdout",
          "text": [
            "<class 'pandas.core.frame.DataFrame'>\n",
            "RangeIndex: 3724 entries, 0 to 3723\n",
            "Data columns (total 5 columns):\n",
            " #   Column      Non-Null Count  Dtype \n",
            "---  ------      --------------  ----- \n",
            " 0   price_date  3724 non-null   object\n",
            " 1   open        3724 non-null   object\n",
            " 2   high        3724 non-null   object\n",
            " 3   low         3724 non-null   object\n",
            " 4   close       3724 non-null   object\n",
            "dtypes: object(5)\n",
            "memory usage: 145.6+ KB\n"
          ]
        }
      ]
    },
    {
      "cell_type": "code",
      "source": [
        "df['high'] = pd.to_numeric(df['high'], errors='coerce')\n",
        "df['low'] = pd.to_numeric(df['low'], errors='coerce')\n",
        "df['close'] = pd.to_numeric(df['close'], errors='coerce')\n",
        "df['open'] = pd.to_numeric(df['open'], errors='coerce')\n",
        "\n",
        "df['daily_magnitude'] = df['high'] - df['low']\n",
        "df['daily_pos_diff'] = df['close'] - df['open']\n",
        "df['daily_magnitude_pct'] = round(df['daily_magnitude']/df['low'], 4)\n",
        "df['daily_pos_diff_pct'] = round(df['daily_pos_diff']/df['open'],4)\n",
        "\n"
      ],
      "metadata": {
        "id": "8z50wXWROAxh"
      },
      "execution_count": null,
      "outputs": []
    },
    {
      "cell_type": "code",
      "source": [
        "df['high'] = pd.to_numeric(df['high'], errors='coerce')\n",
        "df['low'] = pd.to_numeric(df['low'], errors='coerce')\n",
        "df['close'] = pd.to_numeric(df['close'], errors='coerce')\n",
        "df['open'] = pd.to_numeric(df['open'], errors='coerce')\n",
        "\n",
        "df['daily_magnitude'] = df['high'] - df['low']\n",
        "df['daily_pos_diff'] = df['close'] - df['open']\n",
        "df['daily_magnitude_pct'] = round(df['daily_magnitude']/df['low'], 4)\n",
        "df['daily_pos_diff_pct'] = round(df['daily_pos_diff']/df['open'],4)\n"
      ],
      "metadata": {
        "id": "_Au5x_vvOAzX"
      },
      "execution_count": null,
      "outputs": []
    },
    {
      "cell_type": "code",
      "execution_count": null,
      "metadata": {
        "id": "A3NjL_3yHNei"
      },
      "outputs": [],
      "source": [
        "\n",
        "# Replace 'data' with 'df' to reference the correct DataFrame\n",
        "# Assuming 'close' is the correct column name after renaming in previous cells\n",
        "\n",
        "df['1_days_ago'] = df['close'].shift(1)\n",
        "df['2_days_ago'] = df['close'].shift(2)\n",
        "df['7_days_ago'] = df['close'].shift(7)\n",
        "df['18_days_ago'] = df['close'].shift(18)\n",
        "\n",
        "df['EMA_2'] = df['close'].ewm(2).mean().shift()\n",
        "df['EMA_7'] = df['close'].ewm(7).mean().shift()\n",
        "df['EMA_18'] = df['close'].ewm(18).mean().shift()\n",
        "df['EMA_30'] = df['close'].ewm(30).mean().shift()\n",
        "df['SMA_2'] = df['close'].rolling(2).mean().shift()\n",
        "df['SMA_7'] = df['close'].rolling(7).mean().shift()\n",
        "df['SMA_18'] = df['close'].rolling(18).mean().shift()\n"
      ]
    },
    {
      "cell_type": "code",
      "source": [
        "def relative_strength_idx(df, n=14):\n",
        "    # Use 'close' column, assuming it's present in the passed DataFrame (df)\n",
        "    close = df['close']\n",
        "    delta = close.diff()\n",
        "    delta = delta[1:]\n",
        "    pricesUp = delta.copy()\n",
        "    pricesDown = delta.copy()\n",
        "    pricesUp[pricesUp < 0] = 0\n",
        "    pricesDown[pricesDown > 0] = 0\n",
        "    rollUp = pricesUp.rolling(n).mean()\n",
        "    rollDown = pricesDown.abs().rolling(n).mean()\n",
        "    rs = rollUp / rollDown\n",
        "    rsi = 100.0 - (100.0 / (1.0 + rs))\n",
        "    return rsi\n",
        "\n",
        "# Pass 'df' to the function and assign the result back to 'df'\n",
        "df['RSI'] = relative_strength_idx(df).fillna(0)\n",
        "\n"
      ],
      "metadata": {
        "id": "VGCVD_tvKAQU"
      },
      "execution_count": null,
      "outputs": []
    },
    {
      "cell_type": "code",
      "source": [
        "EMA_12 = pd.Series(df['close'].ewm(span=12, min_periods=12).mean())\n",
        "EMA_26 = pd.Series(df['close'].ewm(span=26, min_periods=26).mean())\n",
        "df['MACD'] = pd.Series(EMA_12 - EMA_26)\n",
        "df['MACD_signal'] = pd.Series(df.MACD.ewm(span=9, min_periods=9).mean())\n"
      ],
      "metadata": {
        "id": "z6SCuWMUKAT3"
      },
      "execution_count": null,
      "outputs": []
    },
    {
      "cell_type": "code",
      "source": [
        "!pip install pycaret"
      ],
      "metadata": {
        "colab": {
          "base_uri": "https://localhost:8080/"
        },
        "id": "fjIV8a98X30S",
        "outputId": "cc4aa1d3-42d4-4211-9c8d-fe8eb23fcdd3"
      },
      "execution_count": null,
      "outputs": [
        {
          "output_type": "stream",
          "name": "stdout",
          "text": [
            "Requirement already satisfied: pycaret in /usr/local/lib/python3.10/dist-packages (3.3.2)\n",
            "Requirement already satisfied: ipython>=5.5.0 in /usr/local/lib/python3.10/dist-packages (from pycaret) (7.34.0)\n",
            "Requirement already satisfied: ipywidgets>=7.6.5 in /usr/local/lib/python3.10/dist-packages (from pycaret) (7.7.1)\n",
            "Requirement already satisfied: tqdm>=4.62.0 in /usr/local/lib/python3.10/dist-packages (from pycaret) (4.66.6)\n",
            "Requirement already satisfied: numpy<1.27,>=1.21 in /usr/local/lib/python3.10/dist-packages (from pycaret) (1.26.4)\n",
            "Requirement already satisfied: pandas<2.2.0 in /usr/local/lib/python3.10/dist-packages (from pycaret) (2.1.4)\n",
            "Requirement already satisfied: jinja2>=3 in /usr/local/lib/python3.10/dist-packages (from pycaret) (3.1.4)\n",
            "Requirement already satisfied: scipy<=1.11.4,>=1.6.1 in /usr/local/lib/python3.10/dist-packages (from pycaret) (1.11.4)\n",
            "Requirement already satisfied: joblib<1.4,>=1.2.0 in /usr/local/lib/python3.10/dist-packages (from pycaret) (1.3.2)\n",
            "Requirement already satisfied: scikit-learn>1.4.0 in /usr/local/lib/python3.10/dist-packages (from pycaret) (1.4.2)\n",
            "Requirement already satisfied: pyod>=1.1.3 in /usr/local/lib/python3.10/dist-packages (from pycaret) (2.0.2)\n",
            "Requirement already satisfied: imbalanced-learn>=0.12.0 in /usr/local/lib/python3.10/dist-packages (from pycaret) (0.12.4)\n",
            "Requirement already satisfied: category-encoders>=2.4.0 in /usr/local/lib/python3.10/dist-packages (from pycaret) (2.6.4)\n",
            "Requirement already satisfied: lightgbm>=3.0.0 in /usr/local/lib/python3.10/dist-packages (from pycaret) (4.5.0)\n",
            "Requirement already satisfied: numba>=0.55.0 in /usr/local/lib/python3.10/dist-packages (from pycaret) (0.60.0)\n",
            "Requirement already satisfied: requests>=2.27.1 in /usr/local/lib/python3.10/dist-packages (from pycaret) (2.32.3)\n",
            "Requirement already satisfied: psutil>=5.9.0 in /usr/local/lib/python3.10/dist-packages (from pycaret) (5.9.5)\n",
            "Requirement already satisfied: markupsafe>=2.0.1 in /usr/local/lib/python3.10/dist-packages (from pycaret) (3.0.2)\n",
            "Requirement already satisfied: importlib-metadata>=4.12.0 in /usr/local/lib/python3.10/dist-packages (from pycaret) (8.5.0)\n",
            "Requirement already satisfied: nbformat>=4.2.0 in /usr/local/lib/python3.10/dist-packages (from pycaret) (5.10.4)\n",
            "Requirement already satisfied: cloudpickle in /usr/local/lib/python3.10/dist-packages (from pycaret) (3.1.0)\n",
            "Requirement already satisfied: deprecation>=2.1.0 in /usr/local/lib/python3.10/dist-packages (from pycaret) (2.1.0)\n",
            "Requirement already satisfied: xxhash in /usr/local/lib/python3.10/dist-packages (from pycaret) (3.5.0)\n",
            "Requirement already satisfied: matplotlib<3.8.0 in /usr/local/lib/python3.10/dist-packages (from pycaret) (3.7.5)\n",
            "Requirement already satisfied: scikit-plot>=0.3.7 in /usr/local/lib/python3.10/dist-packages (from pycaret) (0.3.7)\n",
            "Requirement already satisfied: yellowbrick>=1.4 in /usr/local/lib/python3.10/dist-packages (from pycaret) (1.5)\n",
            "Requirement already satisfied: plotly>=5.14.0 in /usr/local/lib/python3.10/dist-packages (from pycaret) (5.24.1)\n",
            "Requirement already satisfied: kaleido>=0.2.1 in /usr/local/lib/python3.10/dist-packages (from pycaret) (0.2.1)\n",
            "Requirement already satisfied: schemdraw==0.15 in /usr/local/lib/python3.10/dist-packages (from pycaret) (0.15)\n",
            "Requirement already satisfied: plotly-resampler>=0.8.3.1 in /usr/local/lib/python3.10/dist-packages (from pycaret) (0.10.0)\n",
            "Requirement already satisfied: statsmodels>=0.12.1 in /usr/local/lib/python3.10/dist-packages (from pycaret) (0.14.4)\n",
            "Requirement already satisfied: sktime==0.26.0 in /usr/local/lib/python3.10/dist-packages (from pycaret) (0.26.0)\n",
            "Requirement already satisfied: tbats>=1.1.3 in /usr/local/lib/python3.10/dist-packages (from pycaret) (1.1.3)\n",
            "Requirement already satisfied: pmdarima>=2.0.4 in /usr/local/lib/python3.10/dist-packages (from pycaret) (2.0.4)\n",
            "Requirement already satisfied: wurlitzer in /usr/local/lib/python3.10/dist-packages (from pycaret) (3.1.1)\n",
            "Requirement already satisfied: packaging in /usr/local/lib/python3.10/dist-packages (from sktime==0.26.0->pycaret) (24.2)\n",
            "Requirement already satisfied: scikit-base<0.8.0 in /usr/local/lib/python3.10/dist-packages (from sktime==0.26.0->pycaret) (0.7.8)\n",
            "Requirement already satisfied: patsy>=0.5.1 in /usr/local/lib/python3.10/dist-packages (from category-encoders>=2.4.0->pycaret) (0.5.6)\n",
            "Requirement already satisfied: threadpoolctl>=2.0.0 in /usr/local/lib/python3.10/dist-packages (from imbalanced-learn>=0.12.0->pycaret) (3.5.0)\n",
            "Requirement already satisfied: zipp>=3.20 in /usr/local/lib/python3.10/dist-packages (from importlib-metadata>=4.12.0->pycaret) (3.20.2)\n",
            "Requirement already satisfied: setuptools>=18.5 in /usr/local/lib/python3.10/dist-packages (from ipython>=5.5.0->pycaret) (75.1.0)\n",
            "Requirement already satisfied: jedi>=0.16 in /usr/local/lib/python3.10/dist-packages (from ipython>=5.5.0->pycaret) (0.19.2)\n",
            "Requirement already satisfied: decorator in /usr/local/lib/python3.10/dist-packages (from ipython>=5.5.0->pycaret) (4.4.2)\n",
            "Requirement already satisfied: pickleshare in /usr/local/lib/python3.10/dist-packages (from ipython>=5.5.0->pycaret) (0.7.5)\n",
            "Requirement already satisfied: traitlets>=4.2 in /usr/local/lib/python3.10/dist-packages (from ipython>=5.5.0->pycaret) (5.7.1)\n",
            "Requirement already satisfied: prompt-toolkit!=3.0.0,!=3.0.1,<3.1.0,>=2.0.0 in /usr/local/lib/python3.10/dist-packages (from ipython>=5.5.0->pycaret) (3.0.48)\n",
            "Requirement already satisfied: pygments in /usr/local/lib/python3.10/dist-packages (from ipython>=5.5.0->pycaret) (2.18.0)\n",
            "Requirement already satisfied: backcall in /usr/local/lib/python3.10/dist-packages (from ipython>=5.5.0->pycaret) (0.2.0)\n",
            "Requirement already satisfied: matplotlib-inline in /usr/local/lib/python3.10/dist-packages (from ipython>=5.5.0->pycaret) (0.1.7)\n",
            "Requirement already satisfied: pexpect>4.3 in /usr/local/lib/python3.10/dist-packages (from ipython>=5.5.0->pycaret) (4.9.0)\n",
            "Requirement already satisfied: ipykernel>=4.5.1 in /usr/local/lib/python3.10/dist-packages (from ipywidgets>=7.6.5->pycaret) (5.5.6)\n",
            "Requirement already satisfied: ipython-genutils~=0.2.0 in /usr/local/lib/python3.10/dist-packages (from ipywidgets>=7.6.5->pycaret) (0.2.0)\n",
            "Requirement already satisfied: widgetsnbextension~=3.6.0 in /usr/local/lib/python3.10/dist-packages (from ipywidgets>=7.6.5->pycaret) (3.6.10)\n",
            "Requirement already satisfied: jupyterlab-widgets>=1.0.0 in /usr/local/lib/python3.10/dist-packages (from ipywidgets>=7.6.5->pycaret) (3.0.13)\n",
            "Requirement already satisfied: contourpy>=1.0.1 in /usr/local/lib/python3.10/dist-packages (from matplotlib<3.8.0->pycaret) (1.3.0)\n",
            "Requirement already satisfied: cycler>=0.10 in /usr/local/lib/python3.10/dist-packages (from matplotlib<3.8.0->pycaret) (0.12.1)\n",
            "Requirement already satisfied: fonttools>=4.22.0 in /usr/local/lib/python3.10/dist-packages (from matplotlib<3.8.0->pycaret) (4.54.1)\n",
            "Requirement already satisfied: kiwisolver>=1.0.1 in /usr/local/lib/python3.10/dist-packages (from matplotlib<3.8.0->pycaret) (1.4.7)\n",
            "Requirement already satisfied: pillow>=6.2.0 in /usr/local/lib/python3.10/dist-packages (from matplotlib<3.8.0->pycaret) (11.0.0)\n",
            "Requirement already satisfied: pyparsing>=2.3.1 in /usr/local/lib/python3.10/dist-packages (from matplotlib<3.8.0->pycaret) (3.2.0)\n",
            "Requirement already satisfied: python-dateutil>=2.7 in /usr/local/lib/python3.10/dist-packages (from matplotlib<3.8.0->pycaret) (2.8.2)\n",
            "Requirement already satisfied: fastjsonschema>=2.15 in /usr/local/lib/python3.10/dist-packages (from nbformat>=4.2.0->pycaret) (2.20.0)\n",
            "Requirement already satisfied: jsonschema>=2.6 in /usr/local/lib/python3.10/dist-packages (from nbformat>=4.2.0->pycaret) (4.23.0)\n",
            "Requirement already satisfied: jupyter-core!=5.0.*,>=4.12 in /usr/local/lib/python3.10/dist-packages (from nbformat>=4.2.0->pycaret) (5.7.2)\n",
            "Requirement already satisfied: llvmlite<0.44,>=0.43.0dev0 in /usr/local/lib/python3.10/dist-packages (from numba>=0.55.0->pycaret) (0.43.0)\n",
            "Requirement already satisfied: pytz>=2020.1 in /usr/local/lib/python3.10/dist-packages (from pandas<2.2.0->pycaret) (2024.2)\n",
            "Requirement already satisfied: tzdata>=2022.1 in /usr/local/lib/python3.10/dist-packages (from pandas<2.2.0->pycaret) (2024.2)\n",
            "Requirement already satisfied: tenacity>=6.2.0 in /usr/local/lib/python3.10/dist-packages (from plotly>=5.14.0->pycaret) (9.0.0)\n",
            "Requirement already satisfied: dash>=2.9.0 in /usr/local/lib/python3.10/dist-packages (from plotly-resampler>=0.8.3.1->pycaret) (2.18.2)\n",
            "Requirement already satisfied: orjson<4.0.0,>=3.8.0 in /usr/local/lib/python3.10/dist-packages (from plotly-resampler>=0.8.3.1->pycaret) (3.10.11)\n",
            "Requirement already satisfied: tsdownsample>=0.1.3 in /usr/local/lib/python3.10/dist-packages (from plotly-resampler>=0.8.3.1->pycaret) (0.1.3)\n",
            "Requirement already satisfied: Cython!=0.29.18,!=0.29.31,>=0.29 in /usr/local/lib/python3.10/dist-packages (from pmdarima>=2.0.4->pycaret) (3.0.11)\n",
            "Requirement already satisfied: urllib3 in /usr/local/lib/python3.10/dist-packages (from pmdarima>=2.0.4->pycaret) (2.2.3)\n",
            "Requirement already satisfied: charset-normalizer<4,>=2 in /usr/local/lib/python3.10/dist-packages (from requests>=2.27.1->pycaret) (3.4.0)\n",
            "Requirement already satisfied: idna<4,>=2.5 in /usr/local/lib/python3.10/dist-packages (from requests>=2.27.1->pycaret) (3.10)\n",
            "Requirement already satisfied: certifi>=2017.4.17 in /usr/local/lib/python3.10/dist-packages (from requests>=2.27.1->pycaret) (2024.8.30)\n",
            "Requirement already satisfied: Flask<3.1,>=1.0.4 in /usr/local/lib/python3.10/dist-packages (from dash>=2.9.0->plotly-resampler>=0.8.3.1->pycaret) (3.0.3)\n",
            "Requirement already satisfied: Werkzeug<3.1 in /usr/local/lib/python3.10/dist-packages (from dash>=2.9.0->plotly-resampler>=0.8.3.1->pycaret) (3.0.6)\n",
            "Requirement already satisfied: dash-html-components==2.0.0 in /usr/local/lib/python3.10/dist-packages (from dash>=2.9.0->plotly-resampler>=0.8.3.1->pycaret) (2.0.0)\n",
            "Requirement already satisfied: dash-core-components==2.0.0 in /usr/local/lib/python3.10/dist-packages (from dash>=2.9.0->plotly-resampler>=0.8.3.1->pycaret) (2.0.0)\n",
            "Requirement already satisfied: dash-table==5.0.0 in /usr/local/lib/python3.10/dist-packages (from dash>=2.9.0->plotly-resampler>=0.8.3.1->pycaret) (5.0.0)\n",
            "Requirement already satisfied: typing-extensions>=4.1.1 in /usr/local/lib/python3.10/dist-packages (from dash>=2.9.0->plotly-resampler>=0.8.3.1->pycaret) (4.12.2)\n",
            "Requirement already satisfied: retrying in /usr/local/lib/python3.10/dist-packages (from dash>=2.9.0->plotly-resampler>=0.8.3.1->pycaret) (1.3.4)\n",
            "Requirement already satisfied: nest-asyncio in /usr/local/lib/python3.10/dist-packages (from dash>=2.9.0->plotly-resampler>=0.8.3.1->pycaret) (1.6.0)\n",
            "Requirement already satisfied: jupyter-client in /usr/local/lib/python3.10/dist-packages (from ipykernel>=4.5.1->ipywidgets>=7.6.5->pycaret) (6.1.12)\n",
            "Requirement already satisfied: tornado>=4.2 in /usr/local/lib/python3.10/dist-packages (from ipykernel>=4.5.1->ipywidgets>=7.6.5->pycaret) (6.3.3)\n",
            "Requirement already satisfied: parso<0.9.0,>=0.8.4 in /usr/local/lib/python3.10/dist-packages (from jedi>=0.16->ipython>=5.5.0->pycaret) (0.8.4)\n",
            "Requirement already satisfied: attrs>=22.2.0 in /usr/local/lib/python3.10/dist-packages (from jsonschema>=2.6->nbformat>=4.2.0->pycaret) (24.2.0)\n",
            "Requirement already satisfied: jsonschema-specifications>=2023.03.6 in /usr/local/lib/python3.10/dist-packages (from jsonschema>=2.6->nbformat>=4.2.0->pycaret) (2024.10.1)\n",
            "Requirement already satisfied: referencing>=0.28.4 in /usr/local/lib/python3.10/dist-packages (from jsonschema>=2.6->nbformat>=4.2.0->pycaret) (0.35.1)\n",
            "Requirement already satisfied: rpds-py>=0.7.1 in /usr/local/lib/python3.10/dist-packages (from jsonschema>=2.6->nbformat>=4.2.0->pycaret) (0.21.0)\n",
            "Requirement already satisfied: platformdirs>=2.5 in /usr/local/lib/python3.10/dist-packages (from jupyter-core!=5.0.*,>=4.12->nbformat>=4.2.0->pycaret) (4.3.6)\n",
            "Requirement already satisfied: six in /usr/local/lib/python3.10/dist-packages (from patsy>=0.5.1->category-encoders>=2.4.0->pycaret) (1.16.0)\n",
            "Requirement already satisfied: ptyprocess>=0.5 in /usr/local/lib/python3.10/dist-packages (from pexpect>4.3->ipython>=5.5.0->pycaret) (0.7.0)\n",
            "Requirement already satisfied: wcwidth in /usr/local/lib/python3.10/dist-packages (from prompt-toolkit!=3.0.0,!=3.0.1,<3.1.0,>=2.0.0->ipython>=5.5.0->pycaret) (0.2.13)\n",
            "Requirement already satisfied: notebook>=4.4.1 in /usr/local/lib/python3.10/dist-packages (from widgetsnbextension~=3.6.0->ipywidgets>=7.6.5->pycaret) (6.5.5)\n",
            "Requirement already satisfied: itsdangerous>=2.1.2 in /usr/local/lib/python3.10/dist-packages (from Flask<3.1,>=1.0.4->dash>=2.9.0->plotly-resampler>=0.8.3.1->pycaret) (2.2.0)\n",
            "Requirement already satisfied: click>=8.1.3 in /usr/local/lib/python3.10/dist-packages (from Flask<3.1,>=1.0.4->dash>=2.9.0->plotly-resampler>=0.8.3.1->pycaret) (8.1.7)\n",
            "Requirement already satisfied: blinker>=1.6.2 in /usr/local/lib/python3.10/dist-packages (from Flask<3.1,>=1.0.4->dash>=2.9.0->plotly-resampler>=0.8.3.1->pycaret) (1.9.0)\n",
            "Requirement already satisfied: pyzmq<25,>=17 in /usr/local/lib/python3.10/dist-packages (from notebook>=4.4.1->widgetsnbextension~=3.6.0->ipywidgets>=7.6.5->pycaret) (24.0.1)\n",
            "Requirement already satisfied: argon2-cffi in /usr/local/lib/python3.10/dist-packages (from notebook>=4.4.1->widgetsnbextension~=3.6.0->ipywidgets>=7.6.5->pycaret) (23.1.0)\n",
            "Requirement already satisfied: nbconvert>=5 in /usr/local/lib/python3.10/dist-packages (from notebook>=4.4.1->widgetsnbextension~=3.6.0->ipywidgets>=7.6.5->pycaret) (7.16.4)\n",
            "Requirement already satisfied: Send2Trash>=1.8.0 in /usr/local/lib/python3.10/dist-packages (from notebook>=4.4.1->widgetsnbextension~=3.6.0->ipywidgets>=7.6.5->pycaret) (1.8.3)\n",
            "Requirement already satisfied: terminado>=0.8.3 in /usr/local/lib/python3.10/dist-packages (from notebook>=4.4.1->widgetsnbextension~=3.6.0->ipywidgets>=7.6.5->pycaret) (0.18.1)\n",
            "Requirement already satisfied: prometheus-client in /usr/local/lib/python3.10/dist-packages (from notebook>=4.4.1->widgetsnbextension~=3.6.0->ipywidgets>=7.6.5->pycaret) (0.21.0)\n",
            "Requirement already satisfied: nbclassic>=0.4.7 in /usr/local/lib/python3.10/dist-packages (from notebook>=4.4.1->widgetsnbextension~=3.6.0->ipywidgets>=7.6.5->pycaret) (1.1.0)\n",
            "Requirement already satisfied: notebook-shim>=0.2.3 in /usr/local/lib/python3.10/dist-packages (from nbclassic>=0.4.7->notebook>=4.4.1->widgetsnbextension~=3.6.0->ipywidgets>=7.6.5->pycaret) (0.2.4)\n",
            "Requirement already satisfied: beautifulsoup4 in /usr/local/lib/python3.10/dist-packages (from nbconvert>=5->notebook>=4.4.1->widgetsnbextension~=3.6.0->ipywidgets>=7.6.5->pycaret) (4.12.3)\n",
            "Requirement already satisfied: bleach!=5.0.0 in /usr/local/lib/python3.10/dist-packages (from nbconvert>=5->notebook>=4.4.1->widgetsnbextension~=3.6.0->ipywidgets>=7.6.5->pycaret) (6.2.0)\n",
            "Requirement already satisfied: defusedxml in /usr/local/lib/python3.10/dist-packages (from nbconvert>=5->notebook>=4.4.1->widgetsnbextension~=3.6.0->ipywidgets>=7.6.5->pycaret) (0.7.1)\n",
            "Requirement already satisfied: jupyterlab-pygments in /usr/local/lib/python3.10/dist-packages (from nbconvert>=5->notebook>=4.4.1->widgetsnbextension~=3.6.0->ipywidgets>=7.6.5->pycaret) (0.3.0)\n",
            "Requirement already satisfied: mistune<4,>=2.0.3 in /usr/local/lib/python3.10/dist-packages (from nbconvert>=5->notebook>=4.4.1->widgetsnbextension~=3.6.0->ipywidgets>=7.6.5->pycaret) (3.0.2)\n",
            "Requirement already satisfied: nbclient>=0.5.0 in /usr/local/lib/python3.10/dist-packages (from nbconvert>=5->notebook>=4.4.1->widgetsnbextension~=3.6.0->ipywidgets>=7.6.5->pycaret) (0.10.0)\n",
            "Requirement already satisfied: pandocfilters>=1.4.1 in /usr/local/lib/python3.10/dist-packages (from nbconvert>=5->notebook>=4.4.1->widgetsnbextension~=3.6.0->ipywidgets>=7.6.5->pycaret) (1.5.1)\n",
            "Requirement already satisfied: tinycss2 in /usr/local/lib/python3.10/dist-packages (from nbconvert>=5->notebook>=4.4.1->widgetsnbextension~=3.6.0->ipywidgets>=7.6.5->pycaret) (1.4.0)\n",
            "Requirement already satisfied: argon2-cffi-bindings in /usr/local/lib/python3.10/dist-packages (from argon2-cffi->notebook>=4.4.1->widgetsnbextension~=3.6.0->ipywidgets>=7.6.5->pycaret) (21.2.0)\n",
            "Requirement already satisfied: webencodings in /usr/local/lib/python3.10/dist-packages (from bleach!=5.0.0->nbconvert>=5->notebook>=4.4.1->widgetsnbextension~=3.6.0->ipywidgets>=7.6.5->pycaret) (0.5.1)\n",
            "Requirement already satisfied: jupyter-server<3,>=1.8 in /usr/local/lib/python3.10/dist-packages (from notebook-shim>=0.2.3->nbclassic>=0.4.7->notebook>=4.4.1->widgetsnbextension~=3.6.0->ipywidgets>=7.6.5->pycaret) (1.24.0)\n",
            "Requirement already satisfied: cffi>=1.0.1 in /usr/local/lib/python3.10/dist-packages (from argon2-cffi-bindings->argon2-cffi->notebook>=4.4.1->widgetsnbextension~=3.6.0->ipywidgets>=7.6.5->pycaret) (1.17.1)\n",
            "Requirement already satisfied: soupsieve>1.2 in /usr/local/lib/python3.10/dist-packages (from beautifulsoup4->nbconvert>=5->notebook>=4.4.1->widgetsnbextension~=3.6.0->ipywidgets>=7.6.5->pycaret) (2.6)\n",
            "Requirement already satisfied: pycparser in /usr/local/lib/python3.10/dist-packages (from cffi>=1.0.1->argon2-cffi-bindings->argon2-cffi->notebook>=4.4.1->widgetsnbextension~=3.6.0->ipywidgets>=7.6.5->pycaret) (2.22)\n",
            "Requirement already satisfied: anyio<4,>=3.1.0 in /usr/local/lib/python3.10/dist-packages (from jupyter-server<3,>=1.8->notebook-shim>=0.2.3->nbclassic>=0.4.7->notebook>=4.4.1->widgetsnbextension~=3.6.0->ipywidgets>=7.6.5->pycaret) (3.7.1)\n",
            "Requirement already satisfied: websocket-client in /usr/local/lib/python3.10/dist-packages (from jupyter-server<3,>=1.8->notebook-shim>=0.2.3->nbclassic>=0.4.7->notebook>=4.4.1->widgetsnbextension~=3.6.0->ipywidgets>=7.6.5->pycaret) (1.8.0)\n",
            "Requirement already satisfied: sniffio>=1.1 in /usr/local/lib/python3.10/dist-packages (from anyio<4,>=3.1.0->jupyter-server<3,>=1.8->notebook-shim>=0.2.3->nbclassic>=0.4.7->notebook>=4.4.1->widgetsnbextension~=3.6.0->ipywidgets>=7.6.5->pycaret) (1.3.1)\n",
            "Requirement already satisfied: exceptiongroup in /usr/local/lib/python3.10/dist-packages (from anyio<4,>=3.1.0->jupyter-server<3,>=1.8->notebook-shim>=0.2.3->nbclassic>=0.4.7->notebook>=4.4.1->widgetsnbextension~=3.6.0->ipywidgets>=7.6.5->pycaret) (1.2.2)\n"
          ]
        }
      ]
    },
    {
      "cell_type": "code",
      "source": [
        "from pycaret.anomaly import *\n",
        "anomal_df = df[['price_date', 'close']]\n",
        "s = setup(anomal_df, session_id = 125)\n"
      ],
      "metadata": {
        "id": "MVUW7YqvKAWn",
        "colab": {
          "base_uri": "https://localhost:8080/",
          "height": 582
        },
        "outputId": "9d042fa1-c437-460e-e8bb-377350ff89e9"
      },
      "execution_count": null,
      "outputs": [
        {
          "output_type": "display_data",
          "data": {
            "text/plain": [
              "<pandas.io.formats.style.Styler at 0x7a670979bd90>"
            ],
            "text/html": [
              "<style type=\"text/css\">\n",
              "#T_b78cf_row6_col1 {\n",
              "  background-color: lightgreen;\n",
              "}\n",
              "</style>\n",
              "<table id=\"T_b78cf\" class=\"dataframe\">\n",
              "  <thead>\n",
              "    <tr>\n",
              "      <th class=\"blank level0\" >&nbsp;</th>\n",
              "      <th id=\"T_b78cf_level0_col0\" class=\"col_heading level0 col0\" >Description</th>\n",
              "      <th id=\"T_b78cf_level0_col1\" class=\"col_heading level0 col1\" >Value</th>\n",
              "    </tr>\n",
              "  </thead>\n",
              "  <tbody>\n",
              "    <tr>\n",
              "      <th id=\"T_b78cf_level0_row0\" class=\"row_heading level0 row0\" >0</th>\n",
              "      <td id=\"T_b78cf_row0_col0\" class=\"data row0 col0\" >Session id</td>\n",
              "      <td id=\"T_b78cf_row0_col1\" class=\"data row0 col1\" >125</td>\n",
              "    </tr>\n",
              "    <tr>\n",
              "      <th id=\"T_b78cf_level0_row1\" class=\"row_heading level0 row1\" >1</th>\n",
              "      <td id=\"T_b78cf_row1_col0\" class=\"data row1 col0\" >Original data shape</td>\n",
              "      <td id=\"T_b78cf_row1_col1\" class=\"data row1 col1\" >(3724, 2)</td>\n",
              "    </tr>\n",
              "    <tr>\n",
              "      <th id=\"T_b78cf_level0_row2\" class=\"row_heading level0 row2\" >2</th>\n",
              "      <td id=\"T_b78cf_row2_col0\" class=\"data row2 col0\" >Transformed data shape</td>\n",
              "      <td id=\"T_b78cf_row2_col1\" class=\"data row2 col1\" >(3724, 3725)</td>\n",
              "    </tr>\n",
              "    <tr>\n",
              "      <th id=\"T_b78cf_level0_row3\" class=\"row_heading level0 row3\" >3</th>\n",
              "      <td id=\"T_b78cf_row3_col0\" class=\"data row3 col0\" >Numeric features</td>\n",
              "      <td id=\"T_b78cf_row3_col1\" class=\"data row3 col1\" >1</td>\n",
              "    </tr>\n",
              "    <tr>\n",
              "      <th id=\"T_b78cf_level0_row4\" class=\"row_heading level0 row4\" >4</th>\n",
              "      <td id=\"T_b78cf_row4_col0\" class=\"data row4 col0\" >Categorical features</td>\n",
              "      <td id=\"T_b78cf_row4_col1\" class=\"data row4 col1\" >1</td>\n",
              "    </tr>\n",
              "    <tr>\n",
              "      <th id=\"T_b78cf_level0_row5\" class=\"row_heading level0 row5\" >5</th>\n",
              "      <td id=\"T_b78cf_row5_col0\" class=\"data row5 col0\" >Rows with missing values</td>\n",
              "      <td id=\"T_b78cf_row5_col1\" class=\"data row5 col1\" >97.3%</td>\n",
              "    </tr>\n",
              "    <tr>\n",
              "      <th id=\"T_b78cf_level0_row6\" class=\"row_heading level0 row6\" >6</th>\n",
              "      <td id=\"T_b78cf_row6_col0\" class=\"data row6 col0\" >Preprocess</td>\n",
              "      <td id=\"T_b78cf_row6_col1\" class=\"data row6 col1\" >True</td>\n",
              "    </tr>\n",
              "    <tr>\n",
              "      <th id=\"T_b78cf_level0_row7\" class=\"row_heading level0 row7\" >7</th>\n",
              "      <td id=\"T_b78cf_row7_col0\" class=\"data row7 col0\" >Imputation type</td>\n",
              "      <td id=\"T_b78cf_row7_col1\" class=\"data row7 col1\" >simple</td>\n",
              "    </tr>\n",
              "    <tr>\n",
              "      <th id=\"T_b78cf_level0_row8\" class=\"row_heading level0 row8\" >8</th>\n",
              "      <td id=\"T_b78cf_row8_col0\" class=\"data row8 col0\" >Numeric imputation</td>\n",
              "      <td id=\"T_b78cf_row8_col1\" class=\"data row8 col1\" >mean</td>\n",
              "    </tr>\n",
              "    <tr>\n",
              "      <th id=\"T_b78cf_level0_row9\" class=\"row_heading level0 row9\" >9</th>\n",
              "      <td id=\"T_b78cf_row9_col0\" class=\"data row9 col0\" >Categorical imputation</td>\n",
              "      <td id=\"T_b78cf_row9_col1\" class=\"data row9 col1\" >mode</td>\n",
              "    </tr>\n",
              "    <tr>\n",
              "      <th id=\"T_b78cf_level0_row10\" class=\"row_heading level0 row10\" >10</th>\n",
              "      <td id=\"T_b78cf_row10_col0\" class=\"data row10 col0\" >Maximum one-hot encoding</td>\n",
              "      <td id=\"T_b78cf_row10_col1\" class=\"data row10 col1\" >-1</td>\n",
              "    </tr>\n",
              "    <tr>\n",
              "      <th id=\"T_b78cf_level0_row11\" class=\"row_heading level0 row11\" >11</th>\n",
              "      <td id=\"T_b78cf_row11_col0\" class=\"data row11 col0\" >Encoding method</td>\n",
              "      <td id=\"T_b78cf_row11_col1\" class=\"data row11 col1\" >None</td>\n",
              "    </tr>\n",
              "    <tr>\n",
              "      <th id=\"T_b78cf_level0_row12\" class=\"row_heading level0 row12\" >12</th>\n",
              "      <td id=\"T_b78cf_row12_col0\" class=\"data row12 col0\" >CPU Jobs</td>\n",
              "      <td id=\"T_b78cf_row12_col1\" class=\"data row12 col1\" >-1</td>\n",
              "    </tr>\n",
              "    <tr>\n",
              "      <th id=\"T_b78cf_level0_row13\" class=\"row_heading level0 row13\" >13</th>\n",
              "      <td id=\"T_b78cf_row13_col0\" class=\"data row13 col0\" >Use GPU</td>\n",
              "      <td id=\"T_b78cf_row13_col1\" class=\"data row13 col1\" >False</td>\n",
              "    </tr>\n",
              "    <tr>\n",
              "      <th id=\"T_b78cf_level0_row14\" class=\"row_heading level0 row14\" >14</th>\n",
              "      <td id=\"T_b78cf_row14_col0\" class=\"data row14 col0\" >Log Experiment</td>\n",
              "      <td id=\"T_b78cf_row14_col1\" class=\"data row14 col1\" >False</td>\n",
              "    </tr>\n",
              "    <tr>\n",
              "      <th id=\"T_b78cf_level0_row15\" class=\"row_heading level0 row15\" >15</th>\n",
              "      <td id=\"T_b78cf_row15_col0\" class=\"data row15 col0\" >Experiment Name</td>\n",
              "      <td id=\"T_b78cf_row15_col1\" class=\"data row15 col1\" >anomaly-default-name</td>\n",
              "    </tr>\n",
              "    <tr>\n",
              "      <th id=\"T_b78cf_level0_row16\" class=\"row_heading level0 row16\" >16</th>\n",
              "      <td id=\"T_b78cf_row16_col0\" class=\"data row16 col0\" >USI</td>\n",
              "      <td id=\"T_b78cf_row16_col1\" class=\"data row16 col1\" >aa4d</td>\n",
              "    </tr>\n",
              "  </tbody>\n",
              "</table>\n"
            ]
          },
          "metadata": {}
        }
      ]
    },
    {
      "cell_type": "code",
      "source": [
        "iforest = create_model('iforest', fraction = 0.1)\n",
        "iforest_results = assign_model(iforest)\n",
        "\n",
        "df = df.merge(iforest_results, on=['price_date', 'close'])\n"
      ],
      "metadata": {
        "colab": {
          "base_uri": "https://localhost:8080/",
          "height": 17,
          "referenced_widgets": [
            "9a1b86dc4a1d4209910065eb5c6d653c",
            "f34ea05772f7429983e2e76e7bed6d06",
            "1bf74b9e500741f0bba7e50524a46c2b",
            "c7af057181c34d5f9d802d30b17bf2ef",
            "493b5a5d5ca443138f08b1cfff819482",
            "2978ff0a1ada4985a112b3ff9d328cca",
            "030d282bc22d4ab695c4ec23481c0b1c",
            "c4c3da25649243b98d58d8ee78f698da",
            "c0c75f1b1ef64f0c8ae578170eb781ef",
            "88f96b6d2f0a4a5ba1b2367edf4e3472",
            "db019220724c4c36bc6c89bf856b90b5"
          ]
        },
        "id": "jC6wmEYHYPAS",
        "outputId": "8908ead6-c267-40bb-ade7-6d1084549e3b"
      },
      "execution_count": null,
      "outputs": [
        {
          "output_type": "display_data",
          "data": {
            "text/plain": [
              "<IPython.core.display.HTML object>"
            ],
            "text/html": []
          },
          "metadata": {}
        },
        {
          "output_type": "display_data",
          "data": {
            "text/plain": [
              "<IPython.core.display.HTML object>"
            ],
            "text/html": []
          },
          "metadata": {}
        },
        {
          "output_type": "display_data",
          "data": {
            "text/plain": [
              "Processing:   0%|          | 0/3 [00:00<?, ?it/s]"
            ],
            "application/vnd.jupyter.widget-view+json": {
              "version_major": 2,
              "version_minor": 0,
              "model_id": "9a1b86dc4a1d4209910065eb5c6d653c"
            }
          },
          "metadata": {
            "application/vnd.jupyter.widget-view+json": {
              "colab": {
                "custom_widget_manager": {
                  "url": "https://ssl.gstatic.com/colaboratory-static/widgets/colab-cdn-widget-manager/2b70e893a8ba7c0f/manager.min.js"
                }
              }
            }
          }
        },
        {
          "output_type": "display_data",
          "data": {
            "text/plain": [
              "<IPython.core.display.HTML object>"
            ],
            "text/html": []
          },
          "metadata": {}
        }
      ]
    },
    {
      "cell_type": "code",
      "source": [
        "df.tail().style.set_caption(\"Sample of the Gold Future Prices data (after the feature engineering)\"). \\\n",
        "set_properties(**{'border': '1.3px solid blue',\n",
        "                          'color': 'grey'})\n"
      ],
      "metadata": {
        "colab": {
          "base_uri": "https://localhost:8080/",
          "height": 247
        },
        "id": "7FXsa95rYPDH",
        "outputId": "18d9f4de-ed88-4103-c8dd-808474dd4e53"
      },
      "execution_count": null,
      "outputs": [
        {
          "output_type": "execute_result",
          "data": {
            "text/plain": [
              "<pandas.io.formats.style.Styler at 0x7a670c6f1ab0>"
            ],
            "text/html": [
              "<style type=\"text/css\">\n",
              "#T_c662e_row0_col0, #T_c662e_row0_col1, #T_c662e_row0_col2, #T_c662e_row0_col3, #T_c662e_row0_col4, #T_c662e_row0_col5, #T_c662e_row0_col6, #T_c662e_row0_col7, #T_c662e_row0_col8, #T_c662e_row0_col9, #T_c662e_row0_col10, #T_c662e_row0_col11, #T_c662e_row0_col12, #T_c662e_row0_col13, #T_c662e_row0_col14, #T_c662e_row0_col15, #T_c662e_row0_col16, #T_c662e_row0_col17, #T_c662e_row0_col18, #T_c662e_row0_col19, #T_c662e_row0_col20, #T_c662e_row0_col21, #T_c662e_row0_col22, #T_c662e_row0_col23, #T_c662e_row0_col24, #T_c662e_row1_col0, #T_c662e_row1_col1, #T_c662e_row1_col2, #T_c662e_row1_col3, #T_c662e_row1_col4, #T_c662e_row1_col5, #T_c662e_row1_col6, #T_c662e_row1_col7, #T_c662e_row1_col8, #T_c662e_row1_col9, #T_c662e_row1_col10, #T_c662e_row1_col11, #T_c662e_row1_col12, #T_c662e_row1_col13, #T_c662e_row1_col14, #T_c662e_row1_col15, #T_c662e_row1_col16, #T_c662e_row1_col17, #T_c662e_row1_col18, #T_c662e_row1_col19, #T_c662e_row1_col20, #T_c662e_row1_col21, #T_c662e_row1_col22, #T_c662e_row1_col23, #T_c662e_row1_col24, #T_c662e_row2_col0, #T_c662e_row2_col1, #T_c662e_row2_col2, #T_c662e_row2_col3, #T_c662e_row2_col4, #T_c662e_row2_col5, #T_c662e_row2_col6, #T_c662e_row2_col7, #T_c662e_row2_col8, #T_c662e_row2_col9, #T_c662e_row2_col10, #T_c662e_row2_col11, #T_c662e_row2_col12, #T_c662e_row2_col13, #T_c662e_row2_col14, #T_c662e_row2_col15, #T_c662e_row2_col16, #T_c662e_row2_col17, #T_c662e_row2_col18, #T_c662e_row2_col19, #T_c662e_row2_col20, #T_c662e_row2_col21, #T_c662e_row2_col22, #T_c662e_row2_col23, #T_c662e_row2_col24, #T_c662e_row3_col0, #T_c662e_row3_col1, #T_c662e_row3_col2, #T_c662e_row3_col3, #T_c662e_row3_col4, #T_c662e_row3_col5, #T_c662e_row3_col6, #T_c662e_row3_col7, #T_c662e_row3_col8, #T_c662e_row3_col9, #T_c662e_row3_col10, #T_c662e_row3_col11, #T_c662e_row3_col12, #T_c662e_row3_col13, #T_c662e_row3_col14, #T_c662e_row3_col15, #T_c662e_row3_col16, #T_c662e_row3_col17, #T_c662e_row3_col18, #T_c662e_row3_col19, #T_c662e_row3_col20, #T_c662e_row3_col21, #T_c662e_row3_col22, #T_c662e_row3_col23, #T_c662e_row3_col24, #T_c662e_row4_col0, #T_c662e_row4_col1, #T_c662e_row4_col2, #T_c662e_row4_col3, #T_c662e_row4_col4, #T_c662e_row4_col5, #T_c662e_row4_col6, #T_c662e_row4_col7, #T_c662e_row4_col8, #T_c662e_row4_col9, #T_c662e_row4_col10, #T_c662e_row4_col11, #T_c662e_row4_col12, #T_c662e_row4_col13, #T_c662e_row4_col14, #T_c662e_row4_col15, #T_c662e_row4_col16, #T_c662e_row4_col17, #T_c662e_row4_col18, #T_c662e_row4_col19, #T_c662e_row4_col20, #T_c662e_row4_col21, #T_c662e_row4_col22, #T_c662e_row4_col23, #T_c662e_row4_col24 {\n",
              "  border: 1.3px solid blue;\n",
              "  color: grey;\n",
              "}\n",
              "</style>\n",
              "<table id=\"T_c662e\" class=\"dataframe\">\n",
              "  <caption>Sample of the Gold Future Prices data (after the feature engineering)</caption>\n",
              "  <thead>\n",
              "    <tr>\n",
              "      <th class=\"blank level0\" >&nbsp;</th>\n",
              "      <th id=\"T_c662e_level0_col0\" class=\"col_heading level0 col0\" >price_date</th>\n",
              "      <th id=\"T_c662e_level0_col1\" class=\"col_heading level0 col1\" >open</th>\n",
              "      <th id=\"T_c662e_level0_col2\" class=\"col_heading level0 col2\" >high</th>\n",
              "      <th id=\"T_c662e_level0_col3\" class=\"col_heading level0 col3\" >low</th>\n",
              "      <th id=\"T_c662e_level0_col4\" class=\"col_heading level0 col4\" >close</th>\n",
              "      <th id=\"T_c662e_level0_col5\" class=\"col_heading level0 col5\" >daily_magnitude</th>\n",
              "      <th id=\"T_c662e_level0_col6\" class=\"col_heading level0 col6\" >daily_pos_diff</th>\n",
              "      <th id=\"T_c662e_level0_col7\" class=\"col_heading level0 col7\" >daily_magnitude_pct</th>\n",
              "      <th id=\"T_c662e_level0_col8\" class=\"col_heading level0 col8\" >daily_pos_diff_pct</th>\n",
              "      <th id=\"T_c662e_level0_col9\" class=\"col_heading level0 col9\" >1_days_ago</th>\n",
              "      <th id=\"T_c662e_level0_col10\" class=\"col_heading level0 col10\" >2_days_ago</th>\n",
              "      <th id=\"T_c662e_level0_col11\" class=\"col_heading level0 col11\" >7_days_ago</th>\n",
              "      <th id=\"T_c662e_level0_col12\" class=\"col_heading level0 col12\" >18_days_ago</th>\n",
              "      <th id=\"T_c662e_level0_col13\" class=\"col_heading level0 col13\" >EMA_2</th>\n",
              "      <th id=\"T_c662e_level0_col14\" class=\"col_heading level0 col14\" >EMA_7</th>\n",
              "      <th id=\"T_c662e_level0_col15\" class=\"col_heading level0 col15\" >EMA_18</th>\n",
              "      <th id=\"T_c662e_level0_col16\" class=\"col_heading level0 col16\" >EMA_30</th>\n",
              "      <th id=\"T_c662e_level0_col17\" class=\"col_heading level0 col17\" >SMA_2</th>\n",
              "      <th id=\"T_c662e_level0_col18\" class=\"col_heading level0 col18\" >SMA_7</th>\n",
              "      <th id=\"T_c662e_level0_col19\" class=\"col_heading level0 col19\" >SMA_18</th>\n",
              "      <th id=\"T_c662e_level0_col20\" class=\"col_heading level0 col20\" >RSI</th>\n",
              "      <th id=\"T_c662e_level0_col21\" class=\"col_heading level0 col21\" >MACD</th>\n",
              "      <th id=\"T_c662e_level0_col22\" class=\"col_heading level0 col22\" >MACD_signal</th>\n",
              "      <th id=\"T_c662e_level0_col23\" class=\"col_heading level0 col23\" >Anomaly</th>\n",
              "      <th id=\"T_c662e_level0_col24\" class=\"col_heading level0 col24\" >Anomaly_Score</th>\n",
              "    </tr>\n",
              "  </thead>\n",
              "  <tbody>\n",
              "    <tr>\n",
              "      <th id=\"T_c662e_level0_row0\" class=\"row_heading level0 row0\" >3643</th>\n",
              "      <td id=\"T_c662e_row0_col0\" class=\"data row0 col0\" >12/31/2015</td>\n",
              "      <td id=\"T_c662e_row0_col1\" class=\"data row0 col1\" >nan</td>\n",
              "      <td id=\"T_c662e_row0_col2\" class=\"data row0 col2\" >nan</td>\n",
              "      <td id=\"T_c662e_row0_col3\" class=\"data row0 col3\" >nan</td>\n",
              "      <td id=\"T_c662e_row0_col4\" class=\"data row0 col4\" >nan</td>\n",
              "      <td id=\"T_c662e_row0_col5\" class=\"data row0 col5\" >nan</td>\n",
              "      <td id=\"T_c662e_row0_col6\" class=\"data row0 col6\" >nan</td>\n",
              "      <td id=\"T_c662e_row0_col7\" class=\"data row0 col7\" >nan</td>\n",
              "      <td id=\"T_c662e_row0_col8\" class=\"data row0 col8\" >nan</td>\n",
              "      <td id=\"T_c662e_row0_col9\" class=\"data row0 col9\" >nan</td>\n",
              "      <td id=\"T_c662e_row0_col10\" class=\"data row0 col10\" >nan</td>\n",
              "      <td id=\"T_c662e_row0_col11\" class=\"data row0 col11\" >nan</td>\n",
              "      <td id=\"T_c662e_row0_col12\" class=\"data row0 col12\" >nan</td>\n",
              "      <td id=\"T_c662e_row0_col13\" class=\"data row0 col13\" >994.397705</td>\n",
              "      <td id=\"T_c662e_row0_col14\" class=\"data row0 col14\" >994.345572</td>\n",
              "      <td id=\"T_c662e_row0_col15\" class=\"data row0 col15\" >994.296113</td>\n",
              "      <td id=\"T_c662e_row0_col16\" class=\"data row0 col16\" >994.354657</td>\n",
              "      <td id=\"T_c662e_row0_col17\" class=\"data row0 col17\" >nan</td>\n",
              "      <td id=\"T_c662e_row0_col18\" class=\"data row0 col18\" >nan</td>\n",
              "      <td id=\"T_c662e_row0_col19\" class=\"data row0 col19\" >nan</td>\n",
              "      <td id=\"T_c662e_row0_col20\" class=\"data row0 col20\" >0.000000</td>\n",
              "      <td id=\"T_c662e_row0_col21\" class=\"data row0 col21\" >0.063263</td>\n",
              "      <td id=\"T_c662e_row0_col22\" class=\"data row0 col22\" >0.063263</td>\n",
              "      <td id=\"T_c662e_row0_col23\" class=\"data row0 col23\" >0</td>\n",
              "      <td id=\"T_c662e_row0_col24\" class=\"data row0 col24\" >-0.002818</td>\n",
              "    </tr>\n",
              "    <tr>\n",
              "      <th id=\"T_c662e_level0_row1\" class=\"row_heading level0 row1\" >3644</th>\n",
              "      <td id=\"T_c662e_row1_col0\" class=\"data row1 col0\" >12/31/2018</td>\n",
              "      <td id=\"T_c662e_row1_col1\" class=\"data row1 col1\" >nan</td>\n",
              "      <td id=\"T_c662e_row1_col2\" class=\"data row1 col2\" >nan</td>\n",
              "      <td id=\"T_c662e_row1_col3\" class=\"data row1 col3\" >nan</td>\n",
              "      <td id=\"T_c662e_row1_col4\" class=\"data row1 col4\" >nan</td>\n",
              "      <td id=\"T_c662e_row1_col5\" class=\"data row1 col5\" >nan</td>\n",
              "      <td id=\"T_c662e_row1_col6\" class=\"data row1 col6\" >nan</td>\n",
              "      <td id=\"T_c662e_row1_col7\" class=\"data row1 col7\" >nan</td>\n",
              "      <td id=\"T_c662e_row1_col8\" class=\"data row1 col8\" >nan</td>\n",
              "      <td id=\"T_c662e_row1_col9\" class=\"data row1 col9\" >nan</td>\n",
              "      <td id=\"T_c662e_row1_col10\" class=\"data row1 col10\" >nan</td>\n",
              "      <td id=\"T_c662e_row1_col11\" class=\"data row1 col11\" >nan</td>\n",
              "      <td id=\"T_c662e_row1_col12\" class=\"data row1 col12\" >nan</td>\n",
              "      <td id=\"T_c662e_row1_col13\" class=\"data row1 col13\" >994.397705</td>\n",
              "      <td id=\"T_c662e_row1_col14\" class=\"data row1 col14\" >994.345572</td>\n",
              "      <td id=\"T_c662e_row1_col15\" class=\"data row1 col15\" >994.296113</td>\n",
              "      <td id=\"T_c662e_row1_col16\" class=\"data row1 col16\" >994.354657</td>\n",
              "      <td id=\"T_c662e_row1_col17\" class=\"data row1 col17\" >nan</td>\n",
              "      <td id=\"T_c662e_row1_col18\" class=\"data row1 col18\" >nan</td>\n",
              "      <td id=\"T_c662e_row1_col19\" class=\"data row1 col19\" >nan</td>\n",
              "      <td id=\"T_c662e_row1_col20\" class=\"data row1 col20\" >0.000000</td>\n",
              "      <td id=\"T_c662e_row1_col21\" class=\"data row1 col21\" >0.063263</td>\n",
              "      <td id=\"T_c662e_row1_col22\" class=\"data row1 col22\" >0.063263</td>\n",
              "      <td id=\"T_c662e_row1_col23\" class=\"data row1 col23\" >0</td>\n",
              "      <td id=\"T_c662e_row1_col24\" class=\"data row1 col24\" >-0.002818</td>\n",
              "    </tr>\n",
              "    <tr>\n",
              "      <th id=\"T_c662e_level0_row2\" class=\"row_heading level0 row2\" >3645</th>\n",
              "      <td id=\"T_c662e_row2_col0\" class=\"data row2 col0\" >12/31/2019</td>\n",
              "      <td id=\"T_c662e_row2_col1\" class=\"data row2 col1\" >nan</td>\n",
              "      <td id=\"T_c662e_row2_col2\" class=\"data row2 col2\" >nan</td>\n",
              "      <td id=\"T_c662e_row2_col3\" class=\"data row2 col3\" >nan</td>\n",
              "      <td id=\"T_c662e_row2_col4\" class=\"data row2 col4\" >nan</td>\n",
              "      <td id=\"T_c662e_row2_col5\" class=\"data row2 col5\" >nan</td>\n",
              "      <td id=\"T_c662e_row2_col6\" class=\"data row2 col6\" >nan</td>\n",
              "      <td id=\"T_c662e_row2_col7\" class=\"data row2 col7\" >nan</td>\n",
              "      <td id=\"T_c662e_row2_col8\" class=\"data row2 col8\" >nan</td>\n",
              "      <td id=\"T_c662e_row2_col9\" class=\"data row2 col9\" >nan</td>\n",
              "      <td id=\"T_c662e_row2_col10\" class=\"data row2 col10\" >nan</td>\n",
              "      <td id=\"T_c662e_row2_col11\" class=\"data row2 col11\" >nan</td>\n",
              "      <td id=\"T_c662e_row2_col12\" class=\"data row2 col12\" >nan</td>\n",
              "      <td id=\"T_c662e_row2_col13\" class=\"data row2 col13\" >994.397705</td>\n",
              "      <td id=\"T_c662e_row2_col14\" class=\"data row2 col14\" >994.345572</td>\n",
              "      <td id=\"T_c662e_row2_col15\" class=\"data row2 col15\" >994.296113</td>\n",
              "      <td id=\"T_c662e_row2_col16\" class=\"data row2 col16\" >994.354657</td>\n",
              "      <td id=\"T_c662e_row2_col17\" class=\"data row2 col17\" >nan</td>\n",
              "      <td id=\"T_c662e_row2_col18\" class=\"data row2 col18\" >nan</td>\n",
              "      <td id=\"T_c662e_row2_col19\" class=\"data row2 col19\" >nan</td>\n",
              "      <td id=\"T_c662e_row2_col20\" class=\"data row2 col20\" >0.000000</td>\n",
              "      <td id=\"T_c662e_row2_col21\" class=\"data row2 col21\" >0.063263</td>\n",
              "      <td id=\"T_c662e_row2_col22\" class=\"data row2 col22\" >0.063263</td>\n",
              "      <td id=\"T_c662e_row2_col23\" class=\"data row2 col23\" >0</td>\n",
              "      <td id=\"T_c662e_row2_col24\" class=\"data row2 col24\" >-0.002818</td>\n",
              "    </tr>\n",
              "    <tr>\n",
              "      <th id=\"T_c662e_level0_row3\" class=\"row_heading level0 row3\" >3646</th>\n",
              "      <td id=\"T_c662e_row3_col0\" class=\"data row3 col0\" >12/31/2020</td>\n",
              "      <td id=\"T_c662e_row3_col1\" class=\"data row3 col1\" >nan</td>\n",
              "      <td id=\"T_c662e_row3_col2\" class=\"data row3 col2\" >nan</td>\n",
              "      <td id=\"T_c662e_row3_col3\" class=\"data row3 col3\" >nan</td>\n",
              "      <td id=\"T_c662e_row3_col4\" class=\"data row3 col4\" >nan</td>\n",
              "      <td id=\"T_c662e_row3_col5\" class=\"data row3 col5\" >nan</td>\n",
              "      <td id=\"T_c662e_row3_col6\" class=\"data row3 col6\" >nan</td>\n",
              "      <td id=\"T_c662e_row3_col7\" class=\"data row3 col7\" >nan</td>\n",
              "      <td id=\"T_c662e_row3_col8\" class=\"data row3 col8\" >nan</td>\n",
              "      <td id=\"T_c662e_row3_col9\" class=\"data row3 col9\" >nan</td>\n",
              "      <td id=\"T_c662e_row3_col10\" class=\"data row3 col10\" >nan</td>\n",
              "      <td id=\"T_c662e_row3_col11\" class=\"data row3 col11\" >nan</td>\n",
              "      <td id=\"T_c662e_row3_col12\" class=\"data row3 col12\" >nan</td>\n",
              "      <td id=\"T_c662e_row3_col13\" class=\"data row3 col13\" >994.397705</td>\n",
              "      <td id=\"T_c662e_row3_col14\" class=\"data row3 col14\" >994.345572</td>\n",
              "      <td id=\"T_c662e_row3_col15\" class=\"data row3 col15\" >994.296113</td>\n",
              "      <td id=\"T_c662e_row3_col16\" class=\"data row3 col16\" >994.354657</td>\n",
              "      <td id=\"T_c662e_row3_col17\" class=\"data row3 col17\" >nan</td>\n",
              "      <td id=\"T_c662e_row3_col18\" class=\"data row3 col18\" >nan</td>\n",
              "      <td id=\"T_c662e_row3_col19\" class=\"data row3 col19\" >nan</td>\n",
              "      <td id=\"T_c662e_row3_col20\" class=\"data row3 col20\" >0.000000</td>\n",
              "      <td id=\"T_c662e_row3_col21\" class=\"data row3 col21\" >0.063263</td>\n",
              "      <td id=\"T_c662e_row3_col22\" class=\"data row3 col22\" >0.063263</td>\n",
              "      <td id=\"T_c662e_row3_col23\" class=\"data row3 col23\" >0</td>\n",
              "      <td id=\"T_c662e_row3_col24\" class=\"data row3 col24\" >-0.002818</td>\n",
              "    </tr>\n",
              "    <tr>\n",
              "      <th id=\"T_c662e_level0_row4\" class=\"row_heading level0 row4\" >3647</th>\n",
              "      <td id=\"T_c662e_row4_col0\" class=\"data row4 col0\" >12/31/2021</td>\n",
              "      <td id=\"T_c662e_row4_col1\" class=\"data row4 col1\" >nan</td>\n",
              "      <td id=\"T_c662e_row4_col2\" class=\"data row4 col2\" >nan</td>\n",
              "      <td id=\"T_c662e_row4_col3\" class=\"data row4 col3\" >nan</td>\n",
              "      <td id=\"T_c662e_row4_col4\" class=\"data row4 col4\" >nan</td>\n",
              "      <td id=\"T_c662e_row4_col5\" class=\"data row4 col5\" >nan</td>\n",
              "      <td id=\"T_c662e_row4_col6\" class=\"data row4 col6\" >nan</td>\n",
              "      <td id=\"T_c662e_row4_col7\" class=\"data row4 col7\" >nan</td>\n",
              "      <td id=\"T_c662e_row4_col8\" class=\"data row4 col8\" >nan</td>\n",
              "      <td id=\"T_c662e_row4_col9\" class=\"data row4 col9\" >nan</td>\n",
              "      <td id=\"T_c662e_row4_col10\" class=\"data row4 col10\" >nan</td>\n",
              "      <td id=\"T_c662e_row4_col11\" class=\"data row4 col11\" >nan</td>\n",
              "      <td id=\"T_c662e_row4_col12\" class=\"data row4 col12\" >nan</td>\n",
              "      <td id=\"T_c662e_row4_col13\" class=\"data row4 col13\" >994.397705</td>\n",
              "      <td id=\"T_c662e_row4_col14\" class=\"data row4 col14\" >994.345572</td>\n",
              "      <td id=\"T_c662e_row4_col15\" class=\"data row4 col15\" >994.296113</td>\n",
              "      <td id=\"T_c662e_row4_col16\" class=\"data row4 col16\" >994.354657</td>\n",
              "      <td id=\"T_c662e_row4_col17\" class=\"data row4 col17\" >nan</td>\n",
              "      <td id=\"T_c662e_row4_col18\" class=\"data row4 col18\" >nan</td>\n",
              "      <td id=\"T_c662e_row4_col19\" class=\"data row4 col19\" >nan</td>\n",
              "      <td id=\"T_c662e_row4_col20\" class=\"data row4 col20\" >0.000000</td>\n",
              "      <td id=\"T_c662e_row4_col21\" class=\"data row4 col21\" >0.063263</td>\n",
              "      <td id=\"T_c662e_row4_col22\" class=\"data row4 col22\" >0.063263</td>\n",
              "      <td id=\"T_c662e_row4_col23\" class=\"data row4 col23\" >0</td>\n",
              "      <td id=\"T_c662e_row4_col24\" class=\"data row4 col24\" >-0.002818</td>\n",
              "    </tr>\n",
              "  </tbody>\n",
              "</table>\n"
            ]
          },
          "metadata": {},
          "execution_count": 17
        }
      ]
    },
    {
      "cell_type": "code",
      "source": [
        "df['close'] = df['close'].shift(-1)\n",
        "\n",
        "df = df.iloc[35:] # Because of moving averages and MACD line\n",
        "df =df[:-1]      # Because of shifting close price\n",
        "\n",
        "df.index = range(len(df))\n"
      ],
      "metadata": {
        "id": "ByFQvxLGYPIp"
      },
      "execution_count": null,
      "outputs": []
    },
    {
      "cell_type": "code",
      "source": [
        "test_size  = 0.1\n",
        "valid_size = 0.1\n",
        "\n",
        "# Use 'df' instead of 'data'\n",
        "test_split_idx  = int(df.shape[0] * (1-test_size))\n",
        "valid_split_idx = int(df.shape[0] * (1-(valid_size+test_size)))\n",
        "\n",
        "train_df  = df.loc[:valid_split_idx].copy()\n",
        "valid_df  = df.loc[valid_split_idx+1:test_split_idx].copy()\n",
        "test_df   = df.loc[test_split_idx+1:].copy()"
      ],
      "metadata": {
        "id": "ln9FESlcYPLz"
      },
      "execution_count": null,
      "outputs": []
    },
    {
      "cell_type": "code",
      "source": [
        "drop_cols = ['price_date','Anomaly']\n",
        "\n",
        "train_df = train_df.drop(columns=drop_cols)\n",
        "valid_df = valid_df.drop(columns=drop_cols)\n",
        "test_df  = test_df.drop(columns=drop_cols)\n"
      ],
      "metadata": {
        "id": "DOSEh1obZeGz"
      },
      "execution_count": null,
      "outputs": []
    },
    {
      "cell_type": "code",
      "source": [
        "y_train = train_df['close'].copy()\n",
        "X_train = train_df.drop(columns=['close'])\n",
        "\n",
        "y_valid = valid_df['close'].copy()\n",
        "X_valid = valid_df.drop(columns=['close'])\n",
        "\n",
        "y_test  = test_df['close'].copy()\n",
        "X_test  = test_df.drop(columns=['close'])\n",
        "\n",
        "X_train.info()\n"
      ],
      "metadata": {
        "colab": {
          "base_uri": "https://localhost:8080/"
        },
        "id": "PbiF_I-pZeJR",
        "outputId": "f59bbd31-4c5b-4965-cbfe-c5d25149cc2c"
      },
      "execution_count": null,
      "outputs": [
        {
          "output_type": "stream",
          "name": "stdout",
          "text": [
            "<class 'pandas.core.frame.DataFrame'>\n",
            "RangeIndex: 2890 entries, 0 to 2889\n",
            "Data columns (total 22 columns):\n",
            " #   Column               Non-Null Count  Dtype  \n",
            "---  ------               --------------  -----  \n",
            " 0   open                 28 non-null     float64\n",
            " 1   high                 25 non-null     float64\n",
            " 2   low                  32 non-null     float64\n",
            " 3   daily_magnitude      25 non-null     float64\n",
            " 4   daily_pos_diff       25 non-null     float64\n",
            " 5   daily_magnitude_pct  25 non-null     float64\n",
            " 6   daily_pos_diff_pct   25 non-null     float64\n",
            " 7   1_days_ago           101 non-null    float64\n",
            " 8   2_days_ago           101 non-null    float64\n",
            " 9   7_days_ago           101 non-null    float64\n",
            " 10  18_days_ago          101 non-null    float64\n",
            " 11  EMA_2                1821 non-null   float64\n",
            " 12  EMA_7                1821 non-null   float64\n",
            " 13  EMA_18               1821 non-null   float64\n",
            " 14  EMA_30               1821 non-null   float64\n",
            " 15  SMA_2                0 non-null      float64\n",
            " 16  SMA_7                0 non-null      float64\n",
            " 17  SMA_18               0 non-null      float64\n",
            " 18  RSI                  2890 non-null   float64\n",
            " 19  MACD                 1450 non-null   float64\n",
            " 20  MACD_signal          1442 non-null   float64\n",
            " 21  Anomaly_Score        2890 non-null   float64\n",
            "dtypes: float64(22)\n",
            "memory usage: 496.8 KB\n"
          ]
        }
      ]
    },
    {
      "cell_type": "code",
      "source": [
        "!pip install scikit-learn\n",
        "!pip install plotly\n",
        "\n"
      ],
      "metadata": {
        "colab": {
          "base_uri": "https://localhost:8080/"
        },
        "id": "lyadWE8DZeM_",
        "outputId": "0f8e4529-2070-44d1-d69e-e51c3ca264e0"
      },
      "execution_count": null,
      "outputs": [
        {
          "output_type": "stream",
          "name": "stdout",
          "text": [
            "Requirement already satisfied: scikit-learn in /usr/local/lib/python3.10/dist-packages (1.4.2)\n",
            "Requirement already satisfied: numpy>=1.19.5 in /usr/local/lib/python3.10/dist-packages (from scikit-learn) (1.26.4)\n",
            "Requirement already satisfied: scipy>=1.6.0 in /usr/local/lib/python3.10/dist-packages (from scikit-learn) (1.11.4)\n",
            "Requirement already satisfied: joblib>=1.2.0 in /usr/local/lib/python3.10/dist-packages (from scikit-learn) (1.3.2)\n",
            "Requirement already satisfied: threadpoolctl>=2.0.0 in /usr/local/lib/python3.10/dist-packages (from scikit-learn) (3.5.0)\n",
            "Requirement already satisfied: plotly in /usr/local/lib/python3.10/dist-packages (5.24.1)\n",
            "Requirement already satisfied: tenacity>=6.2.0 in /usr/local/lib/python3.10/dist-packages (from plotly) (9.0.0)\n",
            "Requirement already satisfied: packaging in /usr/local/lib/python3.10/dist-packages (from plotly) (24.2)\n"
          ]
        }
      ]
    },
    {
      "cell_type": "code",
      "source": [
        "import pandas as pd\n",
        "import plotly.express as px\n",
        "from sklearn.ensemble import RandomForestRegressor"
      ],
      "metadata": {
        "id": "7MgcmmptZePx"
      },
      "execution_count": null,
      "outputs": []
    },
    {
      "cell_type": "code",
      "source": [
        "# Option 1: Remove rows with NaNs in 'close' column before creating y_train\n",
        "train_df = train_df.dropna(subset=['close'])\n",
        "y_train = train_df['close'].copy()\n",
        "X_train = train_df.drop(columns=['close'])\n",
        "\n",
        "# Option 2: Impute missing values with the mean or median\n",
        "# This replaces NaN with the average or middle value of the 'close' column\n",
        "y_train = y_train.fillna(y_train.mean()) # Or y_train.fillna(y_train.median())\n",
        "\n",
        "# Option 3: Use a more sophisticated imputation strategy\n",
        "# This could involve using algorithms like KNNImputer from sklearn\n",
        "# for more accurate imputation based on other features.\n",
        "# Example:\n",
        "# !pip install scikit-learn\n",
        "# from sklearn.impute import KNNImputer\n",
        "# imputer = KNNImputer(n_neighbors=5)\n",
        "# y_train = imputer.fit_transform(y_train.values.reshape(-1, 1)) # Reshape for single feature imputation\n",
        "# y_train = pd.Series(y_train.flatten(), index=X_train.index) # Convert back to Series with original index"
      ],
      "metadata": {
        "id": "q12LUZlNZeVP"
      },
      "execution_count": null,
      "outputs": []
    },
    {
      "cell_type": "code",
      "source": [
        "# Import necessary libraries\n",
        "import pandas as pd\n",
        "import plotly.express as px\n",
        "from sklearn.ensemble import RandomForestRegressor\n",
        "\n",
        "# Assuming you have X_train and y_train defined from previous steps\n",
        "\n",
        "# Initialize the RandomForestRegressor\n",
        "model = RandomForestRegressor()\n",
        "\n",
        "# Fit the model to your training data\n",
        "model.fit(X_train, y_train)  # This is the missing step!\n",
        "\n",
        "# Now you can predict\n",
        "y_pred = model.predict(X_test)\n",
        "print(f'y_true = {np.array(y_test)[:5]}')\n",
        "print(f'y_pred = {y_pred[:5]}')"
      ],
      "metadata": {
        "colab": {
          "base_uri": "https://localhost:8080/"
        },
        "id": "_H-fKzprZeYk",
        "outputId": "15144424-95b0-49bc-fd0c-3cedd118312b"
      },
      "execution_count": null,
      "outputs": [
        {
          "output_type": "stream",
          "name": "stdout",
          "text": [
            "y_true = [nan nan nan nan nan]\n",
            "y_pred = [970.275 971.42  970.275 971.42  971.42 ]\n"
          ]
        }
      ]
    },
    {
      "cell_type": "code",
      "source": [
        "# Import necessary libraries\n",
        "import pandas as pd\n",
        "import numpy as np # Import numpy\n",
        "import plotly.express as px\n",
        "from sklearn.ensemble import RandomForestRegressor\n",
        "from sklearn.metrics import mean_squared_error\n",
        "\n",
        "# ... (Your existing code for model training) ...\n",
        "\n",
        "# Handle NaNs in y_test before calculating the error\n",
        "y_test = np.nan_to_num(y_test)  # Replace NaNs in y_test with numerical values, like 0\n",
        "\n",
        "print(f'mean_squared_error = {mean_squared_error(y_test, y_pred)}')"
      ],
      "metadata": {
        "colab": {
          "base_uri": "https://localhost:8080/"
        },
        "id": "FiY_3pw8YPON",
        "outputId": "db578e3d-1b64-4340-b867-5fff3eff3c54"
      },
      "execution_count": null,
      "outputs": [
        {
          "output_type": "stream",
          "name": "stdout",
          "text": [
            "mean_squared_error = 943305.7783828947\n"
          ]
        }
      ]
    },
    {
      "cell_type": "code",
      "source": [
        "def mean_absolute_percentage_error(y_true, y_pred):\n",
        "    y_true, y_pred = np.array(y_true), np.array(y_pred)\n",
        "    return np.mean(np.abs((y_true - y_pred) / y_true)) * 100\n",
        "\n",
        "print(f'mean_absolute_percentage_error = {round(mean_absolute_percentage_error(y_test, y_pred),4)}%')\n"
      ],
      "metadata": {
        "id": "RMURMS42KAau",
        "colab": {
          "base_uri": "https://localhost:8080/"
        },
        "outputId": "353c6a51-c2ae-44d1-b6ea-2a60d812dd4c"
      },
      "execution_count": null,
      "outputs": [
        {
          "output_type": "stream",
          "name": "stdout",
          "text": [
            "mean_absolute_percentage_error = inf%\n"
          ]
        }
      ]
    },
    {
      "cell_type": "code",
      "source": [
        "# Import necessary libraries\n",
        "import pandas as pd\n",
        "import numpy as np\n",
        "import plotly.express as px\n",
        "import plotly.graph_objects as go # Make sure to import go\n",
        "from plotly.subplots import make_subplots # Make sure to import make_subplots\n",
        "from sklearn.ensemble import RandomForestRegressor\n",
        "from sklearn.metrics import mean_squared_error\n",
        "\n",
        "# ... (Your existing code for model training) ...\n",
        "\n",
        "# Assuming 'df' contains your original dataset\n",
        "predicted_prices = df.loc[test_split_idx+1:].copy()\n",
        "predicted_prices['close'] = y_pred\n",
        "\n",
        "fig = make_subplots(rows=2, cols=1)\n",
        "\n",
        "# Replace 'data' with 'df' (or the correct DataFrame name)\n",
        "fig.add_trace(go.Scatter(x=df.price_date, y=df.close, # Changed 'data' to 'df'\n",
        "                         name='Truth',\n",
        "                         marker_color='LightSkyBlue'), row=1, col=1)\n",
        "\n",
        "fig.add_trace(go.Scatter(x=predicted_prices.price_date,\n",
        "                         y=predicted_prices.close,\n",
        "                         name='Prediction',\n",
        "                         marker_color='MediumPurple'), row=1, col=1)\n",
        "\n",
        "# Replace 'data' with 'df' (or the correct DataFrame name) in these lines as well\n",
        "fig.add_trace(go.Scatter(x=predicted_prices.price_date,\n",
        "                         y=y_test,\n",
        "                         name='Truth',\n",
        "                         marker_color='LightSkyBlue',\n",
        "                         showlegend=False), row=2, col=1)\n",
        "\n",
        "fig.add_trace(go.Scatter(x=predicted_prices.price_date,\n",
        "                         y=y_pred,\n",
        "                         name='Prediction',\n",
        "                         marker_color='MediumPurple',\n",
        "                         showlegend=False), row=2, col=1)\n",
        "\n",
        "fig.update_layout(title_text=\"True vs. Predicted Values (Test Set)\")\n",
        "fig.show()\n"
      ],
      "metadata": {
        "colab": {
          "base_uri": "https://localhost:8080/",
          "height": 542
        },
        "id": "y8dqwBRDbOET",
        "outputId": "4f443148-3d90-4682-e2ef-30105b7adb90"
      },
      "execution_count": null,
      "outputs": [
        {
          "output_type": "display_data",
          "data": {
            "text/html": [
              "<html>\n",
              "<head><meta charset=\"utf-8\" /></head>\n",
              "<body>\n",
              "    <div>            <script src=\"https://cdnjs.cloudflare.com/ajax/libs/mathjax/2.7.5/MathJax.js?config=TeX-AMS-MML_SVG\"></script><script type=\"text/javascript\">if (window.MathJax && window.MathJax.Hub && window.MathJax.Hub.Config) {window.MathJax.Hub.Config({SVG: {font: \"STIX-Web\"}});}</script>                <script type=\"text/javascript\">window.PlotlyConfig = {MathJaxConfig: 'local'};</script>\n",
              "        <script charset=\"utf-8\" src=\"https://cdn.plot.ly/plotly-2.35.2.min.js\"></script>                <div id=\"e00a6896-678b-406b-ae4e-8fa683d5a314\" class=\"plotly-graph-div\" style=\"height:525px; width:100%;\"></div>            <script type=\"text/javascript\">                                    window.PLOTLYENV=window.PLOTLYENV || {};                                    if (document.getElementById(\"e00a6896-678b-406b-ae4e-8fa683d5a314\")) {                    Plotly.newPlot(                        \"e00a6896-678b-406b-ae4e-8fa683d5a314\",                        [{\"marker\":{\"color\":\"LightSkyBlue\"},\"name\":\"Truth\",\"x\":[\"01\\u002f05\\u002f2017\",\"01\\u002f05\\u002f2018\",\"01\\u002f05\\u002f2021\",\"01\\u002f05\\u002f2022\",\"01\\u002f05\\u002f2023\",\"01\\u002f05\\u002f2024\",\"01\\u002f06\\u002f2010\",\"01\\u002f06\\u002f2011\",\"01\\u002f06\\u002f2012\",\"01\\u002f06\\u002f2014\",\"01\\u002f06\\u002f2015\",\"01\\u002f06\\u002f2016\",\"01\\u002f06\\u002f2017\",\"01\\u002f06\\u002f2020\",\"01\\u002f06\\u002f2021\",\"01\\u002f06\\u002f2022\",\"01\\u002f06\\u002f2023\",\"01\\u002f07\\u002f2010\",\"01\\u002f07\\u002f2011\",\"01\\u002f07\\u002f2013\",\"01\\u002f07\\u002f2014\",\"01\\u002f07\\u002f2015\",\"01\\u002f07\\u002f2016\",\"01\\u002f07\\u002f2019\",\"01\\u002f07\\u002f2020\",\"01\\u002f07\\u002f2021\",\"01\\u002f07\\u002f2022\",\"01\\u002f08\\u002f2010\",\"01\\u002f08\\u002f2013\",\"01\\u002f08\\u002f2014\",\"01\\u002f08\\u002f2015\",\"01\\u002f08\\u002f2016\",\"01\\u002f08\\u002f2018\",\"01\\u002f08\\u002f2019\",\"01\\u002f08\\u002f2020\",\"01\\u002f08\\u002f2021\",\"01\\u002f08\\u002f2024\",\"01\\u002f09\\u002f2012\",\"01\\u002f09\\u002f2013\",\"01\\u002f09\\u002f2014\",\"01\\u002f09\\u002f2015\",\"01\\u002f09\\u002f2017\",\"01\\u002f09\\u002f2018\",\"01\\u002f09\\u002f2019\",\"01\\u002f09\\u002f2020\",\"01\\u002f09\\u002f2023\",\"01\\u002f09\\u002f2024\",\"01\\u002f10\\u002f2011\",\"01\\u002f10\\u002f2012\",\"01\\u002f10\\u002f2013\",\"01\\u002f10\\u002f2014\",\"01\\u002f10\\u002f2017\",\"01\\u002f10\\u002f2018\",\"01\\u002f10\\u002f2019\",\"01\\u002f10\\u002f2020\",\"01\\u002f10\\u002f2022\",\"01\\u002f10\\u002f2023\",\"01\\u002f10\\u002f2024\",\"01\\u002f11\\u002f2010\",\"01\\u002f11\\u002f2011\",\"01\\u002f11\\u002f2012\",\"01\\u002f11\\u002f2013\",\"01\\u002f11\\u002f2016\",\"01\\u002f11\\u002f2017\",\"01\\u002f11\\u002f2018\",\"01\\u002f11\\u002f2019\",\"01\\u002f11\\u002f2021\",\"01\\u002f11\\u002f2022\",\"01\\u002f11\\u002f2023\",\"01\\u002f11\\u002f2024\",\"01\\u002f12\\u002f2010\",\"01\\u002f12\\u002f2011\",\"01\\u002f12\\u002f2012\",\"01\\u002f12\\u002f2015\",\"01\\u002f12\\u002f2016\",\"01\\u002f12\\u002f2017\",\"01\\u002f12\\u002f2018\",\"01\\u002f12\\u002f2021\",\"01\\u002f12\\u002f2022\",\"01\\u002f12\\u002f2023\",\"01\\u002f12\\u002f2024\",\"01\\u002f13\\u002f2010\",\"01\\u002f13\\u002f2011\",\"01\\u002f13\\u002f2012\",\"01\\u002f13\\u002f2014\",\"01\\u002f13\\u002f2015\",\"01\\u002f13\\u002f2016\",\"01\\u002f13\\u002f2017\",\"01\\u002f13\\u002f2020\",\"01\\u002f13\\u002f2021\",\"01\\u002f13\\u002f2022\",\"01\\u002f13\\u002f2023\",\"01\\u002f14\\u002f2010\",\"01\\u002f14\\u002f2011\",\"01\\u002f14\\u002f2013\",\"01\\u002f14\\u002f2014\",\"01\\u002f14\\u002f2015\",\"01\\u002f14\\u002f2016\",\"01\\u002f14\\u002f2019\",\"01\\u002f14\\u002f2020\",\"01\\u002f14\\u002f2021\",\"01\\u002f14\\u002f2022\",\"01\\u002f15\\u002f2010\",\"01\\u002f15\\u002f2013\",\"01\\u002f15\\u002f2014\",\"01\\u002f15\\u002f2015\",\"01\\u002f15\\u002f2016\",\"01\\u002f15\\u002f2019\",\"01\\u002f15\\u002f2020\",\"01\\u002f15\\u002f2021\",\"01\\u002f16\\u002f2013\",\"01\\u002f16\\u002f2014\",\"01\\u002f16\\u002f2015\",\"01\\u002f16\\u002f2018\",\"01\\u002f16\\u002f2019\",\"01\\u002f16\\u002f2020\",\"01\\u002f16\\u002f2024\",\"01\\u002f17\\u002f2012\",\"01\\u002f17\\u002f2013\",\"01\\u002f17\\u002f2014\",\"01\\u002f17\\u002f2017\",\"01\\u002f17\\u002f2018\",\"01\\u002f17\\u002f2019\",\"01\\u002f17\\u002f2020\",\"01\\u002f17\\u002f2023\",\"01\\u002f17\\u002f2024\",\"01\\u002f18\\u002f2011\",\"01\\u002f18\\u002f2012\",\"01\\u002f18\\u002f2013\",\"01\\u002f18\\u002f2017\",\"01\\u002f18\\u002f2018\",\"01\\u002f18\\u002f2019\",\"01\\u002f18\\u002f2022\",\"01\\u002f18\\u002f2023\",\"01\\u002f18\\u002f2024\",\"01\\u002f19\\u002f2010\",\"01\\u002f19\\u002f2011\",\"01\\u002f19\\u002f2012\",\"01\\u002f19\\u002f2016\",\"01\\u002f19\\u002f2017\",\"01\\u002f19\\u002f2018\",\"01\\u002f19\\u002f2021\",\"01\\u002f19\\u002f2022\",\"01\\u002f19\\u002f2023\",\"01\\u002f19\\u002f2024\",\"01\\u002f20\\u002f2010\",\"01\\u002f20\\u002f2011\",\"01\\u002f20\\u002f2012\",\"01\\u002f20\\u002f2015\",\"01\\u002f20\\u002f2016\",\"01\\u002f20\\u002f2017\",\"01\\u002f20\\u002f2021\",\"01\\u002f20\\u002f2022\",\"01\\u002f20\\u002f2023\",\"01\\u002f21\\u002f2010\",\"01\\u002f21\\u002f2011\",\"01\\u002f21\\u002f2014\",\"01\\u002f21\\u002f2015\",\"01\\u002f21\\u002f2016\",\"01\\u002f21\\u002f2020\",\"01\\u002f21\\u002f2021\",\"01\\u002f21\\u002f2022\",\"01\\u002f22\\u002f2010\",\"01\\u002f22\\u002f2013\",\"01\\u002f22\\u002f2014\",\"01\\u002f22\\u002f2015\",\"01\\u002f22\\u002f2016\",\"01\\u002f22\\u002f2018\",\"01\\u002f22\\u002f2019\",\"01\\u002f22\\u002f2020\",\"01\\u002f22\\u002f2021\",\"01\\u002f22\\u002f2024\",\"01\\u002f23\\u002f2012\",\"01\\u002f23\\u002f2013\",\"01\\u002f23\\u002f2014\",\"01\\u002f23\\u002f2015\",\"01\\u002f23\\u002f2017\",\"01\\u002f23\\u002f2018\",\"01\\u002f23\\u002f2019\",\"01\\u002f23\\u002f2020\",\"01\\u002f23\\u002f2023\",\"01\\u002f23\\u002f2024\",\"01\\u002f24\\u002f2011\",\"01\\u002f24\\u002f2012\",\"01\\u002f24\\u002f2013\",\"01\\u002f24\\u002f2014\",\"01\\u002f24\\u002f2017\",\"01\\u002f24\\u002f2018\",\"01\\u002f24\\u002f2019\",\"01\\u002f24\\u002f2020\",\"01\\u002f24\\u002f2022\",\"01\\u002f24\\u002f2023\",\"01\\u002f24\\u002f2024\",\"01\\u002f25\\u002f2010\",\"01\\u002f25\\u002f2011\",\"01\\u002f25\\u002f2012\",\"01\\u002f25\\u002f2013\",\"01\\u002f25\\u002f2016\",\"01\\u002f25\\u002f2017\",\"01\\u002f25\\u002f2018\",\"01\\u002f25\\u002f2019\",\"01\\u002f25\\u002f2021\",\"01\\u002f25\\u002f2022\",\"01\\u002f25\\u002f2023\",\"01\\u002f25\\u002f2024\",\"01\\u002f26\\u002f2010\",\"01\\u002f26\\u002f2011\",\"01\\u002f26\\u002f2012\",\"01\\u002f26\\u002f2015\",\"01\\u002f26\\u002f2016\",\"01\\u002f26\\u002f2017\",\"01\\u002f26\\u002f2018\",\"01\\u002f26\\u002f2021\",\"01\\u002f26\\u002f2022\",\"01\\u002f26\\u002f2023\",\"01\\u002f26\\u002f2024\",\"01\\u002f27\\u002f2010\",\"01\\u002f27\\u002f2011\",\"01\\u002f27\\u002f2012\",\"01\\u002f27\\u002f2014\",\"01\\u002f27\\u002f2015\",\"01\\u002f27\\u002f2016\",\"01\\u002f27\\u002f2017\",\"01\\u002f27\\u002f2020\",\"01\\u002f27\\u002f2021\",\"01\\u002f27\\u002f2022\",\"01\\u002f27\\u002f2023\",\"01\\u002f28\\u002f2010\",\"01\\u002f28\\u002f2011\",\"01\\u002f28\\u002f2013\",\"01\\u002f28\\u002f2014\",\"01\\u002f28\\u002f2015\",\"01\\u002f28\\u002f2016\",\"01\\u002f28\\u002f2019\",\"01\\u002f28\\u002f2020\",\"01\\u002f28\\u002f2021\",\"01\\u002f28\\u002f2022\",\"01\\u002f29\\u002f2010\",\"01\\u002f29\\u002f2013\",\"01\\u002f29\\u002f2014\",\"01\\u002f29\\u002f2015\",\"01\\u002f29\\u002f2016\",\"01\\u002f29\\u002f2018\",\"01\\u002f29\\u002f2019\",\"01\\u002f29\\u002f2020\",\"01\\u002f29\\u002f2021\",\"01\\u002f29\\u002f2024\",\"01\\u002f30\\u002f2012\",\"01\\u002f30\\u002f2013\",\"01\\u002f30\\u002f2014\",\"01\\u002f30\\u002f2015\",\"01\\u002f30\\u002f2017\",\"01\\u002f30\\u002f2018\",\"01\\u002f30\\u002f2019\",\"01\\u002f30\\u002f2020\",\"01\\u002f30\\u002f2023\",\"01\\u002f30\\u002f2024\",\"01\\u002f31\\u002f2011\",\"01\\u002f31\\u002f2012\",\"01\\u002f31\\u002f2013\",\"01\\u002f31\\u002f2014\",\"01\\u002f31\\u002f2017\",\"01\\u002f31\\u002f2018\",\"01\\u002f31\\u002f2019\",\"01\\u002f31\\u002f2020\",\"01\\u002f31\\u002f2022\",\"01\\u002f31\\u002f2023\",\"01\\u002f31\\u002f2024\",\"02\\u002f01\\u002f2010\",\"02\\u002f01\\u002f2011\",\"02\\u002f01\\u002f2012\",\"02\\u002f01\\u002f2013\",\"02\\u002f01\\u002f2016\",\"02\\u002f01\\u002f2017\",\"02\\u002f01\\u002f2018\",\"02\\u002f01\\u002f2019\",\"02\\u002f01\\u002f2021\",\"02\\u002f01\\u002f2022\",\"02\\u002f01\\u002f2023\",\"02\\u002f01\\u002f2024\",\"02\\u002f02\\u002f2010\",\"02\\u002f02\\u002f2011\",\"02\\u002f02\\u002f2012\",\"02\\u002f02\\u002f2015\",\"02\\u002f02\\u002f2016\",\"02\\u002f02\\u002f2017\",\"02\\u002f02\\u002f2018\",\"02\\u002f02\\u002f2021\",\"02\\u002f02\\u002f2022\",\"02\\u002f02\\u002f2023\",\"02\\u002f02\\u002f2024\",\"02\\u002f03\\u002f2010\",\"02\\u002f03\\u002f2011\",\"02\\u002f03\\u002f2012\",\"02\\u002f03\\u002f2014\",\"02\\u002f03\\u002f2015\",\"02\\u002f03\\u002f2016\",\"02\\u002f03\\u002f2017\",\"02\\u002f03\\u002f2020\",\"02\\u002f03\\u002f2021\",\"02\\u002f03\\u002f2022\",\"02\\u002f03\\u002f2023\",\"02\\u002f04\\u002f2010\",\"02\\u002f04\\u002f2011\",\"02\\u002f04\\u002f2013\",\"02\\u002f04\\u002f2014\",\"02\\u002f04\\u002f2015\",\"02\\u002f04\\u002f2016\",\"02\\u002f04\\u002f2019\",\"02\\u002f04\\u002f2020\",\"02\\u002f04\\u002f2021\",\"02\\u002f04\\u002f2022\",\"02\\u002f05\\u002f2010\",\"02\\u002f05\\u002f2013\",\"02\\u002f05\\u002f2014\",\"02\\u002f05\\u002f2015\",\"02\\u002f05\\u002f2016\",\"02\\u002f05\\u002f2018\",\"02\\u002f05\\u002f2019\",\"02\\u002f05\\u002f2020\",\"02\\u002f05\\u002f2021\",\"02\\u002f05\\u002f2024\",\"02\\u002f06\\u002f2012\",\"02\\u002f06\\u002f2013\",\"02\\u002f06\\u002f2014\",\"02\\u002f06\\u002f2015\",\"02\\u002f06\\u002f2017\",\"02\\u002f06\\u002f2018\",\"02\\u002f06\\u002f2019\",\"02\\u002f06\\u002f2020\",\"02\\u002f06\\u002f2023\",\"02\\u002f06\\u002f2024\",\"02\\u002f07\\u002f2011\",\"02\\u002f07\\u002f2012\",\"02\\u002f07\\u002f2013\",\"02\\u002f07\\u002f2014\",\"02\\u002f07\\u002f2017\",\"02\\u002f07\\u002f2018\",\"02\\u002f07\\u002f2019\",\"02\\u002f07\\u002f2020\",\"02\\u002f07\\u002f2022\",\"02\\u002f07\\u002f2023\",\"02\\u002f07\\u002f2024\",\"02\\u002f08\\u002f2010\",\"02\\u002f08\\u002f2011\",\"02\\u002f08\\u002f2012\",\"02\\u002f08\\u002f2013\",\"02\\u002f08\\u002f2016\",\"02\\u002f08\\u002f2017\",\"02\\u002f08\\u002f2018\",\"02\\u002f08\\u002f2019\",\"02\\u002f08\\u002f2021\",\"02\\u002f08\\u002f2022\",\"02\\u002f08\\u002f2023\",\"02\\u002f08\\u002f2024\",\"02\\u002f09\\u002f2010\",\"02\\u002f09\\u002f2011\",\"02\\u002f09\\u002f2012\",\"02\\u002f09\\u002f2015\",\"02\\u002f09\\u002f2016\",\"02\\u002f09\\u002f2017\",\"02\\u002f09\\u002f2018\",\"02\\u002f09\\u002f2021\",\"02\\u002f09\\u002f2022\",\"02\\u002f09\\u002f2023\",\"02\\u002f10\\u002f2010\",\"02\\u002f10\\u002f2011\",\"02\\u002f10\\u002f2012\",\"02\\u002f10\\u002f2014\",\"02\\u002f10\\u002f2015\",\"02\\u002f10\\u002f2016\",\"02\\u002f10\\u002f2017\",\"02\\u002f10\\u002f2020\",\"02\\u002f10\\u002f2021\",\"02\\u002f10\\u002f2022\",\"02\\u002f10\\u002f2023\",\"02\\u002f11\\u002f2010\",\"02\\u002f11\\u002f2011\",\"02\\u002f11\\u002f2013\",\"02\\u002f11\\u002f2014\",\"02\\u002f11\\u002f2015\",\"02\\u002f11\\u002f2016\",\"02\\u002f11\\u002f2019\",\"02\\u002f11\\u002f2020\",\"02\\u002f11\\u002f2021\",\"02\\u002f11\\u002f2022\",\"02\\u002f12\\u002f2010\",\"02\\u002f12\\u002f2013\",\"02\\u002f12\\u002f2014\",\"02\\u002f12\\u002f2015\",\"02\\u002f12\\u002f2016\",\"02\\u002f12\\u002f2018\",\"02\\u002f12\\u002f2019\",\"02\\u002f12\\u002f2020\",\"02\\u002f12\\u002f2021\",\"02\\u002f13\\u002f2012\",\"02\\u002f13\\u002f2013\",\"02\\u002f13\\u002f2014\",\"02\\u002f13\\u002f2015\",\"02\\u002f13\\u002f2017\",\"02\\u002f13\\u002f2018\",\"02\\u002f13\\u002f2019\",\"02\\u002f13\\u002f2020\",\"02\\u002f13\\u002f2023\",\"02\\u002f14\\u002f2011\",\"02\\u002f14\\u002f2012\",\"02\\u002f14\\u002f2013\",\"02\\u002f14\\u002f2014\",\"02\\u002f14\\u002f2017\",\"02\\u002f14\\u002f2018\",\"02\\u002f14\\u002f2019\",\"02\\u002f14\\u002f2020\",\"02\\u002f14\\u002f2022\",\"02\\u002f14\\u002f2023\",\"02\\u002f15\\u002f2011\",\"02\\u002f15\\u002f2012\",\"02\\u002f15\\u002f2013\",\"02\\u002f15\\u002f2017\",\"02\\u002f15\\u002f2018\",\"02\\u002f15\\u002f2019\",\"02\\u002f15\\u002f2022\",\"02\\u002f15\\u002f2023\",\"02\\u002f16\\u002f2010\",\"02\\u002f16\\u002f2011\",\"02\\u002f16\\u002f2012\",\"02\\u002f16\\u002f2016\",\"02\\u002f16\\u002f2017\",\"02\\u002f16\\u002f2018\",\"02\\u002f16\\u002f2021\",\"02\\u002f16\\u002f2022\",\"02\\u002f16\\u002f2023\",\"02\\u002f17\\u002f2010\",\"02\\u002f17\\u002f2011\",\"02\\u002f17\\u002f2012\",\"02\\u002f17\\u002f2015\",\"02\\u002f17\\u002f2016\",\"02\\u002f17\\u002f2017\",\"02\\u002f17\\u002f2021\",\"02\\u002f17\\u002f2022\",\"02\\u002f17\\u002f2023\",\"02\\u002f18\\u002f2010\",\"02\\u002f18\\u002f2011\",\"02\\u002f18\\u002f2014\",\"02\\u002f18\\u002f2015\",\"02\\u002f18\\u002f2016\",\"02\\u002f18\\u002f2020\",\"02\\u002f18\\u002f2021\",\"02\\u002f18\\u002f2022\",\"02\\u002f19\\u002f2010\",\"02\\u002f19\\u002f2013\",\"02\\u002f19\\u002f2014\",\"02\\u002f19\\u002f2015\",\"02\\u002f19\\u002f2016\",\"02\\u002f19\\u002f2019\",\"02\\u002f19\\u002f2020\",\"02\\u002f19\\u002f2021\",\"02\\u002f20\\u002f2013\",\"02\\u002f20\\u002f2014\",\"02\\u002f20\\u002f2015\",\"02\\u002f20\\u002f2018\",\"02\\u002f20\\u002f2019\",\"02\\u002f20\\u002f2020\",\"02\\u002f21\\u002f2012\",\"02\\u002f21\\u002f2013\",\"02\\u002f21\\u002f2014\",\"02\\u002f21\\u002f2017\",\"02\\u002f21\\u002f2018\",\"02\\u002f21\\u002f2019\",\"02\\u002f21\\u002f2020\",\"02\\u002f21\\u002f2023\",\"02\\u002f22\\u002f2010\",\"02\\u002f22\\u002f2011\",\"02\\u002f22\\u002f2012\",\"02\\u002f22\\u002f2013\",\"02\\u002f22\\u002f2016\",\"02\\u002f22\\u002f2017\",\"02\\u002f22\\u002f2018\",\"02\\u002f22\\u002f2019\",\"02\\u002f22\\u002f2021\",\"02\\u002f22\\u002f2022\",\"02\\u002f22\\u002f2023\",\"02\\u002f23\\u002f2010\",\"02\\u002f23\\u002f2011\",\"02\\u002f23\\u002f2012\",\"02\\u002f23\\u002f2015\",\"02\\u002f23\\u002f2016\",\"02\\u002f23\\u002f2017\",\"02\\u002f23\\u002f2018\",\"02\\u002f23\\u002f2021\",\"02\\u002f23\\u002f2022\",\"02\\u002f23\\u002f2023\",\"02\\u002f24\\u002f2010\",\"02\\u002f24\\u002f2011\",\"02\\u002f24\\u002f2012\",\"02\\u002f24\\u002f2014\",\"02\\u002f24\\u002f2015\",\"02\\u002f24\\u002f2016\",\"02\\u002f24\\u002f2017\",\"02\\u002f24\\u002f2020\",\"02\\u002f24\\u002f2021\",\"02\\u002f24\\u002f2022\",\"02\\u002f24\\u002f2023\",\"02\\u002f25\\u002f2010\",\"02\\u002f25\\u002f2011\",\"02\\u002f25\\u002f2013\",\"02\\u002f25\\u002f2014\",\"02\\u002f25\\u002f2015\",\"02\\u002f25\\u002f2016\",\"02\\u002f25\\u002f2019\",\"02\\u002f25\\u002f2020\",\"02\\u002f25\\u002f2021\",\"02\\u002f25\\u002f2022\",\"02\\u002f26\\u002f2010\",\"02\\u002f26\\u002f2013\",\"02\\u002f26\\u002f2014\",\"02\\u002f26\\u002f2015\",\"02\\u002f26\\u002f2016\",\"02\\u002f26\\u002f2018\",\"02\\u002f26\\u002f2019\",\"02\\u002f26\\u002f2020\",\"02\\u002f26\\u002f2021\",\"02\\u002f27\\u002f2012\",\"02\\u002f27\\u002f2013\",\"02\\u002f27\\u002f2014\",\"02\\u002f27\\u002f2015\",\"02\\u002f27\\u002f2017\",\"02\\u002f27\\u002f2018\",\"02\\u002f27\\u002f2019\",\"02\\u002f27\\u002f2020\",\"02\\u002f27\\u002f2023\",\"02\\u002f28\\u002f2011\",\"02\\u002f28\\u002f2012\",\"02\\u002f28\\u002f2013\",\"02\\u002f28\\u002f2014\",\"02\\u002f28\\u002f2017\",\"02\\u002f28\\u002f2018\",\"02\\u002f28\\u002f2019\",\"02\\u002f28\\u002f2020\",\"02\\u002f28\\u002f2022\",\"02\\u002f28\\u002f2023\",\"02\\u002f29\\u002f2012\",\"02\\u002f29\\u002f2016\",\"03\\u002f01\\u002f2010\",\"03\\u002f01\\u002f2011\",\"03\\u002f01\\u002f2012\",\"03\\u002f01\\u002f2013\",\"03\\u002f01\\u002f2016\",\"03\\u002f01\\u002f2017\",\"03\\u002f01\\u002f2018\",\"03\\u002f01\\u002f2019\",\"03\\u002f01\\u002f2021\",\"03\\u002f01\\u002f2022\",\"03\\u002f01\\u002f2023\",\"03\\u002f02\\u002f2010\",\"03\\u002f02\\u002f2011\",\"03\\u002f02\\u002f2012\",\"03\\u002f02\\u002f2015\",\"03\\u002f02\\u002f2016\",\"03\\u002f02\\u002f2017\",\"03\\u002f02\\u002f2018\",\"03\\u002f02\\u002f2020\",\"03\\u002f02\\u002f2021\",\"03\\u002f02\\u002f2022\",\"03\\u002f02\\u002f2023\",\"03\\u002f03\\u002f2010\",\"03\\u002f03\\u002f2011\",\"03\\u002f03\\u002f2014\",\"03\\u002f03\\u002f2015\",\"03\\u002f03\\u002f2016\",\"03\\u002f03\\u002f2017\",\"03\\u002f03\\u002f2020\",\"03\\u002f03\\u002f2021\",\"03\\u002f03\\u002f2022\",\"03\\u002f03\\u002f2023\",\"03\\u002f04\\u002f2010\",\"03\\u002f04\\u002f2011\",\"03\\u002f04\\u002f2013\",\"03\\u002f04\\u002f2014\",\"03\\u002f04\\u002f2015\",\"03\\u002f04\\u002f2016\",\"03\\u002f04\\u002f2019\",\"03\\u002f04\\u002f2020\",\"03\\u002f04\\u002f2021\",\"03\\u002f04\\u002f2022\",\"03\\u002f05\\u002f2010\",\"03\\u002f05\\u002f2012\",\"03\\u002f05\\u002f2013\",\"03\\u002f05\\u002f2014\",\"03\\u002f05\\u002f2015\",\"03\\u002f05\\u002f2018\",\"03\\u002f05\\u002f2019\",\"03\\u002f05\\u002f2020\",\"03\\u002f05\\u002f2021\",\"03\\u002f06\\u002f2012\",\"03\\u002f06\\u002f2013\",\"03\\u002f06\\u002f2014\",\"03\\u002f06\\u002f2015\",\"03\\u002f06\\u002f2017\",\"03\\u002f06\\u002f2018\",\"03\\u002f06\\u002f2019\",\"03\\u002f06\\u002f2020\",\"03\\u002f06\\u002f2023\",\"03\\u002f07\\u002f2011\",\"03\\u002f07\\u002f2012\",\"03\\u002f07\\u002f2013\",\"03\\u002f07\\u002f2014\",\"03\\u002f07\\u002f2016\",\"03\\u002f07\\u002f2017\",\"03\\u002f07\\u002f2018\",\"03\\u002f07\\u002f2019\",\"03\\u002f07\\u002f2022\",\"03\\u002f07\\u002f2023\",\"03\\u002f08\\u002f2010\",\"03\\u002f08\\u002f2011\",\"03\\u002f08\\u002f2012\",\"03\\u002f08\\u002f2013\",\"03\\u002f08\\u002f2016\",\"03\\u002f08\\u002f2017\",\"03\\u002f08\\u002f2018\",\"03\\u002f08\\u002f2019\",\"03\\u002f08\\u002f2021\",\"03\\u002f08\\u002f2022\",\"03\\u002f08\\u002f2023\",\"03\\u002f09\\u002f2010\",\"03\\u002f09\\u002f2011\",\"03\\u002f09\\u002f2012\",\"03\\u002f09\\u002f2015\",\"03\\u002f09\\u002f2016\",\"03\\u002f09\\u002f2017\",\"03\\u002f09\\u002f2018\",\"03\\u002f09\\u002f2020\",\"03\\u002f09\\u002f2021\",\"03\\u002f09\\u002f2022\",\"03\\u002f09\\u002f2023\",\"03\\u002f10\\u002f2010\",\"03\\u002f10\\u002f2011\",\"03\\u002f10\\u002f2014\",\"03\\u002f10\\u002f2015\",\"03\\u002f10\\u002f2016\",\"03\\u002f10\\u002f2017\",\"03\\u002f10\\u002f2020\",\"03\\u002f10\\u002f2021\",\"03\\u002f10\\u002f2022\",\"03\\u002f10\\u002f2023\",\"03\\u002f11\\u002f2010\",\"03\\u002f11\\u002f2011\",\"03\\u002f11\\u002f2013\",\"03\\u002f11\\u002f2014\",\"03\\u002f11\\u002f2015\",\"03\\u002f11\\u002f2016\",\"03\\u002f11\\u002f2019\",\"03\\u002f11\\u002f2020\",\"03\\u002f11\\u002f2021\",\"03\\u002f11\\u002f2022\",\"03\\u002f12\\u002f2010\",\"03\\u002f12\\u002f2012\",\"03\\u002f12\\u002f2013\",\"03\\u002f12\\u002f2014\",\"03\\u002f12\\u002f2015\",\"03\\u002f12\\u002f2018\",\"03\\u002f12\\u002f2019\",\"03\\u002f12\\u002f2020\",\"03\\u002f12\\u002f2021\",\"03\\u002f13\\u002f2012\",\"03\\u002f13\\u002f2013\",\"03\\u002f13\\u002f2014\",\"03\\u002f13\\u002f2015\",\"03\\u002f13\\u002f2017\",\"03\\u002f13\\u002f2018\",\"03\\u002f13\\u002f2019\",\"03\\u002f13\\u002f2020\",\"03\\u002f13\\u002f2023\",\"03\\u002f14\\u002f2011\",\"03\\u002f14\\u002f2012\",\"03\\u002f14\\u002f2013\",\"03\\u002f14\\u002f2014\",\"03\\u002f14\\u002f2016\",\"03\\u002f14\\u002f2017\",\"03\\u002f14\\u002f2018\",\"03\\u002f14\\u002f2019\",\"03\\u002f14\\u002f2022\",\"03\\u002f14\\u002f2023\",\"03\\u002f15\\u002f2010\",\"03\\u002f15\\u002f2011\",\"03\\u002f15\\u002f2012\",\"03\\u002f15\\u002f2013\",\"03\\u002f15\\u002f2016\",\"03\\u002f15\\u002f2017\",\"03\\u002f15\\u002f2018\",\"03\\u002f15\\u002f2019\",\"03\\u002f15\\u002f2021\",\"03\\u002f15\\u002f2022\",\"03\\u002f15\\u002f2023\",\"03\\u002f16\\u002f2010\",\"03\\u002f16\\u002f2011\",\"03\\u002f16\\u002f2012\",\"03\\u002f16\\u002f2015\",\"03\\u002f16\\u002f2016\",\"03\\u002f16\\u002f2017\",\"03\\u002f16\\u002f2018\",\"03\\u002f16\\u002f2020\",\"03\\u002f16\\u002f2021\",\"03\\u002f16\\u002f2022\",\"03\\u002f16\\u002f2023\",\"03\\u002f17\\u002f2010\",\"03\\u002f17\\u002f2011\",\"03\\u002f17\\u002f2014\",\"03\\u002f17\\u002f2015\",\"03\\u002f17\\u002f2016\",\"03\\u002f17\\u002f2017\",\"03\\u002f17\\u002f2020\",\"03\\u002f17\\u002f2021\",\"03\\u002f17\\u002f2022\",\"03\\u002f17\\u002f2023\",\"03\\u002f18\\u002f2010\",\"03\\u002f18\\u002f2011\",\"03\\u002f18\\u002f2013\",\"03\\u002f18\\u002f2014\",\"03\\u002f18\\u002f2015\",\"03\\u002f18\\u002f2016\",\"03\\u002f18\\u002f2019\",\"03\\u002f18\\u002f2020\",\"03\\u002f18\\u002f2021\",\"03\\u002f18\\u002f2022\",\"03\\u002f19\\u002f2010\",\"03\\u002f19\\u002f2012\",\"03\\u002f19\\u002f2013\",\"03\\u002f19\\u002f2014\",\"03\\u002f19\\u002f2015\",\"03\\u002f19\\u002f2018\",\"03\\u002f19\\u002f2019\",\"03\\u002f19\\u002f2020\",\"03\\u002f19\\u002f2021\",\"03\\u002f20\\u002f2012\",\"03\\u002f20\\u002f2013\",\"03\\u002f20\\u002f2014\",\"03\\u002f20\\u002f2015\",\"03\\u002f20\\u002f2017\",\"03\\u002f20\\u002f2018\",\"03\\u002f20\\u002f2019\",\"03\\u002f20\\u002f2020\",\"03\\u002f20\\u002f2023\",\"03\\u002f21\\u002f2011\",\"03\\u002f21\\u002f2012\",\"03\\u002f21\\u002f2013\",\"03\\u002f21\\u002f2014\",\"03\\u002f21\\u002f2016\",\"03\\u002f21\\u002f2017\",\"03\\u002f21\\u002f2018\",\"03\\u002f21\\u002f2019\",\"03\\u002f21\\u002f2022\",\"03\\u002f21\\u002f2023\",\"03\\u002f22\\u002f2010\",\"03\\u002f22\\u002f2011\",\"03\\u002f22\\u002f2012\",\"03\\u002f22\\u002f2013\",\"03\\u002f22\\u002f2016\",\"03\\u002f22\\u002f2017\",\"03\\u002f22\\u002f2018\",\"03\\u002f22\\u002f2019\",\"03\\u002f22\\u002f2021\",\"03\\u002f22\\u002f2022\",\"03\\u002f22\\u002f2023\",\"03\\u002f23\\u002f2010\",\"03\\u002f23\\u002f2011\",\"03\\u002f23\\u002f2012\",\"03\\u002f23\\u002f2015\",\"03\\u002f23\\u002f2016\",\"03\\u002f23\\u002f2017\",\"03\\u002f23\\u002f2018\",\"03\\u002f23\\u002f2020\",\"03\\u002f23\\u002f2021\",\"03\\u002f23\\u002f2022\",\"03\\u002f23\\u002f2023\",\"03\\u002f24\\u002f2010\",\"03\\u002f24\\u002f2011\",\"03\\u002f24\\u002f2014\",\"03\\u002f24\\u002f2015\",\"03\\u002f24\\u002f2016\",\"03\\u002f24\\u002f2017\",\"03\\u002f24\\u002f2020\",\"03\\u002f24\\u002f2021\",\"03\\u002f24\\u002f2022\",\"03\\u002f24\\u002f2023\",\"03\\u002f25\\u002f2010\",\"03\\u002f25\\u002f2011\",\"03\\u002f25\\u002f2013\",\"03\\u002f25\\u002f2014\",\"03\\u002f25\\u002f2015\",\"03\\u002f25\\u002f2019\",\"03\\u002f25\\u002f2020\",\"03\\u002f25\\u002f2021\",\"03\\u002f25\\u002f2022\",\"03\\u002f26\\u002f2010\",\"03\\u002f26\\u002f2012\",\"03\\u002f26\\u002f2013\",\"03\\u002f26\\u002f2014\",\"03\\u002f26\\u002f2015\",\"03\\u002f26\\u002f2018\",\"03\\u002f26\\u002f2019\",\"03\\u002f26\\u002f2020\",\"03\\u002f26\\u002f2021\",\"03\\u002f27\\u002f2012\",\"03\\u002f27\\u002f2013\",\"03\\u002f27\\u002f2014\",\"03\\u002f27\\u002f2015\",\"03\\u002f27\\u002f2017\",\"03\\u002f27\\u002f2018\",\"03\\u002f27\\u002f2019\",\"03\\u002f27\\u002f2020\",\"03\\u002f27\\u002f2023\",\"03\\u002f28\\u002f2011\",\"03\\u002f28\\u002f2012\",\"03\\u002f28\\u002f2013\",\"03\\u002f28\\u002f2014\",\"03\\u002f28\\u002f2016\",\"03\\u002f28\\u002f2017\",\"03\\u002f28\\u002f2018\",\"03\\u002f28\\u002f2019\",\"03\\u002f28\\u002f2022\",\"03\\u002f28\\u002f2023\",\"03\\u002f29\\u002f2010\",\"03\\u002f29\\u002f2011\",\"03\\u002f29\\u002f2012\",\"03\\u002f29\\u002f2016\",\"03\\u002f29\\u002f2017\",\"03\\u002f29\\u002f2018\",\"03\\u002f29\\u002f2019\",\"03\\u002f29\\u002f2021\",\"03\\u002f29\\u002f2022\",\"03\\u002f29\\u002f2023\",\"03\\u002f30\\u002f2010\",\"03\\u002f30\\u002f2011\",\"03\\u002f30\\u002f2012\",\"03\\u002f30\\u002f2015\",\"03\\u002f30\\u002f2016\",\"03\\u002f30\\u002f2017\",\"03\\u002f30\\u002f2020\",\"03\\u002f30\\u002f2021\",\"03\\u002f30\\u002f2022\",\"03\\u002f30\\u002f2023\",\"03\\u002f31\\u002f2010\",\"03\\u002f31\\u002f2011\",\"03\\u002f31\\u002f2014\",\"03\\u002f31\\u002f2015\",\"03\\u002f31\\u002f2016\",\"03\\u002f31\\u002f2017\",\"03\\u002f31\\u002f2020\",\"03\\u002f31\\u002f2021\",\"03\\u002f31\\u002f2022\",\"03\\u002f31\\u002f2023\",\"04\\u002f01\\u002f2010\",\"04\\u002f01\\u002f2011\",\"04\\u002f01\\u002f2013\",\"04\\u002f01\\u002f2014\",\"04\\u002f01\\u002f2015\",\"04\\u002f01\\u002f2016\",\"04\\u002f01\\u002f2019\",\"04\\u002f01\\u002f2020\",\"04\\u002f01\\u002f2021\",\"04\\u002f01\\u002f2022\",\"04\\u002f02\\u002f2012\",\"04\\u002f02\\u002f2013\",\"04\\u002f02\\u002f2014\",\"04\\u002f02\\u002f2015\",\"04\\u002f02\\u002f2018\",\"04\\u002f02\\u002f2019\",\"04\\u002f02\\u002f2020\",\"04\\u002f03\\u002f2012\",\"04\\u002f03\\u002f2013\",\"04\\u002f03\\u002f2014\",\"04\\u002f03\\u002f2017\",\"04\\u002f03\\u002f2018\",\"04\\u002f03\\u002f2019\",\"04\\u002f03\\u002f2020\",\"04\\u002f03\\u002f2023\",\"04\\u002f04\\u002f2011\",\"04\\u002f04\\u002f2012\",\"04\\u002f04\\u002f2013\",\"04\\u002f04\\u002f2014\",\"04\\u002f04\\u002f2016\",\"04\\u002f04\\u002f2017\",\"04\\u002f04\\u002f2018\",\"04\\u002f04\\u002f2019\",\"04\\u002f04\\u002f2022\",\"04\\u002f04\\u002f2023\",\"04\\u002f05\\u002f2010\",\"04\\u002f05\\u002f2011\",\"04\\u002f05\\u002f2012\",\"04\\u002f05\\u002f2013\",\"04\\u002f05\\u002f2016\",\"04\\u002f05\\u002f2017\",\"04\\u002f05\\u002f2018\",\"04\\u002f05\\u002f2019\",\"04\\u002f05\\u002f2021\",\"04\\u002f05\\u002f2022\",\"04\\u002f05\\u002f2023\",\"04\\u002f06\\u002f2010\",\"04\\u002f06\\u002f2011\",\"04\\u002f06\\u002f2015\",\"04\\u002f06\\u002f2016\",\"04\\u002f06\\u002f2017\",\"04\\u002f06\\u002f2018\",\"04\\u002f06\\u002f2020\",\"04\\u002f06\\u002f2021\",\"04\\u002f06\\u002f2022\",\"04\\u002f06\\u002f2023\",\"04\\u002f07\\u002f2010\",\"04\\u002f07\\u002f2011\",\"04\\u002f07\\u002f2014\",\"04\\u002f07\\u002f2015\",\"04\\u002f07\\u002f2016\",\"04\\u002f07\\u002f2017\",\"04\\u002f07\\u002f2020\",\"04\\u002f07\\u002f2021\",\"04\\u002f07\\u002f2022\",\"04\\u002f08\\u002f2010\",\"04\\u002f08\\u002f2011\",\"04\\u002f08\\u002f2013\",\"04\\u002f08\\u002f2014\",\"04\\u002f08\\u002f2015\",\"04\\u002f08\\u002f2016\",\"04\\u002f08\\u002f2019\",\"04\\u002f08\\u002f2020\",\"04\\u002f08\\u002f2021\",\"04\\u002f08\\u002f2022\",\"04\\u002f09\\u002f2010\",\"04\\u002f09\\u002f2012\",\"04\\u002f09\\u002f2013\",\"04\\u002f09\\u002f2014\",\"04\\u002f09\\u002f2015\",\"04\\u002f09\\u002f2018\",\"04\\u002f09\\u002f2019\",\"04\\u002f09\\u002f2020\",\"04\\u002f09\\u002f2021\",\"04\\u002f10\\u002f2012\",\"04\\u002f10\\u002f2013\",\"04\\u002f10\\u002f2014\",\"04\\u002f10\\u002f2015\",\"04\\u002f10\\u002f2017\",\"04\\u002f10\\u002f2018\",\"04\\u002f10\\u002f2019\",\"04\\u002f10\\u002f2023\",\"04\\u002f11\\u002f2011\",\"04\\u002f11\\u002f2012\",\"04\\u002f11\\u002f2013\",\"04\\u002f11\\u002f2014\",\"04\\u002f11\\u002f2016\",\"04\\u002f11\\u002f2017\",\"04\\u002f11\\u002f2018\",\"04\\u002f11\\u002f2019\",\"04\\u002f11\\u002f2022\",\"04\\u002f11\\u002f2023\",\"04\\u002f12\\u002f2010\",\"04\\u002f12\\u002f2011\",\"04\\u002f12\\u002f2012\",\"04\\u002f12\\u002f2013\",\"04\\u002f12\\u002f2016\",\"04\\u002f12\\u002f2017\",\"04\\u002f12\\u002f2018\",\"04\\u002f12\\u002f2019\",\"04\\u002f12\\u002f2021\",\"04\\u002f12\\u002f2022\",\"04\\u002f12\\u002f2023\",\"04\\u002f13\\u002f2010\",\"04\\u002f13\\u002f2011\",\"04\\u002f13\\u002f2012\",\"04\\u002f13\\u002f2015\",\"04\\u002f13\\u002f2016\",\"04\\u002f13\\u002f2017\",\"04\\u002f13\\u002f2018\",\"04\\u002f13\\u002f2020\",\"04\\u002f13\\u002f2021\",\"04\\u002f13\\u002f2022\",\"04\\u002f13\\u002f2023\",\"04\\u002f14\\u002f2010\",\"04\\u002f14\\u002f2011\",\"04\\u002f14\\u002f2014\",\"04\\u002f14\\u002f2015\",\"04\\u002f14\\u002f2016\",\"04\\u002f14\\u002f2020\",\"04\\u002f14\\u002f2021\",\"04\\u002f14\\u002f2022\",\"04\\u002f14\\u002f2023\",\"04\\u002f15\\u002f2010\",\"04\\u002f15\\u002f2011\",\"04\\u002f15\\u002f2013\",\"04\\u002f15\\u002f2014\",\"04\\u002f15\\u002f2015\",\"04\\u002f15\\u002f2016\",\"04\\u002f15\\u002f2019\",\"04\\u002f15\\u002f2020\",\"04\\u002f15\\u002f2021\",\"04\\u002f16\\u002f2010\",\"04\\u002f16\\u002f2012\",\"04\\u002f16\\u002f2013\",\"04\\u002f16\\u002f2014\",\"04\\u002f16\\u002f2015\",\"04\\u002f16\\u002f2018\",\"04\\u002f16\\u002f2019\",\"04\\u002f16\\u002f2020\",\"04\\u002f16\\u002f2021\",\"04\\u002f17\\u002f2012\",\"04\\u002f17\\u002f2013\",\"04\\u002f17\\u002f2014\",\"04\\u002f17\\u002f2015\",\"04\\u002f17\\u002f2017\",\"04\\u002f17\\u002f2018\",\"04\\u002f17\\u002f2019\",\"04\\u002f17\\u002f2020\",\"04\\u002f17\\u002f2023\",\"04\\u002f18\\u002f2011\",\"04\\u002f18\\u002f2012\",\"04\\u002f18\\u002f2013\",\"04\\u002f18\\u002f2016\",\"04\\u002f18\\u002f2017\",\"04\\u002f18\\u002f2018\",\"04\\u002f18\\u002f2019\",\"04\\u002f18\\u002f2022\",\"04\\u002f18\\u002f2023\",\"04\\u002f19\\u002f2010\",\"04\\u002f19\\u002f2011\",\"04\\u002f19\\u002f2012\",\"04\\u002f19\\u002f2013\",\"04\\u002f19\\u002f2016\",\"04\\u002f19\\u002f2017\",\"04\\u002f19\\u002f2018\",\"04\\u002f19\\u002f2021\",\"04\\u002f19\\u002f2022\",\"04\\u002f19\\u002f2023\",\"04\\u002f20\\u002f2010\",\"04\\u002f20\\u002f2011\",\"04\\u002f20\\u002f2012\",\"04\\u002f20\\u002f2015\",\"04\\u002f20\\u002f2016\",\"04\\u002f20\\u002f2017\",\"04\\u002f20\\u002f2018\",\"04\\u002f20\\u002f2020\",\"04\\u002f20\\u002f2021\",\"04\\u002f20\\u002f2022\",\"04\\u002f20\\u002f2023\",\"04\\u002f21\\u002f2010\",\"04\\u002f21\\u002f2011\",\"04\\u002f21\\u002f2014\",\"04\\u002f21\\u002f2015\",\"04\\u002f21\\u002f2016\",\"04\\u002f21\\u002f2017\",\"04\\u002f21\\u002f2020\",\"04\\u002f21\\u002f2021\",\"04\\u002f21\\u002f2022\",\"04\\u002f21\\u002f2023\",\"04\\u002f22\\u002f2010\",\"04\\u002f22\\u002f2013\",\"04\\u002f22\\u002f2014\",\"04\\u002f22\\u002f2015\",\"04\\u002f22\\u002f2016\",\"04\\u002f22\\u002f2019\",\"04\\u002f22\\u002f2020\",\"04\\u002f22\\u002f2021\",\"04\\u002f22\\u002f2022\",\"04\\u002f23\\u002f2010\",\"04\\u002f23\\u002f2012\",\"04\\u002f23\\u002f2013\",\"04\\u002f23\\u002f2014\",\"04\\u002f23\\u002f2015\",\"04\\u002f23\\u002f2018\",\"04\\u002f23\\u002f2019\",\"04\\u002f23\\u002f2020\",\"04\\u002f23\\u002f2021\",\"04\\u002f24\\u002f2012\",\"04\\u002f24\\u002f2013\",\"04\\u002f24\\u002f2014\",\"04\\u002f24\\u002f2015\",\"04\\u002f24\\u002f2017\",\"04\\u002f24\\u002f2018\",\"04\\u002f24\\u002f2019\",\"04\\u002f24\\u002f2020\",\"04\\u002f24\\u002f2023\",\"04\\u002f25\\u002f2011\",\"04\\u002f25\\u002f2012\",\"04\\u002f25\\u002f2013\",\"04\\u002f25\\u002f2014\",\"04\\u002f25\\u002f2016\",\"04\\u002f25\\u002f2017\",\"04\\u002f25\\u002f2018\",\"04\\u002f25\\u002f2019\",\"04\\u002f25\\u002f2022\",\"04\\u002f25\\u002f2023\",\"04\\u002f26\\u002f2010\",\"04\\u002f26\\u002f2011\",\"04\\u002f26\\u002f2012\",\"04\\u002f26\\u002f2013\",\"04\\u002f26\\u002f2016\",\"04\\u002f26\\u002f2017\",\"04\\u002f26\\u002f2018\",\"04\\u002f26\\u002f2019\",\"04\\u002f26\\u002f2021\",\"04\\u002f26\\u002f2022\",\"04\\u002f26\\u002f2023\",\"04\\u002f27\\u002f2010\",\"04\\u002f27\\u002f2011\",\"04\\u002f27\\u002f2012\",\"04\\u002f27\\u002f2015\",\"04\\u002f27\\u002f2016\",\"04\\u002f27\\u002f2017\",\"04\\u002f27\\u002f2018\",\"04\\u002f27\\u002f2020\",\"04\\u002f27\\u002f2021\",\"04\\u002f27\\u002f2022\",\"04\\u002f27\\u002f2023\",\"04\\u002f28\\u002f2010\",\"04\\u002f28\\u002f2011\",\"04\\u002f28\\u002f2014\",\"04\\u002f28\\u002f2015\",\"04\\u002f28\\u002f2016\",\"04\\u002f28\\u002f2017\",\"04\\u002f28\\u002f2020\",\"04\\u002f28\\u002f2021\",\"04\\u002f28\\u002f2022\",\"04\\u002f28\\u002f2023\",\"04\\u002f29\\u002f2009\",\"04\\u002f29\\u002f2010\",\"04\\u002f29\\u002f2011\",\"04\\u002f29\\u002f2013\",\"04\\u002f29\\u002f2014\",\"04\\u002f29\\u002f2015\",\"04\\u002f29\\u002f2016\",\"04\\u002f29\\u002f2019\",\"04\\u002f29\\u002f2020\",\"04\\u002f29\\u002f2021\",\"04\\u002f29\\u002f2022\",\"04\\u002f30\\u002f2010\",\"04\\u002f30\\u002f2012\",\"04\\u002f30\\u002f2013\",\"04\\u002f30\\u002f2014\",\"04\\u002f30\\u002f2015\",\"04\\u002f30\\u002f2018\",\"04\\u002f30\\u002f2019\",\"04\\u002f30\\u002f2020\",\"04\\u002f30\\u002f2021\",\"05\\u002f01\\u002f2012\",\"05\\u002f01\\u002f2013\",\"05\\u002f01\\u002f2014\",\"05\\u002f01\\u002f2015\",\"05\\u002f01\\u002f2017\",\"05\\u002f01\\u002f2018\",\"05\\u002f01\\u002f2019\",\"05\\u002f01\\u002f2020\",\"05\\u002f01\\u002f2023\",\"05\\u002f02\\u002f2011\",\"05\\u002f02\\u002f2012\",\"05\\u002f02\\u002f2013\",\"05\\u002f02\\u002f2014\",\"05\\u002f02\\u002f2016\",\"05\\u002f02\\u002f2017\",\"05\\u002f02\\u002f2018\",\"05\\u002f02\\u002f2019\",\"05\\u002f02\\u002f2022\",\"05\\u002f02\\u002f2023\",\"05\\u002f03\\u002f2010\",\"05\\u002f03\\u002f2011\",\"05\\u002f03\\u002f2012\",\"05\\u002f03\\u002f2013\",\"05\\u002f03\\u002f2016\",\"05\\u002f03\\u002f2017\",\"05\\u002f03\\u002f2018\",\"05\\u002f03\\u002f2019\",\"05\\u002f03\\u002f2021\",\"05\\u002f03\\u002f2022\",\"05\\u002f03\\u002f2023\",\"05\\u002f04\\u002f2010\",\"05\\u002f04\\u002f2011\",\"05\\u002f04\\u002f2012\",\"05\\u002f04\\u002f2015\",\"05\\u002f04\\u002f2016\",\"05\\u002f04\\u002f2017\",\"05\\u002f04\\u002f2018\",\"05\\u002f04\\u002f2020\",\"05\\u002f04\\u002f2021\",\"05\\u002f04\\u002f2022\",\"05\\u002f04\\u002f2023\",\"05\\u002f05\\u002f2010\",\"05\\u002f05\\u002f2011\",\"05\\u002f05\\u002f2014\",\"05\\u002f05\\u002f2015\",\"05\\u002f05\\u002f2016\",\"05\\u002f05\\u002f2017\",\"05\\u002f05\\u002f2020\",\"05\\u002f05\\u002f2021\",\"05\\u002f05\\u002f2022\",\"05\\u002f05\\u002f2023\",\"05\\u002f06\\u002f2009\",\"05\\u002f06\\u002f2010\",\"05\\u002f06\\u002f2011\",\"05\\u002f06\\u002f2013\",\"05\\u002f06\\u002f2014\",\"05\\u002f06\\u002f2015\",\"05\\u002f06\\u002f2016\",\"05\\u002f06\\u002f2019\",\"05\\u002f06\\u002f2020\",\"05\\u002f06\\u002f2021\",\"05\\u002f06\\u002f2022\",\"05\\u002f07\\u002f2009\",\"05\\u002f07\\u002f2010\",\"05\\u002f07\\u002f2012\",\"05\\u002f07\\u002f2013\",\"05\\u002f07\\u002f2014\",\"05\\u002f07\\u002f2015\",\"05\\u002f07\\u002f2018\",\"05\\u002f07\\u002f2019\",\"05\\u002f07\\u002f2020\",\"05\\u002f07\\u002f2021\",\"05\\u002f08\\u002f2012\",\"05\\u002f08\\u002f2013\",\"05\\u002f08\\u002f2014\",\"05\\u002f08\\u002f2015\",\"05\\u002f08\\u002f2017\",\"05\\u002f08\\u002f2018\",\"05\\u002f08\\u002f2019\",\"05\\u002f08\\u002f2020\",\"05\\u002f08\\u002f2023\",\"05\\u002f09\\u002f2011\",\"05\\u002f09\\u002f2012\",\"05\\u002f09\\u002f2013\",\"05\\u002f09\\u002f2014\",\"05\\u002f09\\u002f2016\",\"05\\u002f09\\u002f2017\",\"05\\u002f09\\u002f2018\",\"05\\u002f09\\u002f2019\",\"05\\u002f09\\u002f2022\",\"05\\u002f09\\u002f2023\",\"05\\u002f10\\u002f2010\",\"05\\u002f10\\u002f2011\",\"05\\u002f10\\u002f2012\",\"05\\u002f10\\u002f2013\",\"05\\u002f10\\u002f2016\",\"05\\u002f10\\u002f2017\",\"05\\u002f10\\u002f2018\",\"05\\u002f10\\u002f2019\",\"05\\u002f10\\u002f2021\",\"05\\u002f10\\u002f2022\",\"05\\u002f10\\u002f2023\",\"05\\u002f11\\u002f2009\",\"05\\u002f11\\u002f2010\",\"05\\u002f11\\u002f2011\",\"05\\u002f11\\u002f2012\",\"05\\u002f11\\u002f2015\",\"05\\u002f11\\u002f2016\",\"05\\u002f11\\u002f2017\",\"05\\u002f11\\u002f2018\",\"05\\u002f11\\u002f2020\",\"05\\u002f11\\u002f2021\",\"05\\u002f11\\u002f2022\",\"05\\u002f11\\u002f2023\",\"05\\u002f12\\u002f2010\",\"05\\u002f12\\u002f2011\",\"05\\u002f12\\u002f2014\",\"05\\u002f12\\u002f2015\",\"05\\u002f12\\u002f2016\",\"05\\u002f12\\u002f2017\",\"05\\u002f12\\u002f2020\",\"05\\u002f12\\u002f2021\",\"05\\u002f12\\u002f2022\",\"05\\u002f12\\u002f2023\",\"05\\u002f13\\u002f2010\",\"05\\u002f13\\u002f2011\",\"05\\u002f13\\u002f2013\",\"05\\u002f13\\u002f2014\",\"05\\u002f13\\u002f2015\",\"05\\u002f13\\u002f2016\",\"05\\u002f13\\u002f2019\",\"05\\u002f13\\u002f2020\",\"05\\u002f13\\u002f2021\",\"05\\u002f13\\u002f2022\",\"05\\u002f14\\u002f2010\",\"05\\u002f14\\u002f2012\",\"05\\u002f14\\u002f2013\",\"05\\u002f14\\u002f2014\",\"05\\u002f14\\u002f2015\",\"05\\u002f14\\u002f2018\",\"05\\u002f14\\u002f2019\",\"05\\u002f14\\u002f2020\",\"05\\u002f14\\u002f2021\",\"05\\u002f15\\u002f2012\",\"05\\u002f15\\u002f2013\",\"05\\u002f15\\u002f2014\",\"05\\u002f15\\u002f2015\",\"05\\u002f15\\u002f2017\",\"05\\u002f15\\u002f2018\",\"05\\u002f15\\u002f2019\",\"05\\u002f15\\u002f2020\",\"05\\u002f15\\u002f2023\",\"05\\u002f16\\u002f2011\",\"05\\u002f16\\u002f2012\",\"05\\u002f16\\u002f2013\",\"05\\u002f16\\u002f2014\",\"05\\u002f16\\u002f2016\",\"05\\u002f16\\u002f2017\",\"05\\u002f16\\u002f2018\",\"05\\u002f16\\u002f2019\",\"05\\u002f16\\u002f2022\",\"05\\u002f16\\u002f2023\",\"05\\u002f17\\u002f2010\",\"05\\u002f17\\u002f2011\",\"05\\u002f17\\u002f2012\",\"05\\u002f17\\u002f2013\",\"05\\u002f17\\u002f2016\",\"05\\u002f17\\u002f2017\",\"05\\u002f17\\u002f2018\",\"05\\u002f17\\u002f2019\",\"05\\u002f17\\u002f2021\",\"05\\u002f17\\u002f2022\",\"05\\u002f17\\u002f2023\",\"05\\u002f18\\u002f2010\",\"05\\u002f18\\u002f2011\",\"05\\u002f18\\u002f2012\",\"05\\u002f18\\u002f2015\",\"05\\u002f18\\u002f2016\",\"05\\u002f18\\u002f2017\",\"05\\u002f18\\u002f2018\",\"05\\u002f18\\u002f2020\",\"05\\u002f18\\u002f2021\",\"05\\u002f18\\u002f2022\",\"05\\u002f18\\u002f2023\",\"05\\u002f19\\u002f2010\",\"05\\u002f19\\u002f2011\",\"05\\u002f19\\u002f2014\",\"05\\u002f19\\u002f2015\",\"05\\u002f19\\u002f2016\",\"05\\u002f19\\u002f2017\",\"05\\u002f19\\u002f2020\",\"05\\u002f19\\u002f2021\",\"05\\u002f19\\u002f2022\",\"05\\u002f19\\u002f2023\",\"05\\u002f20\\u002f2010\",\"05\\u002f20\\u002f2011\",\"05\\u002f20\\u002f2013\",\"05\\u002f20\\u002f2014\",\"05\\u002f20\\u002f2015\",\"05\\u002f20\\u002f2016\",\"05\\u002f20\\u002f2019\",\"05\\u002f20\\u002f2020\",\"05\\u002f20\\u002f2021\",\"05\\u002f20\\u002f2022\",\"05\\u002f21\\u002f2010\",\"05\\u002f21\\u002f2012\",\"05\\u002f21\\u002f2013\",\"05\\u002f21\\u002f2014\",\"05\\u002f21\\u002f2015\",\"05\\u002f21\\u002f2018\",\"05\\u002f21\\u002f2019\",\"05\\u002f21\\u002f2020\",\"05\\u002f21\\u002f2021\",\"05\\u002f22\\u002f2012\",\"05\\u002f22\\u002f2013\",\"05\\u002f22\\u002f2014\",\"05\\u002f22\\u002f2015\",\"05\\u002f22\\u002f2017\",\"05\\u002f22\\u002f2018\",\"05\\u002f22\\u002f2019\",\"05\\u002f22\\u002f2020\",\"05\\u002f22\\u002f2023\",\"05\\u002f23\\u002f2011\",\"05\\u002f23\\u002f2012\",\"05\\u002f23\\u002f2013\",\"05\\u002f23\\u002f2014\",\"05\\u002f23\\u002f2016\",\"05\\u002f23\\u002f2017\",\"05\\u002f23\\u002f2018\",\"05\\u002f23\\u002f2019\",\"05\\u002f23\\u002f2022\",\"05\\u002f23\\u002f2023\",\"05\\u002f24\\u002f2010\",\"05\\u002f24\\u002f2011\",\"05\\u002f24\\u002f2012\",\"05\\u002f24\\u002f2013\",\"05\\u002f24\\u002f2016\",\"05\\u002f24\\u002f2017\",\"05\\u002f24\\u002f2018\",\"05\\u002f24\\u002f2019\",\"05\\u002f24\\u002f2021\",\"05\\u002f24\\u002f2022\",\"05\\u002f24\\u002f2023\",\"05\\u002f25\\u002f2010\",\"05\\u002f25\\u002f2011\",\"05\\u002f25\\u002f2012\",\"05\\u002f25\\u002f2016\",\"05\\u002f25\\u002f2017\",\"05\\u002f25\\u002f2018\",\"05\\u002f25\\u002f2021\",\"05\\u002f25\\u002f2022\",\"05\\u002f25\\u002f2023\",\"05\\u002f26\\u002f2010\",\"05\\u002f26\\u002f2011\",\"05\\u002f26\\u002f2015\",\"05\\u002f26\\u002f2016\",\"05\\u002f26\\u002f2017\",\"05\\u002f26\\u002f2020\",\"05\\u002f26\\u002f2021\",\"05\\u002f26\\u002f2022\",\"05\\u002f26\\u002f2023\",\"05\\u002f27\\u002f2010\",\"05\\u002f27\\u002f2011\",\"05\\u002f27\\u002f2014\",\"05\\u002f27\\u002f2015\",\"05\\u002f27\\u002f2016\",\"05\\u002f27\\u002f2020\",\"05\\u002f27\\u002f2021\",\"05\\u002f27\\u002f2022\",\"05\\u002f28\\u002f2009\",\"05\\u002f28\\u002f2010\",\"05\\u002f28\\u002f2013\",\"05\\u002f28\\u002f2014\",\"05\\u002f28\\u002f2015\",\"05\\u002f28\\u002f2019\",\"05\\u002f28\\u002f2020\",\"05\\u002f28\\u002f2021\",\"05\\u002f29\\u002f2012\",\"05\\u002f29\\u002f2013\",\"05\\u002f29\\u002f2014\",\"05\\u002f29\\u002f2015\",\"05\\u002f29\\u002f2018\",\"05\\u002f29\\u002f2019\",\"05\\u002f29\\u002f2020\",\"05\\u002f30\\u002f2012\",\"05\\u002f30\\u002f2013\",\"05\\u002f30\\u002f2014\",\"05\\u002f30\\u002f2017\",\"05\\u002f30\\u002f2018\",\"05\\u002f30\\u002f2019\",\"05\\u002f30\\u002f2023\",\"05\\u002f31\\u002f2011\",\"05\\u002f31\\u002f2012\",\"05\\u002f31\\u002f2013\",\"05\\u002f31\\u002f2016\",\"05\\u002f31\\u002f2017\",\"05\\u002f31\\u002f2018\",\"05\\u002f31\\u002f2019\",\"05\\u002f31\\u002f2022\",\"05\\u002f31\\u002f2023\",\"06\\u002f01\\u002f2009\",\"06\\u002f01\\u002f2010\",\"06\\u002f01\\u002f2011\",\"06\\u002f01\\u002f2012\",\"06\\u002f01\\u002f2015\",\"06\\u002f01\\u002f2016\",\"06\\u002f01\\u002f2017\",\"06\\u002f01\\u002f2018\",\"06\\u002f01\\u002f2020\",\"06\\u002f01\\u002f2021\",\"06\\u002f01\\u002f2022\",\"06\\u002f01\\u002f2023\",\"06\\u002f02\\u002f2010\",\"06\\u002f02\\u002f2011\",\"06\\u002f02\\u002f2014\",\"06\\u002f02\\u002f2015\",\"06\\u002f02\\u002f2016\",\"06\\u002f02\\u002f2017\",\"06\\u002f02\\u002f2020\",\"06\\u002f02\\u002f2021\",\"06\\u002f02\\u002f2022\",\"06\\u002f02\\u002f2023\",\"06\\u002f03\\u002f2010\",\"06\\u002f03\\u002f2011\",\"06\\u002f03\\u002f2013\",\"06\\u002f03\\u002f2014\",\"06\\u002f03\\u002f2015\",\"06\\u002f03\\u002f2016\",\"06\\u002f03\\u002f2019\",\"06\\u002f03\\u002f2020\",\"06\\u002f03\\u002f2021\",\"06\\u002f03\\u002f2022\",\"06\\u002f04\\u002f2010\",\"06\\u002f04\\u002f2012\",\"06\\u002f04\\u002f2013\",\"06\\u002f04\\u002f2014\",\"06\\u002f04\\u002f2015\",\"06\\u002f04\\u002f2018\",\"06\\u002f04\\u002f2019\",\"06\\u002f04\\u002f2020\",\"06\\u002f04\\u002f2021\",\"06\\u002f05\\u002f2012\",\"06\\u002f05\\u002f2013\",\"06\\u002f05\\u002f2014\",\"06\\u002f05\\u002f2015\",\"06\\u002f05\\u002f2017\",\"06\\u002f05\\u002f2018\",\"06\\u002f05\\u002f2019\",\"06\\u002f05\\u002f2020\",\"06\\u002f05\\u002f2023\",\"06\\u002f06\\u002f2011\",\"06\\u002f06\\u002f2012\",\"06\\u002f06\\u002f2013\",\"06\\u002f06\\u002f2014\",\"06\\u002f06\\u002f2016\",\"06\\u002f06\\u002f2017\",\"06\\u002f06\\u002f2018\",\"06\\u002f06\\u002f2019\",\"06\\u002f06\\u002f2022\",\"06\\u002f06\\u002f2023\",\"06\\u002f07\\u002f2010\",\"06\\u002f07\\u002f2011\",\"06\\u002f07\\u002f2012\",\"06\\u002f07\\u002f2013\",\"06\\u002f07\\u002f2016\",\"06\\u002f07\\u002f2017\",\"06\\u002f07\\u002f2018\",\"06\\u002f07\\u002f2019\",\"06\\u002f07\\u002f2021\",\"06\\u002f07\\u002f2022\",\"06\\u002f07\\u002f2023\",\"06\\u002f08\\u002f2009\",\"06\\u002f08\\u002f2010\",\"06\\u002f08\\u002f2011\",\"06\\u002f08\\u002f2012\",\"06\\u002f08\\u002f2015\",\"06\\u002f08\\u002f2016\",\"06\\u002f08\\u002f2017\",\"06\\u002f08\\u002f2018\",\"06\\u002f08\\u002f2020\",\"06\\u002f08\\u002f2021\",\"06\\u002f08\\u002f2022\",\"06\\u002f08\\u002f2023\",\"06\\u002f09\\u002f2010\",\"06\\u002f09\\u002f2011\",\"06\\u002f09\\u002f2014\",\"06\\u002f09\\u002f2015\",\"06\\u002f09\\u002f2016\",\"06\\u002f09\\u002f2017\",\"06\\u002f09\\u002f2020\",\"06\\u002f09\\u002f2021\",\"06\\u002f09\\u002f2022\",\"06\\u002f09\\u002f2023\",\"06\\u002f10\\u002f2010\",\"06\\u002f10\\u002f2011\",\"06\\u002f10\\u002f2013\",\"06\\u002f10\\u002f2014\",\"06\\u002f10\\u002f2015\",\"06\\u002f10\\u002f2016\",\"06\\u002f10\\u002f2019\",\"06\\u002f10\\u002f2020\",\"06\\u002f10\\u002f2021\",\"06\\u002f10\\u002f2022\",\"06\\u002f11\\u002f2009\",\"06\\u002f11\\u002f2010\",\"06\\u002f11\\u002f2012\",\"06\\u002f11\\u002f2013\",\"06\\u002f11\\u002f2014\",\"06\\u002f11\\u002f2015\",\"06\\u002f11\\u002f2018\",\"06\\u002f11\\u002f2019\",\"06\\u002f11\\u002f2020\",\"06\\u002f11\\u002f2021\",\"06\\u002f12\\u002f2012\",\"06\\u002f12\\u002f2013\",\"06\\u002f12\\u002f2014\",\"06\\u002f12\\u002f2015\",\"06\\u002f12\\u002f2017\",\"06\\u002f12\\u002f2018\",\"06\\u002f12\\u002f2019\",\"06\\u002f12\\u002f2020\",\"06\\u002f12\\u002f2023\",\"06\\u002f13\\u002f2011\",\"06\\u002f13\\u002f2012\",\"06\\u002f13\\u002f2013\",\"06\\u002f13\\u002f2014\",\"06\\u002f13\\u002f2016\",\"06\\u002f13\\u002f2017\",\"06\\u002f13\\u002f2018\",\"06\\u002f13\\u002f2019\",\"06\\u002f13\\u002f2022\",\"06\\u002f13\\u002f2023\",\"06\\u002f14\\u002f2010\",\"06\\u002f14\\u002f2011\",\"06\\u002f14\\u002f2012\",\"06\\u002f14\\u002f2013\",\"06\\u002f14\\u002f2016\",\"06\\u002f14\\u002f2017\",\"06\\u002f14\\u002f2018\",\"06\\u002f14\\u002f2019\",\"06\\u002f14\\u002f2021\",\"06\\u002f14\\u002f2022\",\"06\\u002f14\\u002f2023\",\"06\\u002f15\\u002f2009\",\"06\\u002f15\\u002f2010\",\"06\\u002f15\\u002f2011\",\"06\\u002f15\\u002f2012\",\"06\\u002f15\\u002f2015\",\"06\\u002f15\\u002f2016\",\"06\\u002f15\\u002f2017\",\"06\\u002f15\\u002f2018\",\"06\\u002f15\\u002f2020\",\"06\\u002f15\\u002f2021\",\"06\\u002f15\\u002f2022\",\"06\\u002f15\\u002f2023\",\"06\\u002f16\\u002f2010\",\"06\\u002f16\\u002f2011\",\"06\\u002f16\\u002f2014\",\"06\\u002f16\\u002f2015\",\"06\\u002f16\\u002f2016\",\"06\\u002f16\\u002f2017\",\"06\\u002f16\\u002f2020\",\"06\\u002f16\\u002f2021\",\"06\\u002f16\\u002f2022\",\"06\\u002f16\\u002f2023\",\"06\\u002f17\\u002f2009\",\"06\\u002f17\\u002f2010\",\"06\\u002f17\\u002f2011\",\"06\\u002f17\\u002f2013\",\"06\\u002f17\\u002f2014\",\"06\\u002f17\\u002f2015\",\"06\\u002f17\\u002f2016\",\"06\\u002f17\\u002f2019\",\"06\\u002f17\\u002f2020\",\"06\\u002f17\\u002f2021\",\"06\\u002f17\\u002f2022\",\"06\\u002f18\\u002f2010\",\"06\\u002f18\\u002f2012\",\"06\\u002f18\\u002f2013\",\"06\\u002f18\\u002f2014\",\"06\\u002f18\\u002f2015\",\"06\\u002f18\\u002f2018\",\"06\\u002f18\\u002f2019\",\"06\\u002f18\\u002f2020\",\"06\\u002f18\\u002f2021\",\"06\\u002f19\\u002f2012\",\"06\\u002f19\\u002f2013\",\"06\\u002f19\\u002f2014\",\"06\\u002f19\\u002f2015\",\"06\\u002f19\\u002f2017\",\"06\\u002f19\\u002f2018\",\"06\\u002f19\\u002f2019\",\"06\\u002f19\\u002f2020\",\"06\\u002f20\\u002f2011\",\"06\\u002f20\\u002f2012\",\"06\\u002f20\\u002f2013\",\"06\\u002f20\\u002f2014\",\"06\\u002f20\\u002f2016\",\"06\\u002f20\\u002f2017\",\"06\\u002f20\\u002f2018\",\"06\\u002f20\\u002f2019\",\"06\\u002f20\\u002f2023\",\"06\\u002f21\\u002f2010\",\"06\\u002f21\\u002f2011\",\"06\\u002f21\\u002f2012\",\"06\\u002f21\\u002f2013\",\"06\\u002f21\\u002f2016\",\"06\\u002f21\\u002f2017\",\"06\\u002f21\\u002f2018\",\"06\\u002f21\\u002f2019\",\"06\\u002f21\\u002f2021\",\"06\\u002f21\\u002f2022\",\"06\\u002f21\\u002f2023\",\"06\\u002f22\\u002f2009\",\"06\\u002f22\\u002f2010\",\"06\\u002f22\\u002f2011\",\"06\\u002f22\\u002f2012\",\"06\\u002f22\\u002f2015\",\"06\\u002f22\\u002f2016\",\"06\\u002f22\\u002f2017\",\"06\\u002f22\\u002f2018\",\"06\\u002f22\\u002f2020\",\"06\\u002f22\\u002f2021\",\"06\\u002f22\\u002f2022\",\"06\\u002f22\\u002f2023\",\"06\\u002f23\\u002f2010\",\"06\\u002f23\\u002f2011\",\"06\\u002f23\\u002f2014\",\"06\\u002f23\\u002f2015\",\"06\\u002f23\\u002f2016\",\"06\\u002f23\\u002f2017\",\"06\\u002f23\\u002f2020\",\"06\\u002f23\\u002f2021\",\"06\\u002f23\\u002f2022\",\"06\\u002f23\\u002f2023\",\"06\\u002f24\\u002f2010\",\"06\\u002f24\\u002f2011\",\"06\\u002f24\\u002f2013\",\"06\\u002f24\\u002f2014\",\"06\\u002f24\\u002f2015\",\"06\\u002f24\\u002f2016\",\"06\\u002f24\\u002f2019\",\"06\\u002f24\\u002f2020\",\"06\\u002f24\\u002f2021\",\"06\\u002f24\\u002f2022\",\"06\\u002f25\\u002f2009\",\"06\\u002f25\\u002f2010\",\"06\\u002f25\\u002f2012\",\"06\\u002f25\\u002f2013\",\"06\\u002f25\\u002f2014\",\"06\\u002f25\\u002f2015\",\"06\\u002f25\\u002f2018\",\"06\\u002f25\\u002f2019\",\"06\\u002f25\\u002f2020\",\"06\\u002f25\\u002f2021\",\"06\\u002f26\\u002f2009\",\"06\\u002f26\\u002f2012\",\"06\\u002f26\\u002f2013\",\"06\\u002f26\\u002f2014\",\"06\\u002f26\\u002f2015\",\"06\\u002f26\\u002f2017\",\"06\\u002f26\\u002f2018\",\"06\\u002f26\\u002f2019\",\"06\\u002f26\\u002f2020\",\"06\\u002f26\\u002f2023\",\"06\\u002f27\\u002f2011\",\"06\\u002f27\\u002f2012\",\"06\\u002f27\\u002f2013\",\"06\\u002f27\\u002f2014\",\"06\\u002f27\\u002f2016\",\"06\\u002f27\\u002f2017\",\"06\\u002f27\\u002f2018\",\"06\\u002f27\\u002f2019\",\"06\\u002f27\\u002f2022\",\"06\\u002f27\\u002f2023\",\"06\\u002f28\\u002f2010\",\"06\\u002f28\\u002f2011\",\"06\\u002f28\\u002f2012\",\"06\\u002f28\\u002f2013\",\"06\\u002f28\\u002f2016\",\"06\\u002f28\\u002f2017\",\"06\\u002f28\\u002f2018\",\"06\\u002f28\\u002f2019\",\"06\\u002f28\\u002f2021\",\"06\\u002f28\\u002f2022\",\"06\\u002f28\\u002f2023\",\"06\\u002f29\\u002f2010\",\"06\\u002f29\\u002f2011\",\"06\\u002f29\\u002f2012\",\"06\\u002f29\\u002f2015\",\"06\\u002f29\\u002f2016\",\"06\\u002f29\\u002f2017\",\"06\\u002f29\\u002f2018\",\"06\\u002f29\\u002f2020\",\"06\\u002f29\\u002f2021\",\"06\\u002f29\\u002f2022\",\"06\\u002f29\\u002f2023\",\"06\\u002f30\\u002f2010\",\"06\\u002f30\\u002f2011\",\"06\\u002f30\\u002f2014\",\"06\\u002f30\\u002f2015\",\"06\\u002f30\\u002f2016\",\"06\\u002f30\\u002f2017\",\"06\\u002f30\\u002f2020\",\"06\\u002f30\\u002f2021\",\"06\\u002f30\\u002f2022\",\"06\\u002f30\\u002f2023\",\"07\\u002f01\\u002f2010\",\"07\\u002f01\\u002f2011\",\"07\\u002f01\\u002f2013\",\"07\\u002f01\\u002f2014\",\"07\\u002f01\\u002f2015\",\"07\\u002f01\\u002f2016\",\"07\\u002f01\\u002f2019\",\"07\\u002f01\\u002f2020\",\"07\\u002f01\\u002f2021\",\"07\\u002f01\\u002f2022\",\"07\\u002f02\\u002f2009\",\"07\\u002f02\\u002f2010\",\"07\\u002f02\\u002f2012\",\"07\\u002f02\\u002f2013\",\"07\\u002f02\\u002f2014\",\"07\\u002f02\\u002f2015\",\"07\\u002f02\\u002f2018\",\"07\\u002f02\\u002f2019\",\"07\\u002f02\\u002f2020\",\"07\\u002f02\\u002f2021\",\"07\\u002f03\\u002f2012\",\"07\\u002f03\\u002f2013\",\"07\\u002f03\\u002f2014\",\"07\\u002f03\\u002f2017\",\"07\\u002f03\\u002f2018\",\"07\\u002f03\\u002f2019\",\"07\\u002f03\\u002f2023\",\"07\\u002f05\\u002f2011\",\"07\\u002f05\\u002f2012\",\"07\\u002f05\\u002f2013\",\"07\\u002f05\\u002f2016\",\"07\\u002f05\\u002f2017\",\"07\\u002f05\\u002f2018\",\"07\\u002f05\\u002f2019\",\"07\\u002f05\\u002f2022\",\"07\\u002f05\\u002f2023\",\"07\\u002f06\\u002f2010\",\"07\\u002f06\\u002f2011\",\"07\\u002f06\\u002f2012\",\"07\\u002f06\\u002f2015\",\"07\\u002f06\\u002f2016\",\"07\\u002f06\\u002f2017\",\"07\\u002f06\\u002f2018\",\"07\\u002f06\\u002f2020\",\"07\\u002f06\\u002f2021\",\"07\\u002f06\\u002f2022\",\"07\\u002f06\\u002f2023\",\"07\\u002f07\\u002f2010\",\"07\\u002f07\\u002f2011\",\"07\\u002f07\\u002f2014\",\"07\\u002f07\\u002f2015\",\"07\\u002f07\\u002f2016\",\"07\\u002f07\\u002f2017\",\"07\\u002f07\\u002f2020\",\"07\\u002f07\\u002f2021\",\"07\\u002f07\\u002f2022\",\"07\\u002f07\\u002f2023\",\"07\\u002f08\\u002f2010\",\"07\\u002f08\\u002f2011\",\"07\\u002f08\\u002f2013\",\"07\\u002f08\\u002f2014\",\"07\\u002f08\\u002f2015\",\"07\\u002f08\\u002f2016\",\"07\\u002f08\\u002f2019\",\"07\\u002f08\\u002f2020\",\"07\\u002f08\\u002f2021\",\"07\\u002f08\\u002f2022\",\"07\\u002f09\\u002f2010\",\"07\\u002f09\\u002f2012\",\"07\\u002f09\\u002f2013\",\"07\\u002f09\\u002f2014\",\"07\\u002f09\\u002f2015\",\"07\\u002f09\\u002f2018\",\"07\\u002f09\\u002f2019\",\"07\\u002f09\\u002f2020\",\"07\\u002f09\\u002f2021\",\"07\\u002f10\\u002f2009\",\"07\\u002f10\\u002f2012\",\"07\\u002f10\\u002f2013\",\"07\\u002f10\\u002f2014\",\"07\\u002f10\\u002f2015\",\"07\\u002f10\\u002f2017\",\"07\\u002f10\\u002f2018\",\"07\\u002f10\\u002f2019\",\"07\\u002f10\\u002f2020\",\"07\\u002f10\\u002f2023\",\"07\\u002f11\\u002f2011\",\"07\\u002f11\\u002f2012\",\"07\\u002f11\\u002f2013\",\"07\\u002f11\\u002f2014\",\"07\\u002f11\\u002f2016\",\"07\\u002f11\\u002f2017\",\"07\\u002f11\\u002f2018\",\"07\\u002f11\\u002f2019\",\"07\\u002f11\\u002f2022\",\"07\\u002f11\\u002f2023\",\"07\\u002f12\\u002f2010\",\"07\\u002f12\\u002f2011\",\"07\\u002f12\\u002f2012\",\"07\\u002f12\\u002f2013\",\"07\\u002f12\\u002f2016\",\"07\\u002f12\\u002f2017\",\"07\\u002f12\\u002f2018\",\"07\\u002f12\\u002f2019\",\"07\\u002f12\\u002f2021\",\"07\\u002f12\\u002f2022\",\"07\\u002f12\\u002f2023\",\"07\\u002f13\\u002f2009\",\"07\\u002f13\\u002f2010\",\"07\\u002f13\\u002f2011\",\"07\\u002f13\\u002f2012\",\"07\\u002f13\\u002f2015\",\"07\\u002f13\\u002f2016\",\"07\\u002f13\\u002f2017\",\"07\\u002f13\\u002f2018\",\"07\\u002f13\\u002f2020\",\"07\\u002f13\\u002f2021\",\"07\\u002f13\\u002f2022\",\"07\\u002f13\\u002f2023\",\"07\\u002f14\\u002f2010\",\"07\\u002f14\\u002f2011\",\"07\\u002f14\\u002f2014\",\"07\\u002f14\\u002f2015\",\"07\\u002f14\\u002f2016\",\"07\\u002f14\\u002f2017\",\"07\\u002f14\\u002f2020\",\"07\\u002f14\\u002f2021\",\"07\\u002f14\\u002f2022\",\"07\\u002f14\\u002f2023\",\"07\\u002f15\\u002f2010\",\"07\\u002f15\\u002f2011\",\"07\\u002f15\\u002f2013\",\"07\\u002f15\\u002f2014\",\"07\\u002f15\\u002f2015\",\"07\\u002f15\\u002f2016\",\"07\\u002f15\\u002f2019\",\"07\\u002f15\\u002f2020\",\"07\\u002f15\\u002f2021\",\"07\\u002f15\\u002f2022\",\"07\\u002f16\\u002f2010\",\"07\\u002f16\\u002f2012\",\"07\\u002f16\\u002f2013\",\"07\\u002f16\\u002f2014\",\"07\\u002f16\\u002f2015\",\"07\\u002f16\\u002f2018\",\"07\\u002f16\\u002f2019\",\"07\\u002f16\\u002f2020\",\"07\\u002f16\\u002f2021\",\"07\\u002f17\\u002f2009\",\"07\\u002f17\\u002f2012\",\"07\\u002f17\\u002f2013\",\"07\\u002f17\\u002f2014\",\"07\\u002f17\\u002f2015\",\"07\\u002f17\\u002f2017\",\"07\\u002f17\\u002f2018\",\"07\\u002f17\\u002f2019\",\"07\\u002f17\\u002f2020\",\"07\\u002f17\\u002f2023\",\"07\\u002f18\\u002f2011\",\"07\\u002f18\\u002f2012\",\"07\\u002f18\\u002f2013\",\"07\\u002f18\\u002f2014\",\"07\\u002f18\\u002f2016\",\"07\\u002f18\\u002f2017\",\"07\\u002f18\\u002f2018\",\"07\\u002f18\\u002f2019\",\"07\\u002f18\\u002f2022\",\"07\\u002f18\\u002f2023\",\"07\\u002f19\\u002f2010\",\"07\\u002f19\\u002f2011\",\"07\\u002f19\\u002f2012\",\"07\\u002f19\\u002f2013\",\"07\\u002f19\\u002f2016\",\"07\\u002f19\\u002f2017\",\"07\\u002f19\\u002f2018\",\"07\\u002f19\\u002f2019\",\"07\\u002f19\\u002f2021\",\"07\\u002f19\\u002f2022\",\"07\\u002f19\\u002f2023\",\"07\\u002f20\\u002f2010\",\"07\\u002f20\\u002f2011\",\"07\\u002f20\\u002f2012\",\"07\\u002f20\\u002f2015\",\"07\\u002f20\\u002f2016\",\"07\\u002f20\\u002f2017\",\"07\\u002f20\\u002f2018\",\"07\\u002f20\\u002f2020\",\"07\\u002f20\\u002f2021\",\"07\\u002f20\\u002f2022\",\"07\\u002f20\\u002f2023\",\"07\\u002f21\\u002f2010\",\"07\\u002f21\\u002f2011\",\"07\\u002f21\\u002f2014\",\"07\\u002f21\\u002f2015\",\"07\\u002f21\\u002f2016\",\"07\\u002f21\\u002f2017\",\"07\\u002f21\\u002f2020\",\"07\\u002f21\\u002f2021\",\"07\\u002f21\\u002f2022\",\"07\\u002f21\\u002f2023\",\"07\\u002f22\\u002f2010\",\"07\\u002f22\\u002f2011\",\"07\\u002f22\\u002f2013\",\"07\\u002f22\\u002f2014\",\"07\\u002f22\\u002f2015\",\"07\\u002f22\\u002f2016\",\"07\\u002f22\\u002f2019\",\"07\\u002f22\\u002f2020\",\"07\\u002f22\\u002f2021\",\"07\\u002f22\\u002f2022\",\"07\\u002f23\\u002f2010\",\"07\\u002f23\\u002f2012\",\"07\\u002f23\\u002f2013\",\"07\\u002f23\\u002f2014\",\"07\\u002f23\\u002f2015\",\"07\\u002f23\\u002f2018\",\"07\\u002f23\\u002f2019\",\"07\\u002f23\\u002f2020\",\"07\\u002f23\\u002f2021\",\"07\\u002f24\\u002f2012\",\"07\\u002f24\\u002f2013\",\"07\\u002f24\\u002f2014\",\"07\\u002f24\\u002f2015\",\"07\\u002f24\\u002f2017\",\"07\\u002f24\\u002f2018\",\"07\\u002f24\\u002f2019\",\"07\\u002f24\\u002f2020\",\"07\\u002f24\\u002f2023\",\"07\\u002f25\\u002f2011\",\"07\\u002f25\\u002f2012\",\"07\\u002f25\\u002f2013\",\"07\\u002f25\\u002f2014\",\"07\\u002f25\\u002f2016\",\"07\\u002f25\\u002f2017\",\"07\\u002f25\\u002f2018\",\"07\\u002f25\\u002f2019\",\"07\\u002f25\\u002f2022\",\"07\\u002f25\\u002f2023\",\"07\\u002f26\\u002f2010\",\"07\\u002f26\\u002f2011\",\"07\\u002f26\\u002f2012\",\"07\\u002f26\\u002f2013\",\"07\\u002f26\\u002f2016\",\"07\\u002f26\\u002f2017\",\"07\\u002f26\\u002f2018\",\"07\\u002f26\\u002f2019\",\"07\\u002f26\\u002f2021\",\"07\\u002f26\\u002f2022\",\"07\\u002f26\\u002f2023\",\"07\\u002f27\\u002f2009\",\"07\\u002f27\\u002f2010\",\"07\\u002f27\\u002f2011\",\"07\\u002f27\\u002f2012\",\"07\\u002f27\\u002f2015\",\"07\\u002f27\\u002f2016\",\"07\\u002f27\\u002f2017\",\"07\\u002f27\\u002f2018\",\"07\\u002f27\\u002f2020\",\"07\\u002f27\\u002f2021\",\"07\\u002f27\\u002f2022\",\"07\\u002f27\\u002f2023\",\"07\\u002f28\\u002f2010\",\"07\\u002f28\\u002f2011\",\"07\\u002f28\\u002f2014\",\"07\\u002f28\\u002f2015\",\"07\\u002f28\\u002f2016\",\"07\\u002f28\\u002f2017\",\"07\\u002f28\\u002f2020\",\"07\\u002f28\\u002f2021\",\"07\\u002f28\\u002f2022\",\"07\\u002f28\\u002f2023\",\"07\\u002f29\\u002f2010\",\"07\\u002f29\\u002f2011\",\"07\\u002f29\\u002f2013\",\"07\\u002f29\\u002f2014\",\"07\\u002f29\\u002f2015\",\"07\\u002f29\\u002f2016\",\"07\\u002f29\\u002f2019\",\"07\\u002f29\\u002f2020\",\"07\\u002f29\\u002f2021\",\"07\\u002f29\\u002f2022\",\"07\\u002f30\\u002f2010\",\"07\\u002f30\\u002f2012\",\"07\\u002f30\\u002f2013\",\"07\\u002f30\\u002f2014\",\"07\\u002f30\\u002f2015\",\"07\\u002f30\\u002f2018\",\"07\\u002f30\\u002f2019\",\"07\\u002f30\\u002f2020\",\"07\\u002f30\\u002f2021\",\"07\\u002f31\\u002f2012\",\"07\\u002f31\\u002f2013\",\"07\\u002f31\\u002f2014\",\"07\\u002f31\\u002f2015\",\"07\\u002f31\\u002f2017\",\"07\\u002f31\\u002f2018\",\"07\\u002f31\\u002f2019\",\"07\\u002f31\\u002f2020\",\"07\\u002f31\\u002f2023\",\"08\\u002f01\\u002f2011\",\"08\\u002f01\\u002f2012\",\"08\\u002f01\\u002f2013\",\"08\\u002f01\\u002f2014\",\"08\\u002f01\\u002f2016\",\"08\\u002f01\\u002f2017\",\"08\\u002f01\\u002f2018\",\"08\\u002f01\\u002f2019\",\"08\\u002f01\\u002f2022\",\"08\\u002f01\\u002f2023\",\"08\\u002f02\\u002f2010\",\"08\\u002f02\\u002f2011\",\"08\\u002f02\\u002f2012\",\"08\\u002f02\\u002f2013\",\"08\\u002f02\\u002f2016\",\"08\\u002f02\\u002f2017\",\"08\\u002f02\\u002f2018\",\"08\\u002f02\\u002f2019\",\"08\\u002f02\\u002f2021\",\"08\\u002f02\\u002f2022\",\"08\\u002f02\\u002f2023\",\"08\\u002f03\\u002f2010\",\"08\\u002f03\\u002f2011\",\"08\\u002f03\\u002f2012\",\"08\\u002f03\\u002f2015\",\"08\\u002f03\\u002f2016\",\"08\\u002f03\\u002f2017\",\"08\\u002f03\\u002f2018\",\"08\\u002f03\\u002f2020\",\"08\\u002f03\\u002f2021\",\"08\\u002f03\\u002f2022\",\"08\\u002f03\\u002f2023\",\"08\\u002f04\\u002f2010\",\"08\\u002f04\\u002f2011\",\"08\\u002f04\\u002f2014\",\"08\\u002f04\\u002f2015\",\"08\\u002f04\\u002f2016\",\"08\\u002f04\\u002f2017\",\"08\\u002f04\\u002f2020\",\"08\\u002f04\\u002f2021\",\"08\\u002f04\\u002f2022\",\"08\\u002f04\\u002f2023\",\"08\\u002f05\\u002f2010\",\"08\\u002f05\\u002f2011\",\"08\\u002f05\\u002f2013\",\"08\\u002f05\\u002f2014\",\"08\\u002f05\\u002f2015\",\"08\\u002f05\\u002f2016\",\"08\\u002f05\\u002f2019\",\"08\\u002f05\\u002f2020\",\"08\\u002f05\\u002f2021\",\"08\\u002f05\\u002f2022\",\"08\\u002f06\\u002f2010\",\"08\\u002f06\\u002f2012\",\"08\\u002f06\\u002f2013\",\"08\\u002f06\\u002f2014\",\"08\\u002f06\\u002f2015\",\"08\\u002f06\\u002f2018\",\"08\\u002f06\\u002f2019\",\"08\\u002f06\\u002f2020\",\"08\\u002f06\\u002f2021\",\"08\\u002f07\\u002f2009\",\"08\\u002f07\\u002f2012\",\"08\\u002f07\\u002f2013\",\"08\\u002f07\\u002f2014\",\"08\\u002f07\\u002f2015\",\"08\\u002f07\\u002f2017\",\"08\\u002f07\\u002f2018\",\"08\\u002f07\\u002f2019\",\"08\\u002f07\\u002f2020\",\"08\\u002f07\\u002f2023\",\"08\\u002f08\\u002f2011\",\"08\\u002f08\\u002f2012\",\"08\\u002f08\\u002f2013\",\"08\\u002f08\\u002f2014\",\"08\\u002f08\\u002f2016\",\"08\\u002f08\\u002f2017\",\"08\\u002f08\\u002f2018\",\"08\\u002f08\\u002f2019\",\"08\\u002f08\\u002f2022\",\"08\\u002f08\\u002f2023\",\"08\\u002f09\\u002f2010\",\"08\\u002f09\\u002f2011\",\"08\\u002f09\\u002f2012\",\"08\\u002f09\\u002f2013\",\"08\\u002f09\\u002f2016\",\"08\\u002f09\\u002f2017\",\"08\\u002f09\\u002f2018\",\"08\\u002f09\\u002f2019\",\"08\\u002f09\\u002f2021\",\"08\\u002f09\\u002f2022\",\"08\\u002f09\\u002f2023\",\"08\\u002f10\\u002f2010\",\"08\\u002f10\\u002f2011\",\"08\\u002f10\\u002f2012\",\"08\\u002f10\\u002f2015\",\"08\\u002f10\\u002f2016\",\"08\\u002f10\\u002f2017\",\"08\\u002f10\\u002f2018\",\"08\\u002f10\\u002f2020\",\"08\\u002f10\\u002f2021\",\"08\\u002f10\\u002f2022\",\"08\\u002f10\\u002f2023\",\"08\\u002f11\\u002f2010\",\"08\\u002f11\\u002f2011\",\"08\\u002f11\\u002f2014\",\"08\\u002f11\\u002f2015\",\"08\\u002f11\\u002f2016\",\"08\\u002f11\\u002f2017\",\"08\\u002f11\\u002f2020\",\"08\\u002f11\\u002f2021\",\"08\\u002f11\\u002f2022\",\"08\\u002f11\\u002f2023\",\"08\\u002f12\\u002f2009\",\"08\\u002f12\\u002f2010\",\"08\\u002f12\\u002f2011\",\"08\\u002f12\\u002f2013\",\"08\\u002f12\\u002f2014\",\"08\\u002f12\\u002f2015\",\"08\\u002f12\\u002f2016\",\"08\\u002f12\\u002f2019\",\"08\\u002f12\\u002f2020\",\"08\\u002f12\\u002f2021\",\"08\\u002f12\\u002f2022\",\"08\\u002f13\\u002f2009\",\"08\\u002f13\\u002f2010\",\"08\\u002f13\\u002f2012\",\"08\\u002f13\\u002f2013\",\"08\\u002f13\\u002f2014\",\"08\\u002f13\\u002f2015\",\"08\\u002f13\\u002f2018\",\"08\\u002f13\\u002f2019\",\"08\\u002f13\\u002f2020\",\"08\\u002f13\\u002f2021\",\"08\\u002f14\\u002f2012\",\"08\\u002f14\\u002f2013\",\"08\\u002f14\\u002f2014\",\"08\\u002f14\\u002f2015\",\"08\\u002f14\\u002f2017\",\"08\\u002f14\\u002f2018\",\"08\\u002f14\\u002f2019\",\"08\\u002f14\\u002f2020\",\"08\\u002f14\\u002f2023\",\"08\\u002f15\\u002f2011\",\"08\\u002f15\\u002f2012\",\"08\\u002f15\\u002f2013\",\"08\\u002f15\\u002f2014\",\"08\\u002f15\\u002f2016\",\"08\\u002f15\\u002f2017\",\"08\\u002f15\\u002f2018\",\"08\\u002f15\\u002f2019\",\"08\\u002f15\\u002f2022\",\"08\\u002f15\\u002f2023\",\"08\\u002f16\\u002f2010\",\"08\\u002f16\\u002f2011\",\"08\\u002f16\\u002f2012\",\"08\\u002f16\\u002f2013\",\"08\\u002f16\\u002f2016\",\"08\\u002f16\\u002f2017\",\"08\\u002f16\\u002f2018\",\"08\\u002f16\\u002f2019\",\"08\\u002f16\\u002f2021\",\"08\\u002f16\\u002f2022\",\"08\\u002f16\\u002f2023\",\"08\\u002f17\\u002f2010\",\"08\\u002f17\\u002f2011\",\"08\\u002f17\\u002f2012\",\"08\\u002f17\\u002f2015\",\"08\\u002f17\\u002f2016\",\"08\\u002f17\\u002f2017\",\"08\\u002f17\\u002f2018\",\"08\\u002f17\\u002f2020\",\"08\\u002f17\\u002f2021\",\"08\\u002f17\\u002f2022\",\"08\\u002f17\\u002f2023\",\"08\\u002f18\\u002f2010\",\"08\\u002f18\\u002f2011\",\"08\\u002f18\\u002f2014\",\"08\\u002f18\\u002f2015\",\"08\\u002f18\\u002f2016\",\"08\\u002f18\\u002f2017\",\"08\\u002f18\\u002f2020\",\"08\\u002f18\\u002f2021\",\"08\\u002f18\\u002f2022\",\"08\\u002f18\\u002f2023\",\"08\\u002f19\\u002f2010\",\"08\\u002f19\\u002f2011\",\"08\\u002f19\\u002f2013\",\"08\\u002f19\\u002f2014\",\"08\\u002f19\\u002f2015\",\"08\\u002f19\\u002f2016\",\"08\\u002f19\\u002f2019\",\"08\\u002f19\\u002f2020\",\"08\\u002f19\\u002f2021\",\"08\\u002f19\\u002f2022\",\"08\\u002f20\\u002f2010\",\"08\\u002f20\\u002f2012\",\"08\\u002f20\\u002f2013\",\"08\\u002f20\\u002f2014\",\"08\\u002f20\\u002f2015\",\"08\\u002f20\\u002f2018\",\"08\\u002f20\\u002f2019\",\"08\\u002f20\\u002f2020\",\"08\\u002f20\\u002f2021\",\"08\\u002f21\\u002f2012\",\"08\\u002f21\\u002f2013\",\"08\\u002f21\\u002f2014\",\"08\\u002f21\\u002f2015\",\"08\\u002f21\\u002f2017\",\"08\\u002f21\\u002f2018\",\"08\\u002f21\\u002f2019\",\"08\\u002f21\\u002f2020\",\"08\\u002f21\\u002f2023\",\"08\\u002f22\\u002f2011\",\"08\\u002f22\\u002f2012\",\"08\\u002f22\\u002f2013\",\"08\\u002f22\\u002f2014\",\"08\\u002f22\\u002f2016\",\"08\\u002f22\\u002f2017\",\"08\\u002f22\\u002f2018\",\"08\\u002f22\\u002f2019\",\"08\\u002f22\\u002f2022\",\"08\\u002f22\\u002f2023\",\"08\\u002f23\\u002f2010\",\"08\\u002f23\\u002f2011\",\"08\\u002f23\\u002f2012\",\"08\\u002f23\\u002f2013\",\"08\\u002f23\\u002f2016\",\"08\\u002f23\\u002f2017\",\"08\\u002f23\\u002f2018\",\"08\\u002f23\\u002f2019\",\"08\\u002f23\\u002f2021\",\"08\\u002f23\\u002f2022\",\"08\\u002f23\\u002f2023\",\"08\\u002f24\\u002f2010\",\"08\\u002f24\\u002f2011\",\"08\\u002f24\\u002f2012\",\"08\\u002f24\\u002f2015\",\"08\\u002f24\\u002f2016\",\"08\\u002f24\\u002f2017\",\"08\\u002f24\\u002f2018\",\"08\\u002f24\\u002f2020\",\"08\\u002f24\\u002f2021\",\"08\\u002f24\\u002f2022\",\"08\\u002f24\\u002f2023\",\"08\\u002f25\\u002f2009\",\"08\\u002f25\\u002f2010\",\"08\\u002f25\\u002f2011\",\"08\\u002f25\\u002f2014\",\"08\\u002f25\\u002f2015\",\"08\\u002f25\\u002f2016\",\"08\\u002f25\\u002f2017\",\"08\\u002f25\\u002f2020\",\"08\\u002f25\\u002f2021\",\"08\\u002f25\\u002f2022\",\"08\\u002f25\\u002f2023\",\"08\\u002f26\\u002f2010\",\"08\\u002f26\\u002f2011\",\"08\\u002f26\\u002f2013\",\"08\\u002f26\\u002f2014\",\"08\\u002f26\\u002f2015\",\"08\\u002f26\\u002f2016\",\"08\\u002f26\\u002f2019\",\"08\\u002f26\\u002f2020\",\"08\\u002f26\\u002f2021\",\"08\\u002f26\\u002f2022\",\"08\\u002f27\\u002f2010\",\"08\\u002f27\\u002f2012\",\"08\\u002f27\\u002f2013\",\"08\\u002f27\\u002f2014\",\"08\\u002f27\\u002f2015\",\"08\\u002f27\\u002f2018\",\"08\\u002f27\\u002f2019\",\"08\\u002f27\\u002f2020\",\"08\\u002f27\\u002f2021\",\"08\\u002f28\\u002f2012\",\"08\\u002f28\\u002f2013\",\"08\\u002f28\\u002f2014\",\"08\\u002f28\\u002f2015\",\"08\\u002f28\\u002f2017\",\"08\\u002f28\\u002f2018\",\"08\\u002f28\\u002f2019\",\"08\\u002f28\\u002f2020\",\"08\\u002f28\\u002f2023\",\"08\\u002f29\\u002f2011\",\"08\\u002f29\\u002f2012\",\"08\\u002f29\\u002f2013\",\"08\\u002f29\\u002f2014\",\"08\\u002f29\\u002f2016\",\"08\\u002f29\\u002f2017\",\"08\\u002f29\\u002f2018\",\"08\\u002f29\\u002f2019\",\"08\\u002f29\\u002f2022\",\"08\\u002f29\\u002f2023\",\"08\\u002f30\\u002f2010\",\"08\\u002f30\\u002f2011\",\"08\\u002f30\\u002f2012\",\"08\\u002f30\\u002f2013\",\"08\\u002f30\\u002f2016\",\"08\\u002f30\\u002f2017\",\"08\\u002f30\\u002f2018\",\"08\\u002f30\\u002f2019\",\"08\\u002f30\\u002f2021\",\"08\\u002f30\\u002f2022\",\"08\\u002f30\\u002f2023\",\"08\\u002f31\\u002f2009\",\"08\\u002f31\\u002f2010\",\"08\\u002f31\\u002f2011\",\"08\\u002f31\\u002f2012\",\"08\\u002f31\\u002f2015\",\"08\\u002f31\\u002f2016\",\"08\\u002f31\\u002f2017\",\"08\\u002f31\\u002f2018\",\"08\\u002f31\\u002f2020\",\"08\\u002f31\\u002f2021\",\"08\\u002f31\\u002f2022\",\"08\\u002f31\\u002f2023\",\"09\\u002f01\\u002f2009\",\"09\\u002f01\\u002f2010\",\"09\\u002f01\\u002f2011\",\"09\\u002f01\\u002f2015\",\"09\\u002f01\\u002f2016\",\"09\\u002f01\\u002f2017\",\"09\\u002f01\\u002f2020\",\"09\\u002f01\\u002f2021\",\"09\\u002f01\\u002f2022\",\"09\\u002f01\\u002f2023\",\"09\\u002f02\\u002f2009\",\"09\\u002f02\\u002f2010\",\"09\\u002f02\\u002f2011\",\"09\\u002f02\\u002f2014\",\"09\\u002f02\\u002f2015\",\"09\\u002f02\\u002f2016\",\"09\\u002f02\\u002f2020\",\"09\\u002f02\\u002f2021\",\"09\\u002f02\\u002f2022\",\"09\\u002f03\\u002f2010\",\"09\\u002f03\\u002f2013\",\"09\\u002f03\\u002f2014\",\"09\\u002f03\\u002f2015\",\"09\\u002f03\\u002f2019\",\"09\\u002f03\\u002f2020\",\"09\\u002f03\\u002f2021\",\"09\\u002f04\\u002f2012\",\"09\\u002f04\\u002f2013\",\"09\\u002f04\\u002f2014\",\"09\\u002f04\\u002f2015\",\"09\\u002f04\\u002f2018\",\"09\\u002f04\\u002f2019\",\"09\\u002f04\\u002f2020\",\"09\\u002f05\\u002f2012\",\"09\\u002f05\\u002f2013\",\"09\\u002f05\\u002f2014\",\"09\\u002f05\\u002f2017\",\"09\\u002f05\\u002f2018\",\"09\\u002f05\\u002f2019\",\"09\\u002f05\\u002f2023\",\"09\\u002f06\\u002f2011\",\"09\\u002f06\\u002f2012\",\"09\\u002f06\\u002f2013\",\"09\\u002f06\\u002f2016\",\"09\\u002f06\\u002f2017\",\"09\\u002f06\\u002f2018\",\"09\\u002f06\\u002f2019\",\"09\\u002f06\\u002f2022\",\"09\\u002f06\\u002f2023\",\"09\\u002f07\\u002f2010\",\"09\\u002f07\\u002f2011\",\"09\\u002f07\\u002f2012\",\"09\\u002f07\\u002f2016\",\"09\\u002f07\\u002f2017\",\"09\\u002f07\\u002f2018\",\"09\\u002f07\\u002f2021\",\"09\\u002f07\\u002f2022\",\"09\\u002f07\\u002f2023\",\"09\\u002f08\\u002f2010\",\"09\\u002f08\\u002f2011\",\"09\\u002f08\\u002f2014\",\"09\\u002f08\\u002f2015\",\"09\\u002f08\\u002f2016\",\"09\\u002f08\\u002f2017\",\"09\\u002f08\\u002f2020\",\"09\\u002f08\\u002f2021\",\"09\\u002f08\\u002f2022\",\"09\\u002f08\\u002f2023\",\"09\\u002f09\\u002f2010\",\"09\\u002f09\\u002f2011\",\"09\\u002f09\\u002f2013\",\"09\\u002f09\\u002f2014\",\"09\\u002f09\\u002f2015\",\"09\\u002f09\\u002f2016\",\"09\\u002f09\\u002f2019\",\"09\\u002f09\\u002f2020\",\"09\\u002f09\\u002f2021\",\"09\\u002f09\\u002f2022\",\"09\\u002f10\\u002f2010\",\"09\\u002f10\\u002f2012\",\"09\\u002f10\\u002f2013\",\"09\\u002f10\\u002f2014\",\"09\\u002f10\\u002f2015\",\"09\\u002f10\\u002f2018\",\"09\\u002f10\\u002f2019\",\"09\\u002f10\\u002f2020\",\"09\\u002f10\\u002f2021\",\"09\\u002f11\\u002f2009\",\"09\\u002f11\\u002f2012\",\"09\\u002f11\\u002f2013\",\"09\\u002f11\\u002f2014\",\"09\\u002f11\\u002f2015\",\"09\\u002f11\\u002f2017\",\"09\\u002f11\\u002f2018\",\"09\\u002f11\\u002f2019\",\"09\\u002f11\\u002f2020\",\"09\\u002f11\\u002f2023\",\"09\\u002f12\\u002f2011\",\"09\\u002f12\\u002f2012\",\"09\\u002f12\\u002f2013\",\"09\\u002f12\\u002f2014\",\"09\\u002f12\\u002f2016\",\"09\\u002f12\\u002f2017\",\"09\\u002f12\\u002f2018\",\"09\\u002f12\\u002f2019\",\"09\\u002f12\\u002f2022\",\"09\\u002f12\\u002f2023\",\"09\\u002f13\\u002f2010\",\"09\\u002f13\\u002f2011\",\"09\\u002f13\\u002f2012\",\"09\\u002f13\\u002f2013\",\"09\\u002f13\\u002f2016\",\"09\\u002f13\\u002f2017\",\"09\\u002f13\\u002f2018\",\"09\\u002f13\\u002f2019\",\"09\\u002f13\\u002f2021\",\"09\\u002f13\\u002f2022\",\"09\\u002f13\\u002f2023\",\"09\\u002f14\\u002f2009\",\"09\\u002f14\\u002f2010\",\"09\\u002f14\\u002f2011\",\"09\\u002f14\\u002f2012\",\"09\\u002f14\\u002f2015\",\"09\\u002f14\\u002f2016\",\"09\\u002f14\\u002f2017\",\"09\\u002f14\\u002f2018\",\"09\\u002f14\\u002f2020\",\"09\\u002f14\\u002f2021\",\"09\\u002f14\\u002f2022\",\"09\\u002f14\\u002f2023\",\"09\\u002f15\\u002f2009\",\"09\\u002f15\\u002f2010\",\"09\\u002f15\\u002f2011\",\"09\\u002f15\\u002f2014\",\"09\\u002f15\\u002f2015\",\"09\\u002f15\\u002f2016\",\"09\\u002f15\\u002f2017\",\"09\\u002f15\\u002f2020\",\"09\\u002f15\\u002f2021\",\"09\\u002f15\\u002f2022\",\"09\\u002f15\\u002f2023\",\"09\\u002f16\\u002f2009\",\"09\\u002f16\\u002f2010\",\"09\\u002f16\\u002f2011\",\"09\\u002f16\\u002f2013\",\"09\\u002f16\\u002f2014\",\"09\\u002f16\\u002f2015\",\"09\\u002f16\\u002f2016\",\"09\\u002f16\\u002f2019\",\"09\\u002f16\\u002f2020\",\"09\\u002f16\\u002f2021\",\"09\\u002f16\\u002f2022\",\"09\\u002f17\\u002f2009\",\"09\\u002f17\\u002f2010\",\"09\\u002f17\\u002f2012\",\"09\\u002f17\\u002f2013\",\"09\\u002f17\\u002f2014\",\"09\\u002f17\\u002f2015\",\"09\\u002f17\\u002f2018\",\"09\\u002f17\\u002f2019\",\"09\\u002f17\\u002f2020\",\"09\\u002f17\\u002f2021\",\"09\\u002f18\\u002f2009\",\"09\\u002f18\\u002f2012\",\"09\\u002f18\\u002f2013\",\"09\\u002f18\\u002f2014\",\"09\\u002f18\\u002f2015\",\"09\\u002f18\\u002f2017\",\"09\\u002f18\\u002f2018\",\"09\\u002f18\\u002f2019\",\"09\\u002f18\\u002f2020\",\"09\\u002f18\\u002f2023\",\"09\\u002f19\\u002f2011\",\"09\\u002f19\\u002f2012\",\"09\\u002f19\\u002f2013\",\"09\\u002f19\\u002f2014\",\"09\\u002f19\\u002f2016\",\"09\\u002f19\\u002f2017\",\"09\\u002f19\\u002f2018\",\"09\\u002f19\\u002f2019\",\"09\\u002f19\\u002f2022\",\"09\\u002f19\\u002f2023\",\"09\\u002f20\\u002f2010\",\"09\\u002f20\\u002f2011\",\"09\\u002f20\\u002f2012\",\"09\\u002f20\\u002f2013\",\"09\\u002f20\\u002f2016\",\"09\\u002f20\\u002f2017\",\"09\\u002f20\\u002f2018\",\"09\\u002f20\\u002f2019\",\"09\\u002f20\\u002f2021\",\"09\\u002f20\\u002f2022\",\"09\\u002f20\\u002f2023\",\"09\\u002f21\\u002f2009\",\"09\\u002f21\\u002f2010\",\"09\\u002f21\\u002f2011\",\"09\\u002f21\\u002f2012\",\"09\\u002f21\\u002f2015\",\"09\\u002f21\\u002f2016\",\"09\\u002f21\\u002f2017\",\"09\\u002f21\\u002f2018\",\"09\\u002f21\\u002f2020\",\"09\\u002f21\\u002f2021\",\"09\\u002f21\\u002f2022\",\"09\\u002f21\\u002f2023\",\"09\\u002f22\\u002f2009\",\"09\\u002f22\\u002f2010\",\"09\\u002f22\\u002f2011\",\"09\\u002f22\\u002f2014\",\"09\\u002f22\\u002f2015\",\"09\\u002f22\\u002f2016\",\"09\\u002f22\\u002f2017\",\"09\\u002f22\\u002f2020\",\"09\\u002f22\\u002f2021\",\"09\\u002f22\\u002f2022\",\"09\\u002f22\\u002f2023\",\"09\\u002f23\\u002f2009\",\"09\\u002f23\\u002f2010\",\"09\\u002f23\\u002f2011\",\"09\\u002f23\\u002f2013\",\"09\\u002f23\\u002f2014\",\"09\\u002f23\\u002f2015\",\"09\\u002f23\\u002f2016\",\"09\\u002f23\\u002f2019\",\"09\\u002f23\\u002f2020\",\"09\\u002f23\\u002f2021\",\"09\\u002f23\\u002f2022\",\"09\\u002f24\\u002f2010\",\"09\\u002f24\\u002f2012\",\"09\\u002f24\\u002f2013\",\"09\\u002f24\\u002f2014\",\"09\\u002f24\\u002f2015\",\"09\\u002f24\\u002f2018\",\"09\\u002f24\\u002f2019\",\"09\\u002f24\\u002f2020\",\"09\\u002f24\\u002f2021\",\"09\\u002f25\\u002f2012\",\"09\\u002f25\\u002f2013\",\"09\\u002f25\\u002f2014\",\"09\\u002f25\\u002f2015\",\"09\\u002f25\\u002f2017\",\"09\\u002f25\\u002f2018\",\"09\\u002f25\\u002f2019\",\"09\\u002f25\\u002f2020\",\"09\\u002f25\\u002f2023\",\"09\\u002f26\\u002f2011\",\"09\\u002f26\\u002f2012\",\"09\\u002f26\\u002f2013\",\"09\\u002f26\\u002f2014\",\"09\\u002f26\\u002f2016\",\"09\\u002f26\\u002f2017\",\"09\\u002f26\\u002f2018\",\"09\\u002f26\\u002f2019\",\"09\\u002f26\\u002f2022\",\"09\\u002f26\\u002f2023\",\"09\\u002f27\\u002f2010\",\"09\\u002f27\\u002f2011\",\"09\\u002f27\\u002f2012\",\"09\\u002f27\\u002f2013\",\"09\\u002f27\\u002f2016\",\"09\\u002f27\\u002f2017\",\"09\\u002f27\\u002f2018\",\"09\\u002f27\\u002f2019\",\"09\\u002f27\\u002f2021\",\"09\\u002f27\\u002f2022\",\"09\\u002f27\\u002f2023\",\"09\\u002f28\\u002f2010\",\"09\\u002f28\\u002f2011\",\"09\\u002f28\\u002f2012\",\"09\\u002f28\\u002f2015\",\"09\\u002f28\\u002f2016\",\"09\\u002f28\\u002f2017\",\"09\\u002f28\\u002f2018\",\"09\\u002f28\\u002f2020\",\"09\\u002f28\\u002f2021\",\"09\\u002f28\\u002f2022\",\"09\\u002f28\\u002f2023\",\"09\\u002f29\\u002f2010\",\"09\\u002f29\\u002f2011\",\"09\\u002f29\\u002f2014\",\"09\\u002f29\\u002f2015\",\"09\\u002f29\\u002f2016\",\"09\\u002f29\\u002f2017\",\"09\\u002f29\\u002f2020\",\"09\\u002f29\\u002f2021\",\"09\\u002f29\\u002f2022\",\"09\\u002f29\\u002f2023\",\"09\\u002f30\\u002f2009\",\"09\\u002f30\\u002f2010\",\"09\\u002f30\\u002f2011\",\"09\\u002f30\\u002f2013\",\"09\\u002f30\\u002f2014\",\"09\\u002f30\\u002f2015\",\"09\\u002f30\\u002f2016\",\"09\\u002f30\\u002f2019\",\"09\\u002f30\\u002f2020\",\"09\\u002f30\\u002f2021\",\"09\\u002f30\\u002f2022\",\"10\\u002f01\\u002f2009\",\"10\\u002f01\\u002f2010\",\"10\\u002f01\\u002f2012\",\"10\\u002f01\\u002f2013\",\"10\\u002f01\\u002f2014\",\"10\\u002f01\\u002f2015\",\"10\\u002f01\\u002f2018\",\"10\\u002f01\\u002f2019\",\"10\\u002f01\\u002f2020\",\"10\\u002f01\\u002f2021\",\"10\\u002f02\\u002f2009\",\"10\\u002f02\\u002f2012\",\"10\\u002f02\\u002f2013\",\"10\\u002f02\\u002f2014\",\"10\\u002f02\\u002f2015\",\"10\\u002f02\\u002f2017\",\"10\\u002f02\\u002f2018\",\"10\\u002f02\\u002f2019\",\"10\\u002f02\\u002f2020\",\"10\\u002f02\\u002f2023\",\"10\\u002f03\\u002f2011\",\"10\\u002f03\\u002f2012\",\"10\\u002f03\\u002f2013\",\"10\\u002f03\\u002f2014\",\"10\\u002f03\\u002f2016\",\"10\\u002f03\\u002f2017\",\"10\\u002f03\\u002f2018\",\"10\\u002f03\\u002f2019\",\"10\\u002f03\\u002f2022\",\"10\\u002f03\\u002f2023\",\"10\\u002f04\\u002f2010\",\"10\\u002f04\\u002f2011\",\"10\\u002f04\\u002f2012\",\"10\\u002f04\\u002f2013\",\"10\\u002f04\\u002f2016\",\"10\\u002f04\\u002f2017\",\"10\\u002f04\\u002f2018\",\"10\\u002f04\\u002f2019\",\"10\\u002f04\\u002f2021\",\"10\\u002f04\\u002f2022\",\"10\\u002f04\\u002f2023\",\"10\\u002f05\\u002f2009\",\"10\\u002f05\\u002f2010\",\"10\\u002f05\\u002f2011\",\"10\\u002f05\\u002f2012\",\"10\\u002f05\\u002f2015\",\"10\\u002f05\\u002f2016\",\"10\\u002f05\\u002f2017\",\"10\\u002f05\\u002f2018\",\"10\\u002f05\\u002f2020\",\"10\\u002f05\\u002f2021\",\"10\\u002f05\\u002f2022\",\"10\\u002f05\\u002f2023\",\"10\\u002f06\\u002f2009\",\"10\\u002f06\\u002f2010\",\"10\\u002f06\\u002f2011\",\"10\\u002f06\\u002f2014\",\"10\\u002f06\\u002f2015\",\"10\\u002f06\\u002f2016\",\"10\\u002f06\\u002f2017\",\"10\\u002f06\\u002f2020\",\"10\\u002f06\\u002f2021\",\"10\\u002f06\\u002f2022\",\"10\\u002f06\\u002f2023\",\"10\\u002f07\\u002f2009\",\"10\\u002f07\\u002f2010\",\"10\\u002f07\\u002f2011\",\"10\\u002f07\\u002f2013\",\"10\\u002f07\\u002f2014\",\"10\\u002f07\\u002f2015\",\"10\\u002f07\\u002f2016\",\"10\\u002f07\\u002f2019\",\"10\\u002f07\\u002f2020\",\"10\\u002f07\\u002f2021\",\"10\\u002f07\\u002f2022\",\"10\\u002f08\\u002f2009\",\"10\\u002f08\\u002f2010\",\"10\\u002f08\\u002f2012\",\"10\\u002f08\\u002f2013\",\"10\\u002f08\\u002f2014\",\"10\\u002f08\\u002f2015\",\"10\\u002f08\\u002f2018\",\"10\\u002f08\\u002f2019\",\"10\\u002f08\\u002f2020\",\"10\\u002f08\\u002f2021\",\"10\\u002f09\\u002f2009\",\"10\\u002f09\\u002f2012\",\"10\\u002f09\\u002f2013\",\"10\\u002f09\\u002f2014\",\"10\\u002f09\\u002f2015\",\"10\\u002f09\\u002f2017\",\"10\\u002f09\\u002f2018\",\"10\\u002f09\\u002f2019\",\"10\\u002f09\\u002f2020\",\"10\\u002f09\\u002f2023\",\"10\\u002f10\\u002f2011\",\"10\\u002f10\\u002f2012\",\"10\\u002f10\\u002f2013\",\"10\\u002f10\\u002f2014\",\"10\\u002f10\\u002f2016\",\"10\\u002f10\\u002f2017\",\"10\\u002f10\\u002f2018\",\"10\\u002f10\\u002f2019\",\"10\\u002f10\\u002f2022\",\"10\\u002f10\\u002f2023\",\"10\\u002f11\\u002f2010\",\"10\\u002f11\\u002f2011\",\"10\\u002f11\\u002f2012\",\"10\\u002f11\\u002f2013\",\"10\\u002f11\\u002f2016\",\"10\\u002f11\\u002f2017\",\"10\\u002f11\\u002f2018\",\"10\\u002f11\\u002f2019\",\"10\\u002f11\\u002f2021\",\"10\\u002f11\\u002f2022\",\"10\\u002f11\\u002f2023\",\"10\\u002f12\\u002f2009\",\"10\\u002f12\\u002f2010\",\"10\\u002f12\\u002f2011\",\"10\\u002f12\\u002f2012\",\"10\\u002f12\\u002f2015\",\"10\\u002f12\\u002f2016\",\"10\\u002f12\\u002f2017\",\"10\\u002f12\\u002f2018\",\"10\\u002f12\\u002f2020\",\"10\\u002f12\\u002f2021\",\"10\\u002f12\\u002f2022\",\"10\\u002f12\\u002f2023\",\"10\\u002f13\\u002f2009\",\"10\\u002f13\\u002f2010\",\"10\\u002f13\\u002f2011\",\"10\\u002f13\\u002f2014\",\"10\\u002f13\\u002f2015\",\"10\\u002f13\\u002f2016\",\"10\\u002f13\\u002f2017\",\"10\\u002f13\\u002f2020\",\"10\\u002f13\\u002f2021\",\"10\\u002f13\\u002f2022\",\"10\\u002f13\\u002f2023\",\"10\\u002f14\\u002f2009\",\"10\\u002f14\\u002f2010\",\"10\\u002f14\\u002f2011\",\"10\\u002f14\\u002f2013\",\"10\\u002f14\\u002f2014\",\"10\\u002f14\\u002f2015\",\"10\\u002f14\\u002f2016\",\"10\\u002f14\\u002f2019\",\"10\\u002f14\\u002f2020\",\"10\\u002f14\\u002f2021\",\"10\\u002f14\\u002f2022\",\"10\\u002f15\\u002f2009\",\"10\\u002f15\\u002f2010\",\"10\\u002f15\\u002f2012\",\"10\\u002f15\\u002f2013\",\"10\\u002f15\\u002f2014\",\"10\\u002f15\\u002f2015\",\"10\\u002f15\\u002f2018\",\"10\\u002f15\\u002f2019\",\"10\\u002f15\\u002f2020\",\"10\\u002f15\\u002f2021\",\"10\\u002f16\\u002f2009\",\"10\\u002f16\\u002f2012\",\"10\\u002f16\\u002f2013\",\"10\\u002f16\\u002f2014\",\"10\\u002f16\\u002f2015\",\"10\\u002f16\\u002f2017\",\"10\\u002f16\\u002f2018\",\"10\\u002f16\\u002f2019\",\"10\\u002f16\\u002f2020\",\"10\\u002f16\\u002f2023\",\"10\\u002f17\\u002f2011\",\"10\\u002f17\\u002f2012\",\"10\\u002f17\\u002f2013\",\"10\\u002f17\\u002f2014\",\"10\\u002f17\\u002f2016\",\"10\\u002f17\\u002f2017\",\"10\\u002f17\\u002f2018\",\"10\\u002f17\\u002f2019\",\"10\\u002f17\\u002f2022\",\"10\\u002f17\\u002f2023\",\"10\\u002f18\\u002f2010\",\"10\\u002f18\\u002f2011\",\"10\\u002f18\\u002f2012\",\"10\\u002f18\\u002f2013\",\"10\\u002f18\\u002f2016\",\"10\\u002f18\\u002f2017\",\"10\\u002f18\\u002f2018\",\"10\\u002f18\\u002f2019\",\"10\\u002f18\\u002f2021\",\"10\\u002f18\\u002f2022\",\"10\\u002f18\\u002f2023\",\"10\\u002f19\\u002f2009\",\"10\\u002f19\\u002f2010\",\"10\\u002f19\\u002f2011\",\"10\\u002f19\\u002f2012\",\"10\\u002f19\\u002f2015\",\"10\\u002f19\\u002f2016\",\"10\\u002f19\\u002f2017\",\"10\\u002f19\\u002f2018\",\"10\\u002f19\\u002f2020\",\"10\\u002f19\\u002f2021\",\"10\\u002f19\\u002f2022\",\"10\\u002f19\\u002f2023\",\"10\\u002f20\\u002f2009\",\"10\\u002f20\\u002f2010\",\"10\\u002f20\\u002f2011\",\"10\\u002f20\\u002f2014\",\"10\\u002f20\\u002f2015\",\"10\\u002f20\\u002f2016\",\"10\\u002f20\\u002f2017\",\"10\\u002f20\\u002f2020\",\"10\\u002f20\\u002f2021\",\"10\\u002f20\\u002f2022\",\"10\\u002f20\\u002f2023\",\"10\\u002f21\\u002f2009\",\"10\\u002f21\\u002f2010\",\"10\\u002f21\\u002f2011\",\"10\\u002f21\\u002f2013\",\"10\\u002f21\\u002f2014\",\"10\\u002f21\\u002f2015\",\"10\\u002f21\\u002f2016\",\"10\\u002f21\\u002f2019\",\"10\\u002f21\\u002f2020\",\"10\\u002f21\\u002f2021\",\"10\\u002f21\\u002f2022\",\"10\\u002f22\\u002f2009\",\"10\\u002f22\\u002f2010\",\"10\\u002f22\\u002f2012\",\"10\\u002f22\\u002f2013\",\"10\\u002f22\\u002f2014\",\"10\\u002f22\\u002f2015\",\"10\\u002f22\\u002f2018\",\"10\\u002f22\\u002f2019\",\"10\\u002f22\\u002f2020\",\"10\\u002f22\\u002f2021\",\"10\\u002f23\\u002f2009\",\"10\\u002f23\\u002f2012\",\"10\\u002f23\\u002f2013\",\"10\\u002f23\\u002f2014\",\"10\\u002f23\\u002f2015\",\"10\\u002f23\\u002f2017\",\"10\\u002f23\\u002f2018\",\"10\\u002f23\\u002f2019\",\"10\\u002f23\\u002f2020\",\"10\\u002f23\\u002f2023\",\"10\\u002f24\\u002f2011\",\"10\\u002f24\\u002f2012\",\"10\\u002f24\\u002f2013\",\"10\\u002f24\\u002f2014\",\"10\\u002f24\\u002f2016\",\"10\\u002f24\\u002f2017\",\"10\\u002f24\\u002f2018\",\"10\\u002f24\\u002f2019\",\"10\\u002f24\\u002f2022\",\"10\\u002f24\\u002f2023\",\"10\\u002f25\\u002f2010\",\"10\\u002f25\\u002f2011\",\"10\\u002f25\\u002f2012\",\"10\\u002f25\\u002f2013\",\"10\\u002f25\\u002f2016\",\"10\\u002f25\\u002f2017\",\"10\\u002f25\\u002f2018\",\"10\\u002f25\\u002f2019\",\"10\\u002f25\\u002f2021\",\"10\\u002f25\\u002f2022\",\"10\\u002f25\\u002f2023\",\"10\\u002f26\\u002f2009\",\"10\\u002f26\\u002f2010\",\"10\\u002f26\\u002f2011\",\"10\\u002f26\\u002f2012\",\"10\\u002f26\\u002f2015\",\"10\\u002f26\\u002f2016\",\"10\\u002f26\\u002f2017\",\"10\\u002f26\\u002f2018\",\"10\\u002f26\\u002f2020\",\"10\\u002f26\\u002f2021\",\"10\\u002f26\\u002f2022\",\"10\\u002f26\\u002f2023\",\"10\\u002f27\\u002f2009\",\"10\\u002f27\\u002f2010\",\"10\\u002f27\\u002f2011\",\"10\\u002f27\\u002f2014\",\"10\\u002f27\\u002f2015\",\"10\\u002f27\\u002f2016\",\"10\\u002f27\\u002f2017\",\"10\\u002f27\\u002f2020\",\"10\\u002f27\\u002f2021\",\"10\\u002f27\\u002f2022\",\"10\\u002f27\\u002f2023\",\"10\\u002f28\\u002f2009\",\"10\\u002f28\\u002f2010\",\"10\\u002f28\\u002f2011\",\"10\\u002f28\\u002f2013\",\"10\\u002f28\\u002f2014\",\"10\\u002f28\\u002f2015\",\"10\\u002f28\\u002f2016\",\"10\\u002f28\\u002f2019\",\"10\\u002f28\\u002f2020\",\"10\\u002f28\\u002f2021\",\"10\\u002f28\\u002f2022\",\"10\\u002f29\\u002f2009\",\"10\\u002f29\\u002f2010\",\"10\\u002f29\\u002f2013\",\"10\\u002f29\\u002f2014\",\"10\\u002f29\\u002f2015\",\"10\\u002f29\\u002f2018\",\"10\\u002f29\\u002f2019\",\"10\\u002f29\\u002f2020\",\"10\\u002f29\\u002f2021\",\"10\\u002f30\\u002f2009\",\"10\\u002f30\\u002f2013\",\"10\\u002f30\\u002f2014\",\"10\\u002f30\\u002f2015\",\"10\\u002f30\\u002f2017\",\"10\\u002f30\\u002f2018\",\"10\\u002f30\\u002f2019\",\"10\\u002f30\\u002f2020\",\"10\\u002f30\\u002f2023\",\"10\\u002f31\\u002f2011\",\"10\\u002f31\\u002f2012\",\"10\\u002f31\\u002f2013\",\"10\\u002f31\\u002f2014\",\"10\\u002f31\\u002f2016\",\"10\\u002f31\\u002f2017\",\"10\\u002f31\\u002f2018\",\"10\\u002f31\\u002f2019\",\"10\\u002f31\\u002f2022\",\"10\\u002f31\\u002f2023\",\"11\\u002f01\\u002f2010\",\"11\\u002f01\\u002f2011\",\"11\\u002f01\\u002f2012\",\"11\\u002f01\\u002f2013\",\"11\\u002f01\\u002f2016\",\"11\\u002f01\\u002f2017\",\"11\\u002f01\\u002f2018\",\"11\\u002f01\\u002f2019\",\"11\\u002f01\\u002f2021\",\"11\\u002f01\\u002f2022\",\"11\\u002f01\\u002f2023\",\"11\\u002f02\\u002f2009\",\"11\\u002f02\\u002f2010\",\"11\\u002f02\\u002f2011\",\"11\\u002f02\\u002f2012\",\"11\\u002f02\\u002f2015\",\"11\\u002f02\\u002f2016\",\"11\\u002f02\\u002f2017\",\"11\\u002f02\\u002f2018\",\"11\\u002f02\\u002f2020\",\"11\\u002f02\\u002f2021\",\"11\\u002f02\\u002f2022\",\"11\\u002f02\\u002f2023\",\"11\\u002f03\\u002f2009\",\"11\\u002f03\\u002f2010\",\"11\\u002f03\\u002f2011\",\"11\\u002f03\\u002f2014\",\"11\\u002f03\\u002f2015\",\"11\\u002f03\\u002f2016\",\"11\\u002f03\\u002f2017\",\"11\\u002f03\\u002f2020\",\"11\\u002f03\\u002f2021\",\"11\\u002f03\\u002f2022\",\"11\\u002f03\\u002f2023\",\"11\\u002f04\\u002f2009\",\"11\\u002f04\\u002f2010\",\"11\\u002f04\\u002f2011\",\"11\\u002f04\\u002f2013\",\"11\\u002f04\\u002f2014\",\"11\\u002f04\\u002f2015\",\"11\\u002f04\\u002f2016\",\"11\\u002f04\\u002f2019\",\"11\\u002f04\\u002f2020\",\"11\\u002f04\\u002f2021\",\"11\\u002f04\\u002f2022\",\"11\\u002f05\\u002f2009\",\"11\\u002f05\\u002f2010\",\"11\\u002f05\\u002f2012\",\"11\\u002f05\\u002f2013\",\"11\\u002f05\\u002f2014\",\"11\\u002f05\\u002f2015\",\"11\\u002f05\\u002f2018\",\"11\\u002f05\\u002f2019\",\"11\\u002f05\\u002f2020\",\"11\\u002f05\\u002f2021\",\"11\\u002f06\\u002f2009\",\"11\\u002f06\\u002f2012\",\"11\\u002f06\\u002f2013\",\"11\\u002f06\\u002f2014\",\"11\\u002f06\\u002f2015\",\"11\\u002f06\\u002f2017\",\"11\\u002f06\\u002f2018\",\"11\\u002f06\\u002f2019\",\"11\\u002f06\\u002f2020\",\"11\\u002f06\\u002f2023\",\"11\\u002f07\\u002f2011\",\"11\\u002f07\\u002f2012\",\"11\\u002f07\\u002f2013\",\"11\\u002f07\\u002f2014\",\"11\\u002f07\\u002f2016\",\"11\\u002f07\\u002f2017\",\"11\\u002f07\\u002f2018\",\"11\\u002f07\\u002f2019\",\"11\\u002f07\\u002f2022\",\"11\\u002f07\\u002f2023\",\"11\\u002f08\\u002f2010\",\"11\\u002f08\\u002f2011\",\"11\\u002f08\\u002f2012\",\"11\\u002f08\\u002f2013\",\"11\\u002f08\\u002f2016\",\"11\\u002f08\\u002f2017\",\"11\\u002f08\\u002f2018\",\"11\\u002f08\\u002f2019\",\"11\\u002f08\\u002f2021\",\"11\\u002f08\\u002f2022\",\"11\\u002f08\\u002f2023\",\"11\\u002f09\\u002f2009\",\"11\\u002f09\\u002f2010\",\"11\\u002f09\\u002f2011\",\"11\\u002f09\\u002f2012\",\"11\\u002f09\\u002f2015\",\"11\\u002f09\\u002f2016\",\"11\\u002f09\\u002f2017\",\"11\\u002f09\\u002f2018\",\"11\\u002f09\\u002f2020\",\"11\\u002f09\\u002f2021\",\"11\\u002f09\\u002f2022\",\"11\\u002f09\\u002f2023\",\"11\\u002f10\\u002f2009\",\"11\\u002f10\\u002f2010\",\"11\\u002f10\\u002f2011\",\"11\\u002f10\\u002f2014\",\"11\\u002f10\\u002f2015\",\"11\\u002f10\\u002f2016\",\"11\\u002f10\\u002f2017\",\"11\\u002f10\\u002f2020\",\"11\\u002f10\\u002f2021\",\"11\\u002f10\\u002f2022\",\"11\\u002f10\\u002f2023\",\"11\\u002f11\\u002f2009\",\"11\\u002f11\\u002f2010\",\"11\\u002f11\\u002f2011\",\"11\\u002f11\\u002f2013\",\"11\\u002f11\\u002f2014\",\"11\\u002f11\\u002f2015\",\"11\\u002f11\\u002f2016\",\"11\\u002f11\\u002f2019\",\"11\\u002f11\\u002f2020\",\"11\\u002f11\\u002f2021\",\"11\\u002f11\\u002f2022\",\"11\\u002f12\\u002f2009\",\"11\\u002f12\\u002f2010\",\"11\\u002f12\\u002f2012\",\"11\\u002f12\\u002f2013\",\"11\\u002f12\\u002f2014\",\"11\\u002f12\\u002f2015\",\"11\\u002f12\\u002f2018\",\"11\\u002f12\\u002f2019\",\"11\\u002f12\\u002f2020\",\"11\\u002f12\\u002f2021\",\"11\\u002f13\\u002f2009\",\"11\\u002f13\\u002f2012\",\"11\\u002f13\\u002f2013\",\"11\\u002f13\\u002f2014\",\"11\\u002f13\\u002f2015\",\"11\\u002f13\\u002f2017\",\"11\\u002f13\\u002f2018\",\"11\\u002f13\\u002f2019\",\"11\\u002f13\\u002f2020\",\"11\\u002f13\\u002f2023\",\"11\\u002f14\\u002f2011\",\"11\\u002f14\\u002f2012\",\"11\\u002f14\\u002f2013\",\"11\\u002f14\\u002f2014\",\"11\\u002f14\\u002f2016\",\"11\\u002f14\\u002f2017\",\"11\\u002f14\\u002f2018\",\"11\\u002f14\\u002f2019\",\"11\\u002f14\\u002f2022\",\"11\\u002f14\\u002f2023\",\"11\\u002f15\\u002f2010\",\"11\\u002f15\\u002f2011\",\"11\\u002f15\\u002f2012\",\"11\\u002f15\\u002f2013\",\"11\\u002f15\\u002f2016\",\"11\\u002f15\\u002f2017\",\"11\\u002f15\\u002f2018\",\"11\\u002f15\\u002f2019\",\"11\\u002f15\\u002f2021\",\"11\\u002f15\\u002f2022\",\"11\\u002f15\\u002f2023\",\"11\\u002f16\\u002f2009\",\"11\\u002f16\\u002f2010\",\"11\\u002f16\\u002f2011\",\"11\\u002f16\\u002f2012\",\"11\\u002f16\\u002f2015\",\"11\\u002f16\\u002f2016\",\"11\\u002f16\\u002f2017\",\"11\\u002f16\\u002f2018\",\"11\\u002f16\\u002f2020\",\"11\\u002f16\\u002f2021\",\"11\\u002f16\\u002f2022\",\"11\\u002f16\\u002f2023\",\"11\\u002f17\\u002f2009\",\"11\\u002f17\\u002f2010\",\"11\\u002f17\\u002f2011\",\"11\\u002f17\\u002f2014\",\"11\\u002f17\\u002f2015\",\"11\\u002f17\\u002f2016\",\"11\\u002f17\\u002f2017\",\"11\\u002f17\\u002f2020\",\"11\\u002f17\\u002f2021\",\"11\\u002f17\\u002f2022\",\"11\\u002f17\\u002f2023\",\"11\\u002f18\\u002f2009\",\"11\\u002f18\\u002f2010\",\"11\\u002f18\\u002f2011\",\"11\\u002f18\\u002f2013\",\"11\\u002f18\\u002f2014\",\"11\\u002f18\\u002f2015\",\"11\\u002f18\\u002f2016\",\"11\\u002f18\\u002f2019\",\"11\\u002f18\\u002f2020\",\"11\\u002f18\\u002f2021\",\"11\\u002f18\\u002f2022\",\"11\\u002f19\\u002f2009\",\"11\\u002f19\\u002f2010\",\"11\\u002f19\\u002f2012\",\"11\\u002f19\\u002f2013\",\"11\\u002f19\\u002f2014\",\"11\\u002f19\\u002f2015\",\"11\\u002f19\\u002f2018\",\"11\\u002f19\\u002f2019\",\"11\\u002f19\\u002f2020\",\"11\\u002f19\\u002f2021\",\"11\\u002f20\\u002f2009\",\"11\\u002f20\\u002f2012\",\"11\\u002f20\\u002f2013\",\"11\\u002f20\\u002f2014\",\"11\\u002f20\\u002f2015\",\"11\\u002f20\\u002f2017\",\"11\\u002f20\\u002f2018\",\"11\\u002f20\\u002f2019\",\"11\\u002f20\\u002f2020\",\"11\\u002f20\\u002f2023\",\"11\\u002f21\\u002f2011\",\"11\\u002f21\\u002f2012\",\"11\\u002f21\\u002f2013\",\"11\\u002f21\\u002f2014\",\"11\\u002f21\\u002f2016\",\"11\\u002f21\\u002f2017\",\"11\\u002f21\\u002f2018\",\"11\\u002f21\\u002f2019\",\"11\\u002f21\\u002f2022\",\"11\\u002f21\\u002f2023\",\"11\\u002f22\\u002f2010\",\"11\\u002f22\\u002f2011\",\"11\\u002f22\\u002f2013\",\"11\\u002f22\\u002f2016\",\"11\\u002f22\\u002f2017\",\"11\\u002f22\\u002f2019\",\"11\\u002f22\\u002f2021\",\"11\\u002f22\\u002f2022\",\"11\\u002f22\\u002f2023\",\"11\\u002f23\\u002f2009\",\"11\\u002f23\\u002f2010\",\"11\\u002f23\\u002f2011\",\"11\\u002f23\\u002f2012\",\"11\\u002f23\\u002f2015\",\"11\\u002f23\\u002f2016\",\"11\\u002f23\\u002f2018\",\"11\\u002f23\\u002f2020\",\"11\\u002f23\\u002f2021\",\"11\\u002f23\\u002f2022\",\"11\\u002f24\\u002f2009\",\"11\\u002f24\\u002f2010\",\"11\\u002f24\\u002f2014\",\"11\\u002f24\\u002f2015\",\"11\\u002f24\\u002f2017\",\"11\\u002f24\\u002f2020\",\"11\\u002f24\\u002f2021\",\"11\\u002f24\\u002f2023\",\"11\\u002f25\\u002f2009\",\"11\\u002f25\\u002f2011\",\"11\\u002f25\\u002f2013\",\"11\\u002f25\\u002f2014\",\"11\\u002f25\\u002f2015\",\"11\\u002f25\\u002f2016\",\"11\\u002f25\\u002f2019\",\"11\\u002f25\\u002f2020\",\"11\\u002f25\\u002f2022\",\"11\\u002f26\\u002f2010\",\"11\\u002f26\\u002f2012\",\"11\\u002f26\\u002f2013\",\"11\\u002f26\\u002f2014\",\"11\\u002f26\\u002f2018\",\"11\\u002f26\\u002f2019\",\"11\\u002f26\\u002f2021\",\"11\\u002f27\\u002f2009\",\"11\\u002f27\\u002f2012\",\"11\\u002f27\\u002f2013\",\"11\\u002f27\\u002f2015\",\"11\\u002f27\\u002f2017\",\"11\\u002f27\\u002f2018\",\"11\\u002f27\\u002f2019\",\"11\\u002f27\\u002f2020\",\"11\\u002f27\\u002f2023\",\"11\\u002f28\\u002f2011\",\"11\\u002f28\\u002f2012\",\"11\\u002f28\\u002f2014\",\"11\\u002f28\\u002f2016\",\"11\\u002f28\\u002f2017\",\"11\\u002f28\\u002f2018\",\"11\\u002f28\\u002f2022\",\"11\\u002f28\\u002f2023\",\"11\\u002f29\\u002f2010\",\"11\\u002f29\\u002f2011\",\"11\\u002f29\\u002f2012\",\"11\\u002f29\\u002f2013\",\"11\\u002f29\\u002f2016\",\"11\\u002f29\\u002f2017\",\"11\\u002f29\\u002f2018\",\"11\\u002f29\\u002f2019\",\"11\\u002f29\\u002f2021\",\"11\\u002f29\\u002f2022\",\"11\\u002f29\\u002f2023\",\"11\\u002f30\\u002f2009\",\"11\\u002f30\\u002f2010\",\"11\\u002f30\\u002f2011\",\"11\\u002f30\\u002f2012\",\"11\\u002f30\\u002f2015\",\"11\\u002f30\\u002f2016\",\"11\\u002f30\\u002f2017\",\"11\\u002f30\\u002f2018\",\"11\\u002f30\\u002f2020\",\"11\\u002f30\\u002f2021\",\"11\\u002f30\\u002f2022\",\"11\\u002f30\\u002f2023\",\"12\\u002f01\\u002f2009\",\"12\\u002f01\\u002f2010\",\"12\\u002f01\\u002f2011\",\"12\\u002f01\\u002f2014\",\"12\\u002f01\\u002f2015\",\"12\\u002f01\\u002f2016\",\"12\\u002f01\\u002f2017\",\"12\\u002f01\\u002f2020\",\"12\\u002f01\\u002f2021\",\"12\\u002f01\\u002f2022\",\"12\\u002f01\\u002f2023\",\"12\\u002f02\\u002f2009\",\"12\\u002f02\\u002f2010\",\"12\\u002f02\\u002f2011\",\"12\\u002f02\\u002f2013\",\"12\\u002f02\\u002f2014\",\"12\\u002f02\\u002f2015\",\"12\\u002f02\\u002f2016\",\"12\\u002f02\\u002f2019\",\"12\\u002f02\\u002f2020\",\"12\\u002f02\\u002f2021\",\"12\\u002f02\\u002f2022\",\"12\\u002f03\\u002f2009\",\"12\\u002f03\\u002f2010\",\"12\\u002f03\\u002f2012\",\"12\\u002f03\\u002f2013\",\"12\\u002f03\\u002f2014\",\"12\\u002f03\\u002f2015\",\"12\\u002f03\\u002f2018\",\"12\\u002f03\\u002f2019\",\"12\\u002f03\\u002f2020\",\"12\\u002f03\\u002f2021\",\"12\\u002f04\\u002f2009\",\"12\\u002f04\\u002f2012\",\"12\\u002f04\\u002f2013\",\"12\\u002f04\\u002f2014\",\"12\\u002f04\\u002f2015\",\"12\\u002f04\\u002f2017\",\"12\\u002f04\\u002f2018\",\"12\\u002f04\\u002f2019\",\"12\\u002f04\\u002f2020\",\"12\\u002f04\\u002f2023\",\"12\\u002f05\\u002f2011\",\"12\\u002f05\\u002f2012\",\"12\\u002f05\\u002f2013\",\"12\\u002f05\\u002f2014\",\"12\\u002f05\\u002f2016\",\"12\\u002f05\\u002f2017\",\"12\\u002f05\\u002f2019\",\"12\\u002f05\\u002f2022\",\"12\\u002f05\\u002f2023\",\"12\\u002f06\\u002f2010\",\"12\\u002f06\\u002f2011\",\"12\\u002f06\\u002f2012\",\"12\\u002f06\\u002f2013\",\"12\\u002f06\\u002f2016\",\"12\\u002f06\\u002f2017\",\"12\\u002f06\\u002f2018\",\"12\\u002f06\\u002f2019\",\"12\\u002f06\\u002f2021\",\"12\\u002f06\\u002f2022\",\"12\\u002f06\\u002f2023\",\"12\\u002f07\\u002f2009\",\"12\\u002f07\\u002f2010\",\"12\\u002f07\\u002f2011\",\"12\\u002f07\\u002f2012\",\"12\\u002f07\\u002f2015\",\"12\\u002f07\\u002f2016\",\"12\\u002f07\\u002f2017\",\"12\\u002f07\\u002f2018\",\"12\\u002f07\\u002f2020\",\"12\\u002f07\\u002f2021\",\"12\\u002f07\\u002f2022\",\"12\\u002f07\\u002f2023\",\"12\\u002f08\\u002f2009\",\"12\\u002f08\\u002f2010\",\"12\\u002f08\\u002f2011\",\"12\\u002f08\\u002f2014\",\"12\\u002f08\\u002f2015\",\"12\\u002f08\\u002f2016\",\"12\\u002f08\\u002f2017\",\"12\\u002f08\\u002f2020\",\"12\\u002f08\\u002f2021\",\"12\\u002f08\\u002f2022\",\"12\\u002f08\\u002f2023\",\"12\\u002f09\\u002f2009\",\"12\\u002f09\\u002f2010\",\"12\\u002f09\\u002f2011\",\"12\\u002f09\\u002f2013\",\"12\\u002f09\\u002f2014\",\"12\\u002f09\\u002f2015\",\"12\\u002f09\\u002f2016\",\"12\\u002f09\\u002f2019\",\"12\\u002f09\\u002f2020\",\"12\\u002f09\\u002f2021\",\"12\\u002f09\\u002f2022\",\"12\\u002f10\\u002f2009\",\"12\\u002f10\\u002f2010\",\"12\\u002f10\\u002f2012\",\"12\\u002f10\\u002f2013\",\"12\\u002f10\\u002f2014\",\"12\\u002f10\\u002f2015\",\"12\\u002f10\\u002f2018\",\"12\\u002f10\\u002f2019\",\"12\\u002f10\\u002f2020\",\"12\\u002f10\\u002f2021\",\"12\\u002f11\\u002f2009\",\"12\\u002f11\\u002f2012\",\"12\\u002f11\\u002f2013\",\"12\\u002f11\\u002f2014\",\"12\\u002f11\\u002f2015\",\"12\\u002f11\\u002f2017\",\"12\\u002f11\\u002f2018\",\"12\\u002f11\\u002f2019\",\"12\\u002f11\\u002f2020\",\"12\\u002f11\\u002f2023\",\"12\\u002f12\\u002f2011\",\"12\\u002f12\\u002f2012\",\"12\\u002f12\\u002f2013\",\"12\\u002f12\\u002f2014\",\"12\\u002f12\\u002f2016\",\"12\\u002f12\\u002f2017\",\"12\\u002f12\\u002f2018\",\"12\\u002f12\\u002f2019\",\"12\\u002f12\\u002f2022\",\"12\\u002f12\\u002f2023\",\"12\\u002f13\\u002f2010\",\"12\\u002f13\\u002f2011\",\"12\\u002f13\\u002f2012\",\"12\\u002f13\\u002f2013\",\"12\\u002f13\\u002f2016\",\"12\\u002f13\\u002f2017\",\"12\\u002f13\\u002f2018\",\"12\\u002f13\\u002f2019\",\"12\\u002f13\\u002f2021\",\"12\\u002f13\\u002f2022\",\"12\\u002f13\\u002f2023\",\"12\\u002f14\\u002f2009\",\"12\\u002f14\\u002f2010\",\"12\\u002f14\\u002f2011\",\"12\\u002f14\\u002f2012\",\"12\\u002f14\\u002f2015\",\"12\\u002f14\\u002f2016\",\"12\\u002f14\\u002f2017\",\"12\\u002f14\\u002f2018\",\"12\\u002f14\\u002f2020\",\"12\\u002f14\\u002f2021\",\"12\\u002f14\\u002f2022\",\"12\\u002f14\\u002f2023\",\"12\\u002f15\\u002f2009\",\"12\\u002f15\\u002f2010\",\"12\\u002f15\\u002f2011\",\"12\\u002f15\\u002f2014\",\"12\\u002f15\\u002f2015\",\"12\\u002f15\\u002f2016\",\"12\\u002f15\\u002f2017\",\"12\\u002f15\\u002f2020\",\"12\\u002f15\\u002f2021\",\"12\\u002f15\\u002f2022\",\"12\\u002f15\\u002f2023\",\"12\\u002f16\\u002f2009\",\"12\\u002f16\\u002f2010\",\"12\\u002f16\\u002f2011\",\"12\\u002f16\\u002f2013\",\"12\\u002f16\\u002f2014\",\"12\\u002f16\\u002f2015\",\"12\\u002f16\\u002f2016\",\"12\\u002f16\\u002f2019\",\"12\\u002f16\\u002f2020\",\"12\\u002f16\\u002f2021\",\"12\\u002f16\\u002f2022\",\"12\\u002f17\\u002f2009\",\"12\\u002f17\\u002f2010\",\"12\\u002f17\\u002f2012\",\"12\\u002f17\\u002f2013\",\"12\\u002f17\\u002f2014\",\"12\\u002f17\\u002f2015\",\"12\\u002f17\\u002f2018\",\"12\\u002f17\\u002f2019\",\"12\\u002f17\\u002f2020\",\"12\\u002f17\\u002f2021\",\"12\\u002f18\\u002f2009\",\"12\\u002f18\\u002f2012\",\"12\\u002f18\\u002f2013\",\"12\\u002f18\\u002f2014\",\"12\\u002f18\\u002f2015\",\"12\\u002f18\\u002f2017\",\"12\\u002f18\\u002f2018\",\"12\\u002f18\\u002f2019\",\"12\\u002f18\\u002f2020\",\"12\\u002f18\\u002f2023\",\"12\\u002f19\\u002f2011\",\"12\\u002f19\\u002f2012\",\"12\\u002f19\\u002f2013\",\"12\\u002f19\\u002f2014\",\"12\\u002f19\\u002f2016\",\"12\\u002f19\\u002f2017\",\"12\\u002f19\\u002f2018\",\"12\\u002f19\\u002f2019\",\"12\\u002f19\\u002f2022\",\"12\\u002f19\\u002f2023\",\"12\\u002f20\\u002f2010\",\"12\\u002f20\\u002f2011\",\"12\\u002f20\\u002f2012\",\"12\\u002f20\\u002f2013\",\"12\\u002f20\\u002f2016\",\"12\\u002f20\\u002f2017\",\"12\\u002f20\\u002f2018\",\"12\\u002f20\\u002f2019\",\"12\\u002f20\\u002f2021\",\"12\\u002f20\\u002f2022\",\"12\\u002f20\\u002f2023\",\"12\\u002f21\\u002f2009\",\"12\\u002f21\\u002f2010\",\"12\\u002f21\\u002f2011\",\"12\\u002f21\\u002f2012\",\"12\\u002f21\\u002f2015\",\"12\\u002f21\\u002f2016\",\"12\\u002f21\\u002f2017\",\"12\\u002f21\\u002f2018\",\"12\\u002f21\\u002f2020\",\"12\\u002f21\\u002f2021\",\"12\\u002f21\\u002f2022\",\"12\\u002f21\\u002f2023\",\"12\\u002f22\\u002f2009\",\"12\\u002f22\\u002f2010\",\"12\\u002f22\\u002f2011\",\"12\\u002f22\\u002f2014\",\"12\\u002f22\\u002f2015\",\"12\\u002f22\\u002f2016\",\"12\\u002f22\\u002f2017\",\"12\\u002f22\\u002f2020\",\"12\\u002f22\\u002f2021\",\"12\\u002f22\\u002f2022\",\"12\\u002f22\\u002f2023\",\"12\\u002f23\\u002f2009\",\"12\\u002f23\\u002f2010\",\"12\\u002f23\\u002f2011\",\"12\\u002f23\\u002f2013\",\"12\\u002f23\\u002f2014\",\"12\\u002f23\\u002f2015\",\"12\\u002f23\\u002f2016\",\"12\\u002f23\\u002f2019\",\"12\\u002f23\\u002f2020\",\"12\\u002f23\\u002f2021\",\"12\\u002f23\\u002f2022\",\"12\\u002f24\\u002f2009\",\"12\\u002f24\\u002f2012\",\"12\\u002f24\\u002f2013\",\"12\\u002f24\\u002f2014\",\"12\\u002f24\\u002f2015\",\"12\\u002f24\\u002f2018\",\"12\\u002f24\\u002f2019\",\"12\\u002f24\\u002f2020\",\"12\\u002f26\\u002f2012\",\"12\\u002f26\\u002f2013\",\"12\\u002f26\\u002f2014\",\"12\\u002f26\\u002f2017\",\"12\\u002f26\\u002f2018\",\"12\\u002f26\\u002f2019\",\"12\\u002f26\\u002f2023\",\"12\\u002f27\\u002f2010\",\"12\\u002f27\\u002f2011\",\"12\\u002f27\\u002f2012\",\"12\\u002f27\\u002f2013\",\"12\\u002f27\\u002f2016\",\"12\\u002f27\\u002f2017\",\"12\\u002f27\\u002f2018\",\"12\\u002f27\\u002f2019\",\"12\\u002f27\\u002f2021\",\"12\\u002f27\\u002f2022\",\"12\\u002f27\\u002f2023\",\"12\\u002f28\\u002f2009\",\"12\\u002f28\\u002f2010\",\"12\\u002f28\\u002f2011\",\"12\\u002f28\\u002f2012\",\"12\\u002f28\\u002f2015\",\"12\\u002f28\\u002f2016\",\"12\\u002f28\\u002f2017\",\"12\\u002f28\\u002f2018\",\"12\\u002f28\\u002f2020\",\"12\\u002f28\\u002f2021\",\"12\\u002f28\\u002f2022\",\"12\\u002f28\\u002f2023\",\"12\\u002f29\\u002f2009\",\"12\\u002f29\\u002f2010\",\"12\\u002f29\\u002f2011\",\"12\\u002f29\\u002f2014\",\"12\\u002f29\\u002f2015\",\"12\\u002f29\\u002f2016\",\"12\\u002f29\\u002f2017\",\"12\\u002f29\\u002f2020\",\"12\\u002f29\\u002f2021\",\"12\\u002f29\\u002f2022\",\"12\\u002f29\\u002f2023\",\"12\\u002f30\\u002f2009\",\"12\\u002f30\\u002f2010\",\"12\\u002f30\\u002f2011\",\"12\\u002f30\\u002f2013\",\"12\\u002f30\\u002f2014\",\"12\\u002f30\\u002f2015\",\"12\\u002f30\\u002f2016\",\"12\\u002f30\\u002f2019\",\"12\\u002f30\\u002f2020\",\"12\\u002f30\\u002f2021\",\"12\\u002f30\\u002f2022\",\"12\\u002f31\\u002f2009\",\"12\\u002f31\\u002f2010\",\"12\\u002f31\\u002f2012\",\"12\\u002f31\\u002f2013\",\"12\\u002f31\\u002f2014\",\"12\\u002f31\\u002f2015\",\"12\\u002f31\\u002f2018\",\"12\\u002f31\\u002f2019\",\"12\\u002f31\\u002f2020\"],\"y\":[null,null,null,null,null,null,null,null,null,null,null,null,null,null,null,null,null,null,null,null,null,null,null,null,null,null,null,null,null,null,null,null,null,null,null,null,null,null,null,null,null,null,null,null,null,null,null,null,null,null,null,null,null,null,null,null,null,null,null,null,null,null,null,null,null,null,null,null,null,null,null,null,null,null,null,null,null,null,null,null,null,null,null,null,null,null,null,null,null,null,null,null,null,null,null,null,null,null,null,null,null,null,null,null,null,null,null,null,null,null,null,null,null,null,null,null,null,null,null,null,null,null,null,null,null,null,null,null,null,null,null,null,null,null,null,null,null,null,null,null,null,null,null,null,null,null,null,null,null,null,null,null,null,null,null,null,null,null,null,null,null,null,null,null,null,null,null,null,null,null,null,null,null,null,null,null,null,null,null,null,null,null,null,null,null,null,null,null,null,null,null,null,null,null,null,null,null,null,null,null,null,null,null,null,null,null,null,null,null,null,null,null,null,null,null,null,null,null,null,null,null,null,null,null,null,null,null,null,null,null,null,null,null,null,null,null,null,null,null,null,null,null,null,null,null,null,null,null,null,null,null,null,null,null,null,null,null,null,null,null,null,null,null,null,null,null,null,null,null,null,null,null,null,null,null,null,null,null,null,null,null,null,null,null,null,null,null,null,null,null,null,null,null,null,null,null,null,null,null,null,null,null,null,null,null,null,null,null,null,null,null,null,null,null,null,null,null,null,null,null,null,null,null,null,null,null,null,null,null,null,null,null,null,null,null,null,null,null,null,null,null,null,null,null,null,null,null,null,null,null,null,null,null,null,null,null,null,null,null,null,null,null,null,null,null,null,null,null,null,null,null,null,null,null,null,null,null,null,null,null,null,null,null,null,null,null,null,null,null,null,null,null,null,null,null,null,null,null,null,null,null,null,null,null,null,null,null,null,null,null,null,null,null,null,null,null,null,null,null,null,null,null,null,null,null,null,null,null,null,null,null,null,null,null,null,null,null,null,null,null,null,null,null,null,null,null,null,null,null,null,null,null,null,null,null,null,null,null,null,null,null,null,null,null,null,null,null,null,null,null,null,null,null,null,null,null,null,null,null,null,null,null,null,null,null,null,null,null,null,null,null,null,null,null,null,null,null,null,null,null,null,null,null,null,null,null,null,null,null,null,null,null,null,null,null,null,null,null,null,null,null,null,null,null,null,null,null,null,null,null,null,null,null,null,null,null,null,null,null,null,null,null,null,null,null,null,null,null,null,null,null,null,null,null,null,null,null,null,null,null,null,null,null,null,null,null,null,null,null,null,null,null,null,null,null,null,null,null,null,null,null,null,null,null,null,null,null,null,null,null,null,null,null,null,null,null,null,null,null,null,null,null,null,null,null,null,null,null,null,null,null,null,null,null,null,null,null,null,null,null,null,null,null,null,null,null,null,null,null,null,null,null,null,null,null,null,null,null,null,null,null,null,null,null,null,null,null,null,null,null,null,null,null,null,null,null,null,null,null,null,null,null,null,null,null,null,null,null,null,null,null,null,null,null,null,null,null,null,null,null,null,null,null,null,null,null,null,null,null,null,null,null,null,null,null,null,null,null,null,null,null,null,null,null,null,null,null,null,null,null,null,null,null,null,null,null,null,null,null,null,null,null,null,null,null,null,null,null,null,null,null,null,null,null,null,null,null,null,null,null,null,null,null,null,null,null,null,null,null,null,null,null,null,null,null,null,null,null,null,null,null,null,null,null,null,null,null,null,null,null,null,null,null,null,null,null,null,null,null,null,null,null,null,null,null,null,null,null,null,null,null,null,null,null,null,null,null,null,null,null,null,null,null,null,null,null,null,null,null,null,null,null,null,null,null,null,null,null,null,null,null,null,null,null,null,null,null,null,null,null,null,null,null,null,null,null,null,null,null,null,null,null,null,null,null,null,null,null,null,null,null,null,null,null,null,null,null,null,null,null,null,null,null,null,null,null,null,null,null,null,null,null,null,null,null,null,null,null,null,null,null,null,null,null,null,null,null,null,null,null,null,null,null,null,null,null,null,null,null,null,null,null,null,null,null,null,null,null,null,null,null,null,null,null,null,null,null,null,null,null,null,null,null,null,null,null,null,null,null,null,null,null,null,null,null,null,null,null,null,null,null,null,null,null,null,null,null,null,null,null,null,null,null,null,null,null,null,null,null,null,null,null,null,null,null,null,null,null,null,null,null,null,null,null,null,null,null,null,null,null,null,null,null,null,null,null,null,null,null,null,null,null,null,null,null,null,null,null,null,null,null,null,null,null,null,null,null,null,null,null,null,null,null,null,null,null,null,null,null,null,null,null,null,null,null,null,null,null,null,null,null,null,null,null,null,null,null,null,null,null,null,null,null,null,null,null,null,null,null,null,null,null,null,null,null,null,null,null,null,null,null,null,null,null,null,null,null,null,null,null,null,null,null,null,null,null,null,null,null,null,null,null,null,null,null,null,null,null,null,null,null,null,null,null,null,null,null,null,null,null,null,null,null,null,null,null,null,null,null,null,null,null,null,null,null,null,null,null,null,900.5,null,null,null,null,null,null,null,null,null,null,null,null,null,null,null,null,null,null,null,null,null,null,null,null,null,null,null,null,null,null,null,null,null,null,null,null,null,null,null,null,null,null,null,null,null,null,null,null,null,null,null,null,null,null,null,null,null,null,null,null,null,null,null,null,null,null,null,null,null,null,911.0,null,null,null,null,null,null,null,null,null,null,915.5,null,null,null,null,null,null,null,null,null,null,null,null,null,null,null,null,null,null,null,null,null,null,null,null,null,null,null,null,null,null,null,null,null,null,null,null,null,null,null,913.5,null,null,null,null,null,null,null,null,null,null,null,null,null,null,null,null,null,null,null,null,null,null,null,null,null,null,null,null,null,null,null,null,null,null,null,null,null,null,null,null,null,null,null,null,null,null,null,null,null,null,null,null,null,null,null,null,null,null,null,null,null,null,null,null,null,null,null,null,null,null,null,null,null,null,null,null,null,null,null,null,null,null,null,null,null,null,null,null,null,null,null,null,null,null,null,null,null,null,null,null,null,null,null,null,null,null,null,null,null,null,null,null,null,null,null,null,null,null,null,null,null,null,null,null,null,null,null,null,null,null,null,null,null,null,null,null,null,null,null,null,null,null,null,null,null,null,null,null,null,null,null,null,null,null,null,null,null,null,null,null,null,null,null,null,null,null,961.5,null,null,null,null,null,null,null,null,null,null,null,null,null,null,null,null,null,null,null,null,null,null,null,null,null,null,null,null,null,null,980.0,null,null,null,null,null,null,null,null,null,null,null,null,null,null,null,null,null,null,null,null,null,null,null,null,null,null,null,null,null,null,null,null,null,null,null,null,null,null,null,null,null,null,null,null,null,null,null,null,null,null,null,null,null,null,null,null,null,null,null,null,null,null,null,null,null,null,null,null,null,null,952.5,null,null,null,null,null,null,null,null,null,null,null,null,null,null,null,null,null,null,null,null,null,null,null,null,null,null,null,null,null,null,null,962.0,null,null,null,null,null,null,null,null,null,null,null,null,null,null,null,null,null,null,null,null,null,null,null,null,null,null,null,null,null,null,null,null,null,null,null,null,null,null,null,927.5,null,null,null,null,null,null,null,null,null,null,null,null,null,null,null,null,null,null,null,null,null,936.0,null,null,null,null,null,null,null,null,null,null,null,null,null,null,null,null,null,null,null,null,null,null,null,null,null,null,null,null,null,null,null,null,null,null,null,null,null,null,null,null,null,null,null,null,null,null,null,921.0,null,null,null,null,null,null,null,null,null,null,null,null,null,null,null,null,null,null,null,null,null,null,null,null,null,null,null,null,null,null,null,939.5,null,null,null,null,null,null,null,null,null,941.0,null,null,null,null,null,null,null,null,null,null,null,null,null,null,null,null,null,null,null,null,null,null,null,null,null,null,null,null,null,null,null,null,null,null,null,null,null,null,null,null,null,null,null,null,null,null,null,null,null,null,null,null,null,null,null,null,null,null,null,null,null,931.0,null,null,null,null,null,null,null,null,null,null,null,null,null,null,null,null,null,null,null,null,null,null,null,null,null,null,null,null,null,null,null,null,null,null,null,null,null,null,null,null,null,null,null,null,null,null,null,null,null,null,null,null,null,null,null,null,null,null,null,null,null,null,null,null,null,912.5,null,null,null,null,null,null,null,null,null,null,null,null,null,null,null,null,null,null,null,null,null,null,null,null,null,null,null,null,null,null,922.5,null,null,null,null,null,null,null,null,null,null,null,null,null,null,null,null,null,null,null,null,null,null,null,null,null,null,null,null,null,null,null,null,null,null,null,null,null,null,null,null,937.5,null,null,null,null,null,null,null,null,null,null,null,null,null,null,null,null,null,null,null,null,null,null,null,null,null,null,null,null,null,null,null,null,null,null,null,null,null,null,null,null,null,null,null,null,null,null,null,null,null,null,null,null,null,null,null,null,null,null,null,null,null,null,null,null,null,null,null,null,null,null,null,null,null,null,null,null,null,null,null,null,null,null,null,null,null,null,null,null,null,null,null,null,null,null,null,null,null,null,null,null,953.5,null,null,null,null,null,null,null,null,null,null,null,null,null,null,null,null,null,null,null,null,null,null,null,null,null,null,null,null,null,null,null,null,null,null,null,null,null,null,null,null,null,null,null,null,null,null,null,null,null,null,null,null,null,null,null,null,null,null,null,null,null,null,null,null,null,null,null,null,null,null,null,null,null,null,null,null,null,null,null,null,null,null,null,null,null,null,null,null,null,null,null,null,null,null,null,null,null,null,null,null,null,null,null,null,null,null,null,null,null,null,959.5,null,null,null,null,null,null,null,null,null,null,null,null,null,null,null,null,null,null,null,null,null,null,null,null,null,null,null,null,null,null,null,null,null,null,null,null,null,null,null,null,null,null,null,null,null,null,null,null,null,null,null,952.5,null,null,null,null,null,null,null,null,null,null,956.5,null,null,null,null,null,null,null,null,null,null,null,null,null,null,null,null,null,null,null,null,null,null,null,null,null,null,null,null,null,null,null,null,null,null,null,null,null,null,null,null,null,null,null,null,null,null,null,null,null,null,null,null,null,null,null,null,null,null,null,null,null,null,null,null,null,null,null,null,null,null,null,null,null,null,null,null,null,null,null,null,null,null,null,null,null,null,null,null,null,null,null,null,null,null,null,null,null,null,null,null,null,null,null,null,null,null,null,null,null,null,null,null,null,null,null,null,null,null,null,null,946.0,null,null,null,null,null,null,null,null,null,null,null,null,null,null,null,null,null,null,null,null,null,null,null,null,null,null,null,null,null,null,null,null,null,null,null,null,null,null,null,null,null,null,null,null,null,null,null,null,null,null,null,null,null,null,null,null,null,null,null,953.5,null,null,null,null,null,null,null,null,null,null,null,956.5,null,null,null,null,null,null,null,null,null,978.5,null,null,null,null,null,null,null,null,null,null,null,null,null,null,null,null,null,null,null,null,null,null,null,null,null,null,null,null,null,null,null,null,null,null,null,null,null,null,null,null,null,null,null,null,null,null,null,null,null,null,null,null,null,null,null,null,null,null,null,null,null,null,null,null,null,null,null,null,null,null,null,null,null,null,null,null,null,null,null,null,null,null,null,null,null,null,null,null,null,null,null,null,null,null,null,null,null,null,null,null,null,null,null,null,null,null,null,null,null,null,null,null,null,null,null,null,null,null,null,null,null,null,null,null,null,null,null,null,null,null,null,null,null,null,null,null,null,null,null,null,null,null,null,null,null,null,null,null,null,null,null,null,null,null,null,null,null,null,null,null,null,null,null,null,null,null,null,null,null,null,null,null,null,null,null,null,null,null,null,null,null,null,null,null,null,null,null,null,null,null,null,null,null,null,null,null,null,null,null,null,null,null,null,null,null,null,null,null,null,null,null,null,null,null,null,null,null,null,null,null,null,null,null,null,null,null,null,null,null,null,null,null,null,null,null,null,null,null,null,null,null,null,null,null,null,null,null,null,null,null,null,null,null,null,null,null,null,null,null,null,null,null,null,null,null,null,null,null,null,null,null,null,null,null,null,null,null,null,null,null,null,null,null,null,null,null,null,null,null,null,null,null,null,null,null,null,null,null,null,null,null,null,null,null,null,null,null,null,null,null,null,null,null,null,null,null,null,null,null,null,null,null,null,null,null,null,null,null,null,null,null,null,null,null,null,null,null,null,null,null,null,null,null,null,null,null,null,null,null,null,null,null,null,null,null,null,null,null,null,null,null,null,null,null,null,null,null,null,null,null,null,null,null,null,null,null,null,null,null,null,null,null,null,null,null,null,null,null,null,null,null,null,null,null,null,null,null,null,null,null,null,null,null,null,null,null,null,null,null,null,null,null,null,null,null,null,null,null,null,null,null,null,null,null,null,null,null,null,null,null,null,null,null,null,null,null,null,null,null,null,null,null,null,null,null,null,null,null,null,null,null,null,null,null,null,null,null,null,null,null,null,null,null,null,null,null,null,null,null,null,null,null,null,null,null,null,null,null,null,null,null,null,null,null,null,null,null,null,null,null,null,null,null,null,null,null,null,null,null,null,null,null,null,null,null,null,null,null,null,null,null,null,null,null,null,null,null,null,null,null,null,null,null,null,null,null,null,null,null,null,null,null,null,null,null,null,null,null,null,null,null,null,null,null,null,null,null,null,null,null,null,null,null,null,null,null,null,null,null,null,null,null,null,null,null,null,null,null,null,null,null,null,null,null,null,null,null,null,null,null,null,null,null,null,null,null,null,null,null,null,null,null,null,null,null,null,null,null,null,null,null,null,null,null,null,null,null,null,null,null,null,null,null,null,null,null,null,null,null,null,null,null,null,null,null,null,null,null,null,null,null,null,null,null,null,null,null,null,null,null,null,null,null,null,null,null,null,null,null,null,null,null,null,null,null,null,null,null,null,null,null,null,null,null,null,null,null,null,null,null,null,null,null,null,null,null,null,null,null,null,null,null,null,null,null,null,null,null,null,null,null,null,null,null,null,null,null,null,null,null,null,null,null,null,null,null,null,null,null,null,null,null,null,null,null,null,null,null,null,null,null,null,null,null,null,null,null,null,null,null,null,null,null,null,null,null,null,null,null,null,null,null,null,null,null,null,null,null,null,null,null,null,null,null,null,null,null,null,null,null,null,null,null,null,null,null,null,null,null,null,null,null,null,null,null,null,null,null,null,null,null,null,null,null,null,null,null,null,null,null,null,null,null,null,null,null,null,null,null,null,null,null,null,null,null,null,null,null,null,null,null,null,null,null,null,null,null,null,null,null,null,null,null,null,null,null,null,null,null,null,null,null,null,null,null,null,null,null,null,null,null,null,null,null,null,null,null,null,null,null,null,null,null,null,null,null,null,null,null,null,null,null,null,null,null,null,null,null,null,null,null,null,null,null,null,null,null,null,null,null,null,null,null,null,null,null,null,null,null,null,null,null,null,null,null,null,null,null,null,null,null,null,null,null,null,null,null,null,null,null,null,null,null,null,null,null,null,null,null,null,null,null,null,null,null,null,null,null,null,null,null,null,null,null,null,null,null,null,null,null,null,null,null,null,null,null,null,null,null,null,null,null,null,null,null,null,null,null,null,null,null,null,null,null,null,null,null,null,null,null,null,null,null,null,null,null,null,null,null,null,null,null,null,null,null,null,null,null,null,null,null,null,null,null,null,null,null,null,null,null,null,null,null,null,null,null,null,null,null,null,null,null,null,null,null,null,null,null,null,null,null,null,null,null,null,null,null,null,null,null,null,null,null,null,null,null,null,null,null,null,null,null,null,null,null,null,null,null,null,null,null,null,null,null,null,null,null,null,null,null,null,null,null,null,null,null,null,null,null,null,null,null,null,null,null,null,null,null,null,null,null,null,null,null,null,null,null,null,null,null,null,null,null,null,null,null,null,null,null,null,null,null,null,null,null,null,null,null,null,null,null,null,null,null,null,null,null,null,null,null,null,null,null,null,null,null,null,null,null,null,null,null,null,null,null,null,null,null,null,null,null,null,null,null,null,null,null,null,null,null,null,null,null,null,null,null,null,null,null,null,null,null,null,null,null,null,null,null,null,null,null,null,null,null,null,null,null,null,null,null,null,null,null,null,null,null,null,null,null,null,null,null,null,null,null,null,null,null,null,null,null,null,null,null,null,null,null,null,null,null,null,null,null,null,null,null,null,null,null,null,null,null,null,null,null,null,null,null,null,null,null,null,null,null,null,null,null,null,null],\"type\":\"scatter\",\"xaxis\":\"x\",\"yaxis\":\"y\"},{\"marker\":{\"color\":\"MediumPurple\"},\"name\":\"Prediction\",\"x\":[\"11\\u002f26\\u002f2012\",\"11\\u002f26\\u002f2013\",\"11\\u002f26\\u002f2014\",\"11\\u002f26\\u002f2018\",\"11\\u002f26\\u002f2019\",\"11\\u002f26\\u002f2021\",\"11\\u002f27\\u002f2009\",\"11\\u002f27\\u002f2012\",\"11\\u002f27\\u002f2013\",\"11\\u002f27\\u002f2015\",\"11\\u002f27\\u002f2017\",\"11\\u002f27\\u002f2018\",\"11\\u002f27\\u002f2019\",\"11\\u002f27\\u002f2020\",\"11\\u002f27\\u002f2023\",\"11\\u002f28\\u002f2011\",\"11\\u002f28\\u002f2012\",\"11\\u002f28\\u002f2014\",\"11\\u002f28\\u002f2016\",\"11\\u002f28\\u002f2017\",\"11\\u002f28\\u002f2018\",\"11\\u002f28\\u002f2022\",\"11\\u002f28\\u002f2023\",\"11\\u002f29\\u002f2010\",\"11\\u002f29\\u002f2011\",\"11\\u002f29\\u002f2012\",\"11\\u002f29\\u002f2013\",\"11\\u002f29\\u002f2016\",\"11\\u002f29\\u002f2017\",\"11\\u002f29\\u002f2018\",\"11\\u002f29\\u002f2019\",\"11\\u002f29\\u002f2021\",\"11\\u002f29\\u002f2022\",\"11\\u002f29\\u002f2023\",\"11\\u002f30\\u002f2009\",\"11\\u002f30\\u002f2010\",\"11\\u002f30\\u002f2011\",\"11\\u002f30\\u002f2012\",\"11\\u002f30\\u002f2015\",\"11\\u002f30\\u002f2016\",\"11\\u002f30\\u002f2017\",\"11\\u002f30\\u002f2018\",\"11\\u002f30\\u002f2020\",\"11\\u002f30\\u002f2021\",\"11\\u002f30\\u002f2022\",\"11\\u002f30\\u002f2023\",\"12\\u002f01\\u002f2009\",\"12\\u002f01\\u002f2010\",\"12\\u002f01\\u002f2011\",\"12\\u002f01\\u002f2014\",\"12\\u002f01\\u002f2015\",\"12\\u002f01\\u002f2016\",\"12\\u002f01\\u002f2017\",\"12\\u002f01\\u002f2020\",\"12\\u002f01\\u002f2021\",\"12\\u002f01\\u002f2022\",\"12\\u002f01\\u002f2023\",\"12\\u002f02\\u002f2009\",\"12\\u002f02\\u002f2010\",\"12\\u002f02\\u002f2011\",\"12\\u002f02\\u002f2013\",\"12\\u002f02\\u002f2014\",\"12\\u002f02\\u002f2015\",\"12\\u002f02\\u002f2016\",\"12\\u002f02\\u002f2019\",\"12\\u002f02\\u002f2020\",\"12\\u002f02\\u002f2021\",\"12\\u002f02\\u002f2022\",\"12\\u002f03\\u002f2009\",\"12\\u002f03\\u002f2010\",\"12\\u002f03\\u002f2012\",\"12\\u002f03\\u002f2013\",\"12\\u002f03\\u002f2014\",\"12\\u002f03\\u002f2015\",\"12\\u002f03\\u002f2018\",\"12\\u002f03\\u002f2019\",\"12\\u002f03\\u002f2020\",\"12\\u002f03\\u002f2021\",\"12\\u002f04\\u002f2009\",\"12\\u002f04\\u002f2012\",\"12\\u002f04\\u002f2013\",\"12\\u002f04\\u002f2014\",\"12\\u002f04\\u002f2015\",\"12\\u002f04\\u002f2017\",\"12\\u002f04\\u002f2018\",\"12\\u002f04\\u002f2019\",\"12\\u002f04\\u002f2020\",\"12\\u002f04\\u002f2023\",\"12\\u002f05\\u002f2011\",\"12\\u002f05\\u002f2012\",\"12\\u002f05\\u002f2013\",\"12\\u002f05\\u002f2014\",\"12\\u002f05\\u002f2016\",\"12\\u002f05\\u002f2017\",\"12\\u002f05\\u002f2019\",\"12\\u002f05\\u002f2022\",\"12\\u002f05\\u002f2023\",\"12\\u002f06\\u002f2010\",\"12\\u002f06\\u002f2011\",\"12\\u002f06\\u002f2012\",\"12\\u002f06\\u002f2013\",\"12\\u002f06\\u002f2016\",\"12\\u002f06\\u002f2017\",\"12\\u002f06\\u002f2018\",\"12\\u002f06\\u002f2019\",\"12\\u002f06\\u002f2021\",\"12\\u002f06\\u002f2022\",\"12\\u002f06\\u002f2023\",\"12\\u002f07\\u002f2009\",\"12\\u002f07\\u002f2010\",\"12\\u002f07\\u002f2011\",\"12\\u002f07\\u002f2012\",\"12\\u002f07\\u002f2015\",\"12\\u002f07\\u002f2016\",\"12\\u002f07\\u002f2017\",\"12\\u002f07\\u002f2018\",\"12\\u002f07\\u002f2020\",\"12\\u002f07\\u002f2021\",\"12\\u002f07\\u002f2022\",\"12\\u002f07\\u002f2023\",\"12\\u002f08\\u002f2009\",\"12\\u002f08\\u002f2010\",\"12\\u002f08\\u002f2011\",\"12\\u002f08\\u002f2014\",\"12\\u002f08\\u002f2015\",\"12\\u002f08\\u002f2016\",\"12\\u002f08\\u002f2017\",\"12\\u002f08\\u002f2020\",\"12\\u002f08\\u002f2021\",\"12\\u002f08\\u002f2022\",\"12\\u002f08\\u002f2023\",\"12\\u002f09\\u002f2009\",\"12\\u002f09\\u002f2010\",\"12\\u002f09\\u002f2011\",\"12\\u002f09\\u002f2013\",\"12\\u002f09\\u002f2014\",\"12\\u002f09\\u002f2015\",\"12\\u002f09\\u002f2016\",\"12\\u002f09\\u002f2019\",\"12\\u002f09\\u002f2020\",\"12\\u002f09\\u002f2021\",\"12\\u002f09\\u002f2022\",\"12\\u002f10\\u002f2009\",\"12\\u002f10\\u002f2010\",\"12\\u002f10\\u002f2012\",\"12\\u002f10\\u002f2013\",\"12\\u002f10\\u002f2014\",\"12\\u002f10\\u002f2015\",\"12\\u002f10\\u002f2018\",\"12\\u002f10\\u002f2019\",\"12\\u002f10\\u002f2020\",\"12\\u002f10\\u002f2021\",\"12\\u002f11\\u002f2009\",\"12\\u002f11\\u002f2012\",\"12\\u002f11\\u002f2013\",\"12\\u002f11\\u002f2014\",\"12\\u002f11\\u002f2015\",\"12\\u002f11\\u002f2017\",\"12\\u002f11\\u002f2018\",\"12\\u002f11\\u002f2019\",\"12\\u002f11\\u002f2020\",\"12\\u002f11\\u002f2023\",\"12\\u002f12\\u002f2011\",\"12\\u002f12\\u002f2012\",\"12\\u002f12\\u002f2013\",\"12\\u002f12\\u002f2014\",\"12\\u002f12\\u002f2016\",\"12\\u002f12\\u002f2017\",\"12\\u002f12\\u002f2018\",\"12\\u002f12\\u002f2019\",\"12\\u002f12\\u002f2022\",\"12\\u002f12\\u002f2023\",\"12\\u002f13\\u002f2010\",\"12\\u002f13\\u002f2011\",\"12\\u002f13\\u002f2012\",\"12\\u002f13\\u002f2013\",\"12\\u002f13\\u002f2016\",\"12\\u002f13\\u002f2017\",\"12\\u002f13\\u002f2018\",\"12\\u002f13\\u002f2019\",\"12\\u002f13\\u002f2021\",\"12\\u002f13\\u002f2022\",\"12\\u002f13\\u002f2023\",\"12\\u002f14\\u002f2009\",\"12\\u002f14\\u002f2010\",\"12\\u002f14\\u002f2011\",\"12\\u002f14\\u002f2012\",\"12\\u002f14\\u002f2015\",\"12\\u002f14\\u002f2016\",\"12\\u002f14\\u002f2017\",\"12\\u002f14\\u002f2018\",\"12\\u002f14\\u002f2020\",\"12\\u002f14\\u002f2021\",\"12\\u002f14\\u002f2022\",\"12\\u002f14\\u002f2023\",\"12\\u002f15\\u002f2009\",\"12\\u002f15\\u002f2010\",\"12\\u002f15\\u002f2011\",\"12\\u002f15\\u002f2014\",\"12\\u002f15\\u002f2015\",\"12\\u002f15\\u002f2016\",\"12\\u002f15\\u002f2017\",\"12\\u002f15\\u002f2020\",\"12\\u002f15\\u002f2021\",\"12\\u002f15\\u002f2022\",\"12\\u002f15\\u002f2023\",\"12\\u002f16\\u002f2009\",\"12\\u002f16\\u002f2010\",\"12\\u002f16\\u002f2011\",\"12\\u002f16\\u002f2013\",\"12\\u002f16\\u002f2014\",\"12\\u002f16\\u002f2015\",\"12\\u002f16\\u002f2016\",\"12\\u002f16\\u002f2019\",\"12\\u002f16\\u002f2020\",\"12\\u002f16\\u002f2021\",\"12\\u002f16\\u002f2022\",\"12\\u002f17\\u002f2009\",\"12\\u002f17\\u002f2010\",\"12\\u002f17\\u002f2012\",\"12\\u002f17\\u002f2013\",\"12\\u002f17\\u002f2014\",\"12\\u002f17\\u002f2015\",\"12\\u002f17\\u002f2018\",\"12\\u002f17\\u002f2019\",\"12\\u002f17\\u002f2020\",\"12\\u002f17\\u002f2021\",\"12\\u002f18\\u002f2009\",\"12\\u002f18\\u002f2012\",\"12\\u002f18\\u002f2013\",\"12\\u002f18\\u002f2014\",\"12\\u002f18\\u002f2015\",\"12\\u002f18\\u002f2017\",\"12\\u002f18\\u002f2018\",\"12\\u002f18\\u002f2019\",\"12\\u002f18\\u002f2020\",\"12\\u002f18\\u002f2023\",\"12\\u002f19\\u002f2011\",\"12\\u002f19\\u002f2012\",\"12\\u002f19\\u002f2013\",\"12\\u002f19\\u002f2014\",\"12\\u002f19\\u002f2016\",\"12\\u002f19\\u002f2017\",\"12\\u002f19\\u002f2018\",\"12\\u002f19\\u002f2019\",\"12\\u002f19\\u002f2022\",\"12\\u002f19\\u002f2023\",\"12\\u002f20\\u002f2010\",\"12\\u002f20\\u002f2011\",\"12\\u002f20\\u002f2012\",\"12\\u002f20\\u002f2013\",\"12\\u002f20\\u002f2016\",\"12\\u002f20\\u002f2017\",\"12\\u002f20\\u002f2018\",\"12\\u002f20\\u002f2019\",\"12\\u002f20\\u002f2021\",\"12\\u002f20\\u002f2022\",\"12\\u002f20\\u002f2023\",\"12\\u002f21\\u002f2009\",\"12\\u002f21\\u002f2010\",\"12\\u002f21\\u002f2011\",\"12\\u002f21\\u002f2012\",\"12\\u002f21\\u002f2015\",\"12\\u002f21\\u002f2016\",\"12\\u002f21\\u002f2017\",\"12\\u002f21\\u002f2018\",\"12\\u002f21\\u002f2020\",\"12\\u002f21\\u002f2021\",\"12\\u002f21\\u002f2022\",\"12\\u002f21\\u002f2023\",\"12\\u002f22\\u002f2009\",\"12\\u002f22\\u002f2010\",\"12\\u002f22\\u002f2011\",\"12\\u002f22\\u002f2014\",\"12\\u002f22\\u002f2015\",\"12\\u002f22\\u002f2016\",\"12\\u002f22\\u002f2017\",\"12\\u002f22\\u002f2020\",\"12\\u002f22\\u002f2021\",\"12\\u002f22\\u002f2022\",\"12\\u002f22\\u002f2023\",\"12\\u002f23\\u002f2009\",\"12\\u002f23\\u002f2010\",\"12\\u002f23\\u002f2011\",\"12\\u002f23\\u002f2013\",\"12\\u002f23\\u002f2014\",\"12\\u002f23\\u002f2015\",\"12\\u002f23\\u002f2016\",\"12\\u002f23\\u002f2019\",\"12\\u002f23\\u002f2020\",\"12\\u002f23\\u002f2021\",\"12\\u002f23\\u002f2022\",\"12\\u002f24\\u002f2009\",\"12\\u002f24\\u002f2012\",\"12\\u002f24\\u002f2013\",\"12\\u002f24\\u002f2014\",\"12\\u002f24\\u002f2015\",\"12\\u002f24\\u002f2018\",\"12\\u002f24\\u002f2019\",\"12\\u002f24\\u002f2020\",\"12\\u002f26\\u002f2012\",\"12\\u002f26\\u002f2013\",\"12\\u002f26\\u002f2014\",\"12\\u002f26\\u002f2017\",\"12\\u002f26\\u002f2018\",\"12\\u002f26\\u002f2019\",\"12\\u002f26\\u002f2023\",\"12\\u002f27\\u002f2010\",\"12\\u002f27\\u002f2011\",\"12\\u002f27\\u002f2012\",\"12\\u002f27\\u002f2013\",\"12\\u002f27\\u002f2016\",\"12\\u002f27\\u002f2017\",\"12\\u002f27\\u002f2018\",\"12\\u002f27\\u002f2019\",\"12\\u002f27\\u002f2021\",\"12\\u002f27\\u002f2022\",\"12\\u002f27\\u002f2023\",\"12\\u002f28\\u002f2009\",\"12\\u002f28\\u002f2010\",\"12\\u002f28\\u002f2011\",\"12\\u002f28\\u002f2012\",\"12\\u002f28\\u002f2015\",\"12\\u002f28\\u002f2016\",\"12\\u002f28\\u002f2017\",\"12\\u002f28\\u002f2018\",\"12\\u002f28\\u002f2020\",\"12\\u002f28\\u002f2021\",\"12\\u002f28\\u002f2022\",\"12\\u002f28\\u002f2023\",\"12\\u002f29\\u002f2009\",\"12\\u002f29\\u002f2010\",\"12\\u002f29\\u002f2011\",\"12\\u002f29\\u002f2014\",\"12\\u002f29\\u002f2015\",\"12\\u002f29\\u002f2016\",\"12\\u002f29\\u002f2017\",\"12\\u002f29\\u002f2020\",\"12\\u002f29\\u002f2021\",\"12\\u002f29\\u002f2022\",\"12\\u002f29\\u002f2023\",\"12\\u002f30\\u002f2009\",\"12\\u002f30\\u002f2010\",\"12\\u002f30\\u002f2011\",\"12\\u002f30\\u002f2013\",\"12\\u002f30\\u002f2014\",\"12\\u002f30\\u002f2015\",\"12\\u002f30\\u002f2016\",\"12\\u002f30\\u002f2019\",\"12\\u002f30\\u002f2020\",\"12\\u002f30\\u002f2021\",\"12\\u002f30\\u002f2022\",\"12\\u002f31\\u002f2009\",\"12\\u002f31\\u002f2010\",\"12\\u002f31\\u002f2012\",\"12\\u002f31\\u002f2013\",\"12\\u002f31\\u002f2014\",\"12\\u002f31\\u002f2015\",\"12\\u002f31\\u002f2018\",\"12\\u002f31\\u002f2019\",\"12\\u002f31\\u002f2020\"],\"y\":[970.275,971.42,970.275,971.42,971.42,971.42,971.42,971.42,971.42,970.275,970.275,971.42,971.42,970.275,971.42,971.42,971.42,971.42,971.42,971.42,971.42,971.42,971.42,971.42,971.42,971.42,971.42,971.42,971.42,971.42,971.42,970.275,971.42,970.275,971.42,971.42,971.42,971.42,971.42,971.42,971.42,971.42,971.42,971.42,971.42,971.42,971.42,971.42,971.42,971.42,971.42,971.42,971.42,971.42,971.42,971.42,971.42,971.42,971.42,970.275,971.42,971.42,970.275,971.42,971.42,970.275,971.42,971.42,971.42,971.42,970.275,971.42,971.42,971.42,971.42,971.42,970.275,970.275,971.42,971.42,971.42,971.42,971.42,971.42,971.42,971.42,971.42,971.42,970.275,971.42,971.42,970.275,971.42,971.42,971.42,971.42,971.42,971.42,971.42,971.42,971.42,971.42,971.42,971.42,971.42,970.275,971.42,971.42,971.42,971.42,970.275,971.42,971.42,971.42,971.42,971.42,971.42,971.42,970.275,971.42,971.42,971.42,970.275,971.42,970.275,971.42,970.275,971.42,971.42,971.42,970.275,971.42,971.42,971.42,971.42,971.42,971.42,971.42,971.42,971.42,970.275,971.42,971.42,971.42,971.42,971.42,971.42,971.42,970.275,971.42,970.275,971.42,970.275,970.275,971.42,971.42,971.42,970.275,971.42,971.42,971.42,971.42,971.42,971.42,971.42,971.42,971.42,971.42,971.42,971.42,971.42,971.42,971.42,971.42,971.42,970.275,970.275,971.42,971.42,971.42,971.42,971.42,971.42,971.42,971.42,971.42,971.42,971.42,971.42,971.42,971.42,971.42,970.275,970.275,971.42,971.42,971.42,971.42,971.42,971.42,971.42,971.42,970.275,970.275,971.42,971.42,971.42,971.42,971.42,970.275,971.42,970.275,970.275,971.42,971.42,971.42,971.42,971.42,970.275,971.42,971.42,971.42,971.42,971.42,971.42,971.42,970.275,971.42,971.42,971.42,971.42,971.42,971.42,971.42,971.42,971.42,971.42,971.42,971.42,971.42,971.42,971.42,971.42,971.42,971.42,971.42,970.275,971.42,971.42,971.42,971.42,971.42,971.42,971.42,971.42,971.42,971.42,971.42,970.275,970.275,971.42,971.42,971.42,971.42,971.42,971.42,971.42,971.42,971.42,971.42,970.275,971.42,971.42,971.42,971.42,971.42,971.42,971.42,971.42,971.42,971.42,970.275,970.275,971.42,971.42,971.42,971.42,971.42,971.42,971.42,970.275,971.42,971.42,971.42,971.42,971.42,971.42,971.42,970.275,970.275,971.42,971.42,970.275,971.42,971.42,971.42,971.42,970.275,970.275,971.42,971.42,971.42,971.42,971.42,970.275,971.42,971.42,970.275,970.275,971.42,971.42,971.42,971.42,971.42,971.42,971.42,971.42,971.42,971.42,971.42,971.42,971.42,971.42,971.42,971.42,971.42,971.42,971.42,970.275,971.42,971.42,971.42,971.42,971.42,971.42,971.42,971.42,971.42,971.42,971.42,971.42,971.42,971.42,970.275,971.42,970.275,971.42,971.42,971.42,971.42,971.42],\"type\":\"scatter\",\"xaxis\":\"x\",\"yaxis\":\"y\"},{\"marker\":{\"color\":\"LightSkyBlue\"},\"name\":\"Truth\",\"showlegend\":false,\"x\":[\"11\\u002f26\\u002f2012\",\"11\\u002f26\\u002f2013\",\"11\\u002f26\\u002f2014\",\"11\\u002f26\\u002f2018\",\"11\\u002f26\\u002f2019\",\"11\\u002f26\\u002f2021\",\"11\\u002f27\\u002f2009\",\"11\\u002f27\\u002f2012\",\"11\\u002f27\\u002f2013\",\"11\\u002f27\\u002f2015\",\"11\\u002f27\\u002f2017\",\"11\\u002f27\\u002f2018\",\"11\\u002f27\\u002f2019\",\"11\\u002f27\\u002f2020\",\"11\\u002f27\\u002f2023\",\"11\\u002f28\\u002f2011\",\"11\\u002f28\\u002f2012\",\"11\\u002f28\\u002f2014\",\"11\\u002f28\\u002f2016\",\"11\\u002f28\\u002f2017\",\"11\\u002f28\\u002f2018\",\"11\\u002f28\\u002f2022\",\"11\\u002f28\\u002f2023\",\"11\\u002f29\\u002f2010\",\"11\\u002f29\\u002f2011\",\"11\\u002f29\\u002f2012\",\"11\\u002f29\\u002f2013\",\"11\\u002f29\\u002f2016\",\"11\\u002f29\\u002f2017\",\"11\\u002f29\\u002f2018\",\"11\\u002f29\\u002f2019\",\"11\\u002f29\\u002f2021\",\"11\\u002f29\\u002f2022\",\"11\\u002f29\\u002f2023\",\"11\\u002f30\\u002f2009\",\"11\\u002f30\\u002f2010\",\"11\\u002f30\\u002f2011\",\"11\\u002f30\\u002f2012\",\"11\\u002f30\\u002f2015\",\"11\\u002f30\\u002f2016\",\"11\\u002f30\\u002f2017\",\"11\\u002f30\\u002f2018\",\"11\\u002f30\\u002f2020\",\"11\\u002f30\\u002f2021\",\"11\\u002f30\\u002f2022\",\"11\\u002f30\\u002f2023\",\"12\\u002f01\\u002f2009\",\"12\\u002f01\\u002f2010\",\"12\\u002f01\\u002f2011\",\"12\\u002f01\\u002f2014\",\"12\\u002f01\\u002f2015\",\"12\\u002f01\\u002f2016\",\"12\\u002f01\\u002f2017\",\"12\\u002f01\\u002f2020\",\"12\\u002f01\\u002f2021\",\"12\\u002f01\\u002f2022\",\"12\\u002f01\\u002f2023\",\"12\\u002f02\\u002f2009\",\"12\\u002f02\\u002f2010\",\"12\\u002f02\\u002f2011\",\"12\\u002f02\\u002f2013\",\"12\\u002f02\\u002f2014\",\"12\\u002f02\\u002f2015\",\"12\\u002f02\\u002f2016\",\"12\\u002f02\\u002f2019\",\"12\\u002f02\\u002f2020\",\"12\\u002f02\\u002f2021\",\"12\\u002f02\\u002f2022\",\"12\\u002f03\\u002f2009\",\"12\\u002f03\\u002f2010\",\"12\\u002f03\\u002f2012\",\"12\\u002f03\\u002f2013\",\"12\\u002f03\\u002f2014\",\"12\\u002f03\\u002f2015\",\"12\\u002f03\\u002f2018\",\"12\\u002f03\\u002f2019\",\"12\\u002f03\\u002f2020\",\"12\\u002f03\\u002f2021\",\"12\\u002f04\\u002f2009\",\"12\\u002f04\\u002f2012\",\"12\\u002f04\\u002f2013\",\"12\\u002f04\\u002f2014\",\"12\\u002f04\\u002f2015\",\"12\\u002f04\\u002f2017\",\"12\\u002f04\\u002f2018\",\"12\\u002f04\\u002f2019\",\"12\\u002f04\\u002f2020\",\"12\\u002f04\\u002f2023\",\"12\\u002f05\\u002f2011\",\"12\\u002f05\\u002f2012\",\"12\\u002f05\\u002f2013\",\"12\\u002f05\\u002f2014\",\"12\\u002f05\\u002f2016\",\"12\\u002f05\\u002f2017\",\"12\\u002f05\\u002f2019\",\"12\\u002f05\\u002f2022\",\"12\\u002f05\\u002f2023\",\"12\\u002f06\\u002f2010\",\"12\\u002f06\\u002f2011\",\"12\\u002f06\\u002f2012\",\"12\\u002f06\\u002f2013\",\"12\\u002f06\\u002f2016\",\"12\\u002f06\\u002f2017\",\"12\\u002f06\\u002f2018\",\"12\\u002f06\\u002f2019\",\"12\\u002f06\\u002f2021\",\"12\\u002f06\\u002f2022\",\"12\\u002f06\\u002f2023\",\"12\\u002f07\\u002f2009\",\"12\\u002f07\\u002f2010\",\"12\\u002f07\\u002f2011\",\"12\\u002f07\\u002f2012\",\"12\\u002f07\\u002f2015\",\"12\\u002f07\\u002f2016\",\"12\\u002f07\\u002f2017\",\"12\\u002f07\\u002f2018\",\"12\\u002f07\\u002f2020\",\"12\\u002f07\\u002f2021\",\"12\\u002f07\\u002f2022\",\"12\\u002f07\\u002f2023\",\"12\\u002f08\\u002f2009\",\"12\\u002f08\\u002f2010\",\"12\\u002f08\\u002f2011\",\"12\\u002f08\\u002f2014\",\"12\\u002f08\\u002f2015\",\"12\\u002f08\\u002f2016\",\"12\\u002f08\\u002f2017\",\"12\\u002f08\\u002f2020\",\"12\\u002f08\\u002f2021\",\"12\\u002f08\\u002f2022\",\"12\\u002f08\\u002f2023\",\"12\\u002f09\\u002f2009\",\"12\\u002f09\\u002f2010\",\"12\\u002f09\\u002f2011\",\"12\\u002f09\\u002f2013\",\"12\\u002f09\\u002f2014\",\"12\\u002f09\\u002f2015\",\"12\\u002f09\\u002f2016\",\"12\\u002f09\\u002f2019\",\"12\\u002f09\\u002f2020\",\"12\\u002f09\\u002f2021\",\"12\\u002f09\\u002f2022\",\"12\\u002f10\\u002f2009\",\"12\\u002f10\\u002f2010\",\"12\\u002f10\\u002f2012\",\"12\\u002f10\\u002f2013\",\"12\\u002f10\\u002f2014\",\"12\\u002f10\\u002f2015\",\"12\\u002f10\\u002f2018\",\"12\\u002f10\\u002f2019\",\"12\\u002f10\\u002f2020\",\"12\\u002f10\\u002f2021\",\"12\\u002f11\\u002f2009\",\"12\\u002f11\\u002f2012\",\"12\\u002f11\\u002f2013\",\"12\\u002f11\\u002f2014\",\"12\\u002f11\\u002f2015\",\"12\\u002f11\\u002f2017\",\"12\\u002f11\\u002f2018\",\"12\\u002f11\\u002f2019\",\"12\\u002f11\\u002f2020\",\"12\\u002f11\\u002f2023\",\"12\\u002f12\\u002f2011\",\"12\\u002f12\\u002f2012\",\"12\\u002f12\\u002f2013\",\"12\\u002f12\\u002f2014\",\"12\\u002f12\\u002f2016\",\"12\\u002f12\\u002f2017\",\"12\\u002f12\\u002f2018\",\"12\\u002f12\\u002f2019\",\"12\\u002f12\\u002f2022\",\"12\\u002f12\\u002f2023\",\"12\\u002f13\\u002f2010\",\"12\\u002f13\\u002f2011\",\"12\\u002f13\\u002f2012\",\"12\\u002f13\\u002f2013\",\"12\\u002f13\\u002f2016\",\"12\\u002f13\\u002f2017\",\"12\\u002f13\\u002f2018\",\"12\\u002f13\\u002f2019\",\"12\\u002f13\\u002f2021\",\"12\\u002f13\\u002f2022\",\"12\\u002f13\\u002f2023\",\"12\\u002f14\\u002f2009\",\"12\\u002f14\\u002f2010\",\"12\\u002f14\\u002f2011\",\"12\\u002f14\\u002f2012\",\"12\\u002f14\\u002f2015\",\"12\\u002f14\\u002f2016\",\"12\\u002f14\\u002f2017\",\"12\\u002f14\\u002f2018\",\"12\\u002f14\\u002f2020\",\"12\\u002f14\\u002f2021\",\"12\\u002f14\\u002f2022\",\"12\\u002f14\\u002f2023\",\"12\\u002f15\\u002f2009\",\"12\\u002f15\\u002f2010\",\"12\\u002f15\\u002f2011\",\"12\\u002f15\\u002f2014\",\"12\\u002f15\\u002f2015\",\"12\\u002f15\\u002f2016\",\"12\\u002f15\\u002f2017\",\"12\\u002f15\\u002f2020\",\"12\\u002f15\\u002f2021\",\"12\\u002f15\\u002f2022\",\"12\\u002f15\\u002f2023\",\"12\\u002f16\\u002f2009\",\"12\\u002f16\\u002f2010\",\"12\\u002f16\\u002f2011\",\"12\\u002f16\\u002f2013\",\"12\\u002f16\\u002f2014\",\"12\\u002f16\\u002f2015\",\"12\\u002f16\\u002f2016\",\"12\\u002f16\\u002f2019\",\"12\\u002f16\\u002f2020\",\"12\\u002f16\\u002f2021\",\"12\\u002f16\\u002f2022\",\"12\\u002f17\\u002f2009\",\"12\\u002f17\\u002f2010\",\"12\\u002f17\\u002f2012\",\"12\\u002f17\\u002f2013\",\"12\\u002f17\\u002f2014\",\"12\\u002f17\\u002f2015\",\"12\\u002f17\\u002f2018\",\"12\\u002f17\\u002f2019\",\"12\\u002f17\\u002f2020\",\"12\\u002f17\\u002f2021\",\"12\\u002f18\\u002f2009\",\"12\\u002f18\\u002f2012\",\"12\\u002f18\\u002f2013\",\"12\\u002f18\\u002f2014\",\"12\\u002f18\\u002f2015\",\"12\\u002f18\\u002f2017\",\"12\\u002f18\\u002f2018\",\"12\\u002f18\\u002f2019\",\"12\\u002f18\\u002f2020\",\"12\\u002f18\\u002f2023\",\"12\\u002f19\\u002f2011\",\"12\\u002f19\\u002f2012\",\"12\\u002f19\\u002f2013\",\"12\\u002f19\\u002f2014\",\"12\\u002f19\\u002f2016\",\"12\\u002f19\\u002f2017\",\"12\\u002f19\\u002f2018\",\"12\\u002f19\\u002f2019\",\"12\\u002f19\\u002f2022\",\"12\\u002f19\\u002f2023\",\"12\\u002f20\\u002f2010\",\"12\\u002f20\\u002f2011\",\"12\\u002f20\\u002f2012\",\"12\\u002f20\\u002f2013\",\"12\\u002f20\\u002f2016\",\"12\\u002f20\\u002f2017\",\"12\\u002f20\\u002f2018\",\"12\\u002f20\\u002f2019\",\"12\\u002f20\\u002f2021\",\"12\\u002f20\\u002f2022\",\"12\\u002f20\\u002f2023\",\"12\\u002f21\\u002f2009\",\"12\\u002f21\\u002f2010\",\"12\\u002f21\\u002f2011\",\"12\\u002f21\\u002f2012\",\"12\\u002f21\\u002f2015\",\"12\\u002f21\\u002f2016\",\"12\\u002f21\\u002f2017\",\"12\\u002f21\\u002f2018\",\"12\\u002f21\\u002f2020\",\"12\\u002f21\\u002f2021\",\"12\\u002f21\\u002f2022\",\"12\\u002f21\\u002f2023\",\"12\\u002f22\\u002f2009\",\"12\\u002f22\\u002f2010\",\"12\\u002f22\\u002f2011\",\"12\\u002f22\\u002f2014\",\"12\\u002f22\\u002f2015\",\"12\\u002f22\\u002f2016\",\"12\\u002f22\\u002f2017\",\"12\\u002f22\\u002f2020\",\"12\\u002f22\\u002f2021\",\"12\\u002f22\\u002f2022\",\"12\\u002f22\\u002f2023\",\"12\\u002f23\\u002f2009\",\"12\\u002f23\\u002f2010\",\"12\\u002f23\\u002f2011\",\"12\\u002f23\\u002f2013\",\"12\\u002f23\\u002f2014\",\"12\\u002f23\\u002f2015\",\"12\\u002f23\\u002f2016\",\"12\\u002f23\\u002f2019\",\"12\\u002f23\\u002f2020\",\"12\\u002f23\\u002f2021\",\"12\\u002f23\\u002f2022\",\"12\\u002f24\\u002f2009\",\"12\\u002f24\\u002f2012\",\"12\\u002f24\\u002f2013\",\"12\\u002f24\\u002f2014\",\"12\\u002f24\\u002f2015\",\"12\\u002f24\\u002f2018\",\"12\\u002f24\\u002f2019\",\"12\\u002f24\\u002f2020\",\"12\\u002f26\\u002f2012\",\"12\\u002f26\\u002f2013\",\"12\\u002f26\\u002f2014\",\"12\\u002f26\\u002f2017\",\"12\\u002f26\\u002f2018\",\"12\\u002f26\\u002f2019\",\"12\\u002f26\\u002f2023\",\"12\\u002f27\\u002f2010\",\"12\\u002f27\\u002f2011\",\"12\\u002f27\\u002f2012\",\"12\\u002f27\\u002f2013\",\"12\\u002f27\\u002f2016\",\"12\\u002f27\\u002f2017\",\"12\\u002f27\\u002f2018\",\"12\\u002f27\\u002f2019\",\"12\\u002f27\\u002f2021\",\"12\\u002f27\\u002f2022\",\"12\\u002f27\\u002f2023\",\"12\\u002f28\\u002f2009\",\"12\\u002f28\\u002f2010\",\"12\\u002f28\\u002f2011\",\"12\\u002f28\\u002f2012\",\"12\\u002f28\\u002f2015\",\"12\\u002f28\\u002f2016\",\"12\\u002f28\\u002f2017\",\"12\\u002f28\\u002f2018\",\"12\\u002f28\\u002f2020\",\"12\\u002f28\\u002f2021\",\"12\\u002f28\\u002f2022\",\"12\\u002f28\\u002f2023\",\"12\\u002f29\\u002f2009\",\"12\\u002f29\\u002f2010\",\"12\\u002f29\\u002f2011\",\"12\\u002f29\\u002f2014\",\"12\\u002f29\\u002f2015\",\"12\\u002f29\\u002f2016\",\"12\\u002f29\\u002f2017\",\"12\\u002f29\\u002f2020\",\"12\\u002f29\\u002f2021\",\"12\\u002f29\\u002f2022\",\"12\\u002f29\\u002f2023\",\"12\\u002f30\\u002f2009\",\"12\\u002f30\\u002f2010\",\"12\\u002f30\\u002f2011\",\"12\\u002f30\\u002f2013\",\"12\\u002f30\\u002f2014\",\"12\\u002f30\\u002f2015\",\"12\\u002f30\\u002f2016\",\"12\\u002f30\\u002f2019\",\"12\\u002f30\\u002f2020\",\"12\\u002f30\\u002f2021\",\"12\\u002f30\\u002f2022\",\"12\\u002f31\\u002f2009\",\"12\\u002f31\\u002f2010\",\"12\\u002f31\\u002f2012\",\"12\\u002f31\\u002f2013\",\"12\\u002f31\\u002f2014\",\"12\\u002f31\\u002f2015\",\"12\\u002f31\\u002f2018\",\"12\\u002f31\\u002f2019\",\"12\\u002f31\\u002f2020\"],\"y\":[0.0,0.0,0.0,0.0,0.0,0.0,0.0,0.0,0.0,0.0,0.0,0.0,0.0,0.0,0.0,0.0,0.0,0.0,0.0,0.0,0.0,0.0,0.0,0.0,0.0,0.0,0.0,0.0,0.0,0.0,0.0,0.0,0.0,0.0,0.0,0.0,0.0,0.0,0.0,0.0,0.0,0.0,0.0,0.0,0.0,0.0,0.0,0.0,0.0,0.0,0.0,0.0,0.0,0.0,0.0,0.0,0.0,0.0,0.0,0.0,0.0,0.0,0.0,0.0,0.0,0.0,0.0,0.0,0.0,0.0,0.0,0.0,0.0,0.0,0.0,0.0,0.0,0.0,0.0,0.0,0.0,0.0,0.0,0.0,0.0,0.0,0.0,0.0,0.0,0.0,0.0,0.0,0.0,0.0,0.0,0.0,0.0,0.0,0.0,0.0,0.0,0.0,0.0,0.0,0.0,0.0,0.0,0.0,0.0,0.0,0.0,0.0,0.0,0.0,0.0,0.0,0.0,0.0,0.0,0.0,0.0,0.0,0.0,0.0,0.0,0.0,0.0,0.0,0.0,0.0,0.0,0.0,0.0,0.0,0.0,0.0,0.0,0.0,0.0,0.0,0.0,0.0,0.0,0.0,0.0,0.0,0.0,0.0,0.0,0.0,0.0,0.0,0.0,0.0,0.0,0.0,0.0,0.0,0.0,0.0,0.0,0.0,0.0,0.0,0.0,0.0,0.0,0.0,0.0,0.0,0.0,0.0,0.0,0.0,0.0,0.0,0.0,0.0,0.0,0.0,0.0,0.0,0.0,0.0,0.0,0.0,0.0,0.0,0.0,0.0,0.0,0.0,0.0,0.0,0.0,0.0,0.0,0.0,0.0,0.0,0.0,0.0,0.0,0.0,0.0,0.0,0.0,0.0,0.0,0.0,0.0,0.0,0.0,0.0,0.0,0.0,0.0,0.0,0.0,0.0,0.0,0.0,0.0,0.0,0.0,0.0,0.0,0.0,0.0,0.0,0.0,0.0,0.0,0.0,0.0,0.0,0.0,0.0,0.0,0.0,0.0,0.0,0.0,0.0,0.0,0.0,0.0,0.0,0.0,0.0,0.0,0.0,0.0,0.0,0.0,0.0,0.0,0.0,0.0,0.0,0.0,0.0,0.0,0.0,0.0,0.0,0.0,0.0,0.0,0.0,0.0,0.0,0.0,0.0,0.0,0.0,0.0,0.0,0.0,0.0,0.0,0.0,0.0,0.0,0.0,0.0,0.0,0.0,0.0,0.0,0.0,0.0,0.0,0.0,0.0,0.0,0.0,0.0,0.0,0.0,0.0,0.0,0.0,0.0,0.0,0.0,0.0,0.0,0.0,0.0,0.0,0.0,0.0,0.0,0.0,0.0,0.0,0.0,0.0,0.0,0.0,0.0,0.0,0.0,0.0,0.0,0.0,0.0,0.0,0.0,0.0,0.0,0.0,0.0,0.0,0.0,0.0,0.0,0.0,0.0,0.0,0.0,0.0,0.0,0.0,0.0,0.0,0.0,0.0,0.0,0.0,0.0,0.0,0.0,0.0,0.0,0.0,0.0,0.0,0.0,0.0],\"type\":\"scatter\",\"xaxis\":\"x2\",\"yaxis\":\"y2\"},{\"marker\":{\"color\":\"MediumPurple\"},\"name\":\"Prediction\",\"showlegend\":false,\"x\":[\"11\\u002f26\\u002f2012\",\"11\\u002f26\\u002f2013\",\"11\\u002f26\\u002f2014\",\"11\\u002f26\\u002f2018\",\"11\\u002f26\\u002f2019\",\"11\\u002f26\\u002f2021\",\"11\\u002f27\\u002f2009\",\"11\\u002f27\\u002f2012\",\"11\\u002f27\\u002f2013\",\"11\\u002f27\\u002f2015\",\"11\\u002f27\\u002f2017\",\"11\\u002f27\\u002f2018\",\"11\\u002f27\\u002f2019\",\"11\\u002f27\\u002f2020\",\"11\\u002f27\\u002f2023\",\"11\\u002f28\\u002f2011\",\"11\\u002f28\\u002f2012\",\"11\\u002f28\\u002f2014\",\"11\\u002f28\\u002f2016\",\"11\\u002f28\\u002f2017\",\"11\\u002f28\\u002f2018\",\"11\\u002f28\\u002f2022\",\"11\\u002f28\\u002f2023\",\"11\\u002f29\\u002f2010\",\"11\\u002f29\\u002f2011\",\"11\\u002f29\\u002f2012\",\"11\\u002f29\\u002f2013\",\"11\\u002f29\\u002f2016\",\"11\\u002f29\\u002f2017\",\"11\\u002f29\\u002f2018\",\"11\\u002f29\\u002f2019\",\"11\\u002f29\\u002f2021\",\"11\\u002f29\\u002f2022\",\"11\\u002f29\\u002f2023\",\"11\\u002f30\\u002f2009\",\"11\\u002f30\\u002f2010\",\"11\\u002f30\\u002f2011\",\"11\\u002f30\\u002f2012\",\"11\\u002f30\\u002f2015\",\"11\\u002f30\\u002f2016\",\"11\\u002f30\\u002f2017\",\"11\\u002f30\\u002f2018\",\"11\\u002f30\\u002f2020\",\"11\\u002f30\\u002f2021\",\"11\\u002f30\\u002f2022\",\"11\\u002f30\\u002f2023\",\"12\\u002f01\\u002f2009\",\"12\\u002f01\\u002f2010\",\"12\\u002f01\\u002f2011\",\"12\\u002f01\\u002f2014\",\"12\\u002f01\\u002f2015\",\"12\\u002f01\\u002f2016\",\"12\\u002f01\\u002f2017\",\"12\\u002f01\\u002f2020\",\"12\\u002f01\\u002f2021\",\"12\\u002f01\\u002f2022\",\"12\\u002f01\\u002f2023\",\"12\\u002f02\\u002f2009\",\"12\\u002f02\\u002f2010\",\"12\\u002f02\\u002f2011\",\"12\\u002f02\\u002f2013\",\"12\\u002f02\\u002f2014\",\"12\\u002f02\\u002f2015\",\"12\\u002f02\\u002f2016\",\"12\\u002f02\\u002f2019\",\"12\\u002f02\\u002f2020\",\"12\\u002f02\\u002f2021\",\"12\\u002f02\\u002f2022\",\"12\\u002f03\\u002f2009\",\"12\\u002f03\\u002f2010\",\"12\\u002f03\\u002f2012\",\"12\\u002f03\\u002f2013\",\"12\\u002f03\\u002f2014\",\"12\\u002f03\\u002f2015\",\"12\\u002f03\\u002f2018\",\"12\\u002f03\\u002f2019\",\"12\\u002f03\\u002f2020\",\"12\\u002f03\\u002f2021\",\"12\\u002f04\\u002f2009\",\"12\\u002f04\\u002f2012\",\"12\\u002f04\\u002f2013\",\"12\\u002f04\\u002f2014\",\"12\\u002f04\\u002f2015\",\"12\\u002f04\\u002f2017\",\"12\\u002f04\\u002f2018\",\"12\\u002f04\\u002f2019\",\"12\\u002f04\\u002f2020\",\"12\\u002f04\\u002f2023\",\"12\\u002f05\\u002f2011\",\"12\\u002f05\\u002f2012\",\"12\\u002f05\\u002f2013\",\"12\\u002f05\\u002f2014\",\"12\\u002f05\\u002f2016\",\"12\\u002f05\\u002f2017\",\"12\\u002f05\\u002f2019\",\"12\\u002f05\\u002f2022\",\"12\\u002f05\\u002f2023\",\"12\\u002f06\\u002f2010\",\"12\\u002f06\\u002f2011\",\"12\\u002f06\\u002f2012\",\"12\\u002f06\\u002f2013\",\"12\\u002f06\\u002f2016\",\"12\\u002f06\\u002f2017\",\"12\\u002f06\\u002f2018\",\"12\\u002f06\\u002f2019\",\"12\\u002f06\\u002f2021\",\"12\\u002f06\\u002f2022\",\"12\\u002f06\\u002f2023\",\"12\\u002f07\\u002f2009\",\"12\\u002f07\\u002f2010\",\"12\\u002f07\\u002f2011\",\"12\\u002f07\\u002f2012\",\"12\\u002f07\\u002f2015\",\"12\\u002f07\\u002f2016\",\"12\\u002f07\\u002f2017\",\"12\\u002f07\\u002f2018\",\"12\\u002f07\\u002f2020\",\"12\\u002f07\\u002f2021\",\"12\\u002f07\\u002f2022\",\"12\\u002f07\\u002f2023\",\"12\\u002f08\\u002f2009\",\"12\\u002f08\\u002f2010\",\"12\\u002f08\\u002f2011\",\"12\\u002f08\\u002f2014\",\"12\\u002f08\\u002f2015\",\"12\\u002f08\\u002f2016\",\"12\\u002f08\\u002f2017\",\"12\\u002f08\\u002f2020\",\"12\\u002f08\\u002f2021\",\"12\\u002f08\\u002f2022\",\"12\\u002f08\\u002f2023\",\"12\\u002f09\\u002f2009\",\"12\\u002f09\\u002f2010\",\"12\\u002f09\\u002f2011\",\"12\\u002f09\\u002f2013\",\"12\\u002f09\\u002f2014\",\"12\\u002f09\\u002f2015\",\"12\\u002f09\\u002f2016\",\"12\\u002f09\\u002f2019\",\"12\\u002f09\\u002f2020\",\"12\\u002f09\\u002f2021\",\"12\\u002f09\\u002f2022\",\"12\\u002f10\\u002f2009\",\"12\\u002f10\\u002f2010\",\"12\\u002f10\\u002f2012\",\"12\\u002f10\\u002f2013\",\"12\\u002f10\\u002f2014\",\"12\\u002f10\\u002f2015\",\"12\\u002f10\\u002f2018\",\"12\\u002f10\\u002f2019\",\"12\\u002f10\\u002f2020\",\"12\\u002f10\\u002f2021\",\"12\\u002f11\\u002f2009\",\"12\\u002f11\\u002f2012\",\"12\\u002f11\\u002f2013\",\"12\\u002f11\\u002f2014\",\"12\\u002f11\\u002f2015\",\"12\\u002f11\\u002f2017\",\"12\\u002f11\\u002f2018\",\"12\\u002f11\\u002f2019\",\"12\\u002f11\\u002f2020\",\"12\\u002f11\\u002f2023\",\"12\\u002f12\\u002f2011\",\"12\\u002f12\\u002f2012\",\"12\\u002f12\\u002f2013\",\"12\\u002f12\\u002f2014\",\"12\\u002f12\\u002f2016\",\"12\\u002f12\\u002f2017\",\"12\\u002f12\\u002f2018\",\"12\\u002f12\\u002f2019\",\"12\\u002f12\\u002f2022\",\"12\\u002f12\\u002f2023\",\"12\\u002f13\\u002f2010\",\"12\\u002f13\\u002f2011\",\"12\\u002f13\\u002f2012\",\"12\\u002f13\\u002f2013\",\"12\\u002f13\\u002f2016\",\"12\\u002f13\\u002f2017\",\"12\\u002f13\\u002f2018\",\"12\\u002f13\\u002f2019\",\"12\\u002f13\\u002f2021\",\"12\\u002f13\\u002f2022\",\"12\\u002f13\\u002f2023\",\"12\\u002f14\\u002f2009\",\"12\\u002f14\\u002f2010\",\"12\\u002f14\\u002f2011\",\"12\\u002f14\\u002f2012\",\"12\\u002f14\\u002f2015\",\"12\\u002f14\\u002f2016\",\"12\\u002f14\\u002f2017\",\"12\\u002f14\\u002f2018\",\"12\\u002f14\\u002f2020\",\"12\\u002f14\\u002f2021\",\"12\\u002f14\\u002f2022\",\"12\\u002f14\\u002f2023\",\"12\\u002f15\\u002f2009\",\"12\\u002f15\\u002f2010\",\"12\\u002f15\\u002f2011\",\"12\\u002f15\\u002f2014\",\"12\\u002f15\\u002f2015\",\"12\\u002f15\\u002f2016\",\"12\\u002f15\\u002f2017\",\"12\\u002f15\\u002f2020\",\"12\\u002f15\\u002f2021\",\"12\\u002f15\\u002f2022\",\"12\\u002f15\\u002f2023\",\"12\\u002f16\\u002f2009\",\"12\\u002f16\\u002f2010\",\"12\\u002f16\\u002f2011\",\"12\\u002f16\\u002f2013\",\"12\\u002f16\\u002f2014\",\"12\\u002f16\\u002f2015\",\"12\\u002f16\\u002f2016\",\"12\\u002f16\\u002f2019\",\"12\\u002f16\\u002f2020\",\"12\\u002f16\\u002f2021\",\"12\\u002f16\\u002f2022\",\"12\\u002f17\\u002f2009\",\"12\\u002f17\\u002f2010\",\"12\\u002f17\\u002f2012\",\"12\\u002f17\\u002f2013\",\"12\\u002f17\\u002f2014\",\"12\\u002f17\\u002f2015\",\"12\\u002f17\\u002f2018\",\"12\\u002f17\\u002f2019\",\"12\\u002f17\\u002f2020\",\"12\\u002f17\\u002f2021\",\"12\\u002f18\\u002f2009\",\"12\\u002f18\\u002f2012\",\"12\\u002f18\\u002f2013\",\"12\\u002f18\\u002f2014\",\"12\\u002f18\\u002f2015\",\"12\\u002f18\\u002f2017\",\"12\\u002f18\\u002f2018\",\"12\\u002f18\\u002f2019\",\"12\\u002f18\\u002f2020\",\"12\\u002f18\\u002f2023\",\"12\\u002f19\\u002f2011\",\"12\\u002f19\\u002f2012\",\"12\\u002f19\\u002f2013\",\"12\\u002f19\\u002f2014\",\"12\\u002f19\\u002f2016\",\"12\\u002f19\\u002f2017\",\"12\\u002f19\\u002f2018\",\"12\\u002f19\\u002f2019\",\"12\\u002f19\\u002f2022\",\"12\\u002f19\\u002f2023\",\"12\\u002f20\\u002f2010\",\"12\\u002f20\\u002f2011\",\"12\\u002f20\\u002f2012\",\"12\\u002f20\\u002f2013\",\"12\\u002f20\\u002f2016\",\"12\\u002f20\\u002f2017\",\"12\\u002f20\\u002f2018\",\"12\\u002f20\\u002f2019\",\"12\\u002f20\\u002f2021\",\"12\\u002f20\\u002f2022\",\"12\\u002f20\\u002f2023\",\"12\\u002f21\\u002f2009\",\"12\\u002f21\\u002f2010\",\"12\\u002f21\\u002f2011\",\"12\\u002f21\\u002f2012\",\"12\\u002f21\\u002f2015\",\"12\\u002f21\\u002f2016\",\"12\\u002f21\\u002f2017\",\"12\\u002f21\\u002f2018\",\"12\\u002f21\\u002f2020\",\"12\\u002f21\\u002f2021\",\"12\\u002f21\\u002f2022\",\"12\\u002f21\\u002f2023\",\"12\\u002f22\\u002f2009\",\"12\\u002f22\\u002f2010\",\"12\\u002f22\\u002f2011\",\"12\\u002f22\\u002f2014\",\"12\\u002f22\\u002f2015\",\"12\\u002f22\\u002f2016\",\"12\\u002f22\\u002f2017\",\"12\\u002f22\\u002f2020\",\"12\\u002f22\\u002f2021\",\"12\\u002f22\\u002f2022\",\"12\\u002f22\\u002f2023\",\"12\\u002f23\\u002f2009\",\"12\\u002f23\\u002f2010\",\"12\\u002f23\\u002f2011\",\"12\\u002f23\\u002f2013\",\"12\\u002f23\\u002f2014\",\"12\\u002f23\\u002f2015\",\"12\\u002f23\\u002f2016\",\"12\\u002f23\\u002f2019\",\"12\\u002f23\\u002f2020\",\"12\\u002f23\\u002f2021\",\"12\\u002f23\\u002f2022\",\"12\\u002f24\\u002f2009\",\"12\\u002f24\\u002f2012\",\"12\\u002f24\\u002f2013\",\"12\\u002f24\\u002f2014\",\"12\\u002f24\\u002f2015\",\"12\\u002f24\\u002f2018\",\"12\\u002f24\\u002f2019\",\"12\\u002f24\\u002f2020\",\"12\\u002f26\\u002f2012\",\"12\\u002f26\\u002f2013\",\"12\\u002f26\\u002f2014\",\"12\\u002f26\\u002f2017\",\"12\\u002f26\\u002f2018\",\"12\\u002f26\\u002f2019\",\"12\\u002f26\\u002f2023\",\"12\\u002f27\\u002f2010\",\"12\\u002f27\\u002f2011\",\"12\\u002f27\\u002f2012\",\"12\\u002f27\\u002f2013\",\"12\\u002f27\\u002f2016\",\"12\\u002f27\\u002f2017\",\"12\\u002f27\\u002f2018\",\"12\\u002f27\\u002f2019\",\"12\\u002f27\\u002f2021\",\"12\\u002f27\\u002f2022\",\"12\\u002f27\\u002f2023\",\"12\\u002f28\\u002f2009\",\"12\\u002f28\\u002f2010\",\"12\\u002f28\\u002f2011\",\"12\\u002f28\\u002f2012\",\"12\\u002f28\\u002f2015\",\"12\\u002f28\\u002f2016\",\"12\\u002f28\\u002f2017\",\"12\\u002f28\\u002f2018\",\"12\\u002f28\\u002f2020\",\"12\\u002f28\\u002f2021\",\"12\\u002f28\\u002f2022\",\"12\\u002f28\\u002f2023\",\"12\\u002f29\\u002f2009\",\"12\\u002f29\\u002f2010\",\"12\\u002f29\\u002f2011\",\"12\\u002f29\\u002f2014\",\"12\\u002f29\\u002f2015\",\"12\\u002f29\\u002f2016\",\"12\\u002f29\\u002f2017\",\"12\\u002f29\\u002f2020\",\"12\\u002f29\\u002f2021\",\"12\\u002f29\\u002f2022\",\"12\\u002f29\\u002f2023\",\"12\\u002f30\\u002f2009\",\"12\\u002f30\\u002f2010\",\"12\\u002f30\\u002f2011\",\"12\\u002f30\\u002f2013\",\"12\\u002f30\\u002f2014\",\"12\\u002f30\\u002f2015\",\"12\\u002f30\\u002f2016\",\"12\\u002f30\\u002f2019\",\"12\\u002f30\\u002f2020\",\"12\\u002f30\\u002f2021\",\"12\\u002f30\\u002f2022\",\"12\\u002f31\\u002f2009\",\"12\\u002f31\\u002f2010\",\"12\\u002f31\\u002f2012\",\"12\\u002f31\\u002f2013\",\"12\\u002f31\\u002f2014\",\"12\\u002f31\\u002f2015\",\"12\\u002f31\\u002f2018\",\"12\\u002f31\\u002f2019\",\"12\\u002f31\\u002f2020\"],\"y\":[970.275,971.42,970.275,971.42,971.42,971.42,971.42,971.42,971.42,970.275,970.275,971.42,971.42,970.275,971.42,971.42,971.42,971.42,971.42,971.42,971.42,971.42,971.42,971.42,971.42,971.42,971.42,971.42,971.42,971.42,971.42,970.275,971.42,970.275,971.42,971.42,971.42,971.42,971.42,971.42,971.42,971.42,971.42,971.42,971.42,971.42,971.42,971.42,971.42,971.42,971.42,971.42,971.42,971.42,971.42,971.42,971.42,971.42,971.42,970.275,971.42,971.42,970.275,971.42,971.42,970.275,971.42,971.42,971.42,971.42,970.275,971.42,971.42,971.42,971.42,971.42,970.275,970.275,971.42,971.42,971.42,971.42,971.42,971.42,971.42,971.42,971.42,971.42,970.275,971.42,971.42,970.275,971.42,971.42,971.42,971.42,971.42,971.42,971.42,971.42,971.42,971.42,971.42,971.42,971.42,970.275,971.42,971.42,971.42,971.42,970.275,971.42,971.42,971.42,971.42,971.42,971.42,971.42,970.275,971.42,971.42,971.42,970.275,971.42,970.275,971.42,970.275,971.42,971.42,971.42,970.275,971.42,971.42,971.42,971.42,971.42,971.42,971.42,971.42,971.42,970.275,971.42,971.42,971.42,971.42,971.42,971.42,971.42,970.275,971.42,970.275,971.42,970.275,970.275,971.42,971.42,971.42,970.275,971.42,971.42,971.42,971.42,971.42,971.42,971.42,971.42,971.42,971.42,971.42,971.42,971.42,971.42,971.42,971.42,971.42,970.275,970.275,971.42,971.42,971.42,971.42,971.42,971.42,971.42,971.42,971.42,971.42,971.42,971.42,971.42,971.42,971.42,970.275,970.275,971.42,971.42,971.42,971.42,971.42,971.42,971.42,971.42,970.275,970.275,971.42,971.42,971.42,971.42,971.42,970.275,971.42,970.275,970.275,971.42,971.42,971.42,971.42,971.42,970.275,971.42,971.42,971.42,971.42,971.42,971.42,971.42,970.275,971.42,971.42,971.42,971.42,971.42,971.42,971.42,971.42,971.42,971.42,971.42,971.42,971.42,971.42,971.42,971.42,971.42,971.42,971.42,970.275,971.42,971.42,971.42,971.42,971.42,971.42,971.42,971.42,971.42,971.42,971.42,970.275,970.275,971.42,971.42,971.42,971.42,971.42,971.42,971.42,971.42,971.42,971.42,970.275,971.42,971.42,971.42,971.42,971.42,971.42,971.42,971.42,971.42,971.42,970.275,970.275,971.42,971.42,971.42,971.42,971.42,971.42,971.42,970.275,971.42,971.42,971.42,971.42,971.42,971.42,971.42,970.275,970.275,971.42,971.42,970.275,971.42,971.42,971.42,971.42,970.275,970.275,971.42,971.42,971.42,971.42,971.42,970.275,971.42,971.42,970.275,970.275,971.42,971.42,971.42,971.42,971.42,971.42,971.42,971.42,971.42,971.42,971.42,971.42,971.42,971.42,971.42,971.42,971.42,971.42,971.42,970.275,971.42,971.42,971.42,971.42,971.42,971.42,971.42,971.42,971.42,971.42,971.42,971.42,971.42,971.42,970.275,971.42,970.275,971.42,971.42,971.42,971.42,971.42],\"type\":\"scatter\",\"xaxis\":\"x2\",\"yaxis\":\"y2\"}],                        {\"template\":{\"data\":{\"histogram2dcontour\":[{\"type\":\"histogram2dcontour\",\"colorbar\":{\"outlinewidth\":0,\"ticks\":\"\"},\"colorscale\":[[0.0,\"#0d0887\"],[0.1111111111111111,\"#46039f\"],[0.2222222222222222,\"#7201a8\"],[0.3333333333333333,\"#9c179e\"],[0.4444444444444444,\"#bd3786\"],[0.5555555555555556,\"#d8576b\"],[0.6666666666666666,\"#ed7953\"],[0.7777777777777778,\"#fb9f3a\"],[0.8888888888888888,\"#fdca26\"],[1.0,\"#f0f921\"]]}],\"choropleth\":[{\"type\":\"choropleth\",\"colorbar\":{\"outlinewidth\":0,\"ticks\":\"\"}}],\"histogram2d\":[{\"type\":\"histogram2d\",\"colorbar\":{\"outlinewidth\":0,\"ticks\":\"\"},\"colorscale\":[[0.0,\"#0d0887\"],[0.1111111111111111,\"#46039f\"],[0.2222222222222222,\"#7201a8\"],[0.3333333333333333,\"#9c179e\"],[0.4444444444444444,\"#bd3786\"],[0.5555555555555556,\"#d8576b\"],[0.6666666666666666,\"#ed7953\"],[0.7777777777777778,\"#fb9f3a\"],[0.8888888888888888,\"#fdca26\"],[1.0,\"#f0f921\"]]}],\"heatmap\":[{\"type\":\"heatmap\",\"colorbar\":{\"outlinewidth\":0,\"ticks\":\"\"},\"colorscale\":[[0.0,\"#0d0887\"],[0.1111111111111111,\"#46039f\"],[0.2222222222222222,\"#7201a8\"],[0.3333333333333333,\"#9c179e\"],[0.4444444444444444,\"#bd3786\"],[0.5555555555555556,\"#d8576b\"],[0.6666666666666666,\"#ed7953\"],[0.7777777777777778,\"#fb9f3a\"],[0.8888888888888888,\"#fdca26\"],[1.0,\"#f0f921\"]]}],\"heatmapgl\":[{\"type\":\"heatmapgl\",\"colorbar\":{\"outlinewidth\":0,\"ticks\":\"\"},\"colorscale\":[[0.0,\"#0d0887\"],[0.1111111111111111,\"#46039f\"],[0.2222222222222222,\"#7201a8\"],[0.3333333333333333,\"#9c179e\"],[0.4444444444444444,\"#bd3786\"],[0.5555555555555556,\"#d8576b\"],[0.6666666666666666,\"#ed7953\"],[0.7777777777777778,\"#fb9f3a\"],[0.8888888888888888,\"#fdca26\"],[1.0,\"#f0f921\"]]}],\"contourcarpet\":[{\"type\":\"contourcarpet\",\"colorbar\":{\"outlinewidth\":0,\"ticks\":\"\"}}],\"contour\":[{\"type\":\"contour\",\"colorbar\":{\"outlinewidth\":0,\"ticks\":\"\"},\"colorscale\":[[0.0,\"#0d0887\"],[0.1111111111111111,\"#46039f\"],[0.2222222222222222,\"#7201a8\"],[0.3333333333333333,\"#9c179e\"],[0.4444444444444444,\"#bd3786\"],[0.5555555555555556,\"#d8576b\"],[0.6666666666666666,\"#ed7953\"],[0.7777777777777778,\"#fb9f3a\"],[0.8888888888888888,\"#fdca26\"],[1.0,\"#f0f921\"]]}],\"surface\":[{\"type\":\"surface\",\"colorbar\":{\"outlinewidth\":0,\"ticks\":\"\"},\"colorscale\":[[0.0,\"#0d0887\"],[0.1111111111111111,\"#46039f\"],[0.2222222222222222,\"#7201a8\"],[0.3333333333333333,\"#9c179e\"],[0.4444444444444444,\"#bd3786\"],[0.5555555555555556,\"#d8576b\"],[0.6666666666666666,\"#ed7953\"],[0.7777777777777778,\"#fb9f3a\"],[0.8888888888888888,\"#fdca26\"],[1.0,\"#f0f921\"]]}],\"mesh3d\":[{\"type\":\"mesh3d\",\"colorbar\":{\"outlinewidth\":0,\"ticks\":\"\"}}],\"scatter\":[{\"fillpattern\":{\"fillmode\":\"overlay\",\"size\":10,\"solidity\":0.2},\"type\":\"scatter\"}],\"parcoords\":[{\"type\":\"parcoords\",\"line\":{\"colorbar\":{\"outlinewidth\":0,\"ticks\":\"\"}}}],\"scatterpolargl\":[{\"type\":\"scatterpolargl\",\"marker\":{\"colorbar\":{\"outlinewidth\":0,\"ticks\":\"\"}}}],\"bar\":[{\"error_x\":{\"color\":\"#2a3f5f\"},\"error_y\":{\"color\":\"#2a3f5f\"},\"marker\":{\"line\":{\"color\":\"#E5ECF6\",\"width\":0.5},\"pattern\":{\"fillmode\":\"overlay\",\"size\":10,\"solidity\":0.2}},\"type\":\"bar\"}],\"scattergeo\":[{\"type\":\"scattergeo\",\"marker\":{\"colorbar\":{\"outlinewidth\":0,\"ticks\":\"\"}}}],\"scatterpolar\":[{\"type\":\"scatterpolar\",\"marker\":{\"colorbar\":{\"outlinewidth\":0,\"ticks\":\"\"}}}],\"histogram\":[{\"marker\":{\"pattern\":{\"fillmode\":\"overlay\",\"size\":10,\"solidity\":0.2}},\"type\":\"histogram\"}],\"scattergl\":[{\"type\":\"scattergl\",\"marker\":{\"colorbar\":{\"outlinewidth\":0,\"ticks\":\"\"}}}],\"scatter3d\":[{\"type\":\"scatter3d\",\"line\":{\"colorbar\":{\"outlinewidth\":0,\"ticks\":\"\"}},\"marker\":{\"colorbar\":{\"outlinewidth\":0,\"ticks\":\"\"}}}],\"scattermapbox\":[{\"type\":\"scattermapbox\",\"marker\":{\"colorbar\":{\"outlinewidth\":0,\"ticks\":\"\"}}}],\"scatterternary\":[{\"type\":\"scatterternary\",\"marker\":{\"colorbar\":{\"outlinewidth\":0,\"ticks\":\"\"}}}],\"scattercarpet\":[{\"type\":\"scattercarpet\",\"marker\":{\"colorbar\":{\"outlinewidth\":0,\"ticks\":\"\"}}}],\"carpet\":[{\"aaxis\":{\"endlinecolor\":\"#2a3f5f\",\"gridcolor\":\"white\",\"linecolor\":\"white\",\"minorgridcolor\":\"white\",\"startlinecolor\":\"#2a3f5f\"},\"baxis\":{\"endlinecolor\":\"#2a3f5f\",\"gridcolor\":\"white\",\"linecolor\":\"white\",\"minorgridcolor\":\"white\",\"startlinecolor\":\"#2a3f5f\"},\"type\":\"carpet\"}],\"table\":[{\"cells\":{\"fill\":{\"color\":\"#EBF0F8\"},\"line\":{\"color\":\"white\"}},\"header\":{\"fill\":{\"color\":\"#C8D4E3\"},\"line\":{\"color\":\"white\"}},\"type\":\"table\"}],\"barpolar\":[{\"marker\":{\"line\":{\"color\":\"#E5ECF6\",\"width\":0.5},\"pattern\":{\"fillmode\":\"overlay\",\"size\":10,\"solidity\":0.2}},\"type\":\"barpolar\"}],\"pie\":[{\"automargin\":true,\"type\":\"pie\"}]},\"layout\":{\"autotypenumbers\":\"strict\",\"colorway\":[\"#636efa\",\"#EF553B\",\"#00cc96\",\"#ab63fa\",\"#FFA15A\",\"#19d3f3\",\"#FF6692\",\"#B6E880\",\"#FF97FF\",\"#FECB52\"],\"font\":{\"color\":\"#2a3f5f\"},\"hovermode\":\"closest\",\"hoverlabel\":{\"align\":\"left\"},\"paper_bgcolor\":\"white\",\"plot_bgcolor\":\"#E5ECF6\",\"polar\":{\"bgcolor\":\"#E5ECF6\",\"angularaxis\":{\"gridcolor\":\"white\",\"linecolor\":\"white\",\"ticks\":\"\"},\"radialaxis\":{\"gridcolor\":\"white\",\"linecolor\":\"white\",\"ticks\":\"\"}},\"ternary\":{\"bgcolor\":\"#E5ECF6\",\"aaxis\":{\"gridcolor\":\"white\",\"linecolor\":\"white\",\"ticks\":\"\"},\"baxis\":{\"gridcolor\":\"white\",\"linecolor\":\"white\",\"ticks\":\"\"},\"caxis\":{\"gridcolor\":\"white\",\"linecolor\":\"white\",\"ticks\":\"\"}},\"coloraxis\":{\"colorbar\":{\"outlinewidth\":0,\"ticks\":\"\"}},\"colorscale\":{\"sequential\":[[0.0,\"#0d0887\"],[0.1111111111111111,\"#46039f\"],[0.2222222222222222,\"#7201a8\"],[0.3333333333333333,\"#9c179e\"],[0.4444444444444444,\"#bd3786\"],[0.5555555555555556,\"#d8576b\"],[0.6666666666666666,\"#ed7953\"],[0.7777777777777778,\"#fb9f3a\"],[0.8888888888888888,\"#fdca26\"],[1.0,\"#f0f921\"]],\"sequentialminus\":[[0.0,\"#0d0887\"],[0.1111111111111111,\"#46039f\"],[0.2222222222222222,\"#7201a8\"],[0.3333333333333333,\"#9c179e\"],[0.4444444444444444,\"#bd3786\"],[0.5555555555555556,\"#d8576b\"],[0.6666666666666666,\"#ed7953\"],[0.7777777777777778,\"#fb9f3a\"],[0.8888888888888888,\"#fdca26\"],[1.0,\"#f0f921\"]],\"diverging\":[[0,\"#8e0152\"],[0.1,\"#c51b7d\"],[0.2,\"#de77ae\"],[0.3,\"#f1b6da\"],[0.4,\"#fde0ef\"],[0.5,\"#f7f7f7\"],[0.6,\"#e6f5d0\"],[0.7,\"#b8e186\"],[0.8,\"#7fbc41\"],[0.9,\"#4d9221\"],[1,\"#276419\"]]},\"xaxis\":{\"gridcolor\":\"white\",\"linecolor\":\"white\",\"ticks\":\"\",\"title\":{\"standoff\":15},\"zerolinecolor\":\"white\",\"automargin\":true,\"zerolinewidth\":2},\"yaxis\":{\"gridcolor\":\"white\",\"linecolor\":\"white\",\"ticks\":\"\",\"title\":{\"standoff\":15},\"zerolinecolor\":\"white\",\"automargin\":true,\"zerolinewidth\":2},\"scene\":{\"xaxis\":{\"backgroundcolor\":\"#E5ECF6\",\"gridcolor\":\"white\",\"linecolor\":\"white\",\"showbackground\":true,\"ticks\":\"\",\"zerolinecolor\":\"white\",\"gridwidth\":2},\"yaxis\":{\"backgroundcolor\":\"#E5ECF6\",\"gridcolor\":\"white\",\"linecolor\":\"white\",\"showbackground\":true,\"ticks\":\"\",\"zerolinecolor\":\"white\",\"gridwidth\":2},\"zaxis\":{\"backgroundcolor\":\"#E5ECF6\",\"gridcolor\":\"white\",\"linecolor\":\"white\",\"showbackground\":true,\"ticks\":\"\",\"zerolinecolor\":\"white\",\"gridwidth\":2}},\"shapedefaults\":{\"line\":{\"color\":\"#2a3f5f\"}},\"annotationdefaults\":{\"arrowcolor\":\"#2a3f5f\",\"arrowhead\":0,\"arrowwidth\":1},\"geo\":{\"bgcolor\":\"white\",\"landcolor\":\"#E5ECF6\",\"subunitcolor\":\"white\",\"showland\":true,\"showlakes\":true,\"lakecolor\":\"white\"},\"title\":{\"x\":0.05},\"mapbox\":{\"style\":\"light\"}}},\"xaxis\":{\"anchor\":\"y\",\"domain\":[0.0,1.0]},\"yaxis\":{\"anchor\":\"x\",\"domain\":[0.575,1.0]},\"xaxis2\":{\"anchor\":\"y2\",\"domain\":[0.0,1.0]},\"yaxis2\":{\"anchor\":\"x2\",\"domain\":[0.0,0.425]},\"title\":{\"text\":\"True vs. Predicted Values (Test Set)\"}},                        {\"responsive\": true}                    ).then(function(){\n",
              "                            \n",
              "var gd = document.getElementById('e00a6896-678b-406b-ae4e-8fa683d5a314');\n",
              "var x = new MutationObserver(function (mutations, observer) {{\n",
              "        var display = window.getComputedStyle(gd).display;\n",
              "        if (!display || display === 'none') {{\n",
              "            console.log([gd, 'removed!']);\n",
              "            Plotly.purge(gd);\n",
              "            observer.disconnect();\n",
              "        }}\n",
              "}});\n",
              "\n",
              "// Listen for the removal of the full notebook cells\n",
              "var notebookContainer = gd.closest('#notebook-container');\n",
              "if (notebookContainer) {{\n",
              "    x.observe(notebookContainer, {childList: true});\n",
              "}}\n",
              "\n",
              "// Listen for the clearing of the current output cell\n",
              "var outputEl = gd.closest('.output');\n",
              "if (outputEl) {{\n",
              "    x.observe(outputEl, {childList: true});\n",
              "}}\n",
              "\n",
              "                        })                };                            </script>        </div>\n",
              "</body>\n",
              "</html>"
            ]
          },
          "metadata": {}
        }
      ]
    },
    {
      "cell_type": "code",
      "source": [
        "comparison = pd.DataFrame({\n",
        "    'price_date': predicted_prices.price_date,\n",
        "    'actual': y_test,\n",
        "    'predicted': predicted_prices.close,\n",
        "})\n",
        "\n",
        "comparison['error_percent'] = round((comparison['predicted'] - comparison['actual'])/comparison['actual'] * 100,4)\n",
        "comparison.tail().style.set_caption(\"Sample of prediction vs. true Gold Future Prices (testing set)\"). \\\n",
        "set_properties(**{'border': '1.3px solid blue',\n",
        "                          'color': 'grey'})\n"
      ],
      "metadata": {
        "colab": {
          "base_uri": "https://localhost:8080/",
          "height": 227
        },
        "id": "Aw0PPYT7bOHi",
        "outputId": "1526ea62-cda4-4d3c-d964-4242f09e335c"
      },
      "execution_count": null,
      "outputs": [
        {
          "output_type": "execute_result",
          "data": {
            "text/plain": [
              "<pandas.io.formats.style.Styler at 0x7a6708b0b250>"
            ],
            "text/html": [
              "<style type=\"text/css\">\n",
              "#T_52845_row0_col0, #T_52845_row0_col1, #T_52845_row0_col2, #T_52845_row0_col3, #T_52845_row1_col0, #T_52845_row1_col1, #T_52845_row1_col2, #T_52845_row1_col3, #T_52845_row2_col0, #T_52845_row2_col1, #T_52845_row2_col2, #T_52845_row2_col3, #T_52845_row3_col0, #T_52845_row3_col1, #T_52845_row3_col2, #T_52845_row3_col3, #T_52845_row4_col0, #T_52845_row4_col1, #T_52845_row4_col2, #T_52845_row4_col3 {\n",
              "  border: 1.3px solid blue;\n",
              "  color: grey;\n",
              "}\n",
              "</style>\n",
              "<table id=\"T_52845\" class=\"dataframe\">\n",
              "  <caption>Sample of prediction vs. true Gold Future Prices (testing set)</caption>\n",
              "  <thead>\n",
              "    <tr>\n",
              "      <th class=\"blank level0\" >&nbsp;</th>\n",
              "      <th id=\"T_52845_level0_col0\" class=\"col_heading level0 col0\" >price_date</th>\n",
              "      <th id=\"T_52845_level0_col1\" class=\"col_heading level0 col1\" >actual</th>\n",
              "      <th id=\"T_52845_level0_col2\" class=\"col_heading level0 col2\" >predicted</th>\n",
              "      <th id=\"T_52845_level0_col3\" class=\"col_heading level0 col3\" >error_percent</th>\n",
              "    </tr>\n",
              "  </thead>\n",
              "  <tbody>\n",
              "    <tr>\n",
              "      <th id=\"T_52845_level0_row0\" class=\"row_heading level0 row0\" >3607</th>\n",
              "      <td id=\"T_52845_row0_col0\" class=\"data row0 col0\" >12/31/2014</td>\n",
              "      <td id=\"T_52845_row0_col1\" class=\"data row0 col1\" >0.000000</td>\n",
              "      <td id=\"T_52845_row0_col2\" class=\"data row0 col2\" >971.420000</td>\n",
              "      <td id=\"T_52845_row0_col3\" class=\"data row0 col3\" >inf</td>\n",
              "    </tr>\n",
              "    <tr>\n",
              "      <th id=\"T_52845_level0_row1\" class=\"row_heading level0 row1\" >3608</th>\n",
              "      <td id=\"T_52845_row1_col0\" class=\"data row1 col0\" >12/31/2015</td>\n",
              "      <td id=\"T_52845_row1_col1\" class=\"data row1 col1\" >0.000000</td>\n",
              "      <td id=\"T_52845_row1_col2\" class=\"data row1 col2\" >971.420000</td>\n",
              "      <td id=\"T_52845_row1_col3\" class=\"data row1 col3\" >inf</td>\n",
              "    </tr>\n",
              "    <tr>\n",
              "      <th id=\"T_52845_level0_row2\" class=\"row_heading level0 row2\" >3609</th>\n",
              "      <td id=\"T_52845_row2_col0\" class=\"data row2 col0\" >12/31/2018</td>\n",
              "      <td id=\"T_52845_row2_col1\" class=\"data row2 col1\" >0.000000</td>\n",
              "      <td id=\"T_52845_row2_col2\" class=\"data row2 col2\" >971.420000</td>\n",
              "      <td id=\"T_52845_row2_col3\" class=\"data row2 col3\" >inf</td>\n",
              "    </tr>\n",
              "    <tr>\n",
              "      <th id=\"T_52845_level0_row3\" class=\"row_heading level0 row3\" >3610</th>\n",
              "      <td id=\"T_52845_row3_col0\" class=\"data row3 col0\" >12/31/2019</td>\n",
              "      <td id=\"T_52845_row3_col1\" class=\"data row3 col1\" >0.000000</td>\n",
              "      <td id=\"T_52845_row3_col2\" class=\"data row3 col2\" >971.420000</td>\n",
              "      <td id=\"T_52845_row3_col3\" class=\"data row3 col3\" >inf</td>\n",
              "    </tr>\n",
              "    <tr>\n",
              "      <th id=\"T_52845_level0_row4\" class=\"row_heading level0 row4\" >3611</th>\n",
              "      <td id=\"T_52845_row4_col0\" class=\"data row4 col0\" >12/31/2020</td>\n",
              "      <td id=\"T_52845_row4_col1\" class=\"data row4 col1\" >0.000000</td>\n",
              "      <td id=\"T_52845_row4_col2\" class=\"data row4 col2\" >971.420000</td>\n",
              "      <td id=\"T_52845_row4_col3\" class=\"data row4 col3\" >inf</td>\n",
              "    </tr>\n",
              "  </tbody>\n",
              "</table>\n"
            ]
          },
          "metadata": {},
          "execution_count": 39
        }
      ]
    },
    {
      "cell_type": "code",
      "source": [
        "max_error = comparison['error_percent'].max()\n",
        "print(f\"Max overestimate: {max_error}%\")"
      ],
      "metadata": {
        "id": "lpqhXEJ4bOKq"
      },
      "execution_count": null,
      "outputs": []
    },
    {
      "cell_type": "code",
      "source": [],
      "metadata": {
        "id": "6Dp34OYGbONY"
      },
      "execution_count": null,
      "outputs": []
    },
    {
      "cell_type": "code",
      "source": [],
      "metadata": {
        "id": "ViSBu4gybOP_"
      },
      "execution_count": null,
      "outputs": []
    },
    {
      "cell_type": "code",
      "source": [],
      "metadata": {
        "id": "QbMQbhJabOSa"
      },
      "execution_count": null,
      "outputs": []
    }
  ]
}