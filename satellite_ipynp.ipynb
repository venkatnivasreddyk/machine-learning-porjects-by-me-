{
  "nbformat": 4,
  "nbformat_minor": 0,
  "metadata": {
    "colab": {
      "provenance": [],
      "include_colab_link": true
    },
    "kernelspec": {
      "name": "python3",
      "display_name": "Python 3"
    },
    "language_info": {
      "name": "python"
    }
  },
  "cells": [
    {
      "cell_type": "markdown",
      "metadata": {
        "id": "view-in-github",
        "colab_type": "text"
      },
      "source": [
        "<a href=\"https://colab.research.google.com/github/venkatnivasreddyk/machine-learning-porjects-by-me-/blob/main/satellite_ipynp.ipynb\" target=\"_parent\"><img src=\"https://colab.research.google.com/assets/colab-badge.svg\" alt=\"Open In Colab\"/></a>"
      ]
    },
    {
      "cell_type": "code",
      "source": [
        "!pip install patchify"
      ],
      "metadata": {
        "colab": {
          "base_uri": "https://localhost:8080/"
        },
        "id": "oF9Z720Vm7oF",
        "outputId": "11e20ca0-3837-4616-b730-87d8f1d7ba49"
      },
      "execution_count": null,
      "outputs": [
        {
          "output_type": "stream",
          "name": "stdout",
          "text": [
            "Collecting patchify\n",
            "  Downloading patchify-0.2.3-py3-none-any.whl.metadata (3.0 kB)\n",
            "Requirement already satisfied: numpy<2,>=1 in /usr/local/lib/python3.10/dist-packages (from patchify) (1.26.4)\n",
            "Downloading patchify-0.2.3-py3-none-any.whl (6.6 kB)\n",
            "Installing collected packages: patchify\n",
            "Successfully installed patchify-0.2.3\n"
          ]
        }
      ]
    },
    {
      "cell_type": "code",
      "source": [
        "import os\n",
        "import cv2\n",
        "from PIL import Image\n",
        "import numpy as np\n",
        "from patchify import patchify\n",
        "from sklearn.preprocessing import MinMaxScaler, StandardScaler\n",
        "\n",
        "from matplotlib import pyplot as plt\n",
        "import random"
      ],
      "metadata": {
        "id": "ZcQm4iMffm6p"
      },
      "execution_count": null,
      "outputs": []
    },
    {
      "cell_type": "code",
      "source": [
        "minmaxscaler = MinMaxScaler()"
      ],
      "metadata": {
        "id": "jRlTUvJ_rFYw"
      },
      "execution_count": null,
      "outputs": []
    },
    {
      "cell_type": "code",
      "execution_count": null,
      "metadata": {
        "colab": {
          "base_uri": "https://localhost:8080/"
        },
        "id": "a7VD8MBEY6ET",
        "outputId": "11e32ee1-069b-4708-957e-7f8c67b1d047"
      },
      "outputs": [
        {
          "output_type": "stream",
          "name": "stdout",
          "text": [
            "ls: cannot access '/content/drive/MyDrive/Colab Notebooks/datasets/satellite/DubaiDataset': No such file or directory\n"
          ]
        }
      ],
      "source": [
        "!ls -lah '/content/drive/MyDrive/Colab Notebooks/datasets/satellite/DubaiDataset'"
      ]
    },
    {
      "cell_type": "code",
      "source": [
        "dataset_root_folder = '/content/drive/MyDrive/Colab Notebooks/datasets/satellite/'"
      ],
      "metadata": {
        "id": "U6F-SlBiewSn"
      },
      "execution_count": null,
      "outputs": []
    },
    {
      "cell_type": "code",
      "source": [
        "dataset_name = \"DubaiDataset\""
      ],
      "metadata": {
        "id": "XLnvmxjQfFWt"
      },
      "execution_count": null,
      "outputs": []
    },
    {
      "cell_type": "code",
      "source": [
        "for path, subdirs, files in os.walk(os.path.join(dataset_root_folder, dataset_name)):\n",
        "  dir_name = path.split(os.path.sep)[-1]\n",
        "  #print(dir_name)\n",
        "  if dir_name == 'masks': # 'images\n",
        "    images = os.listdir(path)\n",
        "    print(path)\n",
        "    #print(images)\n",
        "    for i, image_name in enumerate(images):\n",
        "      if (image_name.endswith('.png')): # '.jpg\n",
        "        #print(image_name)\n",
        "        a = True"
      ],
      "metadata": {
        "id": "lz0A6YJtfJib"
      },
      "execution_count": null,
      "outputs": []
    },
    {
      "cell_type": "code",
      "source": [
        "image_patch_size = 256"
      ],
      "metadata": {
        "id": "KgCSYp45kBgW"
      },
      "execution_count": null,
      "outputs": []
    },
    {
      "cell_type": "code",
      "source": [
        "image = cv2.imread(f'{dataset_root_folder}/{dataset_name}/Tile 2/images/image_part_001.jpg',1)"
      ],
      "metadata": {
        "id": "iLDzVDv3f48Y"
      },
      "execution_count": null,
      "outputs": []
    },
    {
      "cell_type": "code",
      "source": [
        "import cv2\n",
        "import os\n",
        "\n",
        "dataset_root_folder = '/path/to/your/dataset' # Replace with the actual path to your dataset\n",
        "dataset_name = \"DubaiDataset\"\n",
        "image_patch_size = 256\n",
        "\n",
        "# Construct the image path using os.path.join for platform compatibility\n",
        "image_path = os.path.join(dataset_root_folder, dataset_name, 'Tile 2', 'images', 'image_part_001.jpg')\n",
        "\n",
        "# Check if the file exists before attempting to load it\n",
        "if os.path.exists(image_path):\n",
        "  image = cv2.imread(image_path, 1)\n",
        "\n",
        "  # Check if the image was loaded successfully\n",
        "  if image is not None:\n",
        "    print(image.shape)\n",
        "  else:\n",
        "    print(f\"Error: Could not load image from {image_path}. Please check the file path and permissions.\")\n",
        "else:\n",
        "  print(f\"Error: Image file not found at {image_path}.\")"
      ],
      "metadata": {
        "colab": {
          "base_uri": "https://localhost:8080/"
        },
        "id": "XpxEOKwDnZHL",
        "outputId": "1c0bb9d0-6f4a-45fe-82fb-1f78c4bf5a93"
      },
      "execution_count": null,
      "outputs": [
        {
          "output_type": "stream",
          "name": "stdout",
          "text": [
            "Error: Image file not found at /path/to/your/dataset/DubaiDataset/Tile 2/images/image_part_001.jpg.\n"
          ]
        }
      ]
    },
    {
      "cell_type": "code",
      "source": [
        "!pip install patchify opencv-python\n",
        "import cv2\n",
        "import os\n",
        "import numpy as np # Import numpy\n",
        "from patchify import patchify\n",
        "\n",
        "dataset_root_folder = '/path/to/your/dataset' # Replace with the actual path to your dataset\n",
        "dataset_name = \"DubaiDataset\"\n",
        "image_patch_size = 256\n",
        "\n",
        "# Construct the image path using os.path.join for platform compatibility\n",
        "image_path = os.path.join(dataset_root_folder, dataset_name, 'Tile 2', 'images', 'image_part_001.jpg')\n",
        "\n",
        "# Check if the file exists before attempting to load it\n",
        "if os.path.exists(image_path):\n",
        "  image = cv2.imread(image_path, 1)\n",
        "\n",
        "  # Check if the image was loaded successfully\n",
        "  if image is not None:\n",
        "    print(image.shape)\n",
        "\n",
        "    # Convert the image to a NumPy array with the correct dtype if necessary\n",
        "    image = np.array(image)  # or image = image.astype(np.uint8)\n",
        "\n",
        "    image_patches = patchify(image, (image_patch_size, image_patch_size, 3), step=image_patch_size)\n",
        "\n",
        "  else:\n",
        "    print(f\"Error: Could not load image from {image_path}. Please check the file path and permissions.\")\n",
        "else:\n",
        "  print(f\"Error: Image file not found at {image_path}.\")"
      ],
      "metadata": {
        "colab": {
          "base_uri": "https://localhost:8080/"
        },
        "id": "VrzzDlKrnTZb",
        "outputId": "05650620-0ade-4011-b731-833faa3fa586"
      },
      "execution_count": null,
      "outputs": [
        {
          "output_type": "stream",
          "name": "stdout",
          "text": [
            "Requirement already satisfied: patchify in /usr/local/lib/python3.10/dist-packages (0.2.3)\n",
            "Requirement already satisfied: opencv-python in /usr/local/lib/python3.10/dist-packages (4.10.0.84)\n",
            "Requirement already satisfied: numpy<2,>=1 in /usr/local/lib/python3.10/dist-packages (from patchify) (1.26.4)\n",
            "Error: Image file not found at /path/to/your/dataset/DubaiDataset/Tile 2/images/image_part_001.jpg.\n"
          ]
        }
      ]
    },
    {
      "cell_type": "code",
      "source": [
        "minmaxscaler = MinMaxScaler()"
      ],
      "metadata": {
        "id": "u0KXQc8eqiI3"
      },
      "execution_count": null,
      "outputs": []
    },
    {
      "cell_type": "code",
      "source": [
        "!pip install patchify opencv-python\n",
        "import cv2\n",
        "import os\n",
        "import numpy as np # Import numpy\n",
        "from patchify import patchify\n",
        "from sklearn.preprocessing import MinMaxScaler # Make sure MinMaxScaler is imported\n",
        "\n",
        "\n",
        "dataset_root_folder = '/path/to/your/dataset' # Replace with the actual path to your dataset\n",
        "dataset_name = \"DubaiDataset\"\n",
        "image_patch_size = 256\n",
        "\n",
        "# Construct the image path using os.path.join for platform compatibility\n",
        "image_path = os.path.join(dataset_root_folder, dataset_name, 'Tile 2', 'images', 'image_part_001.jpg')\n",
        "\n",
        "# Check if the file exists before attempting to load it\n",
        "if os.path.exists(image_path):\n",
        "  image = cv2.imread(image_path, 1)\n",
        "\n",
        "  # Check if the image was loaded successfully\n",
        "  if image is not None:\n",
        "    print(image.shape)\n",
        "\n",
        "    # Convert the image to a NumPy array with the correct dtype if necessary\n",
        "    image = np.array(image)  # or image = image.astype(np.uint8)\n",
        "\n",
        "    image_patches = patchify(image, (image_patch_size, image_patch_size, 3), step=image_patch_size)\n",
        "\n",
        "    minmaxscaler = MinMaxScaler() # Initialize MinMaxScaler here\n",
        "    image_x = image_patches[0,0,:,:]\n",
        "    #MinMaxScaler\n",
        "    image_y = minmaxscaler.fit_transform(image_x.reshape(-1, image_x.shape[-1])).reshape(image_x.shape) # Now use image_patches and minmaxscaler\n",
        "\n",
        "  else:\n",
        "    print(f\"Error: Could not load image from {image_path}. Please check the file path and permissions.\")\n",
        "else:\n",
        "  print(f\"Error: Image file not found at {image_path}.\")"
      ],
      "metadata": {
        "id": "-pTmZWwjpc3q",
        "colab": {
          "base_uri": "https://localhost:8080/"
        },
        "outputId": "ba6597f7-bbc0-48d5-b099-fd02a932e6b6"
      },
      "execution_count": null,
      "outputs": [
        {
          "output_type": "stream",
          "name": "stdout",
          "text": [
            "Requirement already satisfied: patchify in /usr/local/lib/python3.10/dist-packages (0.2.3)\n",
            "Requirement already satisfied: opencv-python in /usr/local/lib/python3.10/dist-packages (4.10.0.84)\n",
            "Requirement already satisfied: numpy<2,>=1 in /usr/local/lib/python3.10/dist-packages (from patchify) (1.26.4)\n",
            "Error: Image file not found at /path/to/your/dataset/DubaiDataset/Tile 2/images/image_part_001.jpg.\n"
          ]
        }
      ]
    },
    {
      "cell_type": "code",
      "source": [],
      "metadata": {
        "colab": {
          "base_uri": "https://localhost:8080/",
          "height": 146
        },
        "id": "dpvURaKXqy8k",
        "outputId": "1757870d-21ac-43d2-bcf1-838435fd9802"
      },
      "execution_count": null,
      "outputs": [
        {
          "output_type": "error",
          "ename": "NameError",
          "evalue": "name 'image_y' is not defined",
          "traceback": [
            "\u001b[0;31m---------------------------------------------------------------------------\u001b[0m",
            "\u001b[0;31mNameError\u001b[0m                                 Traceback (most recent call last)",
            "\u001b[0;32m<ipython-input-22-cf804283094f>\u001b[0m in \u001b[0;36m<cell line: 1>\u001b[0;34m()\u001b[0m\n\u001b[0;32m----> 1\u001b[0;31m \u001b[0mimage_y\u001b[0m\u001b[0;34m[\u001b[0m\u001b[0;36m0\u001b[0m\u001b[0;34m]\u001b[0m\u001b[0;34m.\u001b[0m\u001b[0mshape\u001b[0m\u001b[0;34m\u001b[0m\u001b[0;34m\u001b[0m\u001b[0m\n\u001b[0m",
            "\u001b[0;31mNameError\u001b[0m: name 'image_y' is not defined"
          ]
        }
      ]
    },
    {
      "cell_type": "code",
      "source": [
        "print(type(image))"
      ],
      "metadata": {
        "colab": {
          "base_uri": "https://localhost:8080/"
        },
        "id": "VzySbGCdlYA-",
        "outputId": "60ca6d99-28e5-42dc-e11e-2cee97df12ee"
      },
      "execution_count": null,
      "outputs": [
        {
          "output_type": "stream",
          "name": "stdout",
          "text": [
            "<class 'NoneType'>\n"
          ]
        }
      ]
    },
    {
      "cell_type": "code",
      "source": [],
      "metadata": {
        "colab": {
          "base_uri": "https://localhost:8080/",
          "height": 272
        },
        "id": "078hMvhImG86",
        "outputId": "020bd9d0-0a79-46eb-cc95-1af633aa8c0e"
      },
      "execution_count": null,
      "outputs": [
        {
          "output_type": "error",
          "ename": "AttributeError",
          "evalue": "'NoneType' object has no attribute '__array_interface__'",
          "traceback": [
            "\u001b[0;31m---------------------------------------------------------------------------\u001b[0m",
            "\u001b[0;31mAttributeError\u001b[0m                            Traceback (most recent call last)",
            "\u001b[0;32m<ipython-input-25-522d02301ea5>\u001b[0m in \u001b[0;36m<cell line: 1>\u001b[0;34m()\u001b[0m\n\u001b[0;32m----> 1\u001b[0;31m \u001b[0mtype\u001b[0m\u001b[0;34m(\u001b[0m\u001b[0mImage\u001b[0m\u001b[0;34m.\u001b[0m\u001b[0mfromarray\u001b[0m\u001b[0;34m(\u001b[0m\u001b[0mimage\u001b[0m\u001b[0;34m)\u001b[0m\u001b[0;34m)\u001b[0m\u001b[0;34m\u001b[0m\u001b[0;34m\u001b[0m\u001b[0m\n\u001b[0m",
            "\u001b[0;32m/usr/local/lib/python3.10/dist-packages/PIL/Image.py\u001b[0m in \u001b[0;36mfromarray\u001b[0;34m(obj, mode)\u001b[0m\n\u001b[1;32m   3302\u001b[0m     \u001b[0;34m.\u001b[0m\u001b[0;34m.\u001b[0m \u001b[0mversionadded\u001b[0m\u001b[0;34m:\u001b[0m\u001b[0;34m:\u001b[0m \u001b[0;36m1.1\u001b[0m\u001b[0;36m.6\u001b[0m\u001b[0;34m\u001b[0m\u001b[0;34m\u001b[0m\u001b[0m\n\u001b[1;32m   3303\u001b[0m     \"\"\"\n\u001b[0;32m-> 3304\u001b[0;31m     \u001b[0marr\u001b[0m \u001b[0;34m=\u001b[0m \u001b[0mobj\u001b[0m\u001b[0;34m.\u001b[0m\u001b[0m__array_interface__\u001b[0m\u001b[0;34m\u001b[0m\u001b[0;34m\u001b[0m\u001b[0m\n\u001b[0m\u001b[1;32m   3305\u001b[0m     \u001b[0mshape\u001b[0m \u001b[0;34m=\u001b[0m \u001b[0marr\u001b[0m\u001b[0;34m[\u001b[0m\u001b[0;34m\"shape\"\u001b[0m\u001b[0;34m]\u001b[0m\u001b[0;34m\u001b[0m\u001b[0;34m\u001b[0m\u001b[0m\n\u001b[1;32m   3306\u001b[0m     \u001b[0mndim\u001b[0m \u001b[0;34m=\u001b[0m \u001b[0mlen\u001b[0m\u001b[0;34m(\u001b[0m\u001b[0mshape\u001b[0m\u001b[0;34m)\u001b[0m\u001b[0;34m\u001b[0m\u001b[0;34m\u001b[0m\u001b[0m\n",
            "\u001b[0;31mAttributeError\u001b[0m: 'NoneType' object has no attribute '__array_interface__'"
          ]
        }
      ]
    },
    {
      "cell_type": "code",
      "source": [
        "image.shape"
      ],
      "metadata": {
        "colab": {
          "base_uri": "https://localhost:8080/",
          "height": 146
        },
        "id": "oVlBGxqjh9oW",
        "outputId": "6025d8f9-7cf5-48f0-c83f-f189c214483e"
      },
      "execution_count": null,
      "outputs": [
        {
          "output_type": "error",
          "ename": "AttributeError",
          "evalue": "'NoneType' object has no attribute 'shape'",
          "traceback": [
            "\u001b[0;31m---------------------------------------------------------------------------\u001b[0m",
            "\u001b[0;31mAttributeError\u001b[0m                            Traceback (most recent call last)",
            "\u001b[0;32m<ipython-input-26-1c83375060d0>\u001b[0m in \u001b[0;36m<cell line: 1>\u001b[0;34m()\u001b[0m\n\u001b[0;32m----> 1\u001b[0;31m \u001b[0mimage\u001b[0m\u001b[0;34m.\u001b[0m\u001b[0mshape\u001b[0m\u001b[0;34m\u001b[0m\u001b[0;34m\u001b[0m\u001b[0m\n\u001b[0m",
            "\u001b[0;31mAttributeError\u001b[0m: 'NoneType' object has no attribute 'shape'"
          ]
        }
      ]
    },
    {
      "cell_type": "code",
      "source": [
        "(image.shape[0]//image_patch_size)*image_patch_size"
      ],
      "metadata": {
        "colab": {
          "base_uri": "https://localhost:8080/",
          "height": 146
        },
        "id": "4DVk1FtjkH27",
        "outputId": "11817bce-fd1d-4907-b7f7-933ce09e3d6c"
      },
      "execution_count": null,
      "outputs": [
        {
          "output_type": "error",
          "ename": "AttributeError",
          "evalue": "'NoneType' object has no attribute 'shape'",
          "traceback": [
            "\u001b[0;31m---------------------------------------------------------------------------\u001b[0m",
            "\u001b[0;31mAttributeError\u001b[0m                            Traceback (most recent call last)",
            "\u001b[0;32m<ipython-input-27-13b869a4886a>\u001b[0m in \u001b[0;36m<cell line: 1>\u001b[0;34m()\u001b[0m\n\u001b[0;32m----> 1\u001b[0;31m \u001b[0;34m(\u001b[0m\u001b[0mimage\u001b[0m\u001b[0;34m.\u001b[0m\u001b[0mshape\u001b[0m\u001b[0;34m[\u001b[0m\u001b[0;36m0\u001b[0m\u001b[0;34m]\u001b[0m\u001b[0;34m//\u001b[0m\u001b[0mimage_patch_size\u001b[0m\u001b[0;34m)\u001b[0m\u001b[0;34m*\u001b[0m\u001b[0mimage_patch_size\u001b[0m\u001b[0;34m\u001b[0m\u001b[0;34m\u001b[0m\u001b[0m\n\u001b[0m",
            "\u001b[0;31mAttributeError\u001b[0m: 'NoneType' object has no attribute 'shape'"
          ]
        }
      ]
    },
    {
      "cell_type": "code",
      "source": [
        "image_dataset = []\n",
        "mask_dataset = []\n",
        "\n",
        "for image_type in ['images' , 'masks']:\n",
        "  if image_type == 'images':\n",
        "    image_extension = 'jpg'\n",
        "  elif image_type == 'masks':\n",
        "     image_extension = 'png'\n",
        "  for tile_id in range(1,8):\n",
        "    for image_id in range(1,20):\n",
        "      image = cv2.imread(f'{dataset_root_folder}/{dataset_name}/Tile {tile_id}/{image_type}/image_part_00{image_id}.{image_extension}',1)\n",
        "      if image is not None:\n",
        "        if image_type == 'masks':\n",
        "          image = cv2.cvtColor(image, cv2.COLOR_BGR2RGB)\n",
        "        #print(image.shape)\n",
        "        size_x = (image.shape[1]//image_patch_size)*image_patch_size\n",
        "        size_y = (image.shape[0]//image_patch_size)*image_patch_size\n",
        "        #print(\"{} --- {} - {}\".format(image.shape, size_x, size_y))\n",
        "        image = Image.fromarray(image)\n",
        "        image = image.crop((0,0, size_x, size_y))\n",
        "        #print(\"({},  {})\".format(image.size[0],image.size[1]))\n",
        "        image = np.array(image)\n",
        "        patched_images = patchify(image, (image_patch_size, image_patch_size, 3), step=image_patch_size)\n",
        "        #print(len(patched_images))\n",
        "        for i in range(patched_images.shape[0]):\n",
        "          for j in range(patched_images.shape[1]):\n",
        "            if image_type == 'images':\n",
        "              individual_patched_image = patched_images[i,j,:,:]\n",
        "              #print(individual_patched_image.shape)\n",
        "              individual_patched_image = minmaxscaler.fit_transform(individual_patched_image.reshape(-1, individual_patched_image.shape[-1])).reshape(individual_patched_image.shape)\n",
        "              individual_patched_image = individual_patched_image[0]\n",
        "              #print(individual_patched_image.shape)\n",
        "              image_dataset.append(individual_patched_image)\n",
        "            elif image_type == 'masks':\n",
        "              individual_patched_mask = patched_images[i,j,:,:]\n",
        "              individual_patched_mask = individual_patched_mask[0]\n",
        "              mask_dataset.append(individual_patched_mask)\n"
      ],
      "metadata": {
        "id": "lk4Shilth_Oq"
      },
      "execution_count": null,
      "outputs": []
    },
    {
      "cell_type": "code",
      "source": [
        "print(len(image_dataset))\n",
        "print(len(mask_dataset))"
      ],
      "metadata": {
        "colab": {
          "base_uri": "https://localhost:8080/"
        },
        "id": "7nKq-8mbjR5I",
        "outputId": "3f680d4c-c419-4c97-c893-b4cb3379ebf2"
      },
      "execution_count": null,
      "outputs": [
        {
          "output_type": "stream",
          "name": "stdout",
          "text": [
            "0\n",
            "0\n"
          ]
        }
      ]
    },
    {
      "cell_type": "code",
      "source": [
        "image_dataset = np.array(image_dataset)\n",
        "mask_dataset = np.array(mask_dataset)"
      ],
      "metadata": {
        "id": "mfdsb_pfrcNo"
      },
      "execution_count": null,
      "outputs": []
    },
    {
      "cell_type": "code",
      "source": [
        "print(len(image_dataset))\n",
        "print(len(mask_dataset))"
      ],
      "metadata": {
        "colab": {
          "base_uri": "https://localhost:8080/"
        },
        "id": "iWGM5XDMuRwR",
        "outputId": "63a032d1-066f-4b33-d955-1c750887687c"
      },
      "execution_count": null,
      "outputs": [
        {
          "output_type": "stream",
          "name": "stdout",
          "text": [
            "0\n",
            "0\n"
          ]
        }
      ]
    },
    {
      "cell_type": "code",
      "source": [
        "import cv2\n",
        "import numpy as np\n",
        "from patchify import patchify\n",
        "from PIL import Image\n",
        "from sklearn.preprocessing import MinMaxScaler\n",
        "import random\n",
        "import matplotlib.pyplot as plt\n",
        "\n",
        "# ... (Your existing code for dataset paths and patch size) ...\n",
        "\n",
        "image_dataset = []\n",
        "mask_dataset = []\n",
        "\n",
        "for image_type in ['images', 'masks']:\n",
        "    if image_type == 'images':\n",
        "        image_extension = 'jpg'\n",
        "    elif image_type == 'masks':\n",
        "        image_extension = 'png'\n",
        "    for tile_id in range(1, 8):\n",
        "        for image_id in range(1, 20):\n",
        "            # Construct the image path using f-string formatting\n",
        "            image_path = f'{dataset_root_folder}/{dataset_name}/Tile {tile_id}/{image_type}/image_part_00{image_id}.{image_extension}'\n",
        "\n",
        "            # Print the image path for debugging\n",
        "            print(f\"Loading image: {image_path}\")\n",
        "\n",
        "            # Load the image using cv2.imread\n",
        "            image = cv2.imread(image_path, 1)\n",
        "\n",
        "            # Check if the image was loaded successfully\n",
        "            if image is not None:\n",
        "                if image_type == 'masks':\n",
        "                    image = cv2.cvtColor(image, cv2.COLOR_BGR2RGB)\n",
        "\n",
        "                # ... (Rest of your image processing code) ...\n",
        "            else:\n",
        "                print(f\"Failed to load image: {image_path}\")\n",
        "\n",
        "# ... (Rest of your code) ...\n",
        "\n",
        "# Check if image_dataset is empty before selecting a random image\n",
        "if len(image_dataset) > 0:\n",
        "    random_image_id = random.randint(0, len(image_dataset) - 1)  # Subtract 1 to avoid index out of bounds\n",
        "\n",
        "    plt.figure(figsize=(14, 8))\n",
        "    plt.subplot(121)\n",
        "    plt.imshow(image_dataset[random_image_id])\n",
        "    plt.subplot(122)\n",
        "    plt.imshow(mask_dataset[random_image_id])\n",
        "    plt.show()\n",
        "else:\n",
        "    print(\"image_dataset is empty. No images to display.\")"
      ],
      "metadata": {
        "colab": {
          "base_uri": "https://localhost:8080/"
        },
        "id": "DCSsqNWrum_j",
        "outputId": "e67cb0df-ca01-47ff-96df-94bf9dd2d10c"
      },
      "execution_count": null,
      "outputs": [
        {
          "output_type": "stream",
          "name": "stdout",
          "text": [
            "Loading image: /path/to/your/dataset/DubaiDataset/Tile 1/images/image_part_001.jpg\n",
            "Failed to load image: /path/to/your/dataset/DubaiDataset/Tile 1/images/image_part_001.jpg\n",
            "Loading image: /path/to/your/dataset/DubaiDataset/Tile 1/images/image_part_002.jpg\n",
            "Failed to load image: /path/to/your/dataset/DubaiDataset/Tile 1/images/image_part_002.jpg\n",
            "Loading image: /path/to/your/dataset/DubaiDataset/Tile 1/images/image_part_003.jpg\n",
            "Failed to load image: /path/to/your/dataset/DubaiDataset/Tile 1/images/image_part_003.jpg\n",
            "Loading image: /path/to/your/dataset/DubaiDataset/Tile 1/images/image_part_004.jpg\n",
            "Failed to load image: /path/to/your/dataset/DubaiDataset/Tile 1/images/image_part_004.jpg\n",
            "Loading image: /path/to/your/dataset/DubaiDataset/Tile 1/images/image_part_005.jpg\n",
            "Failed to load image: /path/to/your/dataset/DubaiDataset/Tile 1/images/image_part_005.jpg\n",
            "Loading image: /path/to/your/dataset/DubaiDataset/Tile 1/images/image_part_006.jpg\n",
            "Failed to load image: /path/to/your/dataset/DubaiDataset/Tile 1/images/image_part_006.jpg\n",
            "Loading image: /path/to/your/dataset/DubaiDataset/Tile 1/images/image_part_007.jpg\n",
            "Failed to load image: /path/to/your/dataset/DubaiDataset/Tile 1/images/image_part_007.jpg\n",
            "Loading image: /path/to/your/dataset/DubaiDataset/Tile 1/images/image_part_008.jpg\n",
            "Failed to load image: /path/to/your/dataset/DubaiDataset/Tile 1/images/image_part_008.jpg\n",
            "Loading image: /path/to/your/dataset/DubaiDataset/Tile 1/images/image_part_009.jpg\n",
            "Failed to load image: /path/to/your/dataset/DubaiDataset/Tile 1/images/image_part_009.jpg\n",
            "Loading image: /path/to/your/dataset/DubaiDataset/Tile 1/images/image_part_0010.jpg\n",
            "Failed to load image: /path/to/your/dataset/DubaiDataset/Tile 1/images/image_part_0010.jpg\n",
            "Loading image: /path/to/your/dataset/DubaiDataset/Tile 1/images/image_part_0011.jpg\n",
            "Failed to load image: /path/to/your/dataset/DubaiDataset/Tile 1/images/image_part_0011.jpg\n",
            "Loading image: /path/to/your/dataset/DubaiDataset/Tile 1/images/image_part_0012.jpg\n",
            "Failed to load image: /path/to/your/dataset/DubaiDataset/Tile 1/images/image_part_0012.jpg\n",
            "Loading image: /path/to/your/dataset/DubaiDataset/Tile 1/images/image_part_0013.jpg\n",
            "Failed to load image: /path/to/your/dataset/DubaiDataset/Tile 1/images/image_part_0013.jpg\n",
            "Loading image: /path/to/your/dataset/DubaiDataset/Tile 1/images/image_part_0014.jpg\n",
            "Failed to load image: /path/to/your/dataset/DubaiDataset/Tile 1/images/image_part_0014.jpg\n",
            "Loading image: /path/to/your/dataset/DubaiDataset/Tile 1/images/image_part_0015.jpg\n",
            "Failed to load image: /path/to/your/dataset/DubaiDataset/Tile 1/images/image_part_0015.jpg\n",
            "Loading image: /path/to/your/dataset/DubaiDataset/Tile 1/images/image_part_0016.jpg\n",
            "Failed to load image: /path/to/your/dataset/DubaiDataset/Tile 1/images/image_part_0016.jpg\n",
            "Loading image: /path/to/your/dataset/DubaiDataset/Tile 1/images/image_part_0017.jpg\n",
            "Failed to load image: /path/to/your/dataset/DubaiDataset/Tile 1/images/image_part_0017.jpg\n",
            "Loading image: /path/to/your/dataset/DubaiDataset/Tile 1/images/image_part_0018.jpg\n",
            "Failed to load image: /path/to/your/dataset/DubaiDataset/Tile 1/images/image_part_0018.jpg\n",
            "Loading image: /path/to/your/dataset/DubaiDataset/Tile 1/images/image_part_0019.jpg\n",
            "Failed to load image: /path/to/your/dataset/DubaiDataset/Tile 1/images/image_part_0019.jpg\n",
            "Loading image: /path/to/your/dataset/DubaiDataset/Tile 2/images/image_part_001.jpg\n",
            "Failed to load image: /path/to/your/dataset/DubaiDataset/Tile 2/images/image_part_001.jpg\n",
            "Loading image: /path/to/your/dataset/DubaiDataset/Tile 2/images/image_part_002.jpg\n",
            "Failed to load image: /path/to/your/dataset/DubaiDataset/Tile 2/images/image_part_002.jpg\n",
            "Loading image: /path/to/your/dataset/DubaiDataset/Tile 2/images/image_part_003.jpg\n",
            "Failed to load image: /path/to/your/dataset/DubaiDataset/Tile 2/images/image_part_003.jpg\n",
            "Loading image: /path/to/your/dataset/DubaiDataset/Tile 2/images/image_part_004.jpg\n",
            "Failed to load image: /path/to/your/dataset/DubaiDataset/Tile 2/images/image_part_004.jpg\n",
            "Loading image: /path/to/your/dataset/DubaiDataset/Tile 2/images/image_part_005.jpg\n",
            "Failed to load image: /path/to/your/dataset/DubaiDataset/Tile 2/images/image_part_005.jpg\n",
            "Loading image: /path/to/your/dataset/DubaiDataset/Tile 2/images/image_part_006.jpg\n",
            "Failed to load image: /path/to/your/dataset/DubaiDataset/Tile 2/images/image_part_006.jpg\n",
            "Loading image: /path/to/your/dataset/DubaiDataset/Tile 2/images/image_part_007.jpg\n",
            "Failed to load image: /path/to/your/dataset/DubaiDataset/Tile 2/images/image_part_007.jpg\n",
            "Loading image: /path/to/your/dataset/DubaiDataset/Tile 2/images/image_part_008.jpg\n",
            "Failed to load image: /path/to/your/dataset/DubaiDataset/Tile 2/images/image_part_008.jpg\n",
            "Loading image: /path/to/your/dataset/DubaiDataset/Tile 2/images/image_part_009.jpg\n",
            "Failed to load image: /path/to/your/dataset/DubaiDataset/Tile 2/images/image_part_009.jpg\n",
            "Loading image: /path/to/your/dataset/DubaiDataset/Tile 2/images/image_part_0010.jpg\n",
            "Failed to load image: /path/to/your/dataset/DubaiDataset/Tile 2/images/image_part_0010.jpg\n",
            "Loading image: /path/to/your/dataset/DubaiDataset/Tile 2/images/image_part_0011.jpg\n",
            "Failed to load image: /path/to/your/dataset/DubaiDataset/Tile 2/images/image_part_0011.jpg\n",
            "Loading image: /path/to/your/dataset/DubaiDataset/Tile 2/images/image_part_0012.jpg\n",
            "Failed to load image: /path/to/your/dataset/DubaiDataset/Tile 2/images/image_part_0012.jpg\n",
            "Loading image: /path/to/your/dataset/DubaiDataset/Tile 2/images/image_part_0013.jpg\n",
            "Failed to load image: /path/to/your/dataset/DubaiDataset/Tile 2/images/image_part_0013.jpg\n",
            "Loading image: /path/to/your/dataset/DubaiDataset/Tile 2/images/image_part_0014.jpg\n",
            "Failed to load image: /path/to/your/dataset/DubaiDataset/Tile 2/images/image_part_0014.jpg\n",
            "Loading image: /path/to/your/dataset/DubaiDataset/Tile 2/images/image_part_0015.jpg\n",
            "Failed to load image: /path/to/your/dataset/DubaiDataset/Tile 2/images/image_part_0015.jpg\n",
            "Loading image: /path/to/your/dataset/DubaiDataset/Tile 2/images/image_part_0016.jpg\n",
            "Failed to load image: /path/to/your/dataset/DubaiDataset/Tile 2/images/image_part_0016.jpg\n",
            "Loading image: /path/to/your/dataset/DubaiDataset/Tile 2/images/image_part_0017.jpg\n",
            "Failed to load image: /path/to/your/dataset/DubaiDataset/Tile 2/images/image_part_0017.jpg\n",
            "Loading image: /path/to/your/dataset/DubaiDataset/Tile 2/images/image_part_0018.jpg\n",
            "Failed to load image: /path/to/your/dataset/DubaiDataset/Tile 2/images/image_part_0018.jpg\n",
            "Loading image: /path/to/your/dataset/DubaiDataset/Tile 2/images/image_part_0019.jpg\n",
            "Failed to load image: /path/to/your/dataset/DubaiDataset/Tile 2/images/image_part_0019.jpg\n",
            "Loading image: /path/to/your/dataset/DubaiDataset/Tile 3/images/image_part_001.jpg\n",
            "Failed to load image: /path/to/your/dataset/DubaiDataset/Tile 3/images/image_part_001.jpg\n",
            "Loading image: /path/to/your/dataset/DubaiDataset/Tile 3/images/image_part_002.jpg\n",
            "Failed to load image: /path/to/your/dataset/DubaiDataset/Tile 3/images/image_part_002.jpg\n",
            "Loading image: /path/to/your/dataset/DubaiDataset/Tile 3/images/image_part_003.jpg\n",
            "Failed to load image: /path/to/your/dataset/DubaiDataset/Tile 3/images/image_part_003.jpg\n",
            "Loading image: /path/to/your/dataset/DubaiDataset/Tile 3/images/image_part_004.jpg\n",
            "Failed to load image: /path/to/your/dataset/DubaiDataset/Tile 3/images/image_part_004.jpg\n",
            "Loading image: /path/to/your/dataset/DubaiDataset/Tile 3/images/image_part_005.jpg\n",
            "Failed to load image: /path/to/your/dataset/DubaiDataset/Tile 3/images/image_part_005.jpg\n",
            "Loading image: /path/to/your/dataset/DubaiDataset/Tile 3/images/image_part_006.jpg\n",
            "Failed to load image: /path/to/your/dataset/DubaiDataset/Tile 3/images/image_part_006.jpg\n",
            "Loading image: /path/to/your/dataset/DubaiDataset/Tile 3/images/image_part_007.jpg\n",
            "Failed to load image: /path/to/your/dataset/DubaiDataset/Tile 3/images/image_part_007.jpg\n",
            "Loading image: /path/to/your/dataset/DubaiDataset/Tile 3/images/image_part_008.jpg\n",
            "Failed to load image: /path/to/your/dataset/DubaiDataset/Tile 3/images/image_part_008.jpg\n",
            "Loading image: /path/to/your/dataset/DubaiDataset/Tile 3/images/image_part_009.jpg\n",
            "Failed to load image: /path/to/your/dataset/DubaiDataset/Tile 3/images/image_part_009.jpg\n",
            "Loading image: /path/to/your/dataset/DubaiDataset/Tile 3/images/image_part_0010.jpg\n",
            "Failed to load image: /path/to/your/dataset/DubaiDataset/Tile 3/images/image_part_0010.jpg\n",
            "Loading image: /path/to/your/dataset/DubaiDataset/Tile 3/images/image_part_0011.jpg\n",
            "Failed to load image: /path/to/your/dataset/DubaiDataset/Tile 3/images/image_part_0011.jpg\n",
            "Loading image: /path/to/your/dataset/DubaiDataset/Tile 3/images/image_part_0012.jpg\n",
            "Failed to load image: /path/to/your/dataset/DubaiDataset/Tile 3/images/image_part_0012.jpg\n",
            "Loading image: /path/to/your/dataset/DubaiDataset/Tile 3/images/image_part_0013.jpg\n",
            "Failed to load image: /path/to/your/dataset/DubaiDataset/Tile 3/images/image_part_0013.jpg\n",
            "Loading image: /path/to/your/dataset/DubaiDataset/Tile 3/images/image_part_0014.jpg\n",
            "Failed to load image: /path/to/your/dataset/DubaiDataset/Tile 3/images/image_part_0014.jpg\n",
            "Loading image: /path/to/your/dataset/DubaiDataset/Tile 3/images/image_part_0015.jpg\n",
            "Failed to load image: /path/to/your/dataset/DubaiDataset/Tile 3/images/image_part_0015.jpg\n",
            "Loading image: /path/to/your/dataset/DubaiDataset/Tile 3/images/image_part_0016.jpg\n",
            "Failed to load image: /path/to/your/dataset/DubaiDataset/Tile 3/images/image_part_0016.jpg\n",
            "Loading image: /path/to/your/dataset/DubaiDataset/Tile 3/images/image_part_0017.jpg\n",
            "Failed to load image: /path/to/your/dataset/DubaiDataset/Tile 3/images/image_part_0017.jpg\n",
            "Loading image: /path/to/your/dataset/DubaiDataset/Tile 3/images/image_part_0018.jpg\n",
            "Failed to load image: /path/to/your/dataset/DubaiDataset/Tile 3/images/image_part_0018.jpg\n",
            "Loading image: /path/to/your/dataset/DubaiDataset/Tile 3/images/image_part_0019.jpg\n",
            "Failed to load image: /path/to/your/dataset/DubaiDataset/Tile 3/images/image_part_0019.jpg\n",
            "Loading image: /path/to/your/dataset/DubaiDataset/Tile 4/images/image_part_001.jpg\n",
            "Failed to load image: /path/to/your/dataset/DubaiDataset/Tile 4/images/image_part_001.jpg\n",
            "Loading image: /path/to/your/dataset/DubaiDataset/Tile 4/images/image_part_002.jpg\n",
            "Failed to load image: /path/to/your/dataset/DubaiDataset/Tile 4/images/image_part_002.jpg\n",
            "Loading image: /path/to/your/dataset/DubaiDataset/Tile 4/images/image_part_003.jpg\n",
            "Failed to load image: /path/to/your/dataset/DubaiDataset/Tile 4/images/image_part_003.jpg\n",
            "Loading image: /path/to/your/dataset/DubaiDataset/Tile 4/images/image_part_004.jpg\n",
            "Failed to load image: /path/to/your/dataset/DubaiDataset/Tile 4/images/image_part_004.jpg\n",
            "Loading image: /path/to/your/dataset/DubaiDataset/Tile 4/images/image_part_005.jpg\n",
            "Failed to load image: /path/to/your/dataset/DubaiDataset/Tile 4/images/image_part_005.jpg\n",
            "Loading image: /path/to/your/dataset/DubaiDataset/Tile 4/images/image_part_006.jpg\n",
            "Failed to load image: /path/to/your/dataset/DubaiDataset/Tile 4/images/image_part_006.jpg\n",
            "Loading image: /path/to/your/dataset/DubaiDataset/Tile 4/images/image_part_007.jpg\n",
            "Failed to load image: /path/to/your/dataset/DubaiDataset/Tile 4/images/image_part_007.jpg\n",
            "Loading image: /path/to/your/dataset/DubaiDataset/Tile 4/images/image_part_008.jpg\n",
            "Failed to load image: /path/to/your/dataset/DubaiDataset/Tile 4/images/image_part_008.jpg\n",
            "Loading image: /path/to/your/dataset/DubaiDataset/Tile 4/images/image_part_009.jpg\n",
            "Failed to load image: /path/to/your/dataset/DubaiDataset/Tile 4/images/image_part_009.jpg\n",
            "Loading image: /path/to/your/dataset/DubaiDataset/Tile 4/images/image_part_0010.jpg\n",
            "Failed to load image: /path/to/your/dataset/DubaiDataset/Tile 4/images/image_part_0010.jpg\n",
            "Loading image: /path/to/your/dataset/DubaiDataset/Tile 4/images/image_part_0011.jpg\n",
            "Failed to load image: /path/to/your/dataset/DubaiDataset/Tile 4/images/image_part_0011.jpg\n",
            "Loading image: /path/to/your/dataset/DubaiDataset/Tile 4/images/image_part_0012.jpg\n",
            "Failed to load image: /path/to/your/dataset/DubaiDataset/Tile 4/images/image_part_0012.jpg\n",
            "Loading image: /path/to/your/dataset/DubaiDataset/Tile 4/images/image_part_0013.jpg\n",
            "Failed to load image: /path/to/your/dataset/DubaiDataset/Tile 4/images/image_part_0013.jpg\n",
            "Loading image: /path/to/your/dataset/DubaiDataset/Tile 4/images/image_part_0014.jpg\n",
            "Failed to load image: /path/to/your/dataset/DubaiDataset/Tile 4/images/image_part_0014.jpg\n",
            "Loading image: /path/to/your/dataset/DubaiDataset/Tile 4/images/image_part_0015.jpg\n",
            "Failed to load image: /path/to/your/dataset/DubaiDataset/Tile 4/images/image_part_0015.jpg\n",
            "Loading image: /path/to/your/dataset/DubaiDataset/Tile 4/images/image_part_0016.jpg\n",
            "Failed to load image: /path/to/your/dataset/DubaiDataset/Tile 4/images/image_part_0016.jpg\n",
            "Loading image: /path/to/your/dataset/DubaiDataset/Tile 4/images/image_part_0017.jpg\n",
            "Failed to load image: /path/to/your/dataset/DubaiDataset/Tile 4/images/image_part_0017.jpg\n",
            "Loading image: /path/to/your/dataset/DubaiDataset/Tile 4/images/image_part_0018.jpg\n",
            "Failed to load image: /path/to/your/dataset/DubaiDataset/Tile 4/images/image_part_0018.jpg\n",
            "Loading image: /path/to/your/dataset/DubaiDataset/Tile 4/images/image_part_0019.jpg\n",
            "Failed to load image: /path/to/your/dataset/DubaiDataset/Tile 4/images/image_part_0019.jpg\n",
            "Loading image: /path/to/your/dataset/DubaiDataset/Tile 5/images/image_part_001.jpg\n",
            "Failed to load image: /path/to/your/dataset/DubaiDataset/Tile 5/images/image_part_001.jpg\n",
            "Loading image: /path/to/your/dataset/DubaiDataset/Tile 5/images/image_part_002.jpg\n",
            "Failed to load image: /path/to/your/dataset/DubaiDataset/Tile 5/images/image_part_002.jpg\n",
            "Loading image: /path/to/your/dataset/DubaiDataset/Tile 5/images/image_part_003.jpg\n",
            "Failed to load image: /path/to/your/dataset/DubaiDataset/Tile 5/images/image_part_003.jpg\n",
            "Loading image: /path/to/your/dataset/DubaiDataset/Tile 5/images/image_part_004.jpg\n",
            "Failed to load image: /path/to/your/dataset/DubaiDataset/Tile 5/images/image_part_004.jpg\n",
            "Loading image: /path/to/your/dataset/DubaiDataset/Tile 5/images/image_part_005.jpg\n",
            "Failed to load image: /path/to/your/dataset/DubaiDataset/Tile 5/images/image_part_005.jpg\n",
            "Loading image: /path/to/your/dataset/DubaiDataset/Tile 5/images/image_part_006.jpg\n",
            "Failed to load image: /path/to/your/dataset/DubaiDataset/Tile 5/images/image_part_006.jpg\n",
            "Loading image: /path/to/your/dataset/DubaiDataset/Tile 5/images/image_part_007.jpg\n",
            "Failed to load image: /path/to/your/dataset/DubaiDataset/Tile 5/images/image_part_007.jpg\n",
            "Loading image: /path/to/your/dataset/DubaiDataset/Tile 5/images/image_part_008.jpg\n",
            "Failed to load image: /path/to/your/dataset/DubaiDataset/Tile 5/images/image_part_008.jpg\n",
            "Loading image: /path/to/your/dataset/DubaiDataset/Tile 5/images/image_part_009.jpg\n",
            "Failed to load image: /path/to/your/dataset/DubaiDataset/Tile 5/images/image_part_009.jpg\n",
            "Loading image: /path/to/your/dataset/DubaiDataset/Tile 5/images/image_part_0010.jpg\n",
            "Failed to load image: /path/to/your/dataset/DubaiDataset/Tile 5/images/image_part_0010.jpg\n",
            "Loading image: /path/to/your/dataset/DubaiDataset/Tile 5/images/image_part_0011.jpg\n",
            "Failed to load image: /path/to/your/dataset/DubaiDataset/Tile 5/images/image_part_0011.jpg\n",
            "Loading image: /path/to/your/dataset/DubaiDataset/Tile 5/images/image_part_0012.jpg\n",
            "Failed to load image: /path/to/your/dataset/DubaiDataset/Tile 5/images/image_part_0012.jpg\n",
            "Loading image: /path/to/your/dataset/DubaiDataset/Tile 5/images/image_part_0013.jpg\n",
            "Failed to load image: /path/to/your/dataset/DubaiDataset/Tile 5/images/image_part_0013.jpg\n",
            "Loading image: /path/to/your/dataset/DubaiDataset/Tile 5/images/image_part_0014.jpg\n",
            "Failed to load image: /path/to/your/dataset/DubaiDataset/Tile 5/images/image_part_0014.jpg\n",
            "Loading image: /path/to/your/dataset/DubaiDataset/Tile 5/images/image_part_0015.jpg\n",
            "Failed to load image: /path/to/your/dataset/DubaiDataset/Tile 5/images/image_part_0015.jpg\n",
            "Loading image: /path/to/your/dataset/DubaiDataset/Tile 5/images/image_part_0016.jpg\n",
            "Failed to load image: /path/to/your/dataset/DubaiDataset/Tile 5/images/image_part_0016.jpg\n",
            "Loading image: /path/to/your/dataset/DubaiDataset/Tile 5/images/image_part_0017.jpg\n",
            "Failed to load image: /path/to/your/dataset/DubaiDataset/Tile 5/images/image_part_0017.jpg\n",
            "Loading image: /path/to/your/dataset/DubaiDataset/Tile 5/images/image_part_0018.jpg\n",
            "Failed to load image: /path/to/your/dataset/DubaiDataset/Tile 5/images/image_part_0018.jpg\n",
            "Loading image: /path/to/your/dataset/DubaiDataset/Tile 5/images/image_part_0019.jpg\n",
            "Failed to load image: /path/to/your/dataset/DubaiDataset/Tile 5/images/image_part_0019.jpg\n",
            "Loading image: /path/to/your/dataset/DubaiDataset/Tile 6/images/image_part_001.jpg\n",
            "Failed to load image: /path/to/your/dataset/DubaiDataset/Tile 6/images/image_part_001.jpg\n",
            "Loading image: /path/to/your/dataset/DubaiDataset/Tile 6/images/image_part_002.jpg\n",
            "Failed to load image: /path/to/your/dataset/DubaiDataset/Tile 6/images/image_part_002.jpg\n",
            "Loading image: /path/to/your/dataset/DubaiDataset/Tile 6/images/image_part_003.jpg\n",
            "Failed to load image: /path/to/your/dataset/DubaiDataset/Tile 6/images/image_part_003.jpg\n",
            "Loading image: /path/to/your/dataset/DubaiDataset/Tile 6/images/image_part_004.jpg\n",
            "Failed to load image: /path/to/your/dataset/DubaiDataset/Tile 6/images/image_part_004.jpg\n",
            "Loading image: /path/to/your/dataset/DubaiDataset/Tile 6/images/image_part_005.jpg\n",
            "Failed to load image: /path/to/your/dataset/DubaiDataset/Tile 6/images/image_part_005.jpg\n",
            "Loading image: /path/to/your/dataset/DubaiDataset/Tile 6/images/image_part_006.jpg\n",
            "Failed to load image: /path/to/your/dataset/DubaiDataset/Tile 6/images/image_part_006.jpg\n",
            "Loading image: /path/to/your/dataset/DubaiDataset/Tile 6/images/image_part_007.jpg\n",
            "Failed to load image: /path/to/your/dataset/DubaiDataset/Tile 6/images/image_part_007.jpg\n",
            "Loading image: /path/to/your/dataset/DubaiDataset/Tile 6/images/image_part_008.jpg\n",
            "Failed to load image: /path/to/your/dataset/DubaiDataset/Tile 6/images/image_part_008.jpg\n",
            "Loading image: /path/to/your/dataset/DubaiDataset/Tile 6/images/image_part_009.jpg\n",
            "Failed to load image: /path/to/your/dataset/DubaiDataset/Tile 6/images/image_part_009.jpg\n",
            "Loading image: /path/to/your/dataset/DubaiDataset/Tile 6/images/image_part_0010.jpg\n",
            "Failed to load image: /path/to/your/dataset/DubaiDataset/Tile 6/images/image_part_0010.jpg\n",
            "Loading image: /path/to/your/dataset/DubaiDataset/Tile 6/images/image_part_0011.jpg\n",
            "Failed to load image: /path/to/your/dataset/DubaiDataset/Tile 6/images/image_part_0011.jpg\n",
            "Loading image: /path/to/your/dataset/DubaiDataset/Tile 6/images/image_part_0012.jpg\n",
            "Failed to load image: /path/to/your/dataset/DubaiDataset/Tile 6/images/image_part_0012.jpg\n",
            "Loading image: /path/to/your/dataset/DubaiDataset/Tile 6/images/image_part_0013.jpg\n",
            "Failed to load image: /path/to/your/dataset/DubaiDataset/Tile 6/images/image_part_0013.jpg\n",
            "Loading image: /path/to/your/dataset/DubaiDataset/Tile 6/images/image_part_0014.jpg\n",
            "Failed to load image: /path/to/your/dataset/DubaiDataset/Tile 6/images/image_part_0014.jpg\n",
            "Loading image: /path/to/your/dataset/DubaiDataset/Tile 6/images/image_part_0015.jpg\n",
            "Failed to load image: /path/to/your/dataset/DubaiDataset/Tile 6/images/image_part_0015.jpg\n",
            "Loading image: /path/to/your/dataset/DubaiDataset/Tile 6/images/image_part_0016.jpg\n",
            "Failed to load image: /path/to/your/dataset/DubaiDataset/Tile 6/images/image_part_0016.jpg\n",
            "Loading image: /path/to/your/dataset/DubaiDataset/Tile 6/images/image_part_0017.jpg\n",
            "Failed to load image: /path/to/your/dataset/DubaiDataset/Tile 6/images/image_part_0017.jpg\n",
            "Loading image: /path/to/your/dataset/DubaiDataset/Tile 6/images/image_part_0018.jpg\n",
            "Failed to load image: /path/to/your/dataset/DubaiDataset/Tile 6/images/image_part_0018.jpg\n",
            "Loading image: /path/to/your/dataset/DubaiDataset/Tile 6/images/image_part_0019.jpg\n",
            "Failed to load image: /path/to/your/dataset/DubaiDataset/Tile 6/images/image_part_0019.jpg\n",
            "Loading image: /path/to/your/dataset/DubaiDataset/Tile 7/images/image_part_001.jpg\n",
            "Failed to load image: /path/to/your/dataset/DubaiDataset/Tile 7/images/image_part_001.jpg\n",
            "Loading image: /path/to/your/dataset/DubaiDataset/Tile 7/images/image_part_002.jpg\n",
            "Failed to load image: /path/to/your/dataset/DubaiDataset/Tile 7/images/image_part_002.jpg\n",
            "Loading image: /path/to/your/dataset/DubaiDataset/Tile 7/images/image_part_003.jpg\n",
            "Failed to load image: /path/to/your/dataset/DubaiDataset/Tile 7/images/image_part_003.jpg\n",
            "Loading image: /path/to/your/dataset/DubaiDataset/Tile 7/images/image_part_004.jpg\n",
            "Failed to load image: /path/to/your/dataset/DubaiDataset/Tile 7/images/image_part_004.jpg\n",
            "Loading image: /path/to/your/dataset/DubaiDataset/Tile 7/images/image_part_005.jpg\n",
            "Failed to load image: /path/to/your/dataset/DubaiDataset/Tile 7/images/image_part_005.jpg\n",
            "Loading image: /path/to/your/dataset/DubaiDataset/Tile 7/images/image_part_006.jpg\n",
            "Failed to load image: /path/to/your/dataset/DubaiDataset/Tile 7/images/image_part_006.jpg\n",
            "Loading image: /path/to/your/dataset/DubaiDataset/Tile 7/images/image_part_007.jpg\n",
            "Failed to load image: /path/to/your/dataset/DubaiDataset/Tile 7/images/image_part_007.jpg\n",
            "Loading image: /path/to/your/dataset/DubaiDataset/Tile 7/images/image_part_008.jpg\n",
            "Failed to load image: /path/to/your/dataset/DubaiDataset/Tile 7/images/image_part_008.jpg\n",
            "Loading image: /path/to/your/dataset/DubaiDataset/Tile 7/images/image_part_009.jpg\n",
            "Failed to load image: /path/to/your/dataset/DubaiDataset/Tile 7/images/image_part_009.jpg\n",
            "Loading image: /path/to/your/dataset/DubaiDataset/Tile 7/images/image_part_0010.jpg\n",
            "Failed to load image: /path/to/your/dataset/DubaiDataset/Tile 7/images/image_part_0010.jpg\n",
            "Loading image: /path/to/your/dataset/DubaiDataset/Tile 7/images/image_part_0011.jpg\n",
            "Failed to load image: /path/to/your/dataset/DubaiDataset/Tile 7/images/image_part_0011.jpg\n",
            "Loading image: /path/to/your/dataset/DubaiDataset/Tile 7/images/image_part_0012.jpg\n",
            "Failed to load image: /path/to/your/dataset/DubaiDataset/Tile 7/images/image_part_0012.jpg\n",
            "Loading image: /path/to/your/dataset/DubaiDataset/Tile 7/images/image_part_0013.jpg\n",
            "Failed to load image: /path/to/your/dataset/DubaiDataset/Tile 7/images/image_part_0013.jpg\n",
            "Loading image: /path/to/your/dataset/DubaiDataset/Tile 7/images/image_part_0014.jpg\n",
            "Failed to load image: /path/to/your/dataset/DubaiDataset/Tile 7/images/image_part_0014.jpg\n",
            "Loading image: /path/to/your/dataset/DubaiDataset/Tile 7/images/image_part_0015.jpg\n",
            "Failed to load image: /path/to/your/dataset/DubaiDataset/Tile 7/images/image_part_0015.jpg\n",
            "Loading image: /path/to/your/dataset/DubaiDataset/Tile 7/images/image_part_0016.jpg\n",
            "Failed to load image: /path/to/your/dataset/DubaiDataset/Tile 7/images/image_part_0016.jpg\n",
            "Loading image: /path/to/your/dataset/DubaiDataset/Tile 7/images/image_part_0017.jpg\n",
            "Failed to load image: /path/to/your/dataset/DubaiDataset/Tile 7/images/image_part_0017.jpg\n",
            "Loading image: /path/to/your/dataset/DubaiDataset/Tile 7/images/image_part_0018.jpg\n",
            "Failed to load image: /path/to/your/dataset/DubaiDataset/Tile 7/images/image_part_0018.jpg\n",
            "Loading image: /path/to/your/dataset/DubaiDataset/Tile 7/images/image_part_0019.jpg\n",
            "Failed to load image: /path/to/your/dataset/DubaiDataset/Tile 7/images/image_part_0019.jpg\n",
            "Loading image: /path/to/your/dataset/DubaiDataset/Tile 1/masks/image_part_001.png\n",
            "Failed to load image: /path/to/your/dataset/DubaiDataset/Tile 1/masks/image_part_001.png\n",
            "Loading image: /path/to/your/dataset/DubaiDataset/Tile 1/masks/image_part_002.png\n",
            "Failed to load image: /path/to/your/dataset/DubaiDataset/Tile 1/masks/image_part_002.png\n",
            "Loading image: /path/to/your/dataset/DubaiDataset/Tile 1/masks/image_part_003.png\n",
            "Failed to load image: /path/to/your/dataset/DubaiDataset/Tile 1/masks/image_part_003.png\n",
            "Loading image: /path/to/your/dataset/DubaiDataset/Tile 1/masks/image_part_004.png\n",
            "Failed to load image: /path/to/your/dataset/DubaiDataset/Tile 1/masks/image_part_004.png\n",
            "Loading image: /path/to/your/dataset/DubaiDataset/Tile 1/masks/image_part_005.png\n",
            "Failed to load image: /path/to/your/dataset/DubaiDataset/Tile 1/masks/image_part_005.png\n",
            "Loading image: /path/to/your/dataset/DubaiDataset/Tile 1/masks/image_part_006.png\n",
            "Failed to load image: /path/to/your/dataset/DubaiDataset/Tile 1/masks/image_part_006.png\n",
            "Loading image: /path/to/your/dataset/DubaiDataset/Tile 1/masks/image_part_007.png\n",
            "Failed to load image: /path/to/your/dataset/DubaiDataset/Tile 1/masks/image_part_007.png\n",
            "Loading image: /path/to/your/dataset/DubaiDataset/Tile 1/masks/image_part_008.png\n",
            "Failed to load image: /path/to/your/dataset/DubaiDataset/Tile 1/masks/image_part_008.png\n",
            "Loading image: /path/to/your/dataset/DubaiDataset/Tile 1/masks/image_part_009.png\n",
            "Failed to load image: /path/to/your/dataset/DubaiDataset/Tile 1/masks/image_part_009.png\n",
            "Loading image: /path/to/your/dataset/DubaiDataset/Tile 1/masks/image_part_0010.png\n",
            "Failed to load image: /path/to/your/dataset/DubaiDataset/Tile 1/masks/image_part_0010.png\n",
            "Loading image: /path/to/your/dataset/DubaiDataset/Tile 1/masks/image_part_0011.png\n",
            "Failed to load image: /path/to/your/dataset/DubaiDataset/Tile 1/masks/image_part_0011.png\n",
            "Loading image: /path/to/your/dataset/DubaiDataset/Tile 1/masks/image_part_0012.png\n",
            "Failed to load image: /path/to/your/dataset/DubaiDataset/Tile 1/masks/image_part_0012.png\n",
            "Loading image: /path/to/your/dataset/DubaiDataset/Tile 1/masks/image_part_0013.png\n",
            "Failed to load image: /path/to/your/dataset/DubaiDataset/Tile 1/masks/image_part_0013.png\n",
            "Loading image: /path/to/your/dataset/DubaiDataset/Tile 1/masks/image_part_0014.png\n",
            "Failed to load image: /path/to/your/dataset/DubaiDataset/Tile 1/masks/image_part_0014.png\n",
            "Loading image: /path/to/your/dataset/DubaiDataset/Tile 1/masks/image_part_0015.png\n",
            "Failed to load image: /path/to/your/dataset/DubaiDataset/Tile 1/masks/image_part_0015.png\n",
            "Loading image: /path/to/your/dataset/DubaiDataset/Tile 1/masks/image_part_0016.png\n",
            "Failed to load image: /path/to/your/dataset/DubaiDataset/Tile 1/masks/image_part_0016.png\n",
            "Loading image: /path/to/your/dataset/DubaiDataset/Tile 1/masks/image_part_0017.png\n",
            "Failed to load image: /path/to/your/dataset/DubaiDataset/Tile 1/masks/image_part_0017.png\n",
            "Loading image: /path/to/your/dataset/DubaiDataset/Tile 1/masks/image_part_0018.png\n",
            "Failed to load image: /path/to/your/dataset/DubaiDataset/Tile 1/masks/image_part_0018.png\n",
            "Loading image: /path/to/your/dataset/DubaiDataset/Tile 1/masks/image_part_0019.png\n",
            "Failed to load image: /path/to/your/dataset/DubaiDataset/Tile 1/masks/image_part_0019.png\n",
            "Loading image: /path/to/your/dataset/DubaiDataset/Tile 2/masks/image_part_001.png\n",
            "Failed to load image: /path/to/your/dataset/DubaiDataset/Tile 2/masks/image_part_001.png\n",
            "Loading image: /path/to/your/dataset/DubaiDataset/Tile 2/masks/image_part_002.png\n",
            "Failed to load image: /path/to/your/dataset/DubaiDataset/Tile 2/masks/image_part_002.png\n",
            "Loading image: /path/to/your/dataset/DubaiDataset/Tile 2/masks/image_part_003.png\n",
            "Failed to load image: /path/to/your/dataset/DubaiDataset/Tile 2/masks/image_part_003.png\n",
            "Loading image: /path/to/your/dataset/DubaiDataset/Tile 2/masks/image_part_004.png\n",
            "Failed to load image: /path/to/your/dataset/DubaiDataset/Tile 2/masks/image_part_004.png\n",
            "Loading image: /path/to/your/dataset/DubaiDataset/Tile 2/masks/image_part_005.png\n",
            "Failed to load image: /path/to/your/dataset/DubaiDataset/Tile 2/masks/image_part_005.png\n",
            "Loading image: /path/to/your/dataset/DubaiDataset/Tile 2/masks/image_part_006.png\n",
            "Failed to load image: /path/to/your/dataset/DubaiDataset/Tile 2/masks/image_part_006.png\n",
            "Loading image: /path/to/your/dataset/DubaiDataset/Tile 2/masks/image_part_007.png\n",
            "Failed to load image: /path/to/your/dataset/DubaiDataset/Tile 2/masks/image_part_007.png\n",
            "Loading image: /path/to/your/dataset/DubaiDataset/Tile 2/masks/image_part_008.png\n",
            "Failed to load image: /path/to/your/dataset/DubaiDataset/Tile 2/masks/image_part_008.png\n",
            "Loading image: /path/to/your/dataset/DubaiDataset/Tile 2/masks/image_part_009.png\n",
            "Failed to load image: /path/to/your/dataset/DubaiDataset/Tile 2/masks/image_part_009.png\n",
            "Loading image: /path/to/your/dataset/DubaiDataset/Tile 2/masks/image_part_0010.png\n",
            "Failed to load image: /path/to/your/dataset/DubaiDataset/Tile 2/masks/image_part_0010.png\n",
            "Loading image: /path/to/your/dataset/DubaiDataset/Tile 2/masks/image_part_0011.png\n",
            "Failed to load image: /path/to/your/dataset/DubaiDataset/Tile 2/masks/image_part_0011.png\n",
            "Loading image: /path/to/your/dataset/DubaiDataset/Tile 2/masks/image_part_0012.png\n",
            "Failed to load image: /path/to/your/dataset/DubaiDataset/Tile 2/masks/image_part_0012.png\n",
            "Loading image: /path/to/your/dataset/DubaiDataset/Tile 2/masks/image_part_0013.png\n",
            "Failed to load image: /path/to/your/dataset/DubaiDataset/Tile 2/masks/image_part_0013.png\n",
            "Loading image: /path/to/your/dataset/DubaiDataset/Tile 2/masks/image_part_0014.png\n",
            "Failed to load image: /path/to/your/dataset/DubaiDataset/Tile 2/masks/image_part_0014.png\n",
            "Loading image: /path/to/your/dataset/DubaiDataset/Tile 2/masks/image_part_0015.png\n",
            "Failed to load image: /path/to/your/dataset/DubaiDataset/Tile 2/masks/image_part_0015.png\n",
            "Loading image: /path/to/your/dataset/DubaiDataset/Tile 2/masks/image_part_0016.png\n",
            "Failed to load image: /path/to/your/dataset/DubaiDataset/Tile 2/masks/image_part_0016.png\n",
            "Loading image: /path/to/your/dataset/DubaiDataset/Tile 2/masks/image_part_0017.png\n",
            "Failed to load image: /path/to/your/dataset/DubaiDataset/Tile 2/masks/image_part_0017.png\n",
            "Loading image: /path/to/your/dataset/DubaiDataset/Tile 2/masks/image_part_0018.png\n",
            "Failed to load image: /path/to/your/dataset/DubaiDataset/Tile 2/masks/image_part_0018.png\n",
            "Loading image: /path/to/your/dataset/DubaiDataset/Tile 2/masks/image_part_0019.png\n",
            "Failed to load image: /path/to/your/dataset/DubaiDataset/Tile 2/masks/image_part_0019.png\n",
            "Loading image: /path/to/your/dataset/DubaiDataset/Tile 3/masks/image_part_001.png\n",
            "Failed to load image: /path/to/your/dataset/DubaiDataset/Tile 3/masks/image_part_001.png\n",
            "Loading image: /path/to/your/dataset/DubaiDataset/Tile 3/masks/image_part_002.png\n",
            "Failed to load image: /path/to/your/dataset/DubaiDataset/Tile 3/masks/image_part_002.png\n",
            "Loading image: /path/to/your/dataset/DubaiDataset/Tile 3/masks/image_part_003.png\n",
            "Failed to load image: /path/to/your/dataset/DubaiDataset/Tile 3/masks/image_part_003.png\n",
            "Loading image: /path/to/your/dataset/DubaiDataset/Tile 3/masks/image_part_004.png\n",
            "Failed to load image: /path/to/your/dataset/DubaiDataset/Tile 3/masks/image_part_004.png\n",
            "Loading image: /path/to/your/dataset/DubaiDataset/Tile 3/masks/image_part_005.png\n",
            "Failed to load image: /path/to/your/dataset/DubaiDataset/Tile 3/masks/image_part_005.png\n",
            "Loading image: /path/to/your/dataset/DubaiDataset/Tile 3/masks/image_part_006.png\n",
            "Failed to load image: /path/to/your/dataset/DubaiDataset/Tile 3/masks/image_part_006.png\n",
            "Loading image: /path/to/your/dataset/DubaiDataset/Tile 3/masks/image_part_007.png\n",
            "Failed to load image: /path/to/your/dataset/DubaiDataset/Tile 3/masks/image_part_007.png\n",
            "Loading image: /path/to/your/dataset/DubaiDataset/Tile 3/masks/image_part_008.png\n",
            "Failed to load image: /path/to/your/dataset/DubaiDataset/Tile 3/masks/image_part_008.png\n",
            "Loading image: /path/to/your/dataset/DubaiDataset/Tile 3/masks/image_part_009.png\n",
            "Failed to load image: /path/to/your/dataset/DubaiDataset/Tile 3/masks/image_part_009.png\n",
            "Loading image: /path/to/your/dataset/DubaiDataset/Tile 3/masks/image_part_0010.png\n",
            "Failed to load image: /path/to/your/dataset/DubaiDataset/Tile 3/masks/image_part_0010.png\n",
            "Loading image: /path/to/your/dataset/DubaiDataset/Tile 3/masks/image_part_0011.png\n",
            "Failed to load image: /path/to/your/dataset/DubaiDataset/Tile 3/masks/image_part_0011.png\n",
            "Loading image: /path/to/your/dataset/DubaiDataset/Tile 3/masks/image_part_0012.png\n",
            "Failed to load image: /path/to/your/dataset/DubaiDataset/Tile 3/masks/image_part_0012.png\n",
            "Loading image: /path/to/your/dataset/DubaiDataset/Tile 3/masks/image_part_0013.png\n",
            "Failed to load image: /path/to/your/dataset/DubaiDataset/Tile 3/masks/image_part_0013.png\n",
            "Loading image: /path/to/your/dataset/DubaiDataset/Tile 3/masks/image_part_0014.png\n",
            "Failed to load image: /path/to/your/dataset/DubaiDataset/Tile 3/masks/image_part_0014.png\n",
            "Loading image: /path/to/your/dataset/DubaiDataset/Tile 3/masks/image_part_0015.png\n",
            "Failed to load image: /path/to/your/dataset/DubaiDataset/Tile 3/masks/image_part_0015.png\n",
            "Loading image: /path/to/your/dataset/DubaiDataset/Tile 3/masks/image_part_0016.png\n",
            "Failed to load image: /path/to/your/dataset/DubaiDataset/Tile 3/masks/image_part_0016.png\n",
            "Loading image: /path/to/your/dataset/DubaiDataset/Tile 3/masks/image_part_0017.png\n",
            "Failed to load image: /path/to/your/dataset/DubaiDataset/Tile 3/masks/image_part_0017.png\n",
            "Loading image: /path/to/your/dataset/DubaiDataset/Tile 3/masks/image_part_0018.png\n",
            "Failed to load image: /path/to/your/dataset/DubaiDataset/Tile 3/masks/image_part_0018.png\n",
            "Loading image: /path/to/your/dataset/DubaiDataset/Tile 3/masks/image_part_0019.png\n",
            "Failed to load image: /path/to/your/dataset/DubaiDataset/Tile 3/masks/image_part_0019.png\n",
            "Loading image: /path/to/your/dataset/DubaiDataset/Tile 4/masks/image_part_001.png\n",
            "Failed to load image: /path/to/your/dataset/DubaiDataset/Tile 4/masks/image_part_001.png\n",
            "Loading image: /path/to/your/dataset/DubaiDataset/Tile 4/masks/image_part_002.png\n",
            "Failed to load image: /path/to/your/dataset/DubaiDataset/Tile 4/masks/image_part_002.png\n",
            "Loading image: /path/to/your/dataset/DubaiDataset/Tile 4/masks/image_part_003.png\n",
            "Failed to load image: /path/to/your/dataset/DubaiDataset/Tile 4/masks/image_part_003.png\n",
            "Loading image: /path/to/your/dataset/DubaiDataset/Tile 4/masks/image_part_004.png\n",
            "Failed to load image: /path/to/your/dataset/DubaiDataset/Tile 4/masks/image_part_004.png\n",
            "Loading image: /path/to/your/dataset/DubaiDataset/Tile 4/masks/image_part_005.png\n",
            "Failed to load image: /path/to/your/dataset/DubaiDataset/Tile 4/masks/image_part_005.png\n",
            "Loading image: /path/to/your/dataset/DubaiDataset/Tile 4/masks/image_part_006.png\n",
            "Failed to load image: /path/to/your/dataset/DubaiDataset/Tile 4/masks/image_part_006.png\n",
            "Loading image: /path/to/your/dataset/DubaiDataset/Tile 4/masks/image_part_007.png\n",
            "Failed to load image: /path/to/your/dataset/DubaiDataset/Tile 4/masks/image_part_007.png\n",
            "Loading image: /path/to/your/dataset/DubaiDataset/Tile 4/masks/image_part_008.png\n",
            "Failed to load image: /path/to/your/dataset/DubaiDataset/Tile 4/masks/image_part_008.png\n",
            "Loading image: /path/to/your/dataset/DubaiDataset/Tile 4/masks/image_part_009.png\n",
            "Failed to load image: /path/to/your/dataset/DubaiDataset/Tile 4/masks/image_part_009.png\n",
            "Loading image: /path/to/your/dataset/DubaiDataset/Tile 4/masks/image_part_0010.png\n",
            "Failed to load image: /path/to/your/dataset/DubaiDataset/Tile 4/masks/image_part_0010.png\n",
            "Loading image: /path/to/your/dataset/DubaiDataset/Tile 4/masks/image_part_0011.png\n",
            "Failed to load image: /path/to/your/dataset/DubaiDataset/Tile 4/masks/image_part_0011.png\n",
            "Loading image: /path/to/your/dataset/DubaiDataset/Tile 4/masks/image_part_0012.png\n",
            "Failed to load image: /path/to/your/dataset/DubaiDataset/Tile 4/masks/image_part_0012.png\n",
            "Loading image: /path/to/your/dataset/DubaiDataset/Tile 4/masks/image_part_0013.png\n",
            "Failed to load image: /path/to/your/dataset/DubaiDataset/Tile 4/masks/image_part_0013.png\n",
            "Loading image: /path/to/your/dataset/DubaiDataset/Tile 4/masks/image_part_0014.png\n",
            "Failed to load image: /path/to/your/dataset/DubaiDataset/Tile 4/masks/image_part_0014.png\n",
            "Loading image: /path/to/your/dataset/DubaiDataset/Tile 4/masks/image_part_0015.png\n",
            "Failed to load image: /path/to/your/dataset/DubaiDataset/Tile 4/masks/image_part_0015.png\n",
            "Loading image: /path/to/your/dataset/DubaiDataset/Tile 4/masks/image_part_0016.png\n",
            "Failed to load image: /path/to/your/dataset/DubaiDataset/Tile 4/masks/image_part_0016.png\n",
            "Loading image: /path/to/your/dataset/DubaiDataset/Tile 4/masks/image_part_0017.png\n",
            "Failed to load image: /path/to/your/dataset/DubaiDataset/Tile 4/masks/image_part_0017.png\n",
            "Loading image: /path/to/your/dataset/DubaiDataset/Tile 4/masks/image_part_0018.png\n",
            "Failed to load image: /path/to/your/dataset/DubaiDataset/Tile 4/masks/image_part_0018.png\n",
            "Loading image: /path/to/your/dataset/DubaiDataset/Tile 4/masks/image_part_0019.png\n",
            "Failed to load image: /path/to/your/dataset/DubaiDataset/Tile 4/masks/image_part_0019.png\n",
            "Loading image: /path/to/your/dataset/DubaiDataset/Tile 5/masks/image_part_001.png\n",
            "Failed to load image: /path/to/your/dataset/DubaiDataset/Tile 5/masks/image_part_001.png\n",
            "Loading image: /path/to/your/dataset/DubaiDataset/Tile 5/masks/image_part_002.png\n",
            "Failed to load image: /path/to/your/dataset/DubaiDataset/Tile 5/masks/image_part_002.png\n",
            "Loading image: /path/to/your/dataset/DubaiDataset/Tile 5/masks/image_part_003.png\n",
            "Failed to load image: /path/to/your/dataset/DubaiDataset/Tile 5/masks/image_part_003.png\n",
            "Loading image: /path/to/your/dataset/DubaiDataset/Tile 5/masks/image_part_004.png\n",
            "Failed to load image: /path/to/your/dataset/DubaiDataset/Tile 5/masks/image_part_004.png\n",
            "Loading image: /path/to/your/dataset/DubaiDataset/Tile 5/masks/image_part_005.png\n",
            "Failed to load image: /path/to/your/dataset/DubaiDataset/Tile 5/masks/image_part_005.png\n",
            "Loading image: /path/to/your/dataset/DubaiDataset/Tile 5/masks/image_part_006.png\n",
            "Failed to load image: /path/to/your/dataset/DubaiDataset/Tile 5/masks/image_part_006.png\n",
            "Loading image: /path/to/your/dataset/DubaiDataset/Tile 5/masks/image_part_007.png\n",
            "Failed to load image: /path/to/your/dataset/DubaiDataset/Tile 5/masks/image_part_007.png\n",
            "Loading image: /path/to/your/dataset/DubaiDataset/Tile 5/masks/image_part_008.png\n",
            "Failed to load image: /path/to/your/dataset/DubaiDataset/Tile 5/masks/image_part_008.png\n",
            "Loading image: /path/to/your/dataset/DubaiDataset/Tile 5/masks/image_part_009.png\n",
            "Failed to load image: /path/to/your/dataset/DubaiDataset/Tile 5/masks/image_part_009.png\n",
            "Loading image: /path/to/your/dataset/DubaiDataset/Tile 5/masks/image_part_0010.png\n",
            "Failed to load image: /path/to/your/dataset/DubaiDataset/Tile 5/masks/image_part_0010.png\n",
            "Loading image: /path/to/your/dataset/DubaiDataset/Tile 5/masks/image_part_0011.png\n",
            "Failed to load image: /path/to/your/dataset/DubaiDataset/Tile 5/masks/image_part_0011.png\n",
            "Loading image: /path/to/your/dataset/DubaiDataset/Tile 5/masks/image_part_0012.png\n",
            "Failed to load image: /path/to/your/dataset/DubaiDataset/Tile 5/masks/image_part_0012.png\n",
            "Loading image: /path/to/your/dataset/DubaiDataset/Tile 5/masks/image_part_0013.png\n",
            "Failed to load image: /path/to/your/dataset/DubaiDataset/Tile 5/masks/image_part_0013.png\n",
            "Loading image: /path/to/your/dataset/DubaiDataset/Tile 5/masks/image_part_0014.png\n",
            "Failed to load image: /path/to/your/dataset/DubaiDataset/Tile 5/masks/image_part_0014.png\n",
            "Loading image: /path/to/your/dataset/DubaiDataset/Tile 5/masks/image_part_0015.png\n",
            "Failed to load image: /path/to/your/dataset/DubaiDataset/Tile 5/masks/image_part_0015.png\n",
            "Loading image: /path/to/your/dataset/DubaiDataset/Tile 5/masks/image_part_0016.png\n",
            "Failed to load image: /path/to/your/dataset/DubaiDataset/Tile 5/masks/image_part_0016.png\n",
            "Loading image: /path/to/your/dataset/DubaiDataset/Tile 5/masks/image_part_0017.png\n",
            "Failed to load image: /path/to/your/dataset/DubaiDataset/Tile 5/masks/image_part_0017.png\n",
            "Loading image: /path/to/your/dataset/DubaiDataset/Tile 5/masks/image_part_0018.png\n",
            "Failed to load image: /path/to/your/dataset/DubaiDataset/Tile 5/masks/image_part_0018.png\n",
            "Loading image: /path/to/your/dataset/DubaiDataset/Tile 5/masks/image_part_0019.png\n",
            "Failed to load image: /path/to/your/dataset/DubaiDataset/Tile 5/masks/image_part_0019.png\n",
            "Loading image: /path/to/your/dataset/DubaiDataset/Tile 6/masks/image_part_001.png\n",
            "Failed to load image: /path/to/your/dataset/DubaiDataset/Tile 6/masks/image_part_001.png\n",
            "Loading image: /path/to/your/dataset/DubaiDataset/Tile 6/masks/image_part_002.png\n",
            "Failed to load image: /path/to/your/dataset/DubaiDataset/Tile 6/masks/image_part_002.png\n",
            "Loading image: /path/to/your/dataset/DubaiDataset/Tile 6/masks/image_part_003.png\n",
            "Failed to load image: /path/to/your/dataset/DubaiDataset/Tile 6/masks/image_part_003.png\n",
            "Loading image: /path/to/your/dataset/DubaiDataset/Tile 6/masks/image_part_004.png\n",
            "Failed to load image: /path/to/your/dataset/DubaiDataset/Tile 6/masks/image_part_004.png\n",
            "Loading image: /path/to/your/dataset/DubaiDataset/Tile 6/masks/image_part_005.png\n",
            "Failed to load image: /path/to/your/dataset/DubaiDataset/Tile 6/masks/image_part_005.png\n",
            "Loading image: /path/to/your/dataset/DubaiDataset/Tile 6/masks/image_part_006.png\n",
            "Failed to load image: /path/to/your/dataset/DubaiDataset/Tile 6/masks/image_part_006.png\n",
            "Loading image: /path/to/your/dataset/DubaiDataset/Tile 6/masks/image_part_007.png\n",
            "Failed to load image: /path/to/your/dataset/DubaiDataset/Tile 6/masks/image_part_007.png\n",
            "Loading image: /path/to/your/dataset/DubaiDataset/Tile 6/masks/image_part_008.png\n",
            "Failed to load image: /path/to/your/dataset/DubaiDataset/Tile 6/masks/image_part_008.png\n",
            "Loading image: /path/to/your/dataset/DubaiDataset/Tile 6/masks/image_part_009.png\n",
            "Failed to load image: /path/to/your/dataset/DubaiDataset/Tile 6/masks/image_part_009.png\n",
            "Loading image: /path/to/your/dataset/DubaiDataset/Tile 6/masks/image_part_0010.png\n",
            "Failed to load image: /path/to/your/dataset/DubaiDataset/Tile 6/masks/image_part_0010.png\n",
            "Loading image: /path/to/your/dataset/DubaiDataset/Tile 6/masks/image_part_0011.png\n",
            "Failed to load image: /path/to/your/dataset/DubaiDataset/Tile 6/masks/image_part_0011.png\n",
            "Loading image: /path/to/your/dataset/DubaiDataset/Tile 6/masks/image_part_0012.png\n",
            "Failed to load image: /path/to/your/dataset/DubaiDataset/Tile 6/masks/image_part_0012.png\n",
            "Loading image: /path/to/your/dataset/DubaiDataset/Tile 6/masks/image_part_0013.png\n",
            "Failed to load image: /path/to/your/dataset/DubaiDataset/Tile 6/masks/image_part_0013.png\n",
            "Loading image: /path/to/your/dataset/DubaiDataset/Tile 6/masks/image_part_0014.png\n",
            "Failed to load image: /path/to/your/dataset/DubaiDataset/Tile 6/masks/image_part_0014.png\n",
            "Loading image: /path/to/your/dataset/DubaiDataset/Tile 6/masks/image_part_0015.png\n",
            "Failed to load image: /path/to/your/dataset/DubaiDataset/Tile 6/masks/image_part_0015.png\n",
            "Loading image: /path/to/your/dataset/DubaiDataset/Tile 6/masks/image_part_0016.png\n",
            "Failed to load image: /path/to/your/dataset/DubaiDataset/Tile 6/masks/image_part_0016.png\n",
            "Loading image: /path/to/your/dataset/DubaiDataset/Tile 6/masks/image_part_0017.png\n",
            "Failed to load image: /path/to/your/dataset/DubaiDataset/Tile 6/masks/image_part_0017.png\n",
            "Loading image: /path/to/your/dataset/DubaiDataset/Tile 6/masks/image_part_0018.png\n",
            "Failed to load image: /path/to/your/dataset/DubaiDataset/Tile 6/masks/image_part_0018.png\n",
            "Loading image: /path/to/your/dataset/DubaiDataset/Tile 6/masks/image_part_0019.png\n",
            "Failed to load image: /path/to/your/dataset/DubaiDataset/Tile 6/masks/image_part_0019.png\n",
            "Loading image: /path/to/your/dataset/DubaiDataset/Tile 7/masks/image_part_001.png\n",
            "Failed to load image: /path/to/your/dataset/DubaiDataset/Tile 7/masks/image_part_001.png\n",
            "Loading image: /path/to/your/dataset/DubaiDataset/Tile 7/masks/image_part_002.png\n",
            "Failed to load image: /path/to/your/dataset/DubaiDataset/Tile 7/masks/image_part_002.png\n",
            "Loading image: /path/to/your/dataset/DubaiDataset/Tile 7/masks/image_part_003.png\n",
            "Failed to load image: /path/to/your/dataset/DubaiDataset/Tile 7/masks/image_part_003.png\n",
            "Loading image: /path/to/your/dataset/DubaiDataset/Tile 7/masks/image_part_004.png\n",
            "Failed to load image: /path/to/your/dataset/DubaiDataset/Tile 7/masks/image_part_004.png\n",
            "Loading image: /path/to/your/dataset/DubaiDataset/Tile 7/masks/image_part_005.png\n",
            "Failed to load image: /path/to/your/dataset/DubaiDataset/Tile 7/masks/image_part_005.png\n",
            "Loading image: /path/to/your/dataset/DubaiDataset/Tile 7/masks/image_part_006.png\n",
            "Failed to load image: /path/to/your/dataset/DubaiDataset/Tile 7/masks/image_part_006.png\n",
            "Loading image: /path/to/your/dataset/DubaiDataset/Tile 7/masks/image_part_007.png\n",
            "Failed to load image: /path/to/your/dataset/DubaiDataset/Tile 7/masks/image_part_007.png\n",
            "Loading image: /path/to/your/dataset/DubaiDataset/Tile 7/masks/image_part_008.png\n",
            "Failed to load image: /path/to/your/dataset/DubaiDataset/Tile 7/masks/image_part_008.png\n",
            "Loading image: /path/to/your/dataset/DubaiDataset/Tile 7/masks/image_part_009.png\n",
            "Failed to load image: /path/to/your/dataset/DubaiDataset/Tile 7/masks/image_part_009.png\n",
            "Loading image: /path/to/your/dataset/DubaiDataset/Tile 7/masks/image_part_0010.png\n",
            "Failed to load image: /path/to/your/dataset/DubaiDataset/Tile 7/masks/image_part_0010.png\n",
            "Loading image: /path/to/your/dataset/DubaiDataset/Tile 7/masks/image_part_0011.png\n",
            "Failed to load image: /path/to/your/dataset/DubaiDataset/Tile 7/masks/image_part_0011.png\n",
            "Loading image: /path/to/your/dataset/DubaiDataset/Tile 7/masks/image_part_0012.png\n",
            "Failed to load image: /path/to/your/dataset/DubaiDataset/Tile 7/masks/image_part_0012.png\n",
            "Loading image: /path/to/your/dataset/DubaiDataset/Tile 7/masks/image_part_0013.png\n",
            "Failed to load image: /path/to/your/dataset/DubaiDataset/Tile 7/masks/image_part_0013.png\n",
            "Loading image: /path/to/your/dataset/DubaiDataset/Tile 7/masks/image_part_0014.png\n",
            "Failed to load image: /path/to/your/dataset/DubaiDataset/Tile 7/masks/image_part_0014.png\n",
            "Loading image: /path/to/your/dataset/DubaiDataset/Tile 7/masks/image_part_0015.png\n",
            "Failed to load image: /path/to/your/dataset/DubaiDataset/Tile 7/masks/image_part_0015.png\n",
            "Loading image: /path/to/your/dataset/DubaiDataset/Tile 7/masks/image_part_0016.png\n",
            "Failed to load image: /path/to/your/dataset/DubaiDataset/Tile 7/masks/image_part_0016.png\n",
            "Loading image: /path/to/your/dataset/DubaiDataset/Tile 7/masks/image_part_0017.png\n",
            "Failed to load image: /path/to/your/dataset/DubaiDataset/Tile 7/masks/image_part_0017.png\n",
            "Loading image: /path/to/your/dataset/DubaiDataset/Tile 7/masks/image_part_0018.png\n",
            "Failed to load image: /path/to/your/dataset/DubaiDataset/Tile 7/masks/image_part_0018.png\n",
            "Loading image: /path/to/your/dataset/DubaiDataset/Tile 7/masks/image_part_0019.png\n",
            "Failed to load image: /path/to/your/dataset/DubaiDataset/Tile 7/masks/image_part_0019.png\n",
            "image_dataset is empty. No images to display.\n"
          ]
        }
      ]
    },
    {
      "cell_type": "code",
      "source": [
        "class_building = '#3C1098'\n",
        "class_building = class_building.lstrip('#')\n",
        "class_building = np.array(tuple(int(class_building[i:i+2], 16) for i in (0,2,4)))\n",
        "print(class_building)\n",
        "\n",
        "class_land = '#8429F6'\n",
        "class_land = class_land.lstrip('#')\n",
        "class_land = np.array(tuple(int(class_land[i:i+2], 16) for i in (0,2,4)))\n",
        "print(class_land)\n",
        "\n",
        "class_road = '#6EC1E4'\n",
        "class_road = class_road.lstrip('#')\n",
        "class_road = np.array(tuple(int(class_road[i:i+2], 16) for i in (0,2,4)))\n",
        "print(class_road)\n",
        "\n",
        "class_vegetation = '#FEDD3A'\n",
        "class_vegetation = class_vegetation.lstrip('#')\n",
        "class_vegetation = np.array(tuple(int(class_vegetation[i:i+2], 16) for i in (0,2,4)))\n",
        "print(class_vegetation)\n",
        "\n",
        "class_water = '#E2A929'\n",
        "class_water = class_water.lstrip('#')\n",
        "class_water = np.array(tuple(int(class_water[i:i+2], 16) for i in (0,2,4)))\n",
        "print(class_water)\n",
        "\n",
        "class_unlabeled = '#9B9B9B'\n",
        "class_unlabeled = class_unlabeled.lstrip('#')\n",
        "class_unlabeled = np.array(tuple(int(class_unlabeled[i:i+2], 16) for i in (0,2,4)))\n",
        "print(class_unlabeled)"
      ],
      "metadata": {
        "colab": {
          "base_uri": "https://localhost:8080/"
        },
        "id": "LCSNjQ8wu1u5",
        "outputId": "8cb63a3b-1a66-428d-e603-d602c781106b"
      },
      "execution_count": null,
      "outputs": [
        {
          "output_type": "stream",
          "name": "stdout",
          "text": [
            "[ 60  16 152]\n",
            "[132  41 246]\n",
            "[110 193 228]\n",
            "[254 221  58]\n",
            "[226 169  41]\n",
            "[155 155 155]\n"
          ]
        }
      ]
    },
    {
      "cell_type": "code",
      "source": [
        "import cv2\n",
        "import numpy as np\n",
        "from patchify import patchify\n",
        "from PIL import Image\n",
        "from sklearn.preprocessing import MinMaxScaler\n",
        "import random\n",
        "import matplotlib.pyplot as plt\n",
        "\n",
        "# ... (Your existing code for dataset paths and patch size) ...\n",
        "\n",
        "image_dataset = []\n",
        "mask_dataset = []\n",
        "\n",
        "for image_type in ['images', 'masks']:\n",
        "    if image_type == 'images':\n",
        "        image_extension = 'jpg'\n",
        "    elif image_type == 'masks':\n",
        "        image_extension = 'png'\n",
        "    for tile_id in range(1, 8):\n",
        "        for image_id in range(1, 20):\n",
        "            # Construct the image path using f-string formatting\n",
        "            image_path = f'{dataset_root_folder}/{dataset_name}/Tile {tile_id}/{image_type}/image_part_00{image_id}.{image_extension}'\n",
        "\n",
        "            # Print the image path for debugging\n",
        "            print(f\"Loading image: {image_path}\")\n",
        "\n",
        "            # Load the image using cv2.imread\n",
        "            image = cv2.imread(image_path, 1)\n",
        "\n",
        "            # Check if the image was loaded successfully\n",
        "            if image is not None:\n",
        "                if image_type == 'masks':\n",
        "                    image = cv2.cvtColor(image, cv2.COLOR_BGR2RGB)\n",
        "\n",
        "                # Append the image to the appropriate dataset\n",
        "                if image_type == 'images':\n",
        "                    image_dataset.append(image)\n",
        "                elif image_type == 'masks':\n",
        "                    mask_dataset.append(image)\n",
        "            else:\n",
        "                print(f\"Failed to load image: {image_path}\")\n",
        "\n",
        "# Convert the lists to NumPy arrays\n",
        "image_dataset = np.array(image_dataset)\n",
        "mask_dataset = np.array(mask_dataset)\n",
        "\n",
        "# ... (Rest of your code) ...\n",
        "\n",
        "# Check if image_dataset is empty before selecting a random image\n",
        "if len(image_dataset) > 0:\n",
        "    random_image_id = random.randint(0, len(image_dataset) - 1)  # Subtract 1 to avoid index out of bounds\n",
        "\n",
        "    plt.figure(figsize=(14, 8))\n",
        "    plt.subplot(121)\n",
        "    plt.imshow(image_dataset[random_image_id])\n",
        "    plt.subplot(122)\n",
        "    plt.imshow(mask_dataset[random_image_id])\n",
        "    plt.show()\n",
        "else:\n",
        "    print(\"image_dataset is empty. No images to display.\")"
      ],
      "metadata": {
        "colab": {
          "base_uri": "https://localhost:8080/"
        },
        "id": "QaoScCNAHvy6",
        "outputId": "8ecfa8d9-2d57-44bb-d8c8-d55d4c814376"
      },
      "execution_count": null,
      "outputs": [
        {
          "output_type": "stream",
          "name": "stdout",
          "text": [
            "Loading image: /path/to/your/dataset/DubaiDataset/Tile 1/images/image_part_001.jpg\n",
            "Failed to load image: /path/to/your/dataset/DubaiDataset/Tile 1/images/image_part_001.jpg\n",
            "Loading image: /path/to/your/dataset/DubaiDataset/Tile 1/images/image_part_002.jpg\n",
            "Failed to load image: /path/to/your/dataset/DubaiDataset/Tile 1/images/image_part_002.jpg\n",
            "Loading image: /path/to/your/dataset/DubaiDataset/Tile 1/images/image_part_003.jpg\n",
            "Failed to load image: /path/to/your/dataset/DubaiDataset/Tile 1/images/image_part_003.jpg\n",
            "Loading image: /path/to/your/dataset/DubaiDataset/Tile 1/images/image_part_004.jpg\n",
            "Failed to load image: /path/to/your/dataset/DubaiDataset/Tile 1/images/image_part_004.jpg\n",
            "Loading image: /path/to/your/dataset/DubaiDataset/Tile 1/images/image_part_005.jpg\n",
            "Failed to load image: /path/to/your/dataset/DubaiDataset/Tile 1/images/image_part_005.jpg\n",
            "Loading image: /path/to/your/dataset/DubaiDataset/Tile 1/images/image_part_006.jpg\n",
            "Failed to load image: /path/to/your/dataset/DubaiDataset/Tile 1/images/image_part_006.jpg\n",
            "Loading image: /path/to/your/dataset/DubaiDataset/Tile 1/images/image_part_007.jpg\n",
            "Failed to load image: /path/to/your/dataset/DubaiDataset/Tile 1/images/image_part_007.jpg\n",
            "Loading image: /path/to/your/dataset/DubaiDataset/Tile 1/images/image_part_008.jpg\n",
            "Failed to load image: /path/to/your/dataset/DubaiDataset/Tile 1/images/image_part_008.jpg\n",
            "Loading image: /path/to/your/dataset/DubaiDataset/Tile 1/images/image_part_009.jpg\n",
            "Failed to load image: /path/to/your/dataset/DubaiDataset/Tile 1/images/image_part_009.jpg\n",
            "Loading image: /path/to/your/dataset/DubaiDataset/Tile 1/images/image_part_0010.jpg\n",
            "Failed to load image: /path/to/your/dataset/DubaiDataset/Tile 1/images/image_part_0010.jpg\n",
            "Loading image: /path/to/your/dataset/DubaiDataset/Tile 1/images/image_part_0011.jpg\n",
            "Failed to load image: /path/to/your/dataset/DubaiDataset/Tile 1/images/image_part_0011.jpg\n",
            "Loading image: /path/to/your/dataset/DubaiDataset/Tile 1/images/image_part_0012.jpg\n",
            "Failed to load image: /path/to/your/dataset/DubaiDataset/Tile 1/images/image_part_0012.jpg\n",
            "Loading image: /path/to/your/dataset/DubaiDataset/Tile 1/images/image_part_0013.jpg\n",
            "Failed to load image: /path/to/your/dataset/DubaiDataset/Tile 1/images/image_part_0013.jpg\n",
            "Loading image: /path/to/your/dataset/DubaiDataset/Tile 1/images/image_part_0014.jpg\n",
            "Failed to load image: /path/to/your/dataset/DubaiDataset/Tile 1/images/image_part_0014.jpg\n",
            "Loading image: /path/to/your/dataset/DubaiDataset/Tile 1/images/image_part_0015.jpg\n",
            "Failed to load image: /path/to/your/dataset/DubaiDataset/Tile 1/images/image_part_0015.jpg\n",
            "Loading image: /path/to/your/dataset/DubaiDataset/Tile 1/images/image_part_0016.jpg\n",
            "Failed to load image: /path/to/your/dataset/DubaiDataset/Tile 1/images/image_part_0016.jpg\n",
            "Loading image: /path/to/your/dataset/DubaiDataset/Tile 1/images/image_part_0017.jpg\n",
            "Failed to load image: /path/to/your/dataset/DubaiDataset/Tile 1/images/image_part_0017.jpg\n",
            "Loading image: /path/to/your/dataset/DubaiDataset/Tile 1/images/image_part_0018.jpg\n",
            "Failed to load image: /path/to/your/dataset/DubaiDataset/Tile 1/images/image_part_0018.jpg\n",
            "Loading image: /path/to/your/dataset/DubaiDataset/Tile 1/images/image_part_0019.jpg\n",
            "Failed to load image: /path/to/your/dataset/DubaiDataset/Tile 1/images/image_part_0019.jpg\n",
            "Loading image: /path/to/your/dataset/DubaiDataset/Tile 2/images/image_part_001.jpg\n",
            "Failed to load image: /path/to/your/dataset/DubaiDataset/Tile 2/images/image_part_001.jpg\n",
            "Loading image: /path/to/your/dataset/DubaiDataset/Tile 2/images/image_part_002.jpg\n",
            "Failed to load image: /path/to/your/dataset/DubaiDataset/Tile 2/images/image_part_002.jpg\n",
            "Loading image: /path/to/your/dataset/DubaiDataset/Tile 2/images/image_part_003.jpg\n",
            "Failed to load image: /path/to/your/dataset/DubaiDataset/Tile 2/images/image_part_003.jpg\n",
            "Loading image: /path/to/your/dataset/DubaiDataset/Tile 2/images/image_part_004.jpg\n",
            "Failed to load image: /path/to/your/dataset/DubaiDataset/Tile 2/images/image_part_004.jpg\n",
            "Loading image: /path/to/your/dataset/DubaiDataset/Tile 2/images/image_part_005.jpg\n",
            "Failed to load image: /path/to/your/dataset/DubaiDataset/Tile 2/images/image_part_005.jpg\n",
            "Loading image: /path/to/your/dataset/DubaiDataset/Tile 2/images/image_part_006.jpg\n",
            "Failed to load image: /path/to/your/dataset/DubaiDataset/Tile 2/images/image_part_006.jpg\n",
            "Loading image: /path/to/your/dataset/DubaiDataset/Tile 2/images/image_part_007.jpg\n",
            "Failed to load image: /path/to/your/dataset/DubaiDataset/Tile 2/images/image_part_007.jpg\n",
            "Loading image: /path/to/your/dataset/DubaiDataset/Tile 2/images/image_part_008.jpg\n",
            "Failed to load image: /path/to/your/dataset/DubaiDataset/Tile 2/images/image_part_008.jpg\n",
            "Loading image: /path/to/your/dataset/DubaiDataset/Tile 2/images/image_part_009.jpg\n",
            "Failed to load image: /path/to/your/dataset/DubaiDataset/Tile 2/images/image_part_009.jpg\n",
            "Loading image: /path/to/your/dataset/DubaiDataset/Tile 2/images/image_part_0010.jpg\n",
            "Failed to load image: /path/to/your/dataset/DubaiDataset/Tile 2/images/image_part_0010.jpg\n",
            "Loading image: /path/to/your/dataset/DubaiDataset/Tile 2/images/image_part_0011.jpg\n",
            "Failed to load image: /path/to/your/dataset/DubaiDataset/Tile 2/images/image_part_0011.jpg\n",
            "Loading image: /path/to/your/dataset/DubaiDataset/Tile 2/images/image_part_0012.jpg\n",
            "Failed to load image: /path/to/your/dataset/DubaiDataset/Tile 2/images/image_part_0012.jpg\n",
            "Loading image: /path/to/your/dataset/DubaiDataset/Tile 2/images/image_part_0013.jpg\n",
            "Failed to load image: /path/to/your/dataset/DubaiDataset/Tile 2/images/image_part_0013.jpg\n",
            "Loading image: /path/to/your/dataset/DubaiDataset/Tile 2/images/image_part_0014.jpg\n",
            "Failed to load image: /path/to/your/dataset/DubaiDataset/Tile 2/images/image_part_0014.jpg\n",
            "Loading image: /path/to/your/dataset/DubaiDataset/Tile 2/images/image_part_0015.jpg\n",
            "Failed to load image: /path/to/your/dataset/DubaiDataset/Tile 2/images/image_part_0015.jpg\n",
            "Loading image: /path/to/your/dataset/DubaiDataset/Tile 2/images/image_part_0016.jpg\n",
            "Failed to load image: /path/to/your/dataset/DubaiDataset/Tile 2/images/image_part_0016.jpg\n",
            "Loading image: /path/to/your/dataset/DubaiDataset/Tile 2/images/image_part_0017.jpg\n",
            "Failed to load image: /path/to/your/dataset/DubaiDataset/Tile 2/images/image_part_0017.jpg\n",
            "Loading image: /path/to/your/dataset/DubaiDataset/Tile 2/images/image_part_0018.jpg\n",
            "Failed to load image: /path/to/your/dataset/DubaiDataset/Tile 2/images/image_part_0018.jpg\n",
            "Loading image: /path/to/your/dataset/DubaiDataset/Tile 2/images/image_part_0019.jpg\n",
            "Failed to load image: /path/to/your/dataset/DubaiDataset/Tile 2/images/image_part_0019.jpg\n",
            "Loading image: /path/to/your/dataset/DubaiDataset/Tile 3/images/image_part_001.jpg\n",
            "Failed to load image: /path/to/your/dataset/DubaiDataset/Tile 3/images/image_part_001.jpg\n",
            "Loading image: /path/to/your/dataset/DubaiDataset/Tile 3/images/image_part_002.jpg\n",
            "Failed to load image: /path/to/your/dataset/DubaiDataset/Tile 3/images/image_part_002.jpg\n",
            "Loading image: /path/to/your/dataset/DubaiDataset/Tile 3/images/image_part_003.jpg\n",
            "Failed to load image: /path/to/your/dataset/DubaiDataset/Tile 3/images/image_part_003.jpg\n",
            "Loading image: /path/to/your/dataset/DubaiDataset/Tile 3/images/image_part_004.jpg\n",
            "Failed to load image: /path/to/your/dataset/DubaiDataset/Tile 3/images/image_part_004.jpg\n",
            "Loading image: /path/to/your/dataset/DubaiDataset/Tile 3/images/image_part_005.jpg\n",
            "Failed to load image: /path/to/your/dataset/DubaiDataset/Tile 3/images/image_part_005.jpg\n",
            "Loading image: /path/to/your/dataset/DubaiDataset/Tile 3/images/image_part_006.jpg\n",
            "Failed to load image: /path/to/your/dataset/DubaiDataset/Tile 3/images/image_part_006.jpg\n",
            "Loading image: /path/to/your/dataset/DubaiDataset/Tile 3/images/image_part_007.jpg\n",
            "Failed to load image: /path/to/your/dataset/DubaiDataset/Tile 3/images/image_part_007.jpg\n",
            "Loading image: /path/to/your/dataset/DubaiDataset/Tile 3/images/image_part_008.jpg\n",
            "Failed to load image: /path/to/your/dataset/DubaiDataset/Tile 3/images/image_part_008.jpg\n",
            "Loading image: /path/to/your/dataset/DubaiDataset/Tile 3/images/image_part_009.jpg\n",
            "Failed to load image: /path/to/your/dataset/DubaiDataset/Tile 3/images/image_part_009.jpg\n",
            "Loading image: /path/to/your/dataset/DubaiDataset/Tile 3/images/image_part_0010.jpg\n",
            "Failed to load image: /path/to/your/dataset/DubaiDataset/Tile 3/images/image_part_0010.jpg\n",
            "Loading image: /path/to/your/dataset/DubaiDataset/Tile 3/images/image_part_0011.jpg\n",
            "Failed to load image: /path/to/your/dataset/DubaiDataset/Tile 3/images/image_part_0011.jpg\n",
            "Loading image: /path/to/your/dataset/DubaiDataset/Tile 3/images/image_part_0012.jpg\n",
            "Failed to load image: /path/to/your/dataset/DubaiDataset/Tile 3/images/image_part_0012.jpg\n",
            "Loading image: /path/to/your/dataset/DubaiDataset/Tile 3/images/image_part_0013.jpg\n",
            "Failed to load image: /path/to/your/dataset/DubaiDataset/Tile 3/images/image_part_0013.jpg\n",
            "Loading image: /path/to/your/dataset/DubaiDataset/Tile 3/images/image_part_0014.jpg\n",
            "Failed to load image: /path/to/your/dataset/DubaiDataset/Tile 3/images/image_part_0014.jpg\n",
            "Loading image: /path/to/your/dataset/DubaiDataset/Tile 3/images/image_part_0015.jpg\n",
            "Failed to load image: /path/to/your/dataset/DubaiDataset/Tile 3/images/image_part_0015.jpg\n",
            "Loading image: /path/to/your/dataset/DubaiDataset/Tile 3/images/image_part_0016.jpg\n",
            "Failed to load image: /path/to/your/dataset/DubaiDataset/Tile 3/images/image_part_0016.jpg\n",
            "Loading image: /path/to/your/dataset/DubaiDataset/Tile 3/images/image_part_0017.jpg\n",
            "Failed to load image: /path/to/your/dataset/DubaiDataset/Tile 3/images/image_part_0017.jpg\n",
            "Loading image: /path/to/your/dataset/DubaiDataset/Tile 3/images/image_part_0018.jpg\n",
            "Failed to load image: /path/to/your/dataset/DubaiDataset/Tile 3/images/image_part_0018.jpg\n",
            "Loading image: /path/to/your/dataset/DubaiDataset/Tile 3/images/image_part_0019.jpg\n",
            "Failed to load image: /path/to/your/dataset/DubaiDataset/Tile 3/images/image_part_0019.jpg\n",
            "Loading image: /path/to/your/dataset/DubaiDataset/Tile 4/images/image_part_001.jpg\n",
            "Failed to load image: /path/to/your/dataset/DubaiDataset/Tile 4/images/image_part_001.jpg\n",
            "Loading image: /path/to/your/dataset/DubaiDataset/Tile 4/images/image_part_002.jpg\n",
            "Failed to load image: /path/to/your/dataset/DubaiDataset/Tile 4/images/image_part_002.jpg\n",
            "Loading image: /path/to/your/dataset/DubaiDataset/Tile 4/images/image_part_003.jpg\n",
            "Failed to load image: /path/to/your/dataset/DubaiDataset/Tile 4/images/image_part_003.jpg\n",
            "Loading image: /path/to/your/dataset/DubaiDataset/Tile 4/images/image_part_004.jpg\n",
            "Failed to load image: /path/to/your/dataset/DubaiDataset/Tile 4/images/image_part_004.jpg\n",
            "Loading image: /path/to/your/dataset/DubaiDataset/Tile 4/images/image_part_005.jpg\n",
            "Failed to load image: /path/to/your/dataset/DubaiDataset/Tile 4/images/image_part_005.jpg\n",
            "Loading image: /path/to/your/dataset/DubaiDataset/Tile 4/images/image_part_006.jpg\n",
            "Failed to load image: /path/to/your/dataset/DubaiDataset/Tile 4/images/image_part_006.jpg\n",
            "Loading image: /path/to/your/dataset/DubaiDataset/Tile 4/images/image_part_007.jpg\n",
            "Failed to load image: /path/to/your/dataset/DubaiDataset/Tile 4/images/image_part_007.jpg\n",
            "Loading image: /path/to/your/dataset/DubaiDataset/Tile 4/images/image_part_008.jpg\n",
            "Failed to load image: /path/to/your/dataset/DubaiDataset/Tile 4/images/image_part_008.jpg\n",
            "Loading image: /path/to/your/dataset/DubaiDataset/Tile 4/images/image_part_009.jpg\n",
            "Failed to load image: /path/to/your/dataset/DubaiDataset/Tile 4/images/image_part_009.jpg\n",
            "Loading image: /path/to/your/dataset/DubaiDataset/Tile 4/images/image_part_0010.jpg\n",
            "Failed to load image: /path/to/your/dataset/DubaiDataset/Tile 4/images/image_part_0010.jpg\n",
            "Loading image: /path/to/your/dataset/DubaiDataset/Tile 4/images/image_part_0011.jpg\n",
            "Failed to load image: /path/to/your/dataset/DubaiDataset/Tile 4/images/image_part_0011.jpg\n",
            "Loading image: /path/to/your/dataset/DubaiDataset/Tile 4/images/image_part_0012.jpg\n",
            "Failed to load image: /path/to/your/dataset/DubaiDataset/Tile 4/images/image_part_0012.jpg\n",
            "Loading image: /path/to/your/dataset/DubaiDataset/Tile 4/images/image_part_0013.jpg\n",
            "Failed to load image: /path/to/your/dataset/DubaiDataset/Tile 4/images/image_part_0013.jpg\n",
            "Loading image: /path/to/your/dataset/DubaiDataset/Tile 4/images/image_part_0014.jpg\n",
            "Failed to load image: /path/to/your/dataset/DubaiDataset/Tile 4/images/image_part_0014.jpg\n",
            "Loading image: /path/to/your/dataset/DubaiDataset/Tile 4/images/image_part_0015.jpg\n",
            "Failed to load image: /path/to/your/dataset/DubaiDataset/Tile 4/images/image_part_0015.jpg\n",
            "Loading image: /path/to/your/dataset/DubaiDataset/Tile 4/images/image_part_0016.jpg\n",
            "Failed to load image: /path/to/your/dataset/DubaiDataset/Tile 4/images/image_part_0016.jpg\n",
            "Loading image: /path/to/your/dataset/DubaiDataset/Tile 4/images/image_part_0017.jpg\n",
            "Failed to load image: /path/to/your/dataset/DubaiDataset/Tile 4/images/image_part_0017.jpg\n",
            "Loading image: /path/to/your/dataset/DubaiDataset/Tile 4/images/image_part_0018.jpg\n",
            "Failed to load image: /path/to/your/dataset/DubaiDataset/Tile 4/images/image_part_0018.jpg\n",
            "Loading image: /path/to/your/dataset/DubaiDataset/Tile 4/images/image_part_0019.jpg\n",
            "Failed to load image: /path/to/your/dataset/DubaiDataset/Tile 4/images/image_part_0019.jpg\n",
            "Loading image: /path/to/your/dataset/DubaiDataset/Tile 5/images/image_part_001.jpg\n",
            "Failed to load image: /path/to/your/dataset/DubaiDataset/Tile 5/images/image_part_001.jpg\n",
            "Loading image: /path/to/your/dataset/DubaiDataset/Tile 5/images/image_part_002.jpg\n",
            "Failed to load image: /path/to/your/dataset/DubaiDataset/Tile 5/images/image_part_002.jpg\n",
            "Loading image: /path/to/your/dataset/DubaiDataset/Tile 5/images/image_part_003.jpg\n",
            "Failed to load image: /path/to/your/dataset/DubaiDataset/Tile 5/images/image_part_003.jpg\n",
            "Loading image: /path/to/your/dataset/DubaiDataset/Tile 5/images/image_part_004.jpg\n",
            "Failed to load image: /path/to/your/dataset/DubaiDataset/Tile 5/images/image_part_004.jpg\n",
            "Loading image: /path/to/your/dataset/DubaiDataset/Tile 5/images/image_part_005.jpg\n",
            "Failed to load image: /path/to/your/dataset/DubaiDataset/Tile 5/images/image_part_005.jpg\n",
            "Loading image: /path/to/your/dataset/DubaiDataset/Tile 5/images/image_part_006.jpg\n",
            "Failed to load image: /path/to/your/dataset/DubaiDataset/Tile 5/images/image_part_006.jpg\n",
            "Loading image: /path/to/your/dataset/DubaiDataset/Tile 5/images/image_part_007.jpg\n",
            "Failed to load image: /path/to/your/dataset/DubaiDataset/Tile 5/images/image_part_007.jpg\n",
            "Loading image: /path/to/your/dataset/DubaiDataset/Tile 5/images/image_part_008.jpg\n",
            "Failed to load image: /path/to/your/dataset/DubaiDataset/Tile 5/images/image_part_008.jpg\n",
            "Loading image: /path/to/your/dataset/DubaiDataset/Tile 5/images/image_part_009.jpg\n",
            "Failed to load image: /path/to/your/dataset/DubaiDataset/Tile 5/images/image_part_009.jpg\n",
            "Loading image: /path/to/your/dataset/DubaiDataset/Tile 5/images/image_part_0010.jpg\n",
            "Failed to load image: /path/to/your/dataset/DubaiDataset/Tile 5/images/image_part_0010.jpg\n",
            "Loading image: /path/to/your/dataset/DubaiDataset/Tile 5/images/image_part_0011.jpg\n",
            "Failed to load image: /path/to/your/dataset/DubaiDataset/Tile 5/images/image_part_0011.jpg\n",
            "Loading image: /path/to/your/dataset/DubaiDataset/Tile 5/images/image_part_0012.jpg\n",
            "Failed to load image: /path/to/your/dataset/DubaiDataset/Tile 5/images/image_part_0012.jpg\n",
            "Loading image: /path/to/your/dataset/DubaiDataset/Tile 5/images/image_part_0013.jpg\n",
            "Failed to load image: /path/to/your/dataset/DubaiDataset/Tile 5/images/image_part_0013.jpg\n",
            "Loading image: /path/to/your/dataset/DubaiDataset/Tile 5/images/image_part_0014.jpg\n",
            "Failed to load image: /path/to/your/dataset/DubaiDataset/Tile 5/images/image_part_0014.jpg\n",
            "Loading image: /path/to/your/dataset/DubaiDataset/Tile 5/images/image_part_0015.jpg\n",
            "Failed to load image: /path/to/your/dataset/DubaiDataset/Tile 5/images/image_part_0015.jpg\n",
            "Loading image: /path/to/your/dataset/DubaiDataset/Tile 5/images/image_part_0016.jpg\n",
            "Failed to load image: /path/to/your/dataset/DubaiDataset/Tile 5/images/image_part_0016.jpg\n",
            "Loading image: /path/to/your/dataset/DubaiDataset/Tile 5/images/image_part_0017.jpg\n",
            "Failed to load image: /path/to/your/dataset/DubaiDataset/Tile 5/images/image_part_0017.jpg\n",
            "Loading image: /path/to/your/dataset/DubaiDataset/Tile 5/images/image_part_0018.jpg\n",
            "Failed to load image: /path/to/your/dataset/DubaiDataset/Tile 5/images/image_part_0018.jpg\n",
            "Loading image: /path/to/your/dataset/DubaiDataset/Tile 5/images/image_part_0019.jpg\n",
            "Failed to load image: /path/to/your/dataset/DubaiDataset/Tile 5/images/image_part_0019.jpg\n",
            "Loading image: /path/to/your/dataset/DubaiDataset/Tile 6/images/image_part_001.jpg\n",
            "Failed to load image: /path/to/your/dataset/DubaiDataset/Tile 6/images/image_part_001.jpg\n",
            "Loading image: /path/to/your/dataset/DubaiDataset/Tile 6/images/image_part_002.jpg\n",
            "Failed to load image: /path/to/your/dataset/DubaiDataset/Tile 6/images/image_part_002.jpg\n",
            "Loading image: /path/to/your/dataset/DubaiDataset/Tile 6/images/image_part_003.jpg\n",
            "Failed to load image: /path/to/your/dataset/DubaiDataset/Tile 6/images/image_part_003.jpg\n",
            "Loading image: /path/to/your/dataset/DubaiDataset/Tile 6/images/image_part_004.jpg\n",
            "Failed to load image: /path/to/your/dataset/DubaiDataset/Tile 6/images/image_part_004.jpg\n",
            "Loading image: /path/to/your/dataset/DubaiDataset/Tile 6/images/image_part_005.jpg\n",
            "Failed to load image: /path/to/your/dataset/DubaiDataset/Tile 6/images/image_part_005.jpg\n",
            "Loading image: /path/to/your/dataset/DubaiDataset/Tile 6/images/image_part_006.jpg\n",
            "Failed to load image: /path/to/your/dataset/DubaiDataset/Tile 6/images/image_part_006.jpg\n",
            "Loading image: /path/to/your/dataset/DubaiDataset/Tile 6/images/image_part_007.jpg\n",
            "Failed to load image: /path/to/your/dataset/DubaiDataset/Tile 6/images/image_part_007.jpg\n",
            "Loading image: /path/to/your/dataset/DubaiDataset/Tile 6/images/image_part_008.jpg\n",
            "Failed to load image: /path/to/your/dataset/DubaiDataset/Tile 6/images/image_part_008.jpg\n",
            "Loading image: /path/to/your/dataset/DubaiDataset/Tile 6/images/image_part_009.jpg\n",
            "Failed to load image: /path/to/your/dataset/DubaiDataset/Tile 6/images/image_part_009.jpg\n",
            "Loading image: /path/to/your/dataset/DubaiDataset/Tile 6/images/image_part_0010.jpg\n",
            "Failed to load image: /path/to/your/dataset/DubaiDataset/Tile 6/images/image_part_0010.jpg\n",
            "Loading image: /path/to/your/dataset/DubaiDataset/Tile 6/images/image_part_0011.jpg\n",
            "Failed to load image: /path/to/your/dataset/DubaiDataset/Tile 6/images/image_part_0011.jpg\n",
            "Loading image: /path/to/your/dataset/DubaiDataset/Tile 6/images/image_part_0012.jpg\n",
            "Failed to load image: /path/to/your/dataset/DubaiDataset/Tile 6/images/image_part_0012.jpg\n",
            "Loading image: /path/to/your/dataset/DubaiDataset/Tile 6/images/image_part_0013.jpg\n",
            "Failed to load image: /path/to/your/dataset/DubaiDataset/Tile 6/images/image_part_0013.jpg\n",
            "Loading image: /path/to/your/dataset/DubaiDataset/Tile 6/images/image_part_0014.jpg\n",
            "Failed to load image: /path/to/your/dataset/DubaiDataset/Tile 6/images/image_part_0014.jpg\n",
            "Loading image: /path/to/your/dataset/DubaiDataset/Tile 6/images/image_part_0015.jpg\n",
            "Failed to load image: /path/to/your/dataset/DubaiDataset/Tile 6/images/image_part_0015.jpg\n",
            "Loading image: /path/to/your/dataset/DubaiDataset/Tile 6/images/image_part_0016.jpg\n",
            "Failed to load image: /path/to/your/dataset/DubaiDataset/Tile 6/images/image_part_0016.jpg\n",
            "Loading image: /path/to/your/dataset/DubaiDataset/Tile 6/images/image_part_0017.jpg\n",
            "Failed to load image: /path/to/your/dataset/DubaiDataset/Tile 6/images/image_part_0017.jpg\n",
            "Loading image: /path/to/your/dataset/DubaiDataset/Tile 6/images/image_part_0018.jpg\n",
            "Failed to load image: /path/to/your/dataset/DubaiDataset/Tile 6/images/image_part_0018.jpg\n",
            "Loading image: /path/to/your/dataset/DubaiDataset/Tile 6/images/image_part_0019.jpg\n",
            "Failed to load image: /path/to/your/dataset/DubaiDataset/Tile 6/images/image_part_0019.jpg\n",
            "Loading image: /path/to/your/dataset/DubaiDataset/Tile 7/images/image_part_001.jpg\n",
            "Failed to load image: /path/to/your/dataset/DubaiDataset/Tile 7/images/image_part_001.jpg\n",
            "Loading image: /path/to/your/dataset/DubaiDataset/Tile 7/images/image_part_002.jpg\n",
            "Failed to load image: /path/to/your/dataset/DubaiDataset/Tile 7/images/image_part_002.jpg\n",
            "Loading image: /path/to/your/dataset/DubaiDataset/Tile 7/images/image_part_003.jpg\n",
            "Failed to load image: /path/to/your/dataset/DubaiDataset/Tile 7/images/image_part_003.jpg\n",
            "Loading image: /path/to/your/dataset/DubaiDataset/Tile 7/images/image_part_004.jpg\n",
            "Failed to load image: /path/to/your/dataset/DubaiDataset/Tile 7/images/image_part_004.jpg\n",
            "Loading image: /path/to/your/dataset/DubaiDataset/Tile 7/images/image_part_005.jpg\n",
            "Failed to load image: /path/to/your/dataset/DubaiDataset/Tile 7/images/image_part_005.jpg\n",
            "Loading image: /path/to/your/dataset/DubaiDataset/Tile 7/images/image_part_006.jpg\n",
            "Failed to load image: /path/to/your/dataset/DubaiDataset/Tile 7/images/image_part_006.jpg\n",
            "Loading image: /path/to/your/dataset/DubaiDataset/Tile 7/images/image_part_007.jpg\n",
            "Failed to load image: /path/to/your/dataset/DubaiDataset/Tile 7/images/image_part_007.jpg\n",
            "Loading image: /path/to/your/dataset/DubaiDataset/Tile 7/images/image_part_008.jpg\n",
            "Failed to load image: /path/to/your/dataset/DubaiDataset/Tile 7/images/image_part_008.jpg\n",
            "Loading image: /path/to/your/dataset/DubaiDataset/Tile 7/images/image_part_009.jpg\n",
            "Failed to load image: /path/to/your/dataset/DubaiDataset/Tile 7/images/image_part_009.jpg\n",
            "Loading image: /path/to/your/dataset/DubaiDataset/Tile 7/images/image_part_0010.jpg\n",
            "Failed to load image: /path/to/your/dataset/DubaiDataset/Tile 7/images/image_part_0010.jpg\n",
            "Loading image: /path/to/your/dataset/DubaiDataset/Tile 7/images/image_part_0011.jpg\n",
            "Failed to load image: /path/to/your/dataset/DubaiDataset/Tile 7/images/image_part_0011.jpg\n",
            "Loading image: /path/to/your/dataset/DubaiDataset/Tile 7/images/image_part_0012.jpg\n",
            "Failed to load image: /path/to/your/dataset/DubaiDataset/Tile 7/images/image_part_0012.jpg\n",
            "Loading image: /path/to/your/dataset/DubaiDataset/Tile 7/images/image_part_0013.jpg\n",
            "Failed to load image: /path/to/your/dataset/DubaiDataset/Tile 7/images/image_part_0013.jpg\n",
            "Loading image: /path/to/your/dataset/DubaiDataset/Tile 7/images/image_part_0014.jpg\n",
            "Failed to load image: /path/to/your/dataset/DubaiDataset/Tile 7/images/image_part_0014.jpg\n",
            "Loading image: /path/to/your/dataset/DubaiDataset/Tile 7/images/image_part_0015.jpg\n",
            "Failed to load image: /path/to/your/dataset/DubaiDataset/Tile 7/images/image_part_0015.jpg\n",
            "Loading image: /path/to/your/dataset/DubaiDataset/Tile 7/images/image_part_0016.jpg\n",
            "Failed to load image: /path/to/your/dataset/DubaiDataset/Tile 7/images/image_part_0016.jpg\n",
            "Loading image: /path/to/your/dataset/DubaiDataset/Tile 7/images/image_part_0017.jpg\n",
            "Failed to load image: /path/to/your/dataset/DubaiDataset/Tile 7/images/image_part_0017.jpg\n",
            "Loading image: /path/to/your/dataset/DubaiDataset/Tile 7/images/image_part_0018.jpg\n",
            "Failed to load image: /path/to/your/dataset/DubaiDataset/Tile 7/images/image_part_0018.jpg\n",
            "Loading image: /path/to/your/dataset/DubaiDataset/Tile 7/images/image_part_0019.jpg\n",
            "Failed to load image: /path/to/your/dataset/DubaiDataset/Tile 7/images/image_part_0019.jpg\n",
            "Loading image: /path/to/your/dataset/DubaiDataset/Tile 1/masks/image_part_001.png\n",
            "Failed to load image: /path/to/your/dataset/DubaiDataset/Tile 1/masks/image_part_001.png\n",
            "Loading image: /path/to/your/dataset/DubaiDataset/Tile 1/masks/image_part_002.png\n",
            "Failed to load image: /path/to/your/dataset/DubaiDataset/Tile 1/masks/image_part_002.png\n",
            "Loading image: /path/to/your/dataset/DubaiDataset/Tile 1/masks/image_part_003.png\n",
            "Failed to load image: /path/to/your/dataset/DubaiDataset/Tile 1/masks/image_part_003.png\n",
            "Loading image: /path/to/your/dataset/DubaiDataset/Tile 1/masks/image_part_004.png\n",
            "Failed to load image: /path/to/your/dataset/DubaiDataset/Tile 1/masks/image_part_004.png\n",
            "Loading image: /path/to/your/dataset/DubaiDataset/Tile 1/masks/image_part_005.png\n",
            "Failed to load image: /path/to/your/dataset/DubaiDataset/Tile 1/masks/image_part_005.png\n",
            "Loading image: /path/to/your/dataset/DubaiDataset/Tile 1/masks/image_part_006.png\n",
            "Failed to load image: /path/to/your/dataset/DubaiDataset/Tile 1/masks/image_part_006.png\n",
            "Loading image: /path/to/your/dataset/DubaiDataset/Tile 1/masks/image_part_007.png\n",
            "Failed to load image: /path/to/your/dataset/DubaiDataset/Tile 1/masks/image_part_007.png\n",
            "Loading image: /path/to/your/dataset/DubaiDataset/Tile 1/masks/image_part_008.png\n",
            "Failed to load image: /path/to/your/dataset/DubaiDataset/Tile 1/masks/image_part_008.png\n",
            "Loading image: /path/to/your/dataset/DubaiDataset/Tile 1/masks/image_part_009.png\n",
            "Failed to load image: /path/to/your/dataset/DubaiDataset/Tile 1/masks/image_part_009.png\n",
            "Loading image: /path/to/your/dataset/DubaiDataset/Tile 1/masks/image_part_0010.png\n",
            "Failed to load image: /path/to/your/dataset/DubaiDataset/Tile 1/masks/image_part_0010.png\n",
            "Loading image: /path/to/your/dataset/DubaiDataset/Tile 1/masks/image_part_0011.png\n",
            "Failed to load image: /path/to/your/dataset/DubaiDataset/Tile 1/masks/image_part_0011.png\n",
            "Loading image: /path/to/your/dataset/DubaiDataset/Tile 1/masks/image_part_0012.png\n",
            "Failed to load image: /path/to/your/dataset/DubaiDataset/Tile 1/masks/image_part_0012.png\n",
            "Loading image: /path/to/your/dataset/DubaiDataset/Tile 1/masks/image_part_0013.png\n",
            "Failed to load image: /path/to/your/dataset/DubaiDataset/Tile 1/masks/image_part_0013.png\n",
            "Loading image: /path/to/your/dataset/DubaiDataset/Tile 1/masks/image_part_0014.png\n",
            "Failed to load image: /path/to/your/dataset/DubaiDataset/Tile 1/masks/image_part_0014.png\n",
            "Loading image: /path/to/your/dataset/DubaiDataset/Tile 1/masks/image_part_0015.png\n",
            "Failed to load image: /path/to/your/dataset/DubaiDataset/Tile 1/masks/image_part_0015.png\n",
            "Loading image: /path/to/your/dataset/DubaiDataset/Tile 1/masks/image_part_0016.png\n",
            "Failed to load image: /path/to/your/dataset/DubaiDataset/Tile 1/masks/image_part_0016.png\n",
            "Loading image: /path/to/your/dataset/DubaiDataset/Tile 1/masks/image_part_0017.png\n",
            "Failed to load image: /path/to/your/dataset/DubaiDataset/Tile 1/masks/image_part_0017.png\n",
            "Loading image: /path/to/your/dataset/DubaiDataset/Tile 1/masks/image_part_0018.png\n",
            "Failed to load image: /path/to/your/dataset/DubaiDataset/Tile 1/masks/image_part_0018.png\n",
            "Loading image: /path/to/your/dataset/DubaiDataset/Tile 1/masks/image_part_0019.png\n",
            "Failed to load image: /path/to/your/dataset/DubaiDataset/Tile 1/masks/image_part_0019.png\n",
            "Loading image: /path/to/your/dataset/DubaiDataset/Tile 2/masks/image_part_001.png\n",
            "Failed to load image: /path/to/your/dataset/DubaiDataset/Tile 2/masks/image_part_001.png\n",
            "Loading image: /path/to/your/dataset/DubaiDataset/Tile 2/masks/image_part_002.png\n",
            "Failed to load image: /path/to/your/dataset/DubaiDataset/Tile 2/masks/image_part_002.png\n",
            "Loading image: /path/to/your/dataset/DubaiDataset/Tile 2/masks/image_part_003.png\n",
            "Failed to load image: /path/to/your/dataset/DubaiDataset/Tile 2/masks/image_part_003.png\n",
            "Loading image: /path/to/your/dataset/DubaiDataset/Tile 2/masks/image_part_004.png\n",
            "Failed to load image: /path/to/your/dataset/DubaiDataset/Tile 2/masks/image_part_004.png\n",
            "Loading image: /path/to/your/dataset/DubaiDataset/Tile 2/masks/image_part_005.png\n",
            "Failed to load image: /path/to/your/dataset/DubaiDataset/Tile 2/masks/image_part_005.png\n",
            "Loading image: /path/to/your/dataset/DubaiDataset/Tile 2/masks/image_part_006.png\n",
            "Failed to load image: /path/to/your/dataset/DubaiDataset/Tile 2/masks/image_part_006.png\n",
            "Loading image: /path/to/your/dataset/DubaiDataset/Tile 2/masks/image_part_007.png\n",
            "Failed to load image: /path/to/your/dataset/DubaiDataset/Tile 2/masks/image_part_007.png\n",
            "Loading image: /path/to/your/dataset/DubaiDataset/Tile 2/masks/image_part_008.png\n",
            "Failed to load image: /path/to/your/dataset/DubaiDataset/Tile 2/masks/image_part_008.png\n",
            "Loading image: /path/to/your/dataset/DubaiDataset/Tile 2/masks/image_part_009.png\n",
            "Failed to load image: /path/to/your/dataset/DubaiDataset/Tile 2/masks/image_part_009.png\n",
            "Loading image: /path/to/your/dataset/DubaiDataset/Tile 2/masks/image_part_0010.png\n",
            "Failed to load image: /path/to/your/dataset/DubaiDataset/Tile 2/masks/image_part_0010.png\n",
            "Loading image: /path/to/your/dataset/DubaiDataset/Tile 2/masks/image_part_0011.png\n",
            "Failed to load image: /path/to/your/dataset/DubaiDataset/Tile 2/masks/image_part_0011.png\n",
            "Loading image: /path/to/your/dataset/DubaiDataset/Tile 2/masks/image_part_0012.png\n",
            "Failed to load image: /path/to/your/dataset/DubaiDataset/Tile 2/masks/image_part_0012.png\n",
            "Loading image: /path/to/your/dataset/DubaiDataset/Tile 2/masks/image_part_0013.png\n",
            "Failed to load image: /path/to/your/dataset/DubaiDataset/Tile 2/masks/image_part_0013.png\n",
            "Loading image: /path/to/your/dataset/DubaiDataset/Tile 2/masks/image_part_0014.png\n",
            "Failed to load image: /path/to/your/dataset/DubaiDataset/Tile 2/masks/image_part_0014.png\n",
            "Loading image: /path/to/your/dataset/DubaiDataset/Tile 2/masks/image_part_0015.png\n",
            "Failed to load image: /path/to/your/dataset/DubaiDataset/Tile 2/masks/image_part_0015.png\n",
            "Loading image: /path/to/your/dataset/DubaiDataset/Tile 2/masks/image_part_0016.png\n",
            "Failed to load image: /path/to/your/dataset/DubaiDataset/Tile 2/masks/image_part_0016.png\n",
            "Loading image: /path/to/your/dataset/DubaiDataset/Tile 2/masks/image_part_0017.png\n",
            "Failed to load image: /path/to/your/dataset/DubaiDataset/Tile 2/masks/image_part_0017.png\n",
            "Loading image: /path/to/your/dataset/DubaiDataset/Tile 2/masks/image_part_0018.png\n",
            "Failed to load image: /path/to/your/dataset/DubaiDataset/Tile 2/masks/image_part_0018.png\n",
            "Loading image: /path/to/your/dataset/DubaiDataset/Tile 2/masks/image_part_0019.png\n",
            "Failed to load image: /path/to/your/dataset/DubaiDataset/Tile 2/masks/image_part_0019.png\n",
            "Loading image: /path/to/your/dataset/DubaiDataset/Tile 3/masks/image_part_001.png\n",
            "Failed to load image: /path/to/your/dataset/DubaiDataset/Tile 3/masks/image_part_001.png\n",
            "Loading image: /path/to/your/dataset/DubaiDataset/Tile 3/masks/image_part_002.png\n",
            "Failed to load image: /path/to/your/dataset/DubaiDataset/Tile 3/masks/image_part_002.png\n",
            "Loading image: /path/to/your/dataset/DubaiDataset/Tile 3/masks/image_part_003.png\n",
            "Failed to load image: /path/to/your/dataset/DubaiDataset/Tile 3/masks/image_part_003.png\n",
            "Loading image: /path/to/your/dataset/DubaiDataset/Tile 3/masks/image_part_004.png\n",
            "Failed to load image: /path/to/your/dataset/DubaiDataset/Tile 3/masks/image_part_004.png\n",
            "Loading image: /path/to/your/dataset/DubaiDataset/Tile 3/masks/image_part_005.png\n",
            "Failed to load image: /path/to/your/dataset/DubaiDataset/Tile 3/masks/image_part_005.png\n",
            "Loading image: /path/to/your/dataset/DubaiDataset/Tile 3/masks/image_part_006.png\n",
            "Failed to load image: /path/to/your/dataset/DubaiDataset/Tile 3/masks/image_part_006.png\n",
            "Loading image: /path/to/your/dataset/DubaiDataset/Tile 3/masks/image_part_007.png\n",
            "Failed to load image: /path/to/your/dataset/DubaiDataset/Tile 3/masks/image_part_007.png\n",
            "Loading image: /path/to/your/dataset/DubaiDataset/Tile 3/masks/image_part_008.png\n",
            "Failed to load image: /path/to/your/dataset/DubaiDataset/Tile 3/masks/image_part_008.png\n",
            "Loading image: /path/to/your/dataset/DubaiDataset/Tile 3/masks/image_part_009.png\n",
            "Failed to load image: /path/to/your/dataset/DubaiDataset/Tile 3/masks/image_part_009.png\n",
            "Loading image: /path/to/your/dataset/DubaiDataset/Tile 3/masks/image_part_0010.png\n",
            "Failed to load image: /path/to/your/dataset/DubaiDataset/Tile 3/masks/image_part_0010.png\n",
            "Loading image: /path/to/your/dataset/DubaiDataset/Tile 3/masks/image_part_0011.png\n",
            "Failed to load image: /path/to/your/dataset/DubaiDataset/Tile 3/masks/image_part_0011.png\n",
            "Loading image: /path/to/your/dataset/DubaiDataset/Tile 3/masks/image_part_0012.png\n",
            "Failed to load image: /path/to/your/dataset/DubaiDataset/Tile 3/masks/image_part_0012.png\n",
            "Loading image: /path/to/your/dataset/DubaiDataset/Tile 3/masks/image_part_0013.png\n",
            "Failed to load image: /path/to/your/dataset/DubaiDataset/Tile 3/masks/image_part_0013.png\n",
            "Loading image: /path/to/your/dataset/DubaiDataset/Tile 3/masks/image_part_0014.png\n",
            "Failed to load image: /path/to/your/dataset/DubaiDataset/Tile 3/masks/image_part_0014.png\n",
            "Loading image: /path/to/your/dataset/DubaiDataset/Tile 3/masks/image_part_0015.png\n",
            "Failed to load image: /path/to/your/dataset/DubaiDataset/Tile 3/masks/image_part_0015.png\n",
            "Loading image: /path/to/your/dataset/DubaiDataset/Tile 3/masks/image_part_0016.png\n",
            "Failed to load image: /path/to/your/dataset/DubaiDataset/Tile 3/masks/image_part_0016.png\n",
            "Loading image: /path/to/your/dataset/DubaiDataset/Tile 3/masks/image_part_0017.png\n",
            "Failed to load image: /path/to/your/dataset/DubaiDataset/Tile 3/masks/image_part_0017.png\n",
            "Loading image: /path/to/your/dataset/DubaiDataset/Tile 3/masks/image_part_0018.png\n",
            "Failed to load image: /path/to/your/dataset/DubaiDataset/Tile 3/masks/image_part_0018.png\n",
            "Loading image: /path/to/your/dataset/DubaiDataset/Tile 3/masks/image_part_0019.png\n",
            "Failed to load image: /path/to/your/dataset/DubaiDataset/Tile 3/masks/image_part_0019.png\n",
            "Loading image: /path/to/your/dataset/DubaiDataset/Tile 4/masks/image_part_001.png\n",
            "Failed to load image: /path/to/your/dataset/DubaiDataset/Tile 4/masks/image_part_001.png\n",
            "Loading image: /path/to/your/dataset/DubaiDataset/Tile 4/masks/image_part_002.png\n",
            "Failed to load image: /path/to/your/dataset/DubaiDataset/Tile 4/masks/image_part_002.png\n",
            "Loading image: /path/to/your/dataset/DubaiDataset/Tile 4/masks/image_part_003.png\n",
            "Failed to load image: /path/to/your/dataset/DubaiDataset/Tile 4/masks/image_part_003.png\n",
            "Loading image: /path/to/your/dataset/DubaiDataset/Tile 4/masks/image_part_004.png\n",
            "Failed to load image: /path/to/your/dataset/DubaiDataset/Tile 4/masks/image_part_004.png\n",
            "Loading image: /path/to/your/dataset/DubaiDataset/Tile 4/masks/image_part_005.png\n",
            "Failed to load image: /path/to/your/dataset/DubaiDataset/Tile 4/masks/image_part_005.png\n",
            "Loading image: /path/to/your/dataset/DubaiDataset/Tile 4/masks/image_part_006.png\n",
            "Failed to load image: /path/to/your/dataset/DubaiDataset/Tile 4/masks/image_part_006.png\n",
            "Loading image: /path/to/your/dataset/DubaiDataset/Tile 4/masks/image_part_007.png\n",
            "Failed to load image: /path/to/your/dataset/DubaiDataset/Tile 4/masks/image_part_007.png\n",
            "Loading image: /path/to/your/dataset/DubaiDataset/Tile 4/masks/image_part_008.png\n",
            "Failed to load image: /path/to/your/dataset/DubaiDataset/Tile 4/masks/image_part_008.png\n",
            "Loading image: /path/to/your/dataset/DubaiDataset/Tile 4/masks/image_part_009.png\n",
            "Failed to load image: /path/to/your/dataset/DubaiDataset/Tile 4/masks/image_part_009.png\n",
            "Loading image: /path/to/your/dataset/DubaiDataset/Tile 4/masks/image_part_0010.png\n",
            "Failed to load image: /path/to/your/dataset/DubaiDataset/Tile 4/masks/image_part_0010.png\n",
            "Loading image: /path/to/your/dataset/DubaiDataset/Tile 4/masks/image_part_0011.png\n",
            "Failed to load image: /path/to/your/dataset/DubaiDataset/Tile 4/masks/image_part_0011.png\n",
            "Loading image: /path/to/your/dataset/DubaiDataset/Tile 4/masks/image_part_0012.png\n",
            "Failed to load image: /path/to/your/dataset/DubaiDataset/Tile 4/masks/image_part_0012.png\n",
            "Loading image: /path/to/your/dataset/DubaiDataset/Tile 4/masks/image_part_0013.png\n",
            "Failed to load image: /path/to/your/dataset/DubaiDataset/Tile 4/masks/image_part_0013.png\n",
            "Loading image: /path/to/your/dataset/DubaiDataset/Tile 4/masks/image_part_0014.png\n",
            "Failed to load image: /path/to/your/dataset/DubaiDataset/Tile 4/masks/image_part_0014.png\n",
            "Loading image: /path/to/your/dataset/DubaiDataset/Tile 4/masks/image_part_0015.png\n",
            "Failed to load image: /path/to/your/dataset/DubaiDataset/Tile 4/masks/image_part_0015.png\n",
            "Loading image: /path/to/your/dataset/DubaiDataset/Tile 4/masks/image_part_0016.png\n",
            "Failed to load image: /path/to/your/dataset/DubaiDataset/Tile 4/masks/image_part_0016.png\n",
            "Loading image: /path/to/your/dataset/DubaiDataset/Tile 4/masks/image_part_0017.png\n",
            "Failed to load image: /path/to/your/dataset/DubaiDataset/Tile 4/masks/image_part_0017.png\n",
            "Loading image: /path/to/your/dataset/DubaiDataset/Tile 4/masks/image_part_0018.png\n",
            "Failed to load image: /path/to/your/dataset/DubaiDataset/Tile 4/masks/image_part_0018.png\n",
            "Loading image: /path/to/your/dataset/DubaiDataset/Tile 4/masks/image_part_0019.png\n",
            "Failed to load image: /path/to/your/dataset/DubaiDataset/Tile 4/masks/image_part_0019.png\n",
            "Loading image: /path/to/your/dataset/DubaiDataset/Tile 5/masks/image_part_001.png\n",
            "Failed to load image: /path/to/your/dataset/DubaiDataset/Tile 5/masks/image_part_001.png\n",
            "Loading image: /path/to/your/dataset/DubaiDataset/Tile 5/masks/image_part_002.png\n",
            "Failed to load image: /path/to/your/dataset/DubaiDataset/Tile 5/masks/image_part_002.png\n",
            "Loading image: /path/to/your/dataset/DubaiDataset/Tile 5/masks/image_part_003.png\n",
            "Failed to load image: /path/to/your/dataset/DubaiDataset/Tile 5/masks/image_part_003.png\n",
            "Loading image: /path/to/your/dataset/DubaiDataset/Tile 5/masks/image_part_004.png\n",
            "Failed to load image: /path/to/your/dataset/DubaiDataset/Tile 5/masks/image_part_004.png\n",
            "Loading image: /path/to/your/dataset/DubaiDataset/Tile 5/masks/image_part_005.png\n",
            "Failed to load image: /path/to/your/dataset/DubaiDataset/Tile 5/masks/image_part_005.png\n",
            "Loading image: /path/to/your/dataset/DubaiDataset/Tile 5/masks/image_part_006.png\n",
            "Failed to load image: /path/to/your/dataset/DubaiDataset/Tile 5/masks/image_part_006.png\n",
            "Loading image: /path/to/your/dataset/DubaiDataset/Tile 5/masks/image_part_007.png\n",
            "Failed to load image: /path/to/your/dataset/DubaiDataset/Tile 5/masks/image_part_007.png\n",
            "Loading image: /path/to/your/dataset/DubaiDataset/Tile 5/masks/image_part_008.png\n",
            "Failed to load image: /path/to/your/dataset/DubaiDataset/Tile 5/masks/image_part_008.png\n",
            "Loading image: /path/to/your/dataset/DubaiDataset/Tile 5/masks/image_part_009.png\n",
            "Failed to load image: /path/to/your/dataset/DubaiDataset/Tile 5/masks/image_part_009.png\n",
            "Loading image: /path/to/your/dataset/DubaiDataset/Tile 5/masks/image_part_0010.png\n",
            "Failed to load image: /path/to/your/dataset/DubaiDataset/Tile 5/masks/image_part_0010.png\n",
            "Loading image: /path/to/your/dataset/DubaiDataset/Tile 5/masks/image_part_0011.png\n",
            "Failed to load image: /path/to/your/dataset/DubaiDataset/Tile 5/masks/image_part_0011.png\n",
            "Loading image: /path/to/your/dataset/DubaiDataset/Tile 5/masks/image_part_0012.png\n",
            "Failed to load image: /path/to/your/dataset/DubaiDataset/Tile 5/masks/image_part_0012.png\n",
            "Loading image: /path/to/your/dataset/DubaiDataset/Tile 5/masks/image_part_0013.png\n",
            "Failed to load image: /path/to/your/dataset/DubaiDataset/Tile 5/masks/image_part_0013.png\n",
            "Loading image: /path/to/your/dataset/DubaiDataset/Tile 5/masks/image_part_0014.png\n",
            "Failed to load image: /path/to/your/dataset/DubaiDataset/Tile 5/masks/image_part_0014.png\n",
            "Loading image: /path/to/your/dataset/DubaiDataset/Tile 5/masks/image_part_0015.png\n",
            "Failed to load image: /path/to/your/dataset/DubaiDataset/Tile 5/masks/image_part_0015.png\n",
            "Loading image: /path/to/your/dataset/DubaiDataset/Tile 5/masks/image_part_0016.png\n",
            "Failed to load image: /path/to/your/dataset/DubaiDataset/Tile 5/masks/image_part_0016.png\n",
            "Loading image: /path/to/your/dataset/DubaiDataset/Tile 5/masks/image_part_0017.png\n",
            "Failed to load image: /path/to/your/dataset/DubaiDataset/Tile 5/masks/image_part_0017.png\n",
            "Loading image: /path/to/your/dataset/DubaiDataset/Tile 5/masks/image_part_0018.png\n",
            "Failed to load image: /path/to/your/dataset/DubaiDataset/Tile 5/masks/image_part_0018.png\n",
            "Loading image: /path/to/your/dataset/DubaiDataset/Tile 5/masks/image_part_0019.png\n",
            "Failed to load image: /path/to/your/dataset/DubaiDataset/Tile 5/masks/image_part_0019.png\n",
            "Loading image: /path/to/your/dataset/DubaiDataset/Tile 6/masks/image_part_001.png\n",
            "Failed to load image: /path/to/your/dataset/DubaiDataset/Tile 6/masks/image_part_001.png\n",
            "Loading image: /path/to/your/dataset/DubaiDataset/Tile 6/masks/image_part_002.png\n",
            "Failed to load image: /path/to/your/dataset/DubaiDataset/Tile 6/masks/image_part_002.png\n",
            "Loading image: /path/to/your/dataset/DubaiDataset/Tile 6/masks/image_part_003.png\n",
            "Failed to load image: /path/to/your/dataset/DubaiDataset/Tile 6/masks/image_part_003.png\n",
            "Loading image: /path/to/your/dataset/DubaiDataset/Tile 6/masks/image_part_004.png\n",
            "Failed to load image: /path/to/your/dataset/DubaiDataset/Tile 6/masks/image_part_004.png\n",
            "Loading image: /path/to/your/dataset/DubaiDataset/Tile 6/masks/image_part_005.png\n",
            "Failed to load image: /path/to/your/dataset/DubaiDataset/Tile 6/masks/image_part_005.png\n",
            "Loading image: /path/to/your/dataset/DubaiDataset/Tile 6/masks/image_part_006.png\n",
            "Failed to load image: /path/to/your/dataset/DubaiDataset/Tile 6/masks/image_part_006.png\n",
            "Loading image: /path/to/your/dataset/DubaiDataset/Tile 6/masks/image_part_007.png\n",
            "Failed to load image: /path/to/your/dataset/DubaiDataset/Tile 6/masks/image_part_007.png\n",
            "Loading image: /path/to/your/dataset/DubaiDataset/Tile 6/masks/image_part_008.png\n",
            "Failed to load image: /path/to/your/dataset/DubaiDataset/Tile 6/masks/image_part_008.png\n",
            "Loading image: /path/to/your/dataset/DubaiDataset/Tile 6/masks/image_part_009.png\n",
            "Failed to load image: /path/to/your/dataset/DubaiDataset/Tile 6/masks/image_part_009.png\n",
            "Loading image: /path/to/your/dataset/DubaiDataset/Tile 6/masks/image_part_0010.png\n",
            "Failed to load image: /path/to/your/dataset/DubaiDataset/Tile 6/masks/image_part_0010.png\n",
            "Loading image: /path/to/your/dataset/DubaiDataset/Tile 6/masks/image_part_0011.png\n",
            "Failed to load image: /path/to/your/dataset/DubaiDataset/Tile 6/masks/image_part_0011.png\n",
            "Loading image: /path/to/your/dataset/DubaiDataset/Tile 6/masks/image_part_0012.png\n",
            "Failed to load image: /path/to/your/dataset/DubaiDataset/Tile 6/masks/image_part_0012.png\n",
            "Loading image: /path/to/your/dataset/DubaiDataset/Tile 6/masks/image_part_0013.png\n",
            "Failed to load image: /path/to/your/dataset/DubaiDataset/Tile 6/masks/image_part_0013.png\n",
            "Loading image: /path/to/your/dataset/DubaiDataset/Tile 6/masks/image_part_0014.png\n",
            "Failed to load image: /path/to/your/dataset/DubaiDataset/Tile 6/masks/image_part_0014.png\n",
            "Loading image: /path/to/your/dataset/DubaiDataset/Tile 6/masks/image_part_0015.png\n",
            "Failed to load image: /path/to/your/dataset/DubaiDataset/Tile 6/masks/image_part_0015.png\n",
            "Loading image: /path/to/your/dataset/DubaiDataset/Tile 6/masks/image_part_0016.png\n",
            "Failed to load image: /path/to/your/dataset/DubaiDataset/Tile 6/masks/image_part_0016.png\n",
            "Loading image: /path/to/your/dataset/DubaiDataset/Tile 6/masks/image_part_0017.png\n",
            "Failed to load image: /path/to/your/dataset/DubaiDataset/Tile 6/masks/image_part_0017.png\n",
            "Loading image: /path/to/your/dataset/DubaiDataset/Tile 6/masks/image_part_0018.png\n",
            "Failed to load image: /path/to/your/dataset/DubaiDataset/Tile 6/masks/image_part_0018.png\n",
            "Loading image: /path/to/your/dataset/DubaiDataset/Tile 6/masks/image_part_0019.png\n",
            "Failed to load image: /path/to/your/dataset/DubaiDataset/Tile 6/masks/image_part_0019.png\n",
            "Loading image: /path/to/your/dataset/DubaiDataset/Tile 7/masks/image_part_001.png\n",
            "Failed to load image: /path/to/your/dataset/DubaiDataset/Tile 7/masks/image_part_001.png\n",
            "Loading image: /path/to/your/dataset/DubaiDataset/Tile 7/masks/image_part_002.png\n",
            "Failed to load image: /path/to/your/dataset/DubaiDataset/Tile 7/masks/image_part_002.png\n",
            "Loading image: /path/to/your/dataset/DubaiDataset/Tile 7/masks/image_part_003.png\n",
            "Failed to load image: /path/to/your/dataset/DubaiDataset/Tile 7/masks/image_part_003.png\n",
            "Loading image: /path/to/your/dataset/DubaiDataset/Tile 7/masks/image_part_004.png\n",
            "Failed to load image: /path/to/your/dataset/DubaiDataset/Tile 7/masks/image_part_004.png\n",
            "Loading image: /path/to/your/dataset/DubaiDataset/Tile 7/masks/image_part_005.png\n",
            "Failed to load image: /path/to/your/dataset/DubaiDataset/Tile 7/masks/image_part_005.png\n",
            "Loading image: /path/to/your/dataset/DubaiDataset/Tile 7/masks/image_part_006.png\n",
            "Failed to load image: /path/to/your/dataset/DubaiDataset/Tile 7/masks/image_part_006.png\n",
            "Loading image: /path/to/your/dataset/DubaiDataset/Tile 7/masks/image_part_007.png\n",
            "Failed to load image: /path/to/your/dataset/DubaiDataset/Tile 7/masks/image_part_007.png\n",
            "Loading image: /path/to/your/dataset/DubaiDataset/Tile 7/masks/image_part_008.png\n",
            "Failed to load image: /path/to/your/dataset/DubaiDataset/Tile 7/masks/image_part_008.png\n",
            "Loading image: /path/to/your/dataset/DubaiDataset/Tile 7/masks/image_part_009.png\n",
            "Failed to load image: /path/to/your/dataset/DubaiDataset/Tile 7/masks/image_part_009.png\n",
            "Loading image: /path/to/your/dataset/DubaiDataset/Tile 7/masks/image_part_0010.png\n",
            "Failed to load image: /path/to/your/dataset/DubaiDataset/Tile 7/masks/image_part_0010.png\n",
            "Loading image: /path/to/your/dataset/DubaiDataset/Tile 7/masks/image_part_0011.png\n",
            "Failed to load image: /path/to/your/dataset/DubaiDataset/Tile 7/masks/image_part_0011.png\n",
            "Loading image: /path/to/your/dataset/DubaiDataset/Tile 7/masks/image_part_0012.png\n",
            "Failed to load image: /path/to/your/dataset/DubaiDataset/Tile 7/masks/image_part_0012.png\n",
            "Loading image: /path/to/your/dataset/DubaiDataset/Tile 7/masks/image_part_0013.png\n",
            "Failed to load image: /path/to/your/dataset/DubaiDataset/Tile 7/masks/image_part_0013.png\n",
            "Loading image: /path/to/your/dataset/DubaiDataset/Tile 7/masks/image_part_0014.png\n",
            "Failed to load image: /path/to/your/dataset/DubaiDataset/Tile 7/masks/image_part_0014.png\n",
            "Loading image: /path/to/your/dataset/DubaiDataset/Tile 7/masks/image_part_0015.png\n",
            "Failed to load image: /path/to/your/dataset/DubaiDataset/Tile 7/masks/image_part_0015.png\n",
            "Loading image: /path/to/your/dataset/DubaiDataset/Tile 7/masks/image_part_0016.png\n",
            "Failed to load image: /path/to/your/dataset/DubaiDataset/Tile 7/masks/image_part_0016.png\n",
            "Loading image: /path/to/your/dataset/DubaiDataset/Tile 7/masks/image_part_0017.png\n",
            "Failed to load image: /path/to/your/dataset/DubaiDataset/Tile 7/masks/image_part_0017.png\n",
            "Loading image: /path/to/your/dataset/DubaiDataset/Tile 7/masks/image_part_0018.png\n",
            "Failed to load image: /path/to/your/dataset/DubaiDataset/Tile 7/masks/image_part_0018.png\n",
            "Loading image: /path/to/your/dataset/DubaiDataset/Tile 7/masks/image_part_0019.png\n",
            "Failed to load image: /path/to/your/dataset/DubaiDataset/Tile 7/masks/image_part_0019.png\n",
            "image_dataset is empty. No images to display.\n"
          ]
        }
      ]
    },
    {
      "cell_type": "code",
      "source": [],
      "metadata": {
        "id": "7GvCT7irHv1m"
      },
      "execution_count": null,
      "outputs": []
    },
    {
      "cell_type": "code",
      "source": [],
      "metadata": {
        "id": "8GJs7sB-Hv5H"
      },
      "execution_count": null,
      "outputs": []
    },
    {
      "cell_type": "code",
      "source": [
        "label = individual_patched_mask"
      ],
      "metadata": {
        "id": "DXC9ppyqzfCr"
      },
      "execution_count": null,
      "outputs": []
    },
    {
      "cell_type": "code",
      "source": [
        "def rgb_to_label(label):\n",
        "  label_segment = np.zeros(label.shape, dtype=np.uint8)\n",
        "  label_segment[np.all(label == class_water, axis=-1)] = 0\n",
        "  label_segment[np.all(label == class_land, axis=-1)] = 1\n",
        "  label_segment[np.all(label == class_road, axis=-1)] = 2\n",
        "  label_segment[np.all(label == class_building, axis=-1)] = 3\n",
        "  label_segment[np.all(label == class_vegetation, axis=-1)] = 4\n",
        "  label_segment[np.all(label == class_unlabeled, axis=-1)] = 5\n",
        "  #print(label_segment)\n",
        "  label_segment = label_segment[:,:,0]\n",
        "  #print(label_segment)\n",
        "  return label_segment"
      ],
      "metadata": {
        "id": "CEuEYZgWy6hl"
      },
      "execution_count": null,
      "outputs": []
    },
    {
      "cell_type": "code",
      "source": [
        "labels = []\n",
        "for i in range(mask_dataset.shape[0]):\n",
        "  label = rgb_to_label(mask_dataset[i])\n",
        "  labels.append(label)"
      ],
      "metadata": {
        "id": "wjlUe4OwxPua"
      },
      "execution_count": null,
      "outputs": []
    },
    {
      "cell_type": "code",
      "source": [
        "print(len(labels))"
      ],
      "metadata": {
        "colab": {
          "base_uri": "https://localhost:8080/"
        },
        "id": "KGpAkGQYzKKu",
        "outputId": "42eaf7a6-0998-4f8d-82a3-dd2f77356dae"
      },
      "execution_count": null,
      "outputs": [
        {
          "output_type": "stream",
          "name": "stdout",
          "text": [
            "0\n"
          ]
        }
      ]
    },
    {
      "cell_type": "code",
      "source": [
        "labels = np.array(labels)"
      ],
      "metadata": {
        "id": "WcyJI-uCzOZS"
      },
      "execution_count": null,
      "outputs": []
    },
    {
      "cell_type": "code",
      "source": [
        "labels = np.expand_dims(labels, axis=-1)"
      ],
      "metadata": {
        "id": "wWit1wMrzYce"
      },
      "execution_count": null,
      "outputs": []
    },
    {
      "cell_type": "code",
      "source": [
        "np.unique(labels)"
      ],
      "metadata": {
        "colab": {
          "base_uri": "https://localhost:8080/"
        },
        "id": "b4TNgEl-1ISy",
        "outputId": "a670ebaa-acd5-49dc-e069-492d3367ce59"
      },
      "execution_count": null,
      "outputs": [
        {
          "output_type": "execute_result",
          "data": {
            "text/plain": [
              "array([], dtype=float64)"
            ]
          },
          "metadata": {},
          "execution_count": 51
        }
      ]
    },
    {
      "cell_type": "code",
      "source": [
        "print(\"Total unique labels based on masks: \",format(np.unique(labels)))"
      ],
      "metadata": {
        "colab": {
          "base_uri": "https://localhost:8080/"
        },
        "id": "3gd3gFwN1_Z4",
        "outputId": "1dc8b02d-8334-449b-9b6e-18f1403027ab"
      },
      "execution_count": null,
      "outputs": [
        {
          "output_type": "stream",
          "name": "stdout",
          "text": [
            "Total unique labels based on masks:  []\n"
          ]
        }
      ]
    },
    {
      "cell_type": "code",
      "source": [
        "labels[0][:,:,0]"
      ],
      "metadata": {
        "colab": {
          "base_uri": "https://localhost:8080/",
          "height": 146
        },
        "id": "osBSIGFf2ie1",
        "outputId": "1a56753f-4d00-4f38-aed3-bfe84f15947e"
      },
      "execution_count": null,
      "outputs": [
        {
          "output_type": "error",
          "ename": "IndexError",
          "evalue": "index 0 is out of bounds for axis 0 with size 0",
          "traceback": [
            "\u001b[0;31m---------------------------------------------------------------------------\u001b[0m",
            "\u001b[0;31mIndexError\u001b[0m                                Traceback (most recent call last)",
            "\u001b[0;32m<ipython-input-57-22cda4e71dd4>\u001b[0m in \u001b[0;36m<cell line: 1>\u001b[0;34m()\u001b[0m\n\u001b[0;32m----> 1\u001b[0;31m \u001b[0mlabels\u001b[0m\u001b[0;34m[\u001b[0m\u001b[0;36m0\u001b[0m\u001b[0;34m]\u001b[0m\u001b[0;34m[\u001b[0m\u001b[0;34m:\u001b[0m\u001b[0;34m,\u001b[0m\u001b[0;34m:\u001b[0m\u001b[0;34m,\u001b[0m\u001b[0;36m0\u001b[0m\u001b[0;34m]\u001b[0m\u001b[0;34m\u001b[0m\u001b[0;34m\u001b[0m\u001b[0m\n\u001b[0m",
            "\u001b[0;31mIndexError\u001b[0m: index 0 is out of bounds for axis 0 with size 0"
          ]
        }
      ]
    },
    {
      "cell_type": "code",
      "source": [
        "total_classes = len(np.unique(labels))"
      ],
      "metadata": {
        "id": "rrEYP0su3cXz"
      },
      "execution_count": null,
      "outputs": []
    },
    {
      "cell_type": "code",
      "source": [
        "total_classes"
      ],
      "metadata": {
        "colab": {
          "base_uri": "https://localhost:8080/"
        },
        "id": "BRl2xJTO3lKs",
        "outputId": "e94d6da3-36df-4d4f-aaf3-d3fe22a982bb"
      },
      "execution_count": null,
      "outputs": [
        {
          "output_type": "execute_result",
          "data": {
            "text/plain": [
              "0"
            ]
          },
          "metadata": {},
          "execution_count": 59
        }
      ]
    },
    {
      "cell_type": "code",
      "source": [
        "from tensorflow.keras.utils import to_categorical"
      ],
      "metadata": {
        "id": "0RjSrr6u3s5Y"
      },
      "execution_count": null,
      "outputs": []
    },
    {
      "cell_type": "code",
      "source": [
        "import numpy as np\n",
        "from tensorflow.keras.utils import to_categorical\n",
        "\n",
        "# ... (Your existing code to load and preprocess labels) ...\n",
        "\n",
        "# Ensure labels is not empty and has at least one unique value\n",
        "# For example, if 'labels' is a 3D array:\n",
        "if labels.size == 0 or len(np.unique(labels)) == 0:\n",
        "    # Handle the empty or no unique label case\n",
        "    # You might need to raise an exception, assign a default value, or skip this sample\n",
        "    # Example for assigning a default value of 1 class\n",
        "    total_classes = 1\n",
        "else:\n",
        "    total_classes = len(np.unique(labels))  # Determine the number of classes if not empty\n",
        "\n",
        "# Proceed with one-hot encoding\n",
        "labels_categorical_dataset = to_categorical(labels, num_classes=total_classes)"
      ],
      "metadata": {
        "id": "Uj5Cg0Y030g7"
      },
      "execution_count": null,
      "outputs": []
    },
    {
      "cell_type": "code",
      "source": [
        "labels_categorical_dataset.shape"
      ],
      "metadata": {
        "colab": {
          "base_uri": "https://localhost:8080/"
        },
        "id": "3jehRZB34DxM",
        "outputId": "5eef3a2a-410d-43ae-b485-83d36cfb7a15"
      },
      "execution_count": null,
      "outputs": [
        {
          "output_type": "execute_result",
          "data": {
            "text/plain": [
              "(0, 1)"
            ]
          },
          "metadata": {},
          "execution_count": 64
        }
      ]
    },
    {
      "cell_type": "code",
      "source": [
        "from sklearn.model_selection import train_test_split"
      ],
      "metadata": {
        "id": "b6yTM05m3DfV"
      },
      "execution_count": null,
      "outputs": []
    },
    {
      "cell_type": "code",
      "source": [
        "# Assuming your dataset is in a file named 'my_dataset.npy'\n",
        "import numpy as np\n",
        "\n",
        "master_training_dataset = np.load('my_dataset.npy')\n",
        "\n",
        "   # or if it's a pandas DataFrame\n",
        "import pandas as pd\n",
        "master_training_dataset = pd.read_csv('my_dataset.csv')\n",
        "\n",
        "   # ... (rest of your code) ..."
      ],
      "metadata": {
        "colab": {
          "base_uri": "https://localhost:8080/",
          "height": 363
        },
        "id": "mjev6u_XJEJv",
        "outputId": "a4b9012d-f06b-4bd6-cc1a-0dedca0d8d65"
      },
      "execution_count": null,
      "outputs": [
        {
          "output_type": "error",
          "ename": "FileNotFoundError",
          "evalue": "[Errno 2] No such file or directory: 'my_dataset.npy'",
          "traceback": [
            "\u001b[0;31m---------------------------------------------------------------------------\u001b[0m",
            "\u001b[0;31mFileNotFoundError\u001b[0m                         Traceback (most recent call last)",
            "\u001b[0;32m<ipython-input-73-3c53b14b485e>\u001b[0m in \u001b[0;36m<cell line: 4>\u001b[0;34m()\u001b[0m\n\u001b[1;32m      2\u001b[0m \u001b[0;32mimport\u001b[0m \u001b[0mnumpy\u001b[0m \u001b[0;32mas\u001b[0m \u001b[0mnp\u001b[0m\u001b[0;34m\u001b[0m\u001b[0;34m\u001b[0m\u001b[0m\n\u001b[1;32m      3\u001b[0m \u001b[0;34m\u001b[0m\u001b[0m\n\u001b[0;32m----> 4\u001b[0;31m \u001b[0mmaster_training_dataset\u001b[0m \u001b[0;34m=\u001b[0m \u001b[0mnp\u001b[0m\u001b[0;34m.\u001b[0m\u001b[0mload\u001b[0m\u001b[0;34m(\u001b[0m\u001b[0;34m'my_dataset.npy'\u001b[0m\u001b[0;34m)\u001b[0m\u001b[0;34m\u001b[0m\u001b[0;34m\u001b[0m\u001b[0m\n\u001b[0m\u001b[1;32m      5\u001b[0m \u001b[0;34m\u001b[0m\u001b[0m\n\u001b[1;32m      6\u001b[0m    \u001b[0;31m# or if it's a pandas DataFrame\u001b[0m\u001b[0;34m\u001b[0m\u001b[0;34m\u001b[0m\u001b[0m\n",
            "\u001b[0;32m/usr/local/lib/python3.10/dist-packages/numpy/lib/npyio.py\u001b[0m in \u001b[0;36mload\u001b[0;34m(file, mmap_mode, allow_pickle, fix_imports, encoding, max_header_size)\u001b[0m\n\u001b[1;32m    425\u001b[0m             \u001b[0mown_fid\u001b[0m \u001b[0;34m=\u001b[0m \u001b[0;32mFalse\u001b[0m\u001b[0;34m\u001b[0m\u001b[0;34m\u001b[0m\u001b[0m\n\u001b[1;32m    426\u001b[0m         \u001b[0;32melse\u001b[0m\u001b[0;34m:\u001b[0m\u001b[0;34m\u001b[0m\u001b[0;34m\u001b[0m\u001b[0m\n\u001b[0;32m--> 427\u001b[0;31m             \u001b[0mfid\u001b[0m \u001b[0;34m=\u001b[0m \u001b[0mstack\u001b[0m\u001b[0;34m.\u001b[0m\u001b[0menter_context\u001b[0m\u001b[0;34m(\u001b[0m\u001b[0mopen\u001b[0m\u001b[0;34m(\u001b[0m\u001b[0mos_fspath\u001b[0m\u001b[0;34m(\u001b[0m\u001b[0mfile\u001b[0m\u001b[0;34m)\u001b[0m\u001b[0;34m,\u001b[0m \u001b[0;34m\"rb\"\u001b[0m\u001b[0;34m)\u001b[0m\u001b[0;34m)\u001b[0m\u001b[0;34m\u001b[0m\u001b[0;34m\u001b[0m\u001b[0m\n\u001b[0m\u001b[1;32m    428\u001b[0m             \u001b[0mown_fid\u001b[0m \u001b[0;34m=\u001b[0m \u001b[0;32mTrue\u001b[0m\u001b[0;34m\u001b[0m\u001b[0;34m\u001b[0m\u001b[0m\n\u001b[1;32m    429\u001b[0m \u001b[0;34m\u001b[0m\u001b[0m\n",
            "\u001b[0;31mFileNotFoundError\u001b[0m: [Errno 2] No such file or directory: 'my_dataset.npy'"
          ]
        }
      ]
    },
    {
      "cell_type": "code",
      "source": [
        "X_train, X_test, y_train, y_test = train_test_split(master_trianing_dataset, labels_categorical_dataset, test_size=0.15, random_state=100)"
      ],
      "metadata": {
        "id": "lqRemXmg3LDL",
        "colab": {
          "base_uri": "https://localhost:8080/",
          "height": 182
        },
        "outputId": "cc6c9f33-abd5-457d-8f3c-70c2ff1e30ca"
      },
      "execution_count": null,
      "outputs": [
        {
          "output_type": "error",
          "ename": "NameError",
          "evalue": "name 'master_trianing_dataset' is not defined",
          "traceback": [
            "\u001b[0;31m---------------------------------------------------------------------------\u001b[0m",
            "\u001b[0;31mNameError\u001b[0m                                 Traceback (most recent call last)",
            "\u001b[0;32m<ipython-input-74-a08262362602>\u001b[0m in \u001b[0;36m<cell line: 1>\u001b[0;34m()\u001b[0m\n\u001b[0;32m----> 1\u001b[0;31m \u001b[0mX_train\u001b[0m\u001b[0;34m,\u001b[0m \u001b[0mX_test\u001b[0m\u001b[0;34m,\u001b[0m \u001b[0my_train\u001b[0m\u001b[0;34m,\u001b[0m \u001b[0my_test\u001b[0m \u001b[0;34m=\u001b[0m \u001b[0mtrain_test_split\u001b[0m\u001b[0;34m(\u001b[0m\u001b[0mmaster_trianing_dataset\u001b[0m\u001b[0;34m,\u001b[0m \u001b[0mlabels_categorical_dataset\u001b[0m\u001b[0;34m,\u001b[0m \u001b[0mtest_size\u001b[0m\u001b[0;34m=\u001b[0m\u001b[0;36m0.15\u001b[0m\u001b[0;34m,\u001b[0m \u001b[0mrandom_state\u001b[0m\u001b[0;34m=\u001b[0m\u001b[0;36m100\u001b[0m\u001b[0;34m)\u001b[0m\u001b[0;34m\u001b[0m\u001b[0;34m\u001b[0m\u001b[0m\n\u001b[0m",
            "\u001b[0;31mNameError\u001b[0m: name 'master_trianing_dataset' is not defined"
          ]
        }
      ]
    },
    {
      "cell_type": "code",
      "source": [
        "print(X_train.shape)\n",
        "print(X_test.shape)\n",
        "print(y_train.shape)\n",
        "print(y_test.shape)"
      ],
      "metadata": {
        "id": "oUUed9Yl4ham"
      },
      "execution_count": null,
      "outputs": []
    },
    {
      "cell_type": "code",
      "source": [
        "image_height = X_train.shape[1]\n",
        "image_width = X_train.shape[2]\n",
        "image_channels = X_train.shape[3]\n",
        "total_classes = y_train.shape[3]"
      ],
      "metadata": {
        "id": "nYpugjAO5Hnh"
      },
      "execution_count": null,
      "outputs": []
    },
    {
      "cell_type": "code",
      "source": [
        "print(image_height)\n",
        "print(image_width)\n",
        "print(image_channels)\n",
        "print(total_classes)"
      ],
      "metadata": {
        "id": "mL1jvfYf5Up5"
      },
      "execution_count": null,
      "outputs": []
    },
    {
      "cell_type": "code",
      "source": [],
      "metadata": {
        "id": "981Bvtm85Yfu"
      },
      "execution_count": null,
      "outputs": []
    }
  ]
}